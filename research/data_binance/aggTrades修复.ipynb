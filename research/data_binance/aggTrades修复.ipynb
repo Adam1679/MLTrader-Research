{
 "cells": [
  {
   "cell_type": "code",
   "execution_count": 1,
   "id": "62a00627",
   "metadata": {},
   "outputs": [],
   "source": [
    "%load_ext autoreload\n",
    "%autoreload 2"
   ]
  },
  {
   "cell_type": "code",
   "execution_count": 2,
   "id": "ff007a93",
   "metadata": {},
   "outputs": [
    {
     "name": "stdout",
     "output_type": "stream",
     "text": [
      "ENVIRONMENT_NAME=ENV.LOCAL\n",
      "[INFO] ASSET_INFO updated\n"
     ]
    }
   ],
   "source": [
    "import os\n",
    "os.chdir(\"/Users/bytedance/MLTrader-deploy/\")\n",
    "import sys\n",
    "sys.path.insert(0, \".\")\n",
    "import research.orderbook_strategies.utils.helper as helper\n",
    "import research.orderbook_strategies.utils.stats as stats\n",
    "import research.orderbook_strategies.utils.factor_analysis as factor_analysis\n",
    "import research.orderbook_strategies.utils.factors as factors\n",
    "import dask\n",
    "from dask import compute, delayed\n",
    "from dask.diagnostics import ProgressBar\n",
    "from imp import reload   \n",
    "import numpy as np\n",
    "from tqdm.notebook import tqdm\n",
    "import pandas as pd\n",
    "import matplotlib.pyplot as plt\n",
    "from decimal import Decimal, getcontext\n",
    "from research.data_binance.utils.binance_util import get_um_asset_info\n",
    "import zipfile\n",
    "from pathlib import Path\n",
    "import pandas as pd\n",
    "import csv\n",
    "from concurrent.futures import ThreadPoolExecutor\n",
    "import io\n"
   ]
  },
  {
   "cell_type": "code",
   "execution_count": 3,
   "id": "27f66c59",
   "metadata": {},
   "outputs": [],
   "source": [
    "import warnings\n",
    " \n",
    "warnings.filterwarnings('ignore')\n",
    "\n",
    "product_list = [\"ETHUSDT\", \"OPUSDT\", \"BTCUSDT\", \"APTUSDT\", \"1000PEPEUSDT\"]"
   ]
  },
  {
   "cell_type": "code",
   "execution_count": 4,
   "id": "fb249ff1",
   "metadata": {},
   "outputs": [
    {
     "name": "stderr",
     "output_type": "stream",
     "text": [
      "unzip:  cannot find or open *.zip, *.zip.zip or *.zip.ZIP.\n",
      "\n",
      "No zipfiles found.\n",
      "rm: /Volumes/AdamDrive/binance_data/data/futures/um/daily/aggTrades/1000PEPEUSDT/*.zip: No such file or directory\n"
     ]
    }
   ],
   "source": [
    "# product = \"ETHUSDT\"\n",
    "# error_file = Path(\"/Volumes/AdamDrive/binance_data/data/futures/um/daily/aggTrades\") / product / \"ETHUSDT-aggTrades-2023-03-21.csv\"\n",
    "for product in product_list[4:]:\n",
    "    p = Path(\"/Volumes/AdamDrive/binance_data/data/futures/um/daily/trades\") / product\n",
    "    p2 = Path(\"/Volumes/AdamDrive/binance_data/data/futures/um/daily/aggTrades\") / product\n",
    "    os.system(f\"bash /Users/bytedance/MLTrader-deploy/research/data_binance/utils/unzip_all.sh {str(p2)}\")\n",
    "    error_aggTrades_files = {}\n",
    "    file_paths = []\n",
    "    workers = ThreadPoolExecutor(8)\n",
    "    \n",
    "    def procee_file(file_path):\n",
    "        with open(file_path, \"r\") as f:\n",
    "            reader = csv.reader(f)\n",
    "            for row in reader:\n",
    "                if row[0] == \"agg_trade_id\":\n",
    "                    continue\n",
    "                agg_trade_id,price,quantity,first_trade_id,last_trade_id,transact_time,is_buyer_maker = row\n",
    "                if float(quantity) <= 0 or float(price) <= 0:\n",
    "                    # error\n",
    "                    error_aggTrades_files[file_path.name] = file_path\n",
    "                    print(\"error in file: \", str(file_path.name))\n",
    "                    break\n",
    "    for file_path in (p2).glob(\"*.csv\"):\n",
    "        workers.submit(procee_file, file_path) \n",
    "    workers.shutdown()\n",
    "    \n",
    "    precision = get_um_asset_info(product).quantityPrecision\n",
    "    if precision != 0:\n",
    "        getcontext().prec = precision\n",
    "    for error_file in error_aggTrades_files.values():\n",
    "        with open(error_file, \"r\") as f:\n",
    "            reader = csv.reader(f)\n",
    "            rows = list(reader)\n",
    "        print(\"fixing {}\".format(error_file.name))\n",
    "        trade_file_path = Path(\"/Volumes/AdamDrive/binance_data/data/futures/um/daily/trades\") / product / error_file.name.replace(\"aggTrades\", \"trades\")\n",
    "        trade_file_path = trade_file_path.with_suffix(\".zip\")\n",
    "        with zipfile.ZipFile(trade_file_path, 'r') as z:\n",
    "            with z.open(z.infolist()[0].filename, 'r') as csvfile:\n",
    "                csvreader = csv.reader(io.TextIOWrapper(csvfile, newline=''))\n",
    "                subrow = None\n",
    "                for i, row in tqdm(enumerate(rows)):\n",
    "                    if row[0] == \"agg_trade_id\":\n",
    "                        continue\n",
    "                    agg_trade_id,price,quantity,first_trade_id,last_trade_id,transact_time,is_buyer_maker = row\n",
    "                    if precision == 0:\n",
    "                        new_qty = 0\n",
    "                    else:\n",
    "                        new_qty = Decimal(\"0.\")\n",
    "                    new_time = None\n",
    "                    while True:\n",
    "                        try:\n",
    "                            if subrow is None:\n",
    "                                subrow = next(csvreader)\n",
    "                            if subrow[0] == \"id\":\n",
    "                                subrow = None\n",
    "                                continue\n",
    "                            id, price, qty, quote_qty, time, is_buyer_maker = subrow\n",
    "                            if int(first_trade_id) <= int(id) <= int(last_trade_id):\n",
    "                                if precision == 0:\n",
    "                                    qty = int(qty)\n",
    "                                else:\n",
    "                                    qty = Decimal(qty)\n",
    "                                new_qty += qty\n",
    "                                new_time = time\n",
    "                                subrow = None\n",
    "                            else:\n",
    "                                break\n",
    "                        except StopIteration:\n",
    "                            break\n",
    "                        except Exception as e:\n",
    "                            print(e)\n",
    "                    assert new_qty > 0\n",
    "                    rows[i][2] = str(new_qty)\n",
    "                    rows[i][5] = new_time\n",
    "                assert subrow is None\n",
    "        with open(str(error_file), \"w\") as f:\n",
    "            writer = csv.writer(f)\n",
    "            writer.writerows(rows)\n",
    "        print(\"done fixing \", error_file.name)\n",
    "    os.system(f\"rm -v {str(p2)}/*.zip\")\n",
    "    "
   ]
  },
  {
   "cell_type": "code",
   "execution_count": null,
   "id": "95b3f7b0",
   "metadata": {},
   "outputs": [],
   "source": []
  }
 ],
 "metadata": {
  "kernelspec": {
   "display_name": "Python 3 (ipykernel)",
   "language": "python",
   "name": "python3"
  },
  "language_info": {
   "codemirror_mode": {
    "name": "ipython",
    "version": 3
   },
   "file_extension": ".py",
   "mimetype": "text/x-python",
   "name": "python",
   "nbconvert_exporter": "python",
   "pygments_lexer": "ipython3",
   "version": "3.9.0"
  }
 },
 "nbformat": 4,
 "nbformat_minor": 5
}
