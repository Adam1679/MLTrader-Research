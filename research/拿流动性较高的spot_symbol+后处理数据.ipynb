{
 "cells": [
  {
   "cell_type": "code",
   "execution_count": 1,
   "id": "b822e6c1",
   "metadata": {},
   "outputs": [],
   "source": [
    "import pandas as pd\n",
    "import numpy as np\n",
    "import requests"
   ]
  },
  {
   "cell_type": "code",
   "execution_count": 6,
   "id": "bf6fc5b6",
   "metadata": {},
   "outputs": [
    {
     "name": "stderr",
     "output_type": "stream",
     "text": [
      "/var/folders/1l/tb_5qjhd1kg2z9tn_sjtf2jc0000gn/T/ipykernel_82835/1655528444.py:51: FutureWarning: pandas.Int64Index is deprecated and will be removed from pandas in a future version. Use pandas.Index with the appropriate dtype instead.\n",
      "  df: pd.DataFrame = df.reindex(pd.Int64Index(np.arange(start, end + 60, 60)))\n"
     ]
    }
   ],
   "source": [
    "# test pd re.sample\n",
    "path = \"/Users/bytedance/binance_data/csv_data/YFIUSDT-1m-perpetual.csv\"\n",
    "df = pd.read_csv(\n",
    "        path,\n",
    "        header=None,\n",
    "        names=[\n",
    "            \"open_timestamp\",\n",
    "            \"open_price\",\n",
    "            \"high_price\",\n",
    "            \"low_price\",\n",
    "            \"close_price\",\n",
    "            \"volume\",\n",
    "            \"close_timestamp\",\n",
    "            \"quote_asset_volume\",\n",
    "            \"number_of_trade\",\n",
    "            \"tbbav\",\n",
    "            \"tbqav\",\n",
    "            \"ignore\",\n",
    "        ],\n",
    "        dtype={\n",
    "            \"open_timestamp\": int,\n",
    "            \"open_price\": float,\n",
    "            \"high_price\": float,\n",
    "            \"low_price\": float,\n",
    "            \"close_price\": float,\n",
    "            \"volume\": float,\n",
    "            \"quote_asset_volume\": float,\n",
    "            \"tbbav\": float,\n",
    "            \"tbqav\": float,\n",
    "            \"close_timestamp\": int,\n",
    "            \"number_of_trade\": int,\n",
    "        },\n",
    "    )\n",
    "df = df.rename(\n",
    "        columns={\n",
    "            \"close_price\": \"Close\",\n",
    "            \"open_price\": \"Open\",\n",
    "            \"high_price\": \"High\",\n",
    "            \"low_price\": \"Low\",\n",
    "            \"quote_asset_volume\": \"Volume\",\n",
    "            \"number_of_trade\": \"Count\",\n",
    "        }\n",
    "    )\n",
    "\n",
    "df.drop_duplicates(subset=[\"open_timestamp\"], inplace=True)\n",
    "df[\"open_timestamp\"] = df[\"open_timestamp\"] // 1_000\n",
    "df[\"close_timestamp\"] = df[\"close_timestamp\"] // 1_000\n",
    "df = df.set_index(\"open_timestamp\", drop=True)\n",
    "df = df.sort_index(ascending=True)\n",
    "start, end = df.index[0], df.index[-1]\n",
    "df: pd.DataFrame = df.reindex(pd.Int64Index(np.arange(start, end + 60, 60)))\n",
    "df[\"datetime\"] = pd.to_datetime(df.index, unit=\"s\")\n",
    "df = df.set_index(\"datetime\", drop=True)"
   ]
  },
  {
   "cell_type": "code",
   "execution_count": 7,
   "id": "26b6b61a",
   "metadata": {},
   "outputs": [],
   "source": [
    "sub_df = df.iloc[:300]"
   ]
  },
  {
   "cell_type": "code",
   "execution_count": 9,
   "id": "22338680",
   "metadata": {},
   "outputs": [
    {
     "data": {
      "text/html": [
       "<div>\n",
       "<style scoped>\n",
       "    .dataframe tbody tr th:only-of-type {\n",
       "        vertical-align: middle;\n",
       "    }\n",
       "\n",
       "    .dataframe tbody tr th {\n",
       "        vertical-align: top;\n",
       "    }\n",
       "\n",
       "    .dataframe thead th {\n",
       "        text-align: right;\n",
       "    }\n",
       "</style>\n",
       "<table border=\"1\" class=\"dataframe\">\n",
       "  <thead>\n",
       "    <tr style=\"text-align: right;\">\n",
       "      <th></th>\n",
       "      <th>Open</th>\n",
       "      <th>High</th>\n",
       "      <th>Low</th>\n",
       "      <th>Close</th>\n",
       "      <th>volume</th>\n",
       "      <th>close_timestamp</th>\n",
       "      <th>Volume</th>\n",
       "      <th>Count</th>\n",
       "      <th>tbbav</th>\n",
       "      <th>tbqav</th>\n",
       "      <th>ignore</th>\n",
       "    </tr>\n",
       "    <tr>\n",
       "      <th>datetime</th>\n",
       "      <th></th>\n",
       "      <th></th>\n",
       "      <th></th>\n",
       "      <th></th>\n",
       "      <th></th>\n",
       "      <th></th>\n",
       "      <th></th>\n",
       "      <th></th>\n",
       "      <th></th>\n",
       "      <th></th>\n",
       "      <th></th>\n",
       "    </tr>\n",
       "  </thead>\n",
       "  <tbody>\n",
       "    <tr>\n",
       "      <th>2020-08-31 07:00:00</th>\n",
       "      <td>32000.0</td>\n",
       "      <td>32449.9</td>\n",
       "      <td>32000.0</td>\n",
       "      <td>32400.0</td>\n",
       "      <td>2.557</td>\n",
       "      <td>1598857259</td>\n",
       "      <td>82525.9560</td>\n",
       "      <td>88</td>\n",
       "      <td>1.081</td>\n",
       "      <td>34872.1355</td>\n",
       "      <td>0</td>\n",
       "    </tr>\n",
       "    <tr>\n",
       "      <th>2020-08-31 07:01:00</th>\n",
       "      <td>32400.0</td>\n",
       "      <td>32400.0</td>\n",
       "      <td>32045.5</td>\n",
       "      <td>32300.0</td>\n",
       "      <td>6.123</td>\n",
       "      <td>1598857319</td>\n",
       "      <td>197691.0292</td>\n",
       "      <td>175</td>\n",
       "      <td>2.391</td>\n",
       "      <td>77280.5195</td>\n",
       "      <td>0</td>\n",
       "    </tr>\n",
       "    <tr>\n",
       "      <th>2020-08-31 07:02:00</th>\n",
       "      <td>32200.5</td>\n",
       "      <td>32350.0</td>\n",
       "      <td>32101.0</td>\n",
       "      <td>32225.0</td>\n",
       "      <td>6.895</td>\n",
       "      <td>1598857379</td>\n",
       "      <td>222126.8032</td>\n",
       "      <td>171</td>\n",
       "      <td>3.029</td>\n",
       "      <td>97684.9212</td>\n",
       "      <td>0</td>\n",
       "    </tr>\n",
       "    <tr>\n",
       "      <th>2020-08-31 07:03:00</th>\n",
       "      <td>32210.0</td>\n",
       "      <td>32210.0</td>\n",
       "      <td>31603.1</td>\n",
       "      <td>31877.9</td>\n",
       "      <td>9.298</td>\n",
       "      <td>1598857439</td>\n",
       "      <td>298029.1068</td>\n",
       "      <td>224</td>\n",
       "      <td>1.998</td>\n",
       "      <td>64168.6287</td>\n",
       "      <td>0</td>\n",
       "    </tr>\n",
       "    <tr>\n",
       "      <th>2020-08-31 07:04:00</th>\n",
       "      <td>31940.0</td>\n",
       "      <td>32194.3</td>\n",
       "      <td>31850.0</td>\n",
       "      <td>32164.4</td>\n",
       "      <td>11.515</td>\n",
       "      <td>1598857499</td>\n",
       "      <td>369396.0142</td>\n",
       "      <td>164</td>\n",
       "      <td>8.585</td>\n",
       "      <td>275393.7634</td>\n",
       "      <td>0</td>\n",
       "    </tr>\n",
       "    <tr>\n",
       "      <th>2020-08-31 07:05:00</th>\n",
       "      <td>32159.5</td>\n",
       "      <td>32700.0</td>\n",
       "      <td>32125.0</td>\n",
       "      <td>32400.0</td>\n",
       "      <td>18.959</td>\n",
       "      <td>1598857559</td>\n",
       "      <td>613399.6591</td>\n",
       "      <td>284</td>\n",
       "      <td>13.345</td>\n",
       "      <td>431604.5741</td>\n",
       "      <td>0</td>\n",
       "    </tr>\n",
       "    <tr>\n",
       "      <th>2020-08-31 07:06:00</th>\n",
       "      <td>32400.0</td>\n",
       "      <td>32745.4</td>\n",
       "      <td>32300.0</td>\n",
       "      <td>32549.5</td>\n",
       "      <td>11.561</td>\n",
       "      <td>1598857619</td>\n",
       "      <td>375787.3718</td>\n",
       "      <td>176</td>\n",
       "      <td>5.655</td>\n",
       "      <td>184119.0564</td>\n",
       "      <td>0</td>\n",
       "    </tr>\n",
       "    <tr>\n",
       "      <th>2020-08-31 07:07:00</th>\n",
       "      <td>32600.0</td>\n",
       "      <td>32620.0</td>\n",
       "      <td>32440.0</td>\n",
       "      <td>32561.3</td>\n",
       "      <td>11.861</td>\n",
       "      <td>1598857679</td>\n",
       "      <td>386218.0079</td>\n",
       "      <td>184</td>\n",
       "      <td>3.503</td>\n",
       "      <td>114147.6546</td>\n",
       "      <td>0</td>\n",
       "    </tr>\n",
       "    <tr>\n",
       "      <th>2020-08-31 07:08:00</th>\n",
       "      <td>32551.8</td>\n",
       "      <td>32590.0</td>\n",
       "      <td>32300.0</td>\n",
       "      <td>32570.7</td>\n",
       "      <td>12.288</td>\n",
       "      <td>1598857739</td>\n",
       "      <td>398771.7200</td>\n",
       "      <td>190</td>\n",
       "      <td>5.736</td>\n",
       "      <td>186242.5269</td>\n",
       "      <td>0</td>\n",
       "    </tr>\n",
       "    <tr>\n",
       "      <th>2020-08-31 07:09:00</th>\n",
       "      <td>32590.0</td>\n",
       "      <td>33168.2</td>\n",
       "      <td>32590.0</td>\n",
       "      <td>33115.0</td>\n",
       "      <td>18.633</td>\n",
       "      <td>1598857799</td>\n",
       "      <td>612969.2368</td>\n",
       "      <td>386</td>\n",
       "      <td>14.455</td>\n",
       "      <td>475676.9036</td>\n",
       "      <td>0</td>\n",
       "    </tr>\n",
       "  </tbody>\n",
       "</table>\n",
       "</div>"
      ],
      "text/plain": [
       "                        Open     High      Low    Close  volume  \\\n",
       "datetime                                                          \n",
       "2020-08-31 07:00:00  32000.0  32449.9  32000.0  32400.0   2.557   \n",
       "2020-08-31 07:01:00  32400.0  32400.0  32045.5  32300.0   6.123   \n",
       "2020-08-31 07:02:00  32200.5  32350.0  32101.0  32225.0   6.895   \n",
       "2020-08-31 07:03:00  32210.0  32210.0  31603.1  31877.9   9.298   \n",
       "2020-08-31 07:04:00  31940.0  32194.3  31850.0  32164.4  11.515   \n",
       "2020-08-31 07:05:00  32159.5  32700.0  32125.0  32400.0  18.959   \n",
       "2020-08-31 07:06:00  32400.0  32745.4  32300.0  32549.5  11.561   \n",
       "2020-08-31 07:07:00  32600.0  32620.0  32440.0  32561.3  11.861   \n",
       "2020-08-31 07:08:00  32551.8  32590.0  32300.0  32570.7  12.288   \n",
       "2020-08-31 07:09:00  32590.0  33168.2  32590.0  33115.0  18.633   \n",
       "\n",
       "                     close_timestamp       Volume  Count   tbbav        tbqav  \\\n",
       "datetime                                                                        \n",
       "2020-08-31 07:00:00       1598857259   82525.9560     88   1.081   34872.1355   \n",
       "2020-08-31 07:01:00       1598857319  197691.0292    175   2.391   77280.5195   \n",
       "2020-08-31 07:02:00       1598857379  222126.8032    171   3.029   97684.9212   \n",
       "2020-08-31 07:03:00       1598857439  298029.1068    224   1.998   64168.6287   \n",
       "2020-08-31 07:04:00       1598857499  369396.0142    164   8.585  275393.7634   \n",
       "2020-08-31 07:05:00       1598857559  613399.6591    284  13.345  431604.5741   \n",
       "2020-08-31 07:06:00       1598857619  375787.3718    176   5.655  184119.0564   \n",
       "2020-08-31 07:07:00       1598857679  386218.0079    184   3.503  114147.6546   \n",
       "2020-08-31 07:08:00       1598857739  398771.7200    190   5.736  186242.5269   \n",
       "2020-08-31 07:09:00       1598857799  612969.2368    386  14.455  475676.9036   \n",
       "\n",
       "                     ignore  \n",
       "datetime                     \n",
       "2020-08-31 07:00:00       0  \n",
       "2020-08-31 07:01:00       0  \n",
       "2020-08-31 07:02:00       0  \n",
       "2020-08-31 07:03:00       0  \n",
       "2020-08-31 07:04:00       0  \n",
       "2020-08-31 07:05:00       0  \n",
       "2020-08-31 07:06:00       0  \n",
       "2020-08-31 07:07:00       0  \n",
       "2020-08-31 07:08:00       0  \n",
       "2020-08-31 07:09:00       0  "
      ]
     },
     "execution_count": 9,
     "metadata": {},
     "output_type": "execute_result"
    }
   ],
   "source": [
    "sub_df.head(10)"
   ]
  },
  {
   "cell_type": "code",
   "execution_count": 15,
   "id": "dcc8d8ba",
   "metadata": {},
   "outputs": [],
   "source": [
    "agg_func = {\n",
    "        \"Close\": \"last\",\n",
    "        \"High\": \"max\",\n",
    "        \"Low\": \"min\",\n",
    "        \"Open\": \"first\",\n",
    "        \"Volume\": \"sum\",\n",
    "        \"Count\": \"sum\",\n",
    "    }\n",
    "sub_df_resample = (\n",
    "        sub_df[[\"Open\", \"Close\", \"High\", \"Low\", \"Volume\", \"Count\"]]\n",
    "        .resample(\n",
    "            \"5min\", kind=\"timestamp\", label=\"left\", closed=\"left\"\n",
    "        )\n",
    "        .agg(agg_func)\n",
    "    )"
   ]
  },
  {
   "cell_type": "code",
   "execution_count": 16,
   "id": "deab3abc",
   "metadata": {},
   "outputs": [
    {
     "data": {
      "text/html": [
       "<div>\n",
       "<style scoped>\n",
       "    .dataframe tbody tr th:only-of-type {\n",
       "        vertical-align: middle;\n",
       "    }\n",
       "\n",
       "    .dataframe tbody tr th {\n",
       "        vertical-align: top;\n",
       "    }\n",
       "\n",
       "    .dataframe thead th {\n",
       "        text-align: right;\n",
       "    }\n",
       "</style>\n",
       "<table border=\"1\" class=\"dataframe\">\n",
       "  <thead>\n",
       "    <tr style=\"text-align: right;\">\n",
       "      <th></th>\n",
       "      <th>Close</th>\n",
       "      <th>High</th>\n",
       "      <th>Low</th>\n",
       "      <th>Open</th>\n",
       "      <th>Volume</th>\n",
       "      <th>Count</th>\n",
       "    </tr>\n",
       "    <tr>\n",
       "      <th>datetime</th>\n",
       "      <th></th>\n",
       "      <th></th>\n",
       "      <th></th>\n",
       "      <th></th>\n",
       "      <th></th>\n",
       "      <th></th>\n",
       "    </tr>\n",
       "  </thead>\n",
       "  <tbody>\n",
       "    <tr>\n",
       "      <th>2020-08-31 07:00:00</th>\n",
       "      <td>32164.4</td>\n",
       "      <td>32449.9</td>\n",
       "      <td>31603.1</td>\n",
       "      <td>32000.0</td>\n",
       "      <td>1.169769e+06</td>\n",
       "      <td>822</td>\n",
       "    </tr>\n",
       "    <tr>\n",
       "      <th>2020-08-31 07:05:00</th>\n",
       "      <td>33115.0</td>\n",
       "      <td>33168.2</td>\n",
       "      <td>32125.0</td>\n",
       "      <td>32159.5</td>\n",
       "      <td>2.387146e+06</td>\n",
       "      <td>1220</td>\n",
       "    </tr>\n",
       "  </tbody>\n",
       "</table>\n",
       "</div>"
      ],
      "text/plain": [
       "                       Close     High      Low     Open        Volume  Count\n",
       "datetime                                                                    \n",
       "2020-08-31 07:00:00  32164.4  32449.9  31603.1  32000.0  1.169769e+06    822\n",
       "2020-08-31 07:05:00  33115.0  33168.2  32125.0  32159.5  2.387146e+06   1220"
      ]
     },
     "execution_count": 16,
     "metadata": {},
     "output_type": "execute_result"
    }
   ],
   "source": [
    "sub_df_resample.head(2)"
   ]
  },
  {
   "cell_type": "code",
   "execution_count": 2,
   "id": "a758ca02",
   "metadata": {},
   "outputs": [],
   "source": [
    "import json\n",
    "perpetual_info = requests.get(\"https://fapi.binance.com/fapi/v1/exchangeInfo\").json()\n",
    "spot_info = requests.get(\"https://api.binance.com/api/v3/exchangeInfo\").json()\n",
    "perpetual_ticker = requests.get(\"https://fapi.binance.com/fapi/v1/ticker/24hr\").json()\n",
    "# perpetual_info = \"\"\"{\"timezone\":\"UTC\",\"serverTime\":1674504012713,\"futuresType\":\"U_MARGINED\",\"rateLimits\":[{\"rateLimitType\":\"REQUEST_WEIGHT\",\"interval\":\"MINUTE\",\"intervalNum\":1,\"limit\":2400},{\"rateLimitType\":\"ORDERS\",\"interval\":\"MINUTE\",\"intervalNum\":1,\"limit\":1200},{\"rateLimitType\":\"ORDERS\",\"interval\":\"SECOND\",\"intervalNum\":10,\"limit\":300}],\"exchangeFilters\":[],\"assets\":[{\"asset\":\"USDT\",\"marginAvailable\":true,\"autoAssetExchange\":\"-10000\"},{\"asset\":\"BTC\",\"marginAvailable\":true,\"autoAssetExchange\":\"-0.00100000\"},{\"asset\":\"BNB\",\"marginAvailable\":true,\"autoAssetExchange\":\"-10\"},{\"asset\":\"ETH\",\"marginAvailable\":true,\"autoAssetExchange\":\"-5\"},{\"asset\":\"XRP\",\"marginAvailable\":true,\"autoAssetExchange\":\"0\"},{\"asset\":\"ADA\",\"marginAvailable\":true,\"autoAssetExchange\":\"0\"},{\"asset\":\"DOT\",\"marginAvailable\":true,\"autoAssetExchange\":\"0\"},{\"asset\":\"SOL\",\"marginAvailable\":true,\"autoAssetExchange\":\"0\"},{\"asset\":\"BUSD\",\"marginAvailable\":true,\"autoAssetExchange\":\"-10000\"}],\"symbols\":[{\"symbol\":\"BTCUSDT\",\"pair\":\"BTCUSDT\",\"contractType\":\"PERPETUAL\",\"deliveryDate\":4133404800000,\"onboardDate\":1569398400000,\"status\":\"TRADING\",\"maintMarginPercent\":\"2.5000\",\"requiredMarginPercent\":\"5.0000\",\"baseAsset\":\"BTC\",\"quoteAsset\":\"USDT\",\"marginAsset\":\"USDT\",\"pricePrecision\":2,\"quantityPrecision\":3,\"baseAssetPrecision\":8,\"quotePrecision\":8,\"underlyingType\":\"COIN\",\"underlyingSubType\":[\"PoW\"],\"settlePlan\":0,\"triggerProtect\":\"0.0500\",\"liquidationFee\":\"0.012500\",\"marketTakeBound\":\"0.05\",\"filters\":[{\"minPrice\":\"556.80\",\"maxPrice\":\"4529764\",\"filterType\":\"PRICE_FILTER\",\"tickSize\":\"0.10\"},{\"stepSize\":\"0.001\",\"filterType\":\"LOT_SIZE\",\"maxQty\":\"1000\",\"minQty\":\"0.001\"},{\"stepSize\":\"0.001\",\"filterType\":\"MARKET_LOT_SIZE\",\"maxQty\":\"120\",\"minQty\":\"0.001\"},{\"limit\":200,\"filterType\":\"MAX_NUM_ORDERS\"},{\"limit\":10,\"filterType\":\"MAX_NUM_ALGO_ORDERS\"},{\"notional\":\"5\",\"filterType\":\"MIN_NOTIONAL\"},{\"multiplierDown\":\"0.9500\",\"multiplierUp\":\"1.0500\",\"multiplierDecimal\":\"4\",\"filterType\":\"PERCENT_PRICE\"}],\"orderTypes\":[\"LIMIT\",\"MARKET\",\"STOP\",\"STOP_MARKET\",\"TAKE_PROFIT\",\"TAKE_PROFIT_MARKET\",\"TRAILING_STOP_MARKET\"],\"timeInForce\":[\"GTC\",\"IOC\",\"FOK\",\"GTX\"]},{\"symbol\":\"ETHUSDT\",\"pair\":\"ETHUSDT\",\"contractType\":\"PERPETUAL\",\"deliveryDate\":4133404800000,\"onboardDate\":1569398400000,\"status\":\"TRADING\",\"maintMarginPercent\":\"2.5000\",\"requiredMarginPercent\":\"5.0000\",\"baseAsset\":\"ETH\",\"quoteAsset\":\"USDT\",\"marginAsset\":\"USDT\",\"pricePrecision\":2,\"quantityPrecision\":3,\"baseAssetPrecision\":8,\"quotePrecision\":8,\"underlyingType\":\"COIN\",\"underlyingSubType\":[\"Layer-1\"],\"settlePlan\":0,\"triggerProtect\":\"0.0500\",\"liquidationFee\":\"0.012500\",\"marketTakeBound\":\"0.05\",\"filters\":[{\"minPrice\":\"39.86\",\"maxPrice\":\"306177\",\"filterType\":\"PRICE_FILTER\",\"tickSize\":\"0.01\"},{\"stepSize\":\"0.001\",\"filterType\":\"LOT_SIZE\",\"maxQty\":\"10000\",\"minQty\":\"0.001\"},{\"stepSize\":\"0.001\",\"filterType\":\"MARKET_LOT_SIZE\",\"maxQty\":\"2000\",\"minQty\":\"0.001\"},{\"limit\":200,\"filterType\":\"MAX_NUM_ORDERS\"},{\"limit\":10,\"filterType\":\"MAX_NUM_ALGO_ORDERS\"},{\"notional\":\"5\",\"filterType\":\"MIN_NOTIONAL\"},{\"multiplierDown\":\"0.9500\",\"multiplierUp\":\"1.0500\",\"multiplierDecimal\":\"4\",\"filterType\":\"PERCENT_PRICE\"}],\"orderTypes\":[\"LIMIT\",\"MARKET\",\"STOP\",\"STOP_MARKET\",\"TAKE_PROFIT\",\"TAKE_PROFIT_MARKET\",\"TRAILING_STOP_MARKET\"],\"timeInForce\":[\"GTC\",\"IOC\",\"FOK\",\"GTX\"]},{\"symbol\":\"BCHUSDT\",\"pair\":\"BCHUSDT\",\"contractType\":\"PERPETUAL\",\"deliveryDate\":4133404800000,\"onboardDate\":1569398400000,\"status\":\"TRADING\",\"maintMarginPercent\":\"2.5000\",\"requiredMarginPercent\":\"5.0000\",\"baseAsset\":\"BCH\",\"quoteAsset\":\"USDT\",\"marginAsset\":\"USDT\",\"pricePrecision\":2,\"quantityPrecision\":3,\"baseAssetPrecision\":8,\"quotePrecision\":8,\"underlyingType\":\"COIN\",\"underlyingSubType\":[\"PoW\"],\"settlePlan\":0,\"triggerProtect\":\"0.0500\",\"liquidationFee\":\"0.012500\",\"marketTakeBound\":\"0.05\",\"filters\":[{\"minPrice\":\"13.93\",\"maxPrice\":\"100000\",\"filterType\":\"PRICE_FILTER\",\"tickSize\":\"0.01\"},{\"stepSize\":\"0.001\",\"filterType\":\"LOT_SIZE\",\"maxQty\":\"10000\",\"minQty\":\"0.001\"},{\"stepSize\":\"0.001\",\"filterType\":\"MARKET_LOT_SIZE\",\"maxQty\":\"850\",\"minQty\":\"0.001\"},{\"limit\":200,\"filterType\":\"MAX_NUM_ORDERS\"},{\"limit\":10,\"filterType\":\"MAX_NUM_ALGO_ORDERS\"},{\"notional\":\"5\",\"filterType\":\"MIN_NOTIONAL\"},{\"multiplierDown\":\"0.9500\",\"multiplierUp\":\"1.0500\",\"multiplierDecimal\":\"4\",\"filterType\":\"PERCENT_PRICE\"}],\"orderTypes\":[\"LIMIT\",\"MARKET\",\"STOP\",\"STOP_MARKET\",\"TAKE_PROFIT\",\"TAKE_PROFIT_MARKET\",\"TRAILING_STOP_MARKET\"],\"timeInForce\":[\"GTC\",\"IOC\",\"FOK\",\"GTX\"]},{\"symbol\":\"XRPUSDT\",\"pair\":\"XRPUSDT\",\"contractType\":\"PERPETUAL\",\"deliveryDate\":4133404800000,\"onboardDate\":1569398400000,\"status\":\"TRADING\",\"maintMarginPercent\":\"2.5000\",\"requiredMarginPercent\":\"5.0000\",\"baseAsset\":\"XRP\",\"quoteAsset\":\"USDT\",\"marginAsset\":\"USDT\",\"pricePrecision\":4,\"quantityPrecision\":1,\"baseAssetPrecision\":8,\"quotePrecision\":8,\"underlyingType\":\"COIN\",\"underlyingSubType\":[\"Payment\"],\"settlePlan\":0,\"triggerProtect\":\"0.0500\",\"liquidationFee\":\"0.010000\",\"marketTakeBound\":\"0.05\",\"filters\":[{\"minPrice\":\"0.0143\",\"maxPrice\":\"100000\",\"filterType\":\"PRICE_FILTER\",\"tickSize\":\"0.0001\"},{\"stepSize\":\"0.1\",\"filterType\":\"LOT_SIZE\",\"maxQty\":\"20000000\",\"minQty\":\"0.1\"},{\"stepSize\":\"0.1\",\"filterType\":\"MARKET_LOT_SIZE\",\"maxQty\":\"2000000\",\"minQty\":\"0.1\"},{\"limit\":200,\"filterType\":\"MAX_NUM_ORDERS\"},{\"limit\":10,\"filterType\":\"MAX_NUM_ALGO_ORDERS\"},{\"notional\":\"5\",\"filterType\":\"MIN_NOTIONAL\"},{\"multiplierDown\":\"0.9500\",\"multiplierUp\":\"1.0500\",\"multiplierDecimal\":\"4\",\"filterType\":\"PERCENT_PRICE\"}],\"orderTypes\":[\"LIMIT\",\"MARKET\",\"STOP\",\"STOP_MARKET\",\"TAKE_PROFIT\",\"TAKE_PROFIT_MARKET\",\"TRAILING_STOP_MARKET\"],\"timeInForce\":[\"GTC\",\"IOC\",\"FOK\",\"GTX\"]},{\"symbol\":\"EOSUSDT\",\"pair\":\"EOSUSDT\",\"contractType\":\"PERPETUAL\",\"deliveryDate\":4133404800000,\"onboardDate\":1569398400000,\"status\":\"TRADING\",\"maintMarginPercent\":\"2.5000\",\"requiredMarginPercent\":\"5.0000\",\"baseAsset\":\"EOS\",\"quoteAsset\":\"USDT\",\"marginAsset\":\"USDT\",\"pricePrecision\":3,\"quantityPrecision\":1,\"baseAssetPrecision\":8,\"quotePrecision\":8,\"underlyingType\":\"COIN\",\"underlyingSubType\":[\"Layer-1\"],\"settlePlan\":0,\"triggerProtect\":\"0.1000\",\"liquidationFee\":\"0.010000\",\"marketTakeBound\":\"0.10\",\"filters\":[{\"minPrice\":\"0.111\",\"maxPrice\":\"100000\",\"filterType\":\"PRICE_FILTER\",\"tickSize\":\"0.001\"},{\"stepSize\":\"0.1\",\"filterType\":\"LOT_SIZE\",\"maxQty\":\"1000000\",\"minQty\":\"0.1\"},{\"stepSize\":\"0.1\",\"filterType\":\"MARKET_LOT_SIZE\",\"maxQty\":\"120000\",\"minQty\":\"0.1\"},{\"limit\":200,\"filterType\":\"MAX_NUM_ORDERS\"},{\"limit\":10,\"filterType\":\"MAX_NUM_ALGO_ORDERS\"},{\"notional\":\"5\",\"filterType\":\"MIN_NOTIONAL\"},{\"multiplierDown\":\"0.9000\",\"multiplierUp\":\"1.1000\",\"multiplierDecimal\":\"4\",\"filterType\":\"PERCENT_PRICE\"}],\"orderTypes\":[\"LIMIT\",\"MARKET\",\"STOP\",\"STOP_MARKET\",\"TAKE_PROFIT\",\"TAKE_PROFIT_MARKET\",\"TRAILING_STOP_MARKET\"],\"timeInForce\":[\"GTC\",\"IOC\",\"FOK\",\"GTX\"]},{\"symbol\":\"LTCUSDT\",\"pair\":\"LTCUSDT\",\"contractType\":\"PERPETUAL\",\"deliveryDate\":4133404800000,\"onboardDate\":1569398400000,\"status\":\"TRADING\",\"maintMarginPercent\":\"2.5000\",\"requiredMarginPercent\":\"5.0000\",\"baseAsset\":\"LTC\",\"quoteAsset\":\"USDT\",\"marginAsset\":\"USDT\",\"pricePrecision\":2,\"quantityPrecision\":3,\"baseAssetPrecision\":8,\"quotePrecision\":8,\"underlyingType\":\"COIN\",\"underlyingSubType\":[\"PoW\"],\"settlePlan\":0,\"triggerProtect\":\"0.0500\",\"liquidationFee\":\"0.020000\",\"marketTakeBound\":\"0.05\",\"filters\":[{\"minPrice\":\"3.61\",\"maxPrice\":\"100000\",\"filterType\":\"PRICE_FILTER\",\"tickSize\":\"0.01\"},{\"stepSize\":\"0.001\",\"filterType\":\"LOT_SIZE\",\"maxQty\":\"10000\",\"minQty\":\"0.001\"},{\"stepSize\":\"0.001\",\"filterType\":\"MARKET_LOT_SIZE\",\"maxQty\":\"1500\",\"minQty\":\"0.001\"},{\"limit\":200,\"filterType\":\"MAX_NUM_ORDERS\"},{\"limit\":10,\"filterType\":\"MAX_NUM_ALGO_ORDERS\"},{\"notional\":\"5\",\"filterType\":\"MIN_NOTIONAL\"},{\"multiplierDown\":\"0.9500\",\"multiplierUp\":\"1.0500\",\"multiplierDecimal\":\"4\",\"filterType\":\"PERCENT_PRICE\"}],\"orderTypes\":[\"LIMIT\",\"MARKET\",\"STOP\",\"STOP_MARKET\",\"TAKE_PROFIT\",\"TAKE_PROFIT_MARKET\",\"TRAILING_STOP_MARKET\"],\"timeInForce\":[\"GTC\",\"IOC\",\"FOK\",\"GTX\"]},{\"symbol\":\"TRXUSDT\",\"pair\":\"TRXUSDT\",\"contractType\":\"PERPETUAL\",\"deliveryDate\":4133404800000,\"onboardDate\":1569398400000,\"status\":\"TRADING\",\"maintMarginPercent\":\"2.5000\",\"requiredMarginPercent\":\"5.0000\",\"baseAsset\":\"TRX\",\"quoteAsset\":\"USDT\",\"marginAsset\":\"USDT\",\"pricePrecision\":5,\"quantityPrecision\":0,\"baseAssetPrecision\":8,\"quotePrecision\":8,\"underlyingType\":\"COIN\",\"underlyingSubType\":[\"Layer-1\"],\"settlePlan\":0,\"triggerProtect\":\"0.0500\",\"liquidationFee\":\"0.010000\",\"marketTakeBound\":\"0.05\",\"filters\":[{\"minPrice\":\"0.00132\",\"maxPrice\":\"20000\",\"filterType\":\"PRICE_FILTER\",\"tickSize\":\"0.00001\"},{\"stepSize\":\"1\",\"filterType\":\"LOT_SIZE\",\"maxQty\":\"10000000\",\"minQty\":\"1\"},{\"stepSize\":\"1\",\"filterType\":\"MARKET_LOT_SIZE\",\"maxQty\":\"5000000\",\"minQty\":\"1\"},{\"limit\":200,\"filterType\":\"MAX_NUM_ORDERS\"},{\"limit\":10,\"filterType\":\"MAX_NUM_ALGO_ORDERS\"},{\"notional\":\"5\",\"filterType\":\"MIN_NOTIONAL\"},{\"multiplierDown\":\"0.9500\",\"multiplierUp\":\"1.0500\",\"multiplierDecimal\":\"4\",\"filterType\":\"PERCENT_PRICE\"}],\"orderTypes\":[\"LIMIT\",\"MARKET\",\"STOP\",\"STOP_MARKET\",\"TAKE_PROFIT\",\"TAKE_PROFIT_MARKET\",\"TRAILING_STOP_MARKET\"],\"timeInForce\":[\"GTC\",\"IOC\",\"FOK\",\"GTX\"]},{\"symbol\":\"ETCUSDT\",\"pair\":\"ETCUSDT\",\"contractType\":\"PERPETUAL\",\"deliveryDate\":4133404800000,\"onboardDate\":1569398400000,\"status\":\"TRADING\",\"maintMarginPercent\":\"2.5000\",\"requiredMarginPercent\":\"5.0000\",\"baseAsset\":\"ETC\",\"quoteAsset\":\"USDT\",\"marginAsset\":\"USDT\",\"pricePrecision\":3,\"quantityPrecision\":2,\"baseAssetPrecision\":8,\"quotePrecision\":8,\"underlyingType\":\"COIN\",\"underlyingSubType\":[\"Layer-1\"],\"settlePlan\":0,\"triggerProtect\":\"0.0500\",\"liquidationFee\":\"0.010000\",\"marketTakeBound\":\"0.10\",\"filters\":[{\"minPrice\":\"1.051\",\"maxPrice\":\"100000\",\"filterType\":\"PRICE_FILTER\",\"tickSize\":\"0.001\"},{\"stepSize\":\"0.01\",\"filterType\":\"LOT_SIZE\",\"maxQty\":\"100000\",\"minQty\":\"0.01\"},{\"stepSize\":\"0.01\",\"filterType\":\"MARKET_LOT_SIZE\",\"maxQty\":\"10000\",\"minQty\":\"0.01\"},{\"limit\":200,\"filterType\":\"MAX_NUM_ORDERS\"},{\"limit\":10,\"filterType\":\"MAX_NUM_ALGO_ORDERS\"},{\"notional\":\"5\",\"filterType\":\"MIN_NOTIONAL\"},{\"multiplierDown\":\"0.9000\",\"multiplierUp\":\"1.1000\",\"multiplierDecimal\":\"4\",\"filterType\":\"PERCENT_PRICE\"}],\"orderTypes\":[\"LIMIT\",\"MARKET\",\"STOP\",\"STOP_MARKET\",\"TAKE_PROFIT\",\"TAKE_PROFIT_MARKET\",\"TRAILING_STOP_MARKET\"],\"timeInForce\":[\"GTC\",\"IOC\",\"FOK\",\"GTX\"]},{\"symbol\":\"LINKUSDT\",\"pair\":\"LINKUSDT\",\"contractType\":\"PERPETUAL\",\"deliveryDate\":4133404800000,\"onboardDate\":1569398400000,\"status\":\"TRADING\",\"maintMarginPercent\":\"2.5000\",\"requiredMarginPercent\":\"5.0000\",\"baseAsset\":\"LINK\",\"quoteAsset\":\"USDT\",\"marginAsset\":\"USDT\",\"pricePrecision\":3,\"quantityPrecision\":2,\"baseAssetPrecision\":8,\"quotePrecision\":8,\"underlyingType\":\"COIN\",\"underlyingSubType\":[\"Oracle\"],\"settlePlan\":0,\"triggerProtect\":\"0.1000\",\"liquidationFee\":\"0.010000\",\"marketTakeBound\":\"0.10\",\"filters\":[{\"minPrice\":\"0.464\",\"maxPrice\":\"100000\",\"filterType\":\"PRICE_FILTER\",\"tickSize\":\"0.001\"},{\"stepSize\":\"0.01\",\"filterType\":\"LOT_SIZE\",\"maxQty\":\"200000\",\"minQty\":\"0.01\"},{\"stepSize\":\"0.01\",\"filterType\":\"MARKET_LOT_SIZE\",\"maxQty\":\"20000\",\"minQty\":\"0.01\"},{\"limit\":200,\"filterType\":\"MAX_NUM_ORDERS\"},{\"limit\":10,\"filterType\":\"MAX_NUM_ALGO_ORDERS\"},{\"notional\":\"5\",\"filterType\":\"MIN_NOTIONAL\"},{\"multiplierDown\":\"0.9000\",\"multiplierUp\":\"1.1000\",\"multiplierDecimal\":\"4\",\"filterType\":\"PERCENT_PRICE\"}],\"orderTypes\":[\"LIMIT\",\"MARKET\",\"STOP\",\"STOP_MARKET\",\"TAKE_PROFIT\",\"TAKE_PROFIT_MARKET\",\"TRAILING_STOP_MARKET\"],\"timeInForce\":[\"GTC\",\"IOC\",\"FOK\",\"GTX\"]},{\"symbol\":\"XLMUSDT\",\"pair\":\"XLMUSDT\",\"contractType\":\"PERPETUAL\",\"deliveryDate\":4133404800000,\"onboardDate\":1569398400000,\"status\":\"TRADING\",\"maintMarginPercent\":\"2.5000\",\"requiredMarginPercent\":\"5.0000\",\"baseAsset\":\"XLM\",\"quoteAsset\":\"USDT\",\"marginAsset\":\"USDT\",\"pricePrecision\":5,\"quantityPrecision\":0,\"baseAssetPrecision\":8,\"quotePrecision\":8,\"underlyingType\":\"COIN\",\"underlyingSubType\":[\"Layer-2\"],\"settlePlan\":0,\"triggerProtect\":\"0.0500\",\"liquidationFee\":\"0.010000\",\"marketTakeBound\":\"0.05\",\"filters\":[{\"minPrice\":\"0.00648\",\"maxPrice\":\"20000\",\"filterType\":\"PRICE_FILTER\",\"tickSize\":\"0.00001\"},{\"stepSize\":\"1\",\"filterType\":\"LOT_SIZE\",\"maxQty\":\"10000000\",\"minQty\":\"1\"},{\"stepSize\":\"1\",\"filterType\":\"MARKET_LOT_SIZE\",\"maxQty\":\"1000000\",\"minQty\":\"1\"},{\"limit\":200,\"filterType\":\"MAX_NUM_ORDERS\"},{\"limit\":10,\"filterType\":\"MAX_NUM_ALGO_ORDERS\"},{\"notional\":\"5\",\"filterType\":\"MIN_NOTIONAL\"},{\"multiplierDown\":\"0.9500\",\"multiplierUp\":\"1.0500\",\"multiplierDecimal\":\"4\",\"filterType\":\"PERCENT_PRICE\"}],\"orderTypes\":[\"LIMIT\",\"MARKET\",\"STOP\",\"STOP_MARKET\",\"TAKE_PROFIT\",\"TAKE_PROFIT_MARKET\",\"TRAILING_STOP_MARKET\"],\"timeInForce\":[\"GTC\",\"IOC\",\"FOK\",\"GTX\"]},{\"symbol\":\"ADAUSDT\",\"pair\":\"ADAUSDT\",\"contractType\":\"PERPETUAL\",\"deliveryDate\":4133404800000,\"onboardDate\":1569398400000,\"status\":\"TRADING\",\"maintMarginPercent\":\"2.5000\",\"requiredMarginPercent\":\"5.0000\",\"baseAsset\":\"ADA\",\"quoteAsset\":\"USDT\",\"marginAsset\":\"USDT\",\"pricePrecision\":5,\"quantityPrecision\":0,\"baseAssetPrecision\":8,\"quotePrecision\":8,\"underlyingType\":\"COIN\",\"underlyingSubType\":[\"Layer-1\"],\"settlePlan\":0,\"triggerProtect\":\"0.0500\",\"liquidationFee\":\"0.010000\",\"marketTakeBound\":\"0.05\",\"filters\":[{\"minPrice\":\"0.01740\",\"maxPrice\":\"20000\",\"filterType\":\"PRICE_FILTER\",\"tickSize\":\"0.00010\"},{\"stepSize\":\"1\",\"filterType\":\"LOT_SIZE\",\"maxQty\":\"2000000\",\"minQty\":\"1\"},{\"stepSize\":\"1\",\"filterType\":\"MARKET_LOT_SIZE\",\"maxQty\":\"300000\",\"minQty\":\"1\"},{\"limit\":200,\"filterType\":\"MAX_NUM_ORDERS\"},{\"limit\":10,\"filterType\":\"MAX_NUM_ALGO_ORDERS\"},{\"notional\":\"5\",\"filterType\":\"MIN_NOTIONAL\"},{\"multiplierDown\":\"0.9500\",\"multiplierUp\":\"1.0500\",\"multiplierDecimal\":\"4\",\"filterType\":\"PERCENT_PRICE\"}],\"orderTypes\":[\"LIMIT\",\"MARKET\",\"STOP\",\"STOP_MARKET\",\"TAKE_PROFIT\",\"TAKE_PROFIT_MARKET\",\"TRAILING_STOP_MARKET\"],\"timeInForce\":[\"GTC\",\"IOC\",\"FOK\",\"GTX\"]},{\"symbol\":\"XMRUSDT\",\"pair\":\"XMRUSDT\",\"contractType\":\"PERPETUAL\",\"deliveryDate\":4133404800000,\"onboardDate\":1569398400000,\"status\":\"TRADING\",\"maintMarginPercent\":\"2.5000\",\"requiredMarginPercent\":\"5.0000\",\"baseAsset\":\"XMR\",\"quoteAsset\":\"USDT\",\"marginAsset\":\"USDT\",\"pricePrecision\":2,\"quantityPrecision\":3,\"baseAssetPrecision\":8,\"quotePrecision\":8,\"underlyingType\":\"COIN\",\"underlyingSubType\":[\"Privacy\"],\"settlePlan\":0,\"triggerProtect\":\"0.0500\",\"liquidationFee\":\"0.012500\",\"marketTakeBound\":\"0.05\",\"filters\":[{\"minPrice\":\"4.36\",\"maxPrice\":\"100000\",\"filterType\":\"PRICE_FILTER\",\"tickSize\":\"0.01\"},{\"stepSize\":\"0.001\",\"filterType\":\"LOT_SIZE\",\"maxQty\":\"10000\",\"minQty\":\"0.001\"},{\"stepSize\":\"0.001\",\"filterType\":\"MARKET_LOT_SIZE\",\"maxQty\":\"2000\",\"minQty\":\"0.001\"},{\"limit\":200,\"filterType\":\"MAX_NUM_ORDERS\"},{\"limit\":10,\"filterType\":\"MAX_NUM_ALGO_ORDERS\"},{\"notional\":\"5\",\"filterType\":\"MIN_NOTIONAL\"},{\"multiplierDown\":\"0.9500\",\"multiplierUp\":\"1.0500\",\"multiplierDecimal\":\"4\",\"filterType\":\"PERCENT_PRICE\"}],\"orderTypes\":[\"LIMIT\",\"MARKET\",\"STOP\",\"STOP_MARKET\",\"TAKE_PROFIT\",\"TAKE_PROFIT_MARKET\",\"TRAILING_STOP_MARKET\"],\"timeInForce\":[\"GTC\",\"IOC\",\"FOK\",\"GTX\"]},{\"symbol\":\"DASHUSDT\",\"pair\":\"DASHUSDT\",\"contractType\":\"PERPETUAL\",\"deliveryDate\":4133404800000,\"onboardDate\":1569398400000,\"status\":\"TRADING\",\"maintMarginPercent\":\"2.5000\",\"requiredMarginPercent\":\"5.0000\",\"baseAsset\":\"DASH\",\"quoteAsset\":\"USDT\",\"marginAsset\":\"USDT\",\"pricePrecision\":2,\"quantityPrecision\":3,\"baseAssetPrecision\":8,\"quotePrecision\":8,\"underlyingType\":\"COIN\",\"underlyingSubType\":[\"Payment\"],\"settlePlan\":0,\"triggerProtect\":\"0.1000\",\"liquidationFee\":\"0.012500\",\"marketTakeBound\":\"0.10\",\"filters\":[{\"minPrice\":\"3.82\",\"maxPrice\":\"100000\",\"filterType\":\"PRICE_FILTER\",\"tickSize\":\"0.01\"},{\"stepSize\":\"0.001\",\"filterType\":\"LOT_SIZE\",\"maxQty\":\"10000\",\"minQty\":\"0.001\"},{\"stepSize\":\"0.001\",\"filterType\":\"MARKET_LOT_SIZE\",\"maxQty\":\"3000\",\"minQty\":\"0.001\"},{\"limit\":200,\"filterType\":\"MAX_NUM_ORDERS\"},{\"limit\":10,\"filterType\":\"MAX_NUM_ALGO_ORDERS\"},{\"notional\":\"5\",\"filterType\":\"MIN_NOTIONAL\"},{\"multiplierDown\":\"0.9000\",\"multiplierUp\":\"1.1000\",\"multiplierDecimal\":\"4\",\"filterType\":\"PERCENT_PRICE\"}],\"orderTypes\":[\"LIMIT\",\"MARKET\",\"STOP\",\"STOP_MARKET\",\"TAKE_PROFIT\",\"TAKE_PROFIT_MARKET\",\"TRAILING_STOP_MARKET\"],\"timeInForce\":[\"GTC\",\"IOC\",\"FOK\",\"GTX\"]},{\"symbol\":\"ZECUSDT\",\"pair\":\"ZECUSDT\",\"contractType\":\"PERPETUAL\",\"deliveryDate\":4133404800000,\"onboardDate\":1569398400000,\"status\":\"TRADING\",\"maintMarginPercent\":\"2.5000\",\"requiredMarginPercent\":\"5.0000\",\"baseAsset\":\"ZEC\",\"quoteAsset\":\"USDT\",\"marginAsset\":\"USDT\",\"pricePrecision\":2,\"quantityPrecision\":3,\"baseAssetPrecision\":8,\"quotePrecision\":8,\"underlyingType\":\"COIN\",\"underlyingSubType\":[\"Privacy\"],\"settlePlan\":0,\"triggerProtect\":\"0.1000\",\"liquidationFee\":\"0.012500\",\"marketTakeBound\":\"0.10\",\"filters\":[{\"minPrice\":\"2.85\",\"maxPrice\":\"100000\",\"filterType\":\"PRICE_FILTER\",\"tickSize\":\"0.01\"},{\"stepSize\":\"0.001\",\"filterType\":\"LOT_SIZE\",\"maxQty\":\"10000\",\"minQty\":\"0.001\"},{\"stepSize\":\"0.001\",\"filterType\":\"MARKET_LOT_SIZE\",\"maxQty\":\"5000\",\"minQty\":\"0.001\"},{\"limit\":200,\"filterType\":\"MAX_NUM_ORDERS\"},{\"limit\":10,\"filterType\":\"MAX_NUM_ALGO_ORDERS\"},{\"notional\":\"5\",\"filterType\":\"MIN_NOTIONAL\"},{\"multiplierDown\":\"0.9000\",\"multiplierUp\":\"1.1000\",\"multiplierDecimal\":\"4\",\"filterType\":\"PERCENT_PRICE\"}],\"orderTypes\":[\"LIMIT\",\"MARKET\",\"STOP\",\"STOP_MARKET\",\"TAKE_PROFIT\",\"TAKE_PROFIT_MARKET\",\"TRAILING_STOP_MARKET\"],\"timeInForce\":[\"GTC\",\"IOC\",\"FOK\",\"GTX\"]},{\"symbol\":\"XTZUSDT\",\"pair\":\"XTZUSDT\",\"contractType\":\"PERPETUAL\",\"deliveryDate\":4133404800000,\"onboardDate\":1569398400000,\"status\":\"TRADING\",\"maintMarginPercent\":\"2.5000\",\"requiredMarginPercent\":\"5.0000\",\"baseAsset\":\"XTZ\",\"quoteAsset\":\"USDT\",\"marginAsset\":\"USDT\",\"pricePrecision\":3,\"quantityPrecision\":1,\"baseAssetPrecision\":8,\"quotePrecision\":8,\"underlyingType\":\"COIN\",\"underlyingSubType\":[\"Layer-1\"],\"settlePlan\":0,\"triggerProtect\":\"0.1000\",\"liquidationFee\":\"0.010000\",\"marketTakeBound\":\"0.10\",\"filters\":[{\"minPrice\":\"0.064\",\"maxPrice\":\"100000\",\"filterType\":\"PRICE_FILTER\",\"tickSize\":\"0.001\"},{\"stepSize\":\"0.1\",\"filterType\":\"LOT_SIZE\",\"maxQty\":\"1000000\",\"minQty\":\"0.1\"},{\"stepSize\":\"0.1\",\"filterType\":\"MARKET_LOT_SIZE\",\"maxQty\":\"100000\",\"minQty\":\"0.1\"},{\"limit\":200,\"filterType\":\"MAX_NUM_ORDERS\"},{\"limit\":10,\"filterType\":\"MAX_NUM_ALGO_ORDERS\"},{\"notional\":\"5\",\"filterType\":\"MIN_NOTIONAL\"},{\"multiplierDown\":\"0.9000\",\"multiplierUp\":\"1.1000\",\"multiplierDecimal\":\"4\",\"filterType\":\"PERCENT_PRICE\"}],\"orderTypes\":[\"LIMIT\",\"MARKET\",\"STOP\",\"STOP_MARKET\",\"TAKE_PROFIT\",\"TAKE_PROFIT_MARKET\",\"TRAILING_STOP_MARKET\"],\"timeInForce\":[\"GTC\",\"IOC\",\"FOK\",\"GTX\"]},{\"symbol\":\"BNBUSDT\",\"pair\":\"BNBUSDT\",\"contractType\":\"PERPETUAL\",\"deliveryDate\":4133404800000,\"onboardDate\":1569398400000,\"status\":\"TRADING\",\"maintMarginPercent\":\"2.5000\",\"requiredMarginPercent\":\"5.0000\",\"baseAsset\":\"BNB\",\"quoteAsset\":\"USDT\",\"marginAsset\":\"USDT\",\"pricePrecision\":3,\"quantityPrecision\":2,\"baseAssetPrecision\":8,\"quotePrecision\":8,\"underlyingType\":\"COIN\",\"underlyingSubType\":[\"CEX\"],\"settlePlan\":0,\"triggerProtect\":\"0.0500\",\"liquidationFee\":\"0.012500\",\"marketTakeBound\":\"0.05\",\"filters\":[{\"minPrice\":\"6.600\",\"maxPrice\":\"100000\",\"filterType\":\"PRICE_FILTER\",\"tickSize\":\"0.010\"},{\"stepSize\":\"0.01\",\"filterType\":\"LOT_SIZE\",\"maxQty\":\"100000\",\"minQty\":\"0.01\"},{\"stepSize\":\"0.01\",\"filterType\":\"MARKET_LOT_SIZE\",\"maxQty\":\"2000\",\"minQty\":\"0.01\"},{\"limit\":200,\"filterType\":\"MAX_NUM_ORDERS\"},{\"limit\":10,\"filterType\":\"MAX_NUM_ALGO_ORDERS\"},{\"notional\":\"5\",\"filterType\":\"MIN_NOTIONAL\"},{\"multiplierDown\":\"0.9500\",\"multiplierUp\":\"1.0500\",\"multiplierDecimal\":\"4\",\"filterType\":\"PERCENT_PRICE\"}],\"orderTypes\":[\"LIMIT\",\"MARKET\",\"STOP\",\"STOP_MARKET\",\"TAKE_PROFIT\",\"TAKE_PROFIT_MARKET\",\"TRAILING_STOP_MARKET\"],\"timeInForce\":[\"GTC\",\"IOC\",\"FOK\",\"GTX\"]},{\"symbol\":\"ATOMUSDT\",\"pair\":\"ATOMUSDT\",\"contractType\":\"PERPETUAL\",\"deliveryDate\":4133404800000,\"onboardDate\":1569398400000,\"status\":\"TRADING\",\"maintMarginPercent\":\"2.5000\",\"requiredMarginPercent\":\"5.0000\",\"baseAsset\":\"ATOM\",\"quoteAsset\":\"USDT\",\"marginAsset\":\"USDT\",\"pricePrecision\":3,\"quantityPrecision\":2,\"baseAssetPrecision\":8,\"quotePrecision\":8,\"underlyingType\":\"COIN\",\"underlyingSubType\":[\"Layer-1\"],\"settlePlan\":0,\"triggerProtect\":\"0.1000\",\"liquidationFee\":\"0.015000\",\"marketTakeBound\":\"0.10\",\"filters\":[{\"minPrice\":\"0.251\",\"maxPrice\":\"100000\",\"filterType\":\"PRICE_FILTER\",\"tickSize\":\"0.001\"},{\"stepSize\":\"0.01\",\"filterType\":\"LOT_SIZE\",\"maxQty\":\"100000\",\"minQty\":\"0.01\"},{\"stepSize\":\"0.01\",\"filterType\":\"MARKET_LOT_SIZE\",\"maxQty\":\"20000\",\"minQty\":\"0.01\"},{\"limit\":200,\"filterType\":\"MAX_NUM_ORDERS\"},{\"limit\":10,\"filterType\":\"MAX_NUM_ALGO_ORDERS\"},{\"notional\":\"5\",\"filterType\":\"MIN_NOTIONAL\"},{\"multiplierDown\":\"0.9000\",\"multiplierUp\":\"1.1000\",\"multiplierDecimal\":\"4\",\"filterType\":\"PERCENT_PRICE\"}],\"orderTypes\":[\"LIMIT\",\"MARKET\",\"STOP\",\"STOP_MARKET\",\"TAKE_PROFIT\",\"TAKE_PROFIT_MARKET\",\"TRAILING_STOP_MARKET\"],\"timeInForce\":[\"GTC\",\"IOC\",\"FOK\",\"GTX\"]},{\"symbol\":\"ONTUSDT\",\"pair\":\"ONTUSDT\",\"contractType\":\"PERPETUAL\",\"deliveryDate\":4133404800000,\"onboardDate\":1569398400000,\"status\":\"TRADING\",\"maintMarginPercent\":\"2.5000\",\"requiredMarginPercent\":\"5.0000\",\"baseAsset\":\"ONT\",\"quoteAsset\":\"USDT\",\"marginAsset\":\"USDT\",\"pricePrecision\":4,\"quantityPrecision\":1,\"baseAssetPrecision\":8,\"quotePrecision\":8,\"underlyingType\":\"COIN\",\"underlyingSubType\":[\"Storage\"],\"settlePlan\":0,\"triggerProtect\":\"0.1000\",\"liquidationFee\":\"0.010000\",\"marketTakeBound\":\"0.10\",\"filters\":[{\"minPrice\":\"0.0241\",\"maxPrice\":\"100000\",\"filterType\":\"PRICE_FILTER\",\"tickSize\":\"0.0001\"},{\"stepSize\":\"0.1\",\"filterType\":\"LOT_SIZE\",\"maxQty\":\"1000000\",\"minQty\":\"0.1\"},{\"stepSize\":\"0.1\",\"filterType\":\"MARKET_LOT_SIZE\",\"maxQty\":\"250000\",\"minQty\":\"0.1\"},{\"limit\":200,\"filterType\":\"MAX_NUM_ORDERS\"},{\"limit\":10,\"filterType\":\"MAX_NUM_ALGO_ORDERS\"},{\"notional\":\"5\",\"filterType\":\"MIN_NOTIONAL\"},{\"multiplierDown\":\"0.9000\",\"multiplierUp\":\"1.1000\",\"multiplierDecimal\":\"4\",\"filterType\":\"PERCENT_PRICE\"}],\"orderTypes\":[\"LIMIT\",\"MARKET\",\"STOP\",\"STOP_MARKET\",\"TAKE_PROFIT\",\"TAKE_PROFIT_MARKET\",\"TRAILING_STOP_MARKET\"],\"timeInForce\":[\"GTC\",\"IOC\",\"FOK\",\"GTX\"]},{\"symbol\":\"IOTAUSDT\",\"pair\":\"IOTAUSDT\",\"contractType\":\"PERPETUAL\",\"deliveryDate\":4133404800000,\"onboardDate\":1569398400000,\"status\":\"TRADING\",\"maintMarginPercent\":\"2.5000\",\"requiredMarginPercent\":\"5.0000\",\"baseAsset\":\"IOTA\",\"quoteAsset\":\"USDT\",\"marginAsset\":\"USDT\",\"pricePrecision\":4,\"quantityPrecision\":1,\"baseAssetPrecision\":8,\"quotePrecision\":8,\"underlyingType\":\"COIN\",\"underlyingSubType\":[\"Layer-1\"],\"settlePlan\":0,\"triggerProtect\":\"0.1000\",\"liquidationFee\":\"0.010000\",\"marketTakeBound\":\"0.10\",\"filters\":[{\"minPrice\":\"0.0205\",\"maxPrice\":\"100000\",\"filterType\":\"PRICE_FILTER\",\"tickSize\":\"0.0001\"},{\"stepSize\":\"0.1\",\"filterType\":\"LOT_SIZE\",\"maxQty\":\"1000000\",\"minQty\":\"0.1\"},{\"stepSize\":\"0.1\",\"filterType\":\"MARKET_LOT_SIZE\",\"maxQty\":\"50000\",\"minQty\":\"0.1\"},{\"limit\":200,\"filterType\":\"MAX_NUM_ORDERS\"},{\"limit\":10,\"filterType\":\"MAX_NUM_ALGO_ORDERS\"},{\"notional\":\"5\",\"filterType\":\"MIN_NOTIONAL\"},{\"multiplierDown\":\"0.9000\",\"multiplierUp\":\"1.1000\",\"multiplierDecimal\":\"4\",\"filterType\":\"PERCENT_PRICE\"}],\"orderTypes\":[\"LIMIT\",\"MARKET\",\"STOP\",\"STOP_MARKET\",\"TAKE_PROFIT\",\"TAKE_PROFIT_MARKET\",\"TRAILING_STOP_MARKET\"],\"timeInForce\":[\"GTC\",\"IOC\",\"FOK\",\"GTX\"]},{\"symbol\":\"BATUSDT\",\"pair\":\"BATUSDT\",\"contractType\":\"PERPETUAL\",\"deliveryDate\":4133404800000,\"onboardDate\":1569398400000,\"status\":\"TRADING\",\"maintMarginPercent\":\"2.5000\",\"requiredMarginPercent\":\"5.0000\",\"baseAsset\":\"BAT\",\"quoteAsset\":\"USDT\",\"marginAsset\":\"USDT\",\"pricePrecision\":4,\"quantityPrecision\":1,\"baseAssetPrecision\":8,\"quotePrecision\":8,\"underlyingType\":\"COIN\",\"underlyingSubType\":[\"DeFi\"],\"settlePlan\":0,\"triggerProtect\":\"0.1000\",\"liquidationFee\":\"0.010000\",\"marketTakeBound\":\"0.10\",\"filters\":[{\"minPrice\":\"0.0134\",\"maxPrice\":\"100000\",\"filterType\":\"PRICE_FILTER\",\"tickSize\":\"0.0001\"},{\"stepSize\":\"0.1\",\"filterType\":\"LOT_SIZE\",\"maxQty\":\"1000000\",\"minQty\":\"0.1\"},{\"stepSize\":\"0.1\",\"filterType\":\"MARKET_LOT_SIZE\",\"maxQty\":\"600000\",\"minQty\":\"0.1\"},{\"limit\":200,\"filterType\":\"MAX_NUM_ORDERS\"},{\"limit\":10,\"filterType\":\"MAX_NUM_ALGO_ORDERS\"},{\"notional\":\"5\",\"filterType\":\"MIN_NOTIONAL\"},{\"multiplierDown\":\"0.9000\",\"multiplierUp\":\"1.1000\",\"multiplierDecimal\":\"4\",\"filterType\":\"PERCENT_PRICE\"}],\"orderTypes\":[\"LIMIT\",\"MARKET\",\"STOP\",\"STOP_MARKET\",\"TAKE_PROFIT\",\"TAKE_PROFIT_MARKET\",\"TRAILING_STOP_MARKET\"],\"timeInForce\":[\"GTC\",\"IOC\",\"FOK\",\"GTX\"]},{\"symbol\":\"VETUSDT\",\"pair\":\"VETUSDT\",\"contractType\":\"PERPETUAL\",\"deliveryDate\":4133404800000,\"onboardDate\":1569398400000,\"status\":\"TRADING\",\"maintMarginPercent\":\"2.5000\",\"requiredMarginPercent\":\"5.0000\",\"baseAsset\":\"VET\",\"quoteAsset\":\"USDT\",\"marginAsset\":\"USDT\",\"pricePrecision\":6,\"quantityPrecision\":0,\"baseAssetPrecision\":8,\"quotePrecision\":8,\"underlyingType\":\"COIN\",\"underlyingSubType\":[\"Layer-1\"],\"settlePlan\":0,\"triggerProtect\":\"0.0500\",\"liquidationFee\":\"0.010000\",\"marketTakeBound\":\"0.05\",\"filters\":[{\"minPrice\":\"0.002080\",\"maxPrice\":\"2000\",\"filterType\":\"PRICE_FILTER\",\"tickSize\":\"0.000010\"},{\"stepSize\":\"1\",\"filterType\":\"LOT_SIZE\",\"maxQty\":\"10000000\",\"minQty\":\"1\"},{\"stepSize\":\"1\",\"filterType\":\"MARKET_LOT_SIZE\",\"maxQty\":\"2500000\",\"minQty\":\"1\"},{\"limit\":200,\"filterType\":\"MAX_NUM_ORDERS\"},{\"limit\":10,\"filterType\":\"MAX_NUM_ALGO_ORDERS\"},{\"notional\":\"5\",\"filterType\":\"MIN_NOTIONAL\"},{\"multiplierDown\":\"0.9500\",\"multiplierUp\":\"1.0500\",\"multiplierDecimal\":\"4\",\"filterType\":\"PERCENT_PRICE\"}],\"orderTypes\":[\"LIMIT\",\"MARKET\",\"STOP\",\"STOP_MARKET\",\"TAKE_PROFIT\",\"TAKE_PROFIT_MARKET\",\"TRAILING_STOP_MARKET\"],\"timeInForce\":[\"GTC\",\"IOC\",\"FOK\",\"GTX\"]},{\"symbol\":\"NEOUSDT\",\"pair\":\"NEOUSDT\",\"contractType\":\"PERPETUAL\",\"deliveryDate\":4133404800000,\"onboardDate\":1569398400000,\"status\":\"TRADING\",\"maintMarginPercent\":\"2.5000\",\"requiredMarginPercent\":\"5.0000\",\"baseAsset\":\"NEO\",\"quoteAsset\":\"USDT\",\"marginAsset\":\"USDT\",\"pricePrecision\":3,\"quantityPrecision\":2,\"baseAssetPrecision\":8,\"quotePrecision\":8,\"underlyingType\":\"COIN\",\"underlyingSubType\":[\"Layer-1\"],\"settlePlan\":0,\"triggerProtect\":\"0.0500\",\"liquidationFee\":\"0.010000\",\"marketTakeBound\":\"0.05\",\"filters\":[{\"minPrice\":\"1.093\",\"maxPrice\":\"100000\",\"filterType\":\"PRICE_FILTER\",\"tickSize\":\"0.001\"},{\"stepSize\":\"0.01\",\"filterType\":\"LOT_SIZE\",\"maxQty\":\"100000\",\"minQty\":\"0.01\"},{\"stepSize\":\"0.01\",\"filterType\":\"MARKET_LOT_SIZE\",\"maxQty\":\"10000\",\"minQty\":\"0.01\"},{\"limit\":200,\"filterType\":\"MAX_NUM_ORDERS\"},{\"limit\":10,\"filterType\":\"MAX_NUM_ALGO_ORDERS\"},{\"notional\":\"5\",\"filterType\":\"MIN_NOTIONAL\"},{\"multiplierDown\":\"0.9500\",\"multiplierUp\":\"1.0500\",\"multiplierDecimal\":\"4\",\"filterType\":\"PERCENT_PRICE\"}],\"orderTypes\":[\"LIMIT\",\"MARKET\",\"STOP\",\"STOP_MARKET\",\"TAKE_PROFIT\",\"TAKE_PROFIT_MARKET\",\"TRAILING_STOP_MARKET\"],\"timeInForce\":[\"GTC\",\"IOC\",\"FOK\",\"GTX\"]},{\"symbol\":\"QTUMUSDT\",\"pair\":\"QTUMUSDT\",\"contractType\":\"PERPETUAL\",\"deliveryDate\":4133404800000,\"onboardDate\":1569398400000,\"status\":\"TRADING\",\"maintMarginPercent\":\"2.5000\",\"requiredMarginPercent\":\"5.0000\",\"baseAsset\":\"QTUM\",\"quoteAsset\":\"USDT\",\"marginAsset\":\"USDT\",\"pricePrecision\":3,\"quantityPrecision\":1,\"baseAssetPrecision\":8,\"quotePrecision\":8,\"underlyingType\":\"COIN\",\"underlyingSubType\":[\"Layer-1\"],\"settlePlan\":0,\"triggerProtect\":\"0.1000\",\"liquidationFee\":\"0.010000\",\"marketTakeBound\":\"0.10\",\"filters\":[{\"minPrice\":\"0.246\",\"maxPrice\":\"100000\",\"filterType\":\"PRICE_FILTER\",\"tickSize\":\"0.001\"},{\"stepSize\":\"0.1\",\"filterType\":\"LOT_SIZE\",\"maxQty\":\"500000\",\"minQty\":\"0.1\"},{\"stepSize\":\"0.1\",\"filterType\":\"MARKET_LOT_SIZE\",\"maxQty\":\"10000\",\"minQty\":\"0.1\"},{\"limit\":200,\"filterType\":\"MAX_NUM_ORDERS\"},{\"limit\":10,\"filterType\":\"MAX_NUM_ALGO_ORDERS\"},{\"notional\":\"5\",\"filterType\":\"MIN_NOTIONAL\"},{\"multiplierDown\":\"0.9000\",\"multiplierUp\":\"1.1000\",\"multiplierDecimal\":\"4\",\"filterType\":\"PERCENT_PRICE\"}],\"orderTypes\":[\"LIMIT\",\"MARKET\",\"STOP\",\"STOP_MARKET\",\"TAKE_PROFIT\",\"TAKE_PROFIT_MARKET\",\"TRAILING_STOP_MARKET\"],\"timeInForce\":[\"GTC\",\"IOC\",\"FOK\",\"GTX\"]},{\"symbol\":\"IOSTUSDT\",\"pair\":\"IOSTUSDT\",\"contractType\":\"PERPETUAL\",\"deliveryDate\":4133404800000,\"onboardDate\":1569398400000,\"status\":\"TRADING\",\"maintMarginPercent\":\"2.5000\",\"requiredMarginPercent\":\"5.0000\",\"baseAsset\":\"IOST\",\"quoteAsset\":\"USDT\",\"marginAsset\":\"USDT\",\"pricePrecision\":6,\"quantityPrecision\":0,\"baseAssetPrecision\":8,\"quotePrecision\":8,\"underlyingType\":\"COIN\",\"underlyingSubType\":[\"Layer-1\"],\"settlePlan\":0,\"triggerProtect\":\"0.1000\",\"liquidationFee\":\"0.010000\",\"marketTakeBound\":\"0.10\",\"filters\":[{\"minPrice\":\"0.000587\",\"maxPrice\":\"2000\",\"filterType\":\"PRICE_FILTER\",\"tickSize\":\"0.000001\"},{\"stepSize\":\"1\",\"filterType\":\"LOT_SIZE\",\"maxQty\":\"10000000\",\"minQty\":\"1\"},{\"stepSize\":\"1\",\"filterType\":\"MARKET_LOT_SIZE\",\"maxQty\":\"5000000\",\"minQty\":\"1\"},{\"limit\":200,\"filterType\":\"MAX_NUM_ORDERS\"},{\"limit\":10,\"filterType\":\"MAX_NUM_ALGO_ORDERS\"},{\"notional\":\"5\",\"filterType\":\"MIN_NOTIONAL\"},{\"multiplierDown\":\"0.9000\",\"multiplierUp\":\"1.1000\",\"multiplierDecimal\":\"4\",\"filterType\":\"PERCENT_PRICE\"}],\"orderTypes\":[\"LIMIT\",\"MARKET\",\"STOP\",\"STOP_MARKET\",\"TAKE_PROFIT\",\"TAKE_PROFIT_MARKET\",\"TRAILING_STOP_MARKET\"],\"timeInForce\":[\"GTC\",\"IOC\",\"FOK\",\"GTX\"]},{\"symbol\":\"THETAUSDT\",\"pair\":\"THETAUSDT\",\"contractType\":\"PERPETUAL\",\"deliveryDate\":4133404800000,\"onboardDate\":1569398400000,\"status\":\"TRADING\",\"maintMarginPercent\":\"2.5000\",\"requiredMarginPercent\":\"5.0000\",\"baseAsset\":\"THETA\",\"quoteAsset\":\"USDT\",\"marginAsset\":\"USDT\",\"pricePrecision\":4,\"quantityPrecision\":1,\"baseAssetPrecision\":8,\"quotePrecision\":8,\"underlyingType\":\"COIN\",\"underlyingSubType\":[\"NFT\"],\"settlePlan\":0,\"triggerProtect\":\"0.1000\",\"liquidationFee\":\"0.010000\",\"marketTakeBound\":\"0.10\",\"filters\":[{\"minPrice\":\"0.1070\",\"maxPrice\":\"1000\",\"filterType\":\"PRICE_FILTER\",\"tickSize\":\"0.0001\"},{\"stepSize\":\"0.1\",\"filterType\":\"LOT_SIZE\",\"maxQty\":\"1000000\",\"minQty\":\"0.1\"},{\"stepSize\":\"0.1\",\"filterType\":\"MARKET_LOT_SIZE\",\"maxQty\":\"100000\",\"minQty\":\"0.1\"},{\"limit\":200,\"filterType\":\"MAX_NUM_ORDERS\"},{\"limit\":10,\"filterType\":\"MAX_NUM_ALGO_ORDERS\"},{\"notional\":\"5\",\"filterType\":\"MIN_NOTIONAL\"},{\"multiplierDown\":\"0.9000\",\"multiplierUp\":\"1.1000\",\"multiplierDecimal\":\"4\",\"filterType\":\"PERCENT_PRICE\"}],\"orderTypes\":[\"LIMIT\",\"MARKET\",\"STOP\",\"STOP_MARKET\",\"TAKE_PROFIT\",\"TAKE_PROFIT_MARKET\",\"TRAILING_STOP_MARKET\"],\"timeInForce\":[\"GTC\",\"IOC\",\"FOK\",\"GTX\"]},{\"symbol\":\"ALGOUSDT\",\"pair\":\"ALGOUSDT\",\"contractType\":\"PERPETUAL\",\"deliveryDate\":4133404800000,\"onboardDate\":1569398400000,\"status\":\"TRADING\",\"maintMarginPercent\":\"2.5000\",\"requiredMarginPercent\":\"5.0000\",\"baseAsset\":\"ALGO\",\"quoteAsset\":\"USDT\",\"marginAsset\":\"USDT\",\"pricePrecision\":4,\"quantityPrecision\":1,\"baseAssetPrecision\":8,\"quotePrecision\":8,\"underlyingType\":\"COIN\",\"underlyingSubType\":[\"Layer-1\"],\"settlePlan\":0,\"triggerProtect\":\"0.0500\",\"liquidationFee\":\"0.010000\",\"marketTakeBound\":\"0.05\",\"filters\":[{\"minPrice\":\"0.0141\",\"maxPrice\":\"1000\",\"filterType\":\"PRICE_FILTER\",\"tickSize\":\"0.0001\"},{\"stepSize\":\"0.1\",\"filterType\":\"LOT_SIZE\",\"maxQty\":\"1000000\",\"minQty\":\"0.1\"},{\"stepSize\":\"0.1\",\"filterType\":\"MARKET_LOT_SIZE\",\"maxQty\":\"500000\",\"minQty\":\"0.1\"},{\"limit\":200,\"filterType\":\"MAX_NUM_ORDERS\"},{\"limit\":10,\"filterType\":\"MAX_NUM_ALGO_ORDERS\"},{\"notional\":\"5\",\"filterType\":\"MIN_NOTIONAL\"},{\"multiplierDown\":\"0.9500\",\"multiplierUp\":\"1.0500\",\"multiplierDecimal\":\"4\",\"filterType\":\"PERCENT_PRICE\"}],\"orderTypes\":[\"LIMIT\",\"MARKET\",\"STOP\",\"STOP_MARKET\",\"TAKE_PROFIT\",\"TAKE_PROFIT_MARKET\",\"TRAILING_STOP_MARKET\"],\"timeInForce\":[\"GTC\",\"IOC\",\"FOK\",\"GTX\"]},{\"symbol\":\"ZILUSDT\",\"pair\":\"ZILUSDT\",\"contractType\":\"PERPETUAL\",\"deliveryDate\":4133404800000,\"onboardDate\":1569398400000,\"status\":\"TRADING\",\"maintMarginPercent\":\"2.5000\",\"requiredMarginPercent\":\"5.0000\",\"baseAsset\":\"ZIL\",\"quoteAsset\":\"USDT\",\"marginAsset\":\"USDT\",\"pricePrecision\":5,\"quantityPrecision\":0,\"baseAssetPrecision\":8,\"quotePrecision\":8,\"underlyingType\":\"COIN\",\"underlyingSubType\":[\"Layer-1\"],\"settlePlan\":0,\"triggerProtect\":\"0.1000\",\"liquidationFee\":\"0.010000\",\"marketTakeBound\":\"0.10\",\"filters\":[{\"minPrice\":\"0.00219\",\"maxPrice\":\"100\",\"filterType\":\"PRICE_FILTER\",\"tickSize\":\"0.00001\"},{\"stepSize\":\"1\",\"filterType\":\"LOT_SIZE\",\"maxQty\":\"10000000\",\"minQty\":\"1\"},{\"stepSize\":\"1\",\"filterType\":\"MARKET_LOT_SIZE\",\"maxQty\":\"5000000\",\"minQty\":\"1\"},{\"limit\":200,\"filterType\":\"MAX_NUM_ORDERS\"},{\"limit\":10,\"filterType\":\"MAX_NUM_ALGO_ORDERS\"},{\"notional\":\"5\",\"filterType\":\"MIN_NOTIONAL\"},{\"multiplierDown\":\"0.9000\",\"multiplierUp\":\"1.1000\",\"multiplierDecimal\":\"4\",\"filterType\":\"PERCENT_PRICE\"}],\"orderTypes\":[\"LIMIT\",\"MARKET\",\"STOP\",\"STOP_MARKET\",\"TAKE_PROFIT\",\"TAKE_PROFIT_MARKET\",\"TRAILING_STOP_MARKET\"],\"timeInForce\":[\"GTC\",\"IOC\",\"FOK\",\"GTX\"]},{\"symbol\":\"KNCUSDT\",\"pair\":\"KNCUSDT\",\"contractType\":\"PERPETUAL\",\"deliveryDate\":4133404800000,\"onboardDate\":1569398400000,\"status\":\"TRADING\",\"maintMarginPercent\":\"2.5000\",\"requiredMarginPercent\":\"5.0000\",\"baseAsset\":\"KNC\",\"quoteAsset\":\"USDT\",\"marginAsset\":\"USDT\",\"pricePrecision\":5,\"quantityPrecision\":0,\"baseAssetPrecision\":8,\"quotePrecision\":8,\"underlyingType\":\"COIN\",\"underlyingSubType\":[\"DeFi\"],\"settlePlan\":0,\"triggerProtect\":\"0.1000\",\"liquidationFee\":\"0.015000\",\"marketTakeBound\":\"0.10\",\"filters\":[{\"minPrice\":\"0.03200\",\"maxPrice\":\"181\",\"filterType\":\"PRICE_FILTER\",\"tickSize\":\"0.00010\"},{\"stepSize\":\"1\",\"filterType\":\"LOT_SIZE\",\"maxQty\":\"5000000\",\"minQty\":\"1\"},{\"stepSize\":\"1\",\"filterType\":\"MARKET_LOT_SIZE\",\"maxQty\":\"500000\",\"minQty\":\"1\"},{\"limit\":200,\"filterType\":\"MAX_NUM_ORDERS\"},{\"limit\":10,\"filterType\":\"MAX_NUM_ALGO_ORDERS\"},{\"notional\":\"5\",\"filterType\":\"MIN_NOTIONAL\"},{\"multiplierDown\":\"0.9000\",\"multiplierUp\":\"1.1000\",\"multiplierDecimal\":\"4\",\"filterType\":\"PERCENT_PRICE\"}],\"orderTypes\":[\"LIMIT\",\"MARKET\",\"STOP\",\"STOP_MARKET\",\"TAKE_PROFIT\",\"TAKE_PROFIT_MARKET\",\"TRAILING_STOP_MARKET\"],\"timeInForce\":[\"GTC\",\"IOC\",\"FOK\",\"GTX\"]},{\"symbol\":\"ZRXUSDT\",\"pair\":\"ZRXUSDT\",\"contractType\":\"PERPETUAL\",\"deliveryDate\":4133404800000,\"onboardDate\":1569398400000,\"status\":\"TRADING\",\"maintMarginPercent\":\"2.5000\",\"requiredMarginPercent\":\"5.0000\",\"baseAsset\":\"ZRX\",\"quoteAsset\":\"USDT\",\"marginAsset\":\"USDT\",\"pricePrecision\":4,\"quantityPrecision\":1,\"baseAssetPrecision\":8,\"quotePrecision\":8,\"underlyingType\":\"COIN\",\"underlyingSubType\":[\"DEX\"],\"settlePlan\":0,\"triggerProtect\":\"0.1000\",\"liquidationFee\":\"0.010000\",\"marketTakeBound\":\"0.10\",\"filters\":[{\"minPrice\":\"0.0179\",\"maxPrice\":\"1000\",\"filterType\":\"PRICE_FILTER\",\"tickSize\":\"0.0001\"},{\"stepSize\":\"0.1\",\"filterType\":\"LOT_SIZE\",\"maxQty\":\"1000000\",\"minQty\":\"0.1\"},{\"stepSize\":\"0.1\",\"filterType\":\"MARKET_LOT_SIZE\",\"maxQty\":\"500000\",\"minQty\":\"0.1\"},{\"limit\":200,\"filterType\":\"MAX_NUM_ORDERS\"},{\"limit\":10,\"filterType\":\"MAX_NUM_ALGO_ORDERS\"},{\"notional\":\"5\",\"filterType\":\"MIN_NOTIONAL\"},{\"multiplierDown\":\"0.9000\",\"multiplierUp\":\"1.1000\",\"multiplierDecimal\":\"4\",\"filterType\":\"PERCENT_PRICE\"}],\"orderTypes\":[\"LIMIT\",\"MARKET\",\"STOP\",\"STOP_MARKET\",\"TAKE_PROFIT\",\"TAKE_PROFIT_MARKET\",\"TRAILING_STOP_MARKET\"],\"timeInForce\":[\"GTC\",\"IOC\",\"FOK\",\"GTX\"]},{\"symbol\":\"COMPUSDT\",\"pair\":\"COMPUSDT\",\"contractType\":\"PERPETUAL\",\"deliveryDate\":4133404800000,\"onboardDate\":1569398400000,\"status\":\"TRADING\",\"maintMarginPercent\":\"2.5000\",\"requiredMarginPercent\":\"5.0000\",\"baseAsset\":\"COMP\",\"quoteAsset\":\"USDT\",\"marginAsset\":\"USDT\",\"pricePrecision\":2,\"quantityPrecision\":3,\"baseAssetPrecision\":8,\"quotePrecision\":8,\"underlyingType\":\"COIN\",\"underlyingSubType\":[\"DeFi\"],\"settlePlan\":0,\"triggerProtect\":\"0.1000\",\"liquidationFee\":\"0.012500\",\"marketTakeBound\":\"0.10\",\"filters\":[{\"minPrice\":\"8\",\"maxPrice\":\"100000\",\"filterType\":\"PRICE_FILTER\",\"tickSize\":\"0.01\"},{\"stepSize\":\"0.001\",\"filterType\":\"LOT_SIZE\",\"maxQty\":\"10000\",\"minQty\":\"0.001\"},{\"stepSize\":\"0.001\",\"filterType\":\"MARKET_LOT_SIZE\",\"maxQty\":\"1000\",\"minQty\":\"0.001\"},{\"limit\":200,\"filterType\":\"MAX_NUM_ORDERS\"},{\"limit\":10,\"filterType\":\"MAX_NUM_ALGO_ORDERS\"},{\"notional\":\"5\",\"filterType\":\"MIN_NOTIONAL\"},{\"multiplierDown\":\"0.9000\",\"multiplierUp\":\"1.1000\",\"multiplierDecimal\":\"4\",\"filterType\":\"PERCENT_PRICE\"}],\"orderTypes\":[\"LIMIT\",\"MARKET\",\"STOP\",\"STOP_MARKET\",\"TAKE_PROFIT\",\"TAKE_PROFIT_MARKET\",\"TRAILING_STOP_MARKET\"],\"timeInForce\":[\"GTC\",\"IOC\",\"FOK\",\"GTX\"]},{\"symbol\":\"OMGUSDT\",\"pair\":\"OMGUSDT\",\"contractType\":\"PERPETUAL\",\"deliveryDate\":4133404800000,\"onboardDate\":1569398400000,\"status\":\"TRADING\",\"maintMarginPercent\":\"2.5000\",\"requiredMarginPercent\":\"5.0000\",\"baseAsset\":\"OMG\",\"quoteAsset\":\"USDT\",\"marginAsset\":\"USDT\",\"pricePrecision\":4,\"quantityPrecision\":1,\"baseAssetPrecision\":8,\"quotePrecision\":8,\"underlyingType\":\"COIN\",\"underlyingSubType\":[\"Layer-2\"],\"settlePlan\":0,\"triggerProtect\":\"0.1000\",\"liquidationFee\":\"0.010000\",\"marketTakeBound\":\"0.10\",\"filters\":[{\"minPrice\":\"0.1060\",\"maxPrice\":\"1000\",\"filterType\":\"PRICE_FILTER\",\"tickSize\":\"0.0010\"},{\"stepSize\":\"0.1\",\"filterType\":\"LOT_SIZE\",\"maxQty\":\"1000000\",\"minQty\":\"0.1\"},{\"stepSize\":\"0.1\",\"filterType\":\"MARKET_LOT_SIZE\",\"maxQty\":\"10000\",\"minQty\":\"0.1\"},{\"limit\":200,\"filterType\":\"MAX_NUM_ORDERS\"},{\"limit\":10,\"filterType\":\"MAX_NUM_ALGO_ORDERS\"},{\"notional\":\"5\",\"filterType\":\"MIN_NOTIONAL\"},{\"multiplierDown\":\"0.9000\",\"multiplierUp\":\"1.1000\",\"multiplierDecimal\":\"4\",\"filterType\":\"PERCENT_PRICE\"}],\"orderTypes\":[\"LIMIT\",\"MARKET\",\"STOP\",\"STOP_MARKET\",\"TAKE_PROFIT\",\"TAKE_PROFIT_MARKET\",\"TRAILING_STOP_MARKET\"],\"timeInForce\":[\"GTC\",\"IOC\",\"FOK\",\"GTX\"]},{\"symbol\":\"DOGEUSDT\",\"pair\":\"DOGEUSDT\",\"contractType\":\"PERPETUAL\",\"deliveryDate\":4133404800000,\"onboardDate\":1569398400000,\"status\":\"TRADING\",\"maintMarginPercent\":\"2.5000\",\"requiredMarginPercent\":\"5.0000\",\"baseAsset\":\"DOGE\",\"quoteAsset\":\"USDT\",\"marginAsset\":\"USDT\",\"pricePrecision\":6,\"quantityPrecision\":0,\"baseAssetPrecision\":8,\"quotePrecision\":8,\"underlyingType\":\"COIN\",\"underlyingSubType\":[\"Meme\"],\"settlePlan\":0,\"triggerProtect\":\"0.1000\",\"liquidationFee\":\"0.010000\",\"marketTakeBound\":\"0.10\",\"filters\":[{\"minPrice\":\"0.002440\",\"maxPrice\":\"30\",\"filterType\":\"PRICE_FILTER\",\"tickSize\":\"0.000010\"},{\"stepSize\":\"1\",\"filterType\":\"LOT_SIZE\",\"maxQty\":\"50000000\",\"minQty\":\"1\"},{\"stepSize\":\"1\",\"filterType\":\"MARKET_LOT_SIZE\",\"maxQty\":\"30000000\",\"minQty\":\"1\"},{\"limit\":200,\"filterType\":\"MAX_NUM_ORDERS\"},{\"limit\":10,\"filterType\":\"MAX_NUM_ALGO_ORDERS\"},{\"notional\":\"5\",\"filterType\":\"MIN_NOTIONAL\"},{\"multiplierDown\":\"0.9000\",\"multiplierUp\":\"1.1000\",\"multiplierDecimal\":\"4\",\"filterType\":\"PERCENT_PRICE\"}],\"orderTypes\":[\"LIMIT\",\"MARKET\",\"STOP\",\"STOP_MARKET\",\"TAKE_PROFIT\",\"TAKE_PROFIT_MARKET\",\"TRAILING_STOP_MARKET\"],\"timeInForce\":[\"GTC\",\"IOC\",\"FOK\",\"GTX\"]},{\"symbol\":\"SXPUSDT\",\"pair\":\"SXPUSDT\",\"contractType\":\"PERPETUAL\",\"deliveryDate\":4133404800000,\"onboardDate\":1569398400000,\"status\":\"TRADING\",\"maintMarginPercent\":\"2.5000\",\"requiredMarginPercent\":\"5.0000\",\"baseAsset\":\"SXP\",\"quoteAsset\":\"USDT\",\"marginAsset\":\"USDT\",\"pricePrecision\":4,\"quantityPrecision\":1,\"baseAssetPrecision\":8,\"quotePrecision\":8,\"underlyingType\":\"COIN\",\"underlyingSubType\":[\"Payment\"],\"settlePlan\":0,\"triggerProtect\":\"0.1000\",\"liquidationFee\":\"0.010000\",\"marketTakeBound\":\"0.10\",\"filters\":[{\"minPrice\":\"0.0454\",\"maxPrice\":\"1000\",\"filterType\":\"PRICE_FILTER\",\"tickSize\":\"0.0001\"},{\"stepSize\":\"0.1\",\"filterType\":\"LOT_SIZE\",\"maxQty\":\"1000000\",\"minQty\":\"0.1\"},{\"stepSize\":\"0.1\",\"filterType\":\"MARKET_LOT_SIZE\",\"maxQty\":\"40000\",\"minQty\":\"0.1\"},{\"limit\":200,\"filterType\":\"MAX_NUM_ORDERS\"},{\"limit\":10,\"filterType\":\"MAX_NUM_ALGO_ORDERS\"},{\"notional\":\"5\",\"filterType\":\"MIN_NOTIONAL\"},{\"multiplierDown\":\"0.9000\",\"multiplierUp\":\"1.1000\",\"multiplierDecimal\":\"4\",\"filterType\":\"PERCENT_PRICE\"}],\"orderTypes\":[\"LIMIT\",\"MARKET\",\"STOP\",\"STOP_MARKET\",\"TAKE_PROFIT\",\"TAKE_PROFIT_MARKET\",\"TRAILING_STOP_MARKET\"],\"timeInForce\":[\"GTC\",\"IOC\",\"FOK\",\"GTX\"]},{\"symbol\":\"KAVAUSDT\",\"pair\":\"KAVAUSDT\",\"contractType\":\"PERPETUAL\",\"deliveryDate\":4133404800000,\"onboardDate\":1569398400000,\"status\":\"TRADING\",\"maintMarginPercent\":\"2.5000\",\"requiredMarginPercent\":\"5.0000\",\"baseAsset\":\"KAVA\",\"quoteAsset\":\"USDT\",\"marginAsset\":\"USDT\",\"pricePrecision\":4,\"quantityPrecision\":1,\"baseAssetPrecision\":8,\"quotePrecision\":8,\"underlyingType\":\"COIN\",\"underlyingSubType\":[\"Layer-1\"],\"settlePlan\":0,\"triggerProtect\":\"0.1000\",\"liquidationFee\":\"0.010000\",\"marketTakeBound\":\"0.10\",\"filters\":[{\"minPrice\":\"0.0593\",\"maxPrice\":\"653\",\"filterType\":\"PRICE_FILTER\",\"tickSize\":\"0.0001\"},{\"stepSize\":\"0.1\",\"filterType\":\"LOT_SIZE\",\"maxQty\":\"1000000\",\"minQty\":\"0.1\"},{\"stepSize\":\"0.1\",\"filterType\":\"MARKET_LOT_SIZE\",\"maxQty\":\"100000\",\"minQty\":\"0.1\"},{\"limit\":200,\"filterType\":\"MAX_NUM_ORDERS\"},{\"limit\":10,\"filterType\":\"MAX_NUM_ALGO_ORDERS\"},{\"notional\":\"5\",\"filterType\":\"MIN_NOTIONAL\"},{\"multiplierDown\":\"0.9000\",\"multiplierUp\":\"1.1000\",\"multiplierDecimal\":\"4\",\"filterType\":\"PERCENT_PRICE\"}],\"orderTypes\":[\"LIMIT\",\"MARKET\",\"STOP\",\"STOP_MARKET\",\"TAKE_PROFIT\",\"TAKE_PROFIT_MARKET\",\"TRAILING_STOP_MARKET\"],\"timeInForce\":[\"GTC\",\"IOC\",\"FOK\",\"GTX\"]},{\"symbol\":\"BANDUSDT\",\"pair\":\"BANDUSDT\",\"contractType\":\"PERPETUAL\",\"deliveryDate\":4133404800000,\"onboardDate\":1569398400000,\"status\":\"TRADING\",\"maintMarginPercent\":\"2.5000\",\"requiredMarginPercent\":\"5.0000\",\"baseAsset\":\"BAND\",\"quoteAsset\":\"USDT\",\"marginAsset\":\"USDT\",\"pricePrecision\":4,\"quantityPrecision\":1,\"baseAssetPrecision\":8,\"quotePrecision\":8,\"underlyingType\":\"COIN\",\"underlyingSubType\":[\"Oracle\"],\"settlePlan\":0,\"triggerProtect\":\"0.1000\",\"liquidationFee\":\"0.020000\",\"marketTakeBound\":\"0.10\",\"filters\":[{\"minPrice\":\"0.1647\",\"maxPrice\":\"783\",\"filterType\":\"PRICE_FILTER\",\"tickSize\":\"0.0001\"},{\"stepSize\":\"0.1\",\"filterType\":\"LOT_SIZE\",\"maxQty\":\"2000000\",\"minQty\":\"0.1\"},{\"stepSize\":\"0.1\",\"filterType\":\"MARKET_LOT_SIZE\",\"maxQty\":\"200000\",\"minQty\":\"0.1\"},{\"limit\":200,\"filterType\":\"MAX_NUM_ORDERS\"},{\"limit\":10,\"filterType\":\"MAX_NUM_ALGO_ORDERS\"},{\"notional\":\"5\",\"filterType\":\"MIN_NOTIONAL\"},{\"multiplierDown\":\"0.9000\",\"multiplierUp\":\"1.1000\",\"multiplierDecimal\":\"4\",\"filterType\":\"PERCENT_PRICE\"}],\"orderTypes\":[\"LIMIT\",\"MARKET\",\"STOP\",\"STOP_MARKET\",\"TAKE_PROFIT\",\"TAKE_PROFIT_MARKET\",\"TRAILING_STOP_MARKET\"],\"timeInForce\":[\"GTC\",\"IOC\",\"FOK\",\"GTX\"]},{\"symbol\":\"RLCUSDT\",\"pair\":\"RLCUSDT\",\"contractType\":\"PERPETUAL\",\"deliveryDate\":4133404800000,\"onboardDate\":1569398400000,\"status\":\"TRADING\",\"maintMarginPercent\":\"2.5000\",\"requiredMarginPercent\":\"5.0000\",\"baseAsset\":\"RLC\",\"quoteAsset\":\"USDT\",\"marginAsset\":\"USDT\",\"pricePrecision\":4,\"quantityPrecision\":1,\"baseAssetPrecision\":8,\"quotePrecision\":8,\"underlyingType\":\"COIN\",\"underlyingSubType\":[\"Oracle\"],\"settlePlan\":0,\"triggerProtect\":\"0.1000\",\"liquidationFee\":\"0.020000\",\"marketTakeBound\":\"0.10\",\"filters\":[{\"minPrice\":\"0.1029\",\"maxPrice\":\"432\",\"filterType\":\"PRICE_FILTER\",\"tickSize\":\"0.0001\"},{\"stepSize\":\"0.1\",\"filterType\":\"LOT_SIZE\",\"maxQty\":\"1000000\",\"minQty\":\"0.1\"},{\"stepSize\":\"0.1\",\"filterType\":\"MARKET_LOT_SIZE\",\"maxQty\":\"80000\",\"minQty\":\"0.1\"},{\"limit\":200,\"filterType\":\"MAX_NUM_ORDERS\"},{\"limit\":10,\"filterType\":\"MAX_NUM_ALGO_ORDERS\"},{\"notional\":\"5\",\"filterType\":\"MIN_NOTIONAL\"},{\"multiplierDown\":\"0.9000\",\"multiplierUp\":\"1.1000\",\"multiplierDecimal\":\"4\",\"filterType\":\"PERCENT_PRICE\"}],\"orderTypes\":[\"LIMIT\",\"MARKET\",\"STOP\",\"STOP_MARKET\",\"TAKE_PROFIT\",\"TAKE_PROFIT_MARKET\",\"TRAILING_STOP_MARKET\"],\"timeInForce\":[\"GTC\",\"IOC\",\"FOK\",\"GTX\"]},{\"symbol\":\"WAVESUSDT\",\"pair\":\"WAVESUSDT\",\"contractType\":\"PERPETUAL\",\"deliveryDate\":4133404800000,\"onboardDate\":1569398400000,\"status\":\"TRADING\",\"maintMarginPercent\":\"2.5000\",\"requiredMarginPercent\":\"5.0000\",\"baseAsset\":\"WAVES\",\"quoteAsset\":\"USDT\",\"marginAsset\":\"USDT\",\"pricePrecision\":4,\"quantityPrecision\":1,\"baseAssetPrecision\":8,\"quotePrecision\":8,\"underlyingType\":\"COIN\",\"underlyingSubType\":[\"Layer-1\"],\"settlePlan\":0,\"triggerProtect\":\"0.1000\",\"liquidationFee\":\"0.020000\",\"marketTakeBound\":\"0.10\",\"filters\":[{\"minPrice\":\"0.3420\",\"maxPrice\":\"2249\",\"filterType\":\"PRICE_FILTER\",\"tickSize\":\"0.0001\"},{\"stepSize\":\"0.1\",\"filterType\":\"LOT_SIZE\",\"maxQty\":\"1000000\",\"minQty\":\"0.1\"},{\"stepSize\":\"0.1\",\"filterType\":\"MARKET_LOT_SIZE\",\"maxQty\":\"16000\",\"minQty\":\"0.1\"},{\"limit\":200,\"filterType\":\"MAX_NUM_ORDERS\"},{\"limit\":10,\"filterType\":\"MAX_NUM_ALGO_ORDERS\"},{\"notional\":\"5\",\"filterType\":\"MIN_NOTIONAL\"},{\"multiplierDown\":\"0.9000\",\"multiplierUp\":\"1.1000\",\"multiplierDecimal\":\"4\",\"filterType\":\"PERCENT_PRICE\"}],\"orderTypes\":[\"LIMIT\",\"MARKET\",\"STOP\",\"STOP_MARKET\",\"TAKE_PROFIT\",\"TAKE_PROFIT_MARKET\",\"TRAILING_STOP_MARKET\"],\"timeInForce\":[\"GTC\",\"IOC\",\"FOK\",\"GTX\"]},{\"symbol\":\"MKRUSDT\",\"pair\":\"MKRUSDT\",\"contractType\":\"PERPETUAL\",\"deliveryDate\":4133404800000,\"onboardDate\":1569398400000,\"status\":\"TRADING\",\"maintMarginPercent\":\"2.5000\",\"requiredMarginPercent\":\"5.0000\",\"baseAsset\":\"MKR\",\"quoteAsset\":\"USDT\",\"marginAsset\":\"USDT\",\"pricePrecision\":2,\"quantityPrecision\":3,\"baseAssetPrecision\":8,\"quotePrecision\":8,\"underlyingType\":\"COIN\",\"underlyingSubType\":[\"DeFi\"],\"settlePlan\":0,\"triggerProtect\":\"0.1000\",\"liquidationFee\":\"0.012500\",\"marketTakeBound\":\"0.10\",\"filters\":[{\"minPrice\":\"50\",\"maxPrice\":\"351788\",\"filterType\":\"PRICE_FILTER\",\"tickSize\":\"0.10\"},{\"stepSize\":\"0.001\",\"filterType\":\"LOT_SIZE\",\"maxQty\":\"10000\",\"minQty\":\"0.001\"},{\"stepSize\":\"0.001\",\"filterType\":\"MARKET_LOT_SIZE\",\"maxQty\":\"100\",\"minQty\":\"0.001\"},{\"limit\":200,\"filterType\":\"MAX_NUM_ORDERS\"},{\"limit\":10,\"filterType\":\"MAX_NUM_ALGO_ORDERS\"},{\"notional\":\"5\",\"filterType\":\"MIN_NOTIONAL\"},{\"multiplierDown\":\"0.9000\",\"multiplierUp\":\"1.1000\",\"multiplierDecimal\":\"4\",\"filterType\":\"PERCENT_PRICE\"}],\"orderTypes\":[\"LIMIT\",\"MARKET\",\"STOP\",\"STOP_MARKET\",\"TAKE_PROFIT\",\"TAKE_PROFIT_MARKET\",\"TRAILING_STOP_MARKET\"],\"timeInForce\":[\"GTC\",\"IOC\",\"FOK\",\"GTX\"]},{\"symbol\":\"SNXUSDT\",\"pair\":\"SNXUSDT\",\"contractType\":\"PERPETUAL\",\"deliveryDate\":4133404800000,\"onboardDate\":1569398400000,\"status\":\"TRADING\",\"maintMarginPercent\":\"2.5000\",\"requiredMarginPercent\":\"5.0000\",\"baseAsset\":\"SNX\",\"quoteAsset\":\"USDT\",\"marginAsset\":\"USDT\",\"pricePrecision\":3,\"quantityPrecision\":1,\"baseAssetPrecision\":8,\"quotePrecision\":8,\"underlyingType\":\"COIN\",\"underlyingSubType\":[\"DEX\"],\"settlePlan\":0,\"triggerProtect\":\"0.1000\",\"liquidationFee\":\"0.010000\",\"marketTakeBound\":\"0.10\",\"filters\":[{\"minPrice\":\"0.164\",\"maxPrice\":\"1144\",\"filterType\":\"PRICE_FILTER\",\"tickSize\":\"0.001\"},{\"stepSize\":\"0.1\",\"filterType\":\"LOT_SIZE\",\"maxQty\":\"1000000\",\"minQty\":\"0.1\"},{\"stepSize\":\"0.1\",\"filterType\":\"MARKET_LOT_SIZE\",\"maxQty\":\"8000\",\"minQty\":\"0.1\"},{\"limit\":200,\"filterType\":\"MAX_NUM_ORDERS\"},{\"limit\":10,\"filterType\":\"MAX_NUM_ALGO_ORDERS\"},{\"notional\":\"5\",\"filterType\":\"MIN_NOTIONAL\"},{\"multiplierDown\":\"0.9000\",\"multiplierUp\":\"1.1000\",\"multiplierDecimal\":\"4\",\"filterType\":\"PERCENT_PRICE\"}],\"orderTypes\":[\"LIMIT\",\"MARKET\",\"STOP\",\"STOP_MARKET\",\"TAKE_PROFIT\",\"TAKE_PROFIT_MARKET\",\"TRAILING_STOP_MARKET\"],\"timeInForce\":[\"GTC\",\"IOC\",\"FOK\",\"GTX\"]},{\"symbol\":\"DOTUSDT\",\"pair\":\"DOTUSDT\",\"contractType\":\"PERPETUAL\",\"deliveryDate\":4133404800000,\"onboardDate\":1569398400000,\"status\":\"TRADING\",\"maintMarginPercent\":\"2.5000\",\"requiredMarginPercent\":\"5.0000\",\"baseAsset\":\"DOT\",\"quoteAsset\":\"USDT\",\"marginAsset\":\"USDT\",\"pricePrecision\":3,\"quantityPrecision\":1,\"baseAssetPrecision\":8,\"quotePrecision\":8,\"underlyingType\":\"COIN\",\"underlyingSubType\":[\"Layer-1\"],\"settlePlan\":0,\"triggerProtect\":\"0.0500\",\"liquidationFee\":\"0.015000\",\"marketTakeBound\":\"0.05\",\"filters\":[{\"minPrice\":\"0.373\",\"maxPrice\":\"2398\",\"filterType\":\"PRICE_FILTER\",\"tickSize\":\"0.001\"},{\"stepSize\":\"0.1\",\"filterType\":\"LOT_SIZE\",\"maxQty\":\"1000000\",\"minQty\":\"0.1\"},{\"stepSize\":\"0.1\",\"filterType\":\"MARKET_LOT_SIZE\",\"maxQty\":\"50000\",\"minQty\":\"0.1\"},{\"limit\":200,\"filterType\":\"MAX_NUM_ORDERS\"},{\"limit\":10,\"filterType\":\"MAX_NUM_ALGO_ORDERS\"},{\"notional\":\"5\",\"filterType\":\"MIN_NOTIONAL\"},{\"multiplierDown\":\"0.9500\",\"multiplierUp\":\"1.0500\",\"multiplierDecimal\":\"4\",\"filterType\":\"PERCENT_PRICE\"}],\"orderTypes\":[\"LIMIT\",\"MARKET\",\"STOP\",\"STOP_MARKET\",\"TAKE_PROFIT\",\"TAKE_PROFIT_MARKET\",\"TRAILING_STOP_MARKET\"],\"timeInForce\":[\"GTC\",\"IOC\",\"FOK\",\"GTX\"]},{\"symbol\":\"DEFIUSDT\",\"pair\":\"DEFIUSDT\",\"contractType\":\"PERPETUAL\",\"deliveryDate\":4133404800000,\"onboardDate\":1569398400000,\"status\":\"TRADING\",\"maintMarginPercent\":\"2.5000\",\"requiredMarginPercent\":\"5.0000\",\"baseAsset\":\"DEFI\",\"quoteAsset\":\"USDT\",\"marginAsset\":\"USDT\",\"pricePrecision\":1,\"quantityPrecision\":3,\"baseAssetPrecision\":8,\"quotePrecision\":8,\"underlyingType\":\"INDEX\",\"underlyingSubType\":[\"Index\"],\"settlePlan\":0,\"triggerProtect\":\"0.1000\",\"liquidationFee\":\"0.012500\",\"marketTakeBound\":\"0.10\",\"filters\":[{\"minPrice\":\"33.8\",\"maxPrice\":\"230680\",\"filterType\":\"PRICE_FILTER\",\"tickSize\":\"0.1\"},{\"stepSize\":\"0.001\",\"filterType\":\"LOT_SIZE\",\"maxQty\":\"10000\",\"minQty\":\"0.001\"},{\"stepSize\":\"0.001\",\"filterType\":\"MARKET_LOT_SIZE\",\"maxQty\":\"200\",\"minQty\":\"0.001\"},{\"limit\":200,\"filterType\":\"MAX_NUM_ORDERS\"},{\"limit\":10,\"filterType\":\"MAX_NUM_ALGO_ORDERS\"},{\"notional\":\"5\",\"filterType\":\"MIN_NOTIONAL\"},{\"multiplierDown\":\"0.9000\",\"multiplierUp\":\"1.1000\",\"multiplierDecimal\":\"4\",\"filterType\":\"PERCENT_PRICE\"}],\"orderTypes\":[\"LIMIT\",\"MARKET\",\"STOP\",\"STOP_MARKET\",\"TAKE_PROFIT\",\"TAKE_PROFIT_MARKET\",\"TRAILING_STOP_MARKET\"],\"timeInForce\":[\"GTC\",\"IOC\",\"FOK\",\"GTX\"]},{\"symbol\":\"YFIUSDT\",\"pair\":\"YFIUSDT\",\"contractType\":\"PERPETUAL\",\"deliveryDate\":4133404800000,\"onboardDate\":1569398400000,\"status\":\"TRADING\",\"maintMarginPercent\":\"2.5000\",\"requiredMarginPercent\":\"5.0000\",\"baseAsset\":\"YFI\",\"quoteAsset\":\"USDT\",\"marginAsset\":\"USDT\",\"pricePrecision\":1,\"quantityPrecision\":3,\"baseAssetPrecision\":8,\"quotePrecision\":8,\"underlyingType\":\"COIN\",\"underlyingSubType\":[\"DeFi\"],\"settlePlan\":0,\"triggerProtect\":\"0.1000\",\"liquidationFee\":\"0.015000\",\"marketTakeBound\":\"0.10\",\"filters\":[{\"minPrice\":\"667\",\"maxPrice\":\"3836373\",\"filterType\":\"PRICE_FILTER\",\"tickSize\":\"1\"},{\"stepSize\":\"0.001\",\"filterType\":\"LOT_SIZE\",\"maxQty\":\"500\",\"minQty\":\"0.001\"},{\"stepSize\":\"0.001\",\"filterType\":\"MARKET_LOT_SIZE\",\"maxQty\":\"20\",\"minQty\":\"0.001\"},{\"limit\":200,\"filterType\":\"MAX_NUM_ORDERS\"},{\"limit\":10,\"filterType\":\"MAX_NUM_ALGO_ORDERS\"},{\"notional\":\"5\",\"filterType\":\"MIN_NOTIONAL\"},{\"multiplierDown\":\"0.9000\",\"multiplierUp\":\"1.1000\",\"multiplierDecimal\":\"4\",\"filterType\":\"PERCENT_PRICE\"}],\"orderTypes\":[\"LIMIT\",\"MARKET\",\"STOP\",\"STOP_MARKET\",\"TAKE_PROFIT\",\"TAKE_PROFIT_MARKET\",\"TRAILING_STOP_MARKET\"],\"timeInForce\":[\"GTC\",\"IOC\",\"FOK\",\"GTX\"]},{\"symbol\":\"BALUSDT\",\"pair\":\"BALUSDT\",\"contractType\":\"PERPETUAL\",\"deliveryDate\":4133404800000,\"onboardDate\":1569398400000,\"status\":\"TRADING\",\"maintMarginPercent\":\"2.5000\",\"requiredMarginPercent\":\"5.0000\",\"baseAsset\":\"BAL\",\"quoteAsset\":\"USDT\",\"marginAsset\":\"USDT\",\"pricePrecision\":3,\"quantityPrecision\":1,\"baseAssetPrecision\":8,\"quotePrecision\":8,\"underlyingType\":\"COIN\",\"underlyingSubType\":[\"DEX\"],\"settlePlan\":0,\"triggerProtect\":\"0.1000\",\"liquidationFee\":\"0.020000\",\"marketTakeBound\":\"0.10\",\"filters\":[{\"minPrice\":\"0.630\",\"maxPrice\":\"5000\",\"filterType\":\"PRICE_FILTER\",\"tickSize\":\"0.001\"},{\"stepSize\":\"0.1\",\"filterType\":\"LOT_SIZE\",\"maxQty\":\"1000000\",\"minQty\":\"0.1\"},{\"stepSize\":\"0.1\",\"filterType\":\"MARKET_LOT_SIZE\",\"maxQty\":\"20000\",\"minQty\":\"0.1\"},{\"limit\":200,\"filterType\":\"MAX_NUM_ORDERS\"},{\"limit\":10,\"filterType\":\"MAX_NUM_ALGO_ORDERS\"},{\"notional\":\"5\",\"filterType\":\"MIN_NOTIONAL\"},{\"multiplierDown\":\"0.9000\",\"multiplierUp\":\"1.1000\",\"multiplierDecimal\":\"4\",\"filterType\":\"PERCENT_PRICE\"}],\"orderTypes\":[\"LIMIT\",\"MARKET\",\"STOP\",\"STOP_MARKET\",\"TAKE_PROFIT\",\"TAKE_PROFIT_MARKET\",\"TRAILING_STOP_MARKET\"],\"timeInForce\":[\"GTC\",\"IOC\",\"FOK\",\"GTX\"]},{\"symbol\":\"CRVUSDT\",\"pair\":\"CRVUSDT\",\"contractType\":\"PERPETUAL\",\"deliveryDate\":4133404800000,\"onboardDate\":1569398400000,\"status\":\"TRADING\",\"maintMarginPercent\":\"2.5000\",\"requiredMarginPercent\":\"5.0000\",\"baseAsset\":\"CRV\",\"quoteAsset\":\"USDT\",\"marginAsset\":\"USDT\",\"pricePrecision\":3,\"quantityPrecision\":1,\"baseAssetPrecision\":8,\"quotePrecision\":8,\"underlyingType\":\"COIN\",\"underlyingSubType\":[\"DeFi\"],\"settlePlan\":0,\"triggerProtect\":\"0.1000\",\"liquidationFee\":\"0.010000\",\"marketTakeBound\":\"0.10\",\"filters\":[{\"minPrice\":\"0.031\",\"maxPrice\":\"1000\",\"filterType\":\"PRICE_FILTER\",\"tickSize\":\"0.001\"},{\"stepSize\":\"0.1\",\"filterType\":\"LOT_SIZE\",\"maxQty\":\"1000000\",\"minQty\":\"0.1\"},{\"stepSize\":\"0.1\",\"filterType\":\"MARKET_LOT_SIZE\",\"maxQty\":\"300000\",\"minQty\":\"0.1\"},{\"limit\":200,\"filterType\":\"MAX_NUM_ORDERS\"},{\"limit\":10,\"filterType\":\"MAX_NUM_ALGO_ORDERS\"},{\"notional\":\"5\",\"filterType\":\"MIN_NOTIONAL\"},{\"multiplierDown\":\"0.9000\",\"multiplierUp\":\"1.1000\",\"multiplierDecimal\":\"4\",\"filterType\":\"PERCENT_PRICE\"}],\"orderTypes\":[\"LIMIT\",\"MARKET\",\"STOP\",\"STOP_MARKET\",\"TAKE_PROFIT\",\"TAKE_PROFIT_MARKET\",\"TRAILING_STOP_MARKET\"],\"timeInForce\":[\"GTC\",\"IOC\",\"FOK\",\"GTX\"]},{\"symbol\":\"TRBUSDT\",\"pair\":\"TRBUSDT\",\"contractType\":\"PERPETUAL\",\"deliveryDate\":4133404800000,\"onboardDate\":1569398400000,\"status\":\"TRADING\",\"maintMarginPercent\":\"2.5000\",\"requiredMarginPercent\":\"5.0000\",\"baseAsset\":\"TRB\",\"quoteAsset\":\"USDT\",\"marginAsset\":\"USDT\",\"pricePrecision\":3,\"quantityPrecision\":1,\"baseAssetPrecision\":8,\"quotePrecision\":8,\"underlyingType\":\"COIN\",\"underlyingSubType\":[\"Oracle\"],\"settlePlan\":0,\"triggerProtect\":\"0.1000\",\"liquidationFee\":\"0.010000\",\"marketTakeBound\":\"0.10\",\"filters\":[{\"minPrice\":\"1.230\",\"maxPrice\":\"5138\",\"filterType\":\"PRICE_FILTER\",\"tickSize\":\"0.010\"},{\"stepSize\":\"0.1\",\"filterType\":\"LOT_SIZE\",\"maxQty\":\"1000000\",\"minQty\":\"0.1\"},{\"stepSize\":\"0.1\",\"filterType\":\"MARKET_LOT_SIZE\",\"maxQty\":\"2000\",\"minQty\":\"0.1\"},{\"limit\":200,\"filterType\":\"MAX_NUM_ORDERS\"},{\"limit\":10,\"filterType\":\"MAX_NUM_ALGO_ORDERS\"},{\"notional\":\"5\",\"filterType\":\"MIN_NOTIONAL\"},{\"multiplierDown\":\"0.9000\",\"multiplierUp\":\"1.1000\",\"multiplierDecimal\":\"4\",\"filterType\":\"PERCENT_PRICE\"}],\"orderTypes\":[\"LIMIT\",\"MARKET\",\"STOP\",\"STOP_MARKET\",\"TAKE_PROFIT\",\"TAKE_PROFIT_MARKET\",\"TRAILING_STOP_MARKET\"],\"timeInForce\":[\"GTC\",\"IOC\",\"FOK\",\"GTX\"]},{\"symbol\":\"RUNEUSDT\",\"pair\":\"RUNEUSDT\",\"contractType\":\"PERPETUAL\",\"deliveryDate\":4133404800000,\"onboardDate\":1569398400000,\"status\":\"TRADING\",\"maintMarginPercent\":\"2.5000\",\"requiredMarginPercent\":\"5.0000\",\"baseAsset\":\"RUNE\",\"quoteAsset\":\"USDT\",\"marginAsset\":\"USDT\",\"pricePrecision\":4,\"quantityPrecision\":0,\"baseAssetPrecision\":8,\"quotePrecision\":8,\"underlyingType\":\"COIN\",\"underlyingSubType\":[\"DEX\"],\"settlePlan\":0,\"triggerProtect\":\"0.1000\",\"liquidationFee\":\"0.010000\",\"marketTakeBound\":\"0.10\",\"filters\":[{\"minPrice\":\"0.1720\",\"maxPrice\":\"839\",\"filterType\":\"PRICE_FILTER\",\"tickSize\":\"0.0010\"},{\"stepSize\":\"1\",\"filterType\":\"LOT_SIZE\",\"maxQty\":\"10000000\",\"minQty\":\"1\"},{\"stepSize\":\"1\",\"filterType\":\"MARKET_LOT_SIZE\",\"maxQty\":\"50000\",\"minQty\":\"1\"},{\"limit\":200,\"filterType\":\"MAX_NUM_ORDERS\"},{\"limit\":10,\"filterType\":\"MAX_NUM_ALGO_ORDERS\"},{\"notional\":\"5\",\"filterType\":\"MIN_NOTIONAL\"},{\"multiplierDown\":\"0.9000\",\"multiplierUp\":\"1.1000\",\"multiplierDecimal\":\"4\",\"filterType\":\"PERCENT_PRICE\"}],\"orderTypes\":[\"LIMIT\",\"MARKET\",\"STOP\",\"STOP_MARKET\",\"TAKE_PROFIT\",\"TAKE_PROFIT_MARKET\",\"TRAILING_STOP_MARKET\"],\"timeInForce\":[\"GTC\",\"IOC\",\"FOK\",\"GTX\"]},{\"symbol\":\"SUSHIUSDT\",\"pair\":\"SUSHIUSDT\",\"contractType\":\"PERPETUAL\",\"deliveryDate\":4133404800000,\"onboardDate\":1569398400000,\"status\":\"TRADING\",\"maintMarginPercent\":\"2.5000\",\"requiredMarginPercent\":\"5.0000\",\"baseAsset\":\"SUSHI\",\"quoteAsset\":\"USDT\",\"marginAsset\":\"USDT\",\"pricePrecision\":4,\"quantityPrecision\":0,\"baseAssetPrecision\":8,\"quotePrecision\":8,\"underlyingType\":\"COIN\",\"underlyingSubType\":[\"DEX\"],\"settlePlan\":0,\"triggerProtect\":\"0.1000\",\"liquidationFee\":\"0.010000\",\"marketTakeBound\":\"0.10\",\"filters\":[{\"minPrice\":\"0.1430\",\"maxPrice\":\"1301\",\"filterType\":\"PRICE_FILTER\",\"tickSize\":\"0.0010\"},{\"stepSize\":\"1\",\"filterType\":\"LOT_SIZE\",\"maxQty\":\"10000000\",\"minQty\":\"1\"},{\"stepSize\":\"1\",\"filterType\":\"MARKET_LOT_SIZE\",\"maxQty\":\"25000\",\"minQty\":\"1\"},{\"limit\":200,\"filterType\":\"MAX_NUM_ORDERS\"},{\"limit\":10,\"filterType\":\"MAX_NUM_ALGO_ORDERS\"},{\"notional\":\"5\",\"filterType\":\"MIN_NOTIONAL\"},{\"multiplierDown\":\"0.9000\",\"multiplierUp\":\"1.1000\",\"multiplierDecimal\":\"4\",\"filterType\":\"PERCENT_PRICE\"}],\"orderTypes\":[\"LIMIT\",\"MARKET\",\"STOP\",\"STOP_MARKET\",\"TAKE_PROFIT\",\"TAKE_PROFIT_MARKET\",\"TRAILING_STOP_MARKET\"],\"timeInForce\":[\"GTC\",\"IOC\",\"FOK\",\"GTX\"]},{\"symbol\":\"SRMUSDT\",\"pair\":\"SRMUSDT\",\"contractType\":\"PERPETUAL\",\"deliveryDate\":1668486600000,\"onboardDate\":1569398400000,\"status\":\"SETTLING\",\"maintMarginPercent\":\"2.5000\",\"requiredMarginPercent\":\"5.0000\",\"baseAsset\":\"SRM\",\"quoteAsset\":\"USDT\",\"marginAsset\":\"USDT\",\"pricePrecision\":4,\"quantityPrecision\":0,\"baseAssetPrecision\":8,\"quotePrecision\":8,\"underlyingType\":\"COIN\",\"underlyingSubType\":[\"DEX\"],\"settlePlan\":1668486600000,\"triggerProtect\":\"0.1000\",\"liquidationFee\":\"0.025000\",\"marketTakeBound\":\"0.10\",\"filters\":[{\"minPrice\":\"0.0920\",\"maxPrice\":\"722\",\"filterType\":\"PRICE_FILTER\",\"tickSize\":\"0.0001\"},{\"stepSize\":\"1\",\"filterType\":\"LOT_SIZE\",\"maxQty\":\"10000000\",\"minQty\":\"1\"},{\"stepSize\":\"1\",\"filterType\":\"MARKET_LOT_SIZE\",\"maxQty\":\"50000\",\"minQty\":\"1\"},{\"limit\":200,\"filterType\":\"MAX_NUM_ORDERS\"},{\"limit\":10,\"filterType\":\"MAX_NUM_ALGO_ORDERS\"},{\"notional\":\"5\",\"filterType\":\"MIN_NOTIONAL\"},{\"multiplierDown\":\"0.9000\",\"multiplierUp\":\"1.1000\",\"multiplierDecimal\":\"4\",\"filterType\":\"PERCENT_PRICE\"}],\"orderTypes\":[\"LIMIT\",\"MARKET\",\"STOP\",\"STOP_MARKET\",\"TAKE_PROFIT\",\"TAKE_PROFIT_MARKET\",\"TRAILING_STOP_MARKET\"],\"timeInForce\":[\"GTC\",\"IOC\",\"FOK\",\"GTX\"]},{\"symbol\":\"EGLDUSDT\",\"pair\":\"EGLDUSDT\",\"contractType\":\"PERPETUAL\",\"deliveryDate\":4133404800000,\"onboardDate\":1569398400000,\"status\":\"TRADING\",\"maintMarginPercent\":\"2.5000\",\"requiredMarginPercent\":\"5.0000\",\"baseAsset\":\"EGLD\",\"quoteAsset\":\"USDT\",\"marginAsset\":\"USDT\",\"pricePrecision\":3,\"quantityPrecision\":1,\"baseAssetPrecision\":8,\"quotePrecision\":8,\"underlyingType\":\"COIN\",\"underlyingSubType\":[\"Layer-1\"],\"settlePlan\":0,\"triggerProtect\":\"0.1000\",\"liquidationFee\":\"0.012500\",\"marketTakeBound\":\"0.10\",\"filters\":[{\"minPrice\":\"1.770\",\"maxPrice\":\"14295\",\"filterType\":\"PRICE_FILTER\",\"tickSize\":\"0.010\"},{\"stepSize\":\"0.1\",\"filterType\":\"LOT_SIZE\",\"maxQty\":\"1000000\",\"minQty\":\"0.1\"},{\"stepSize\":\"0.1\",\"filterType\":\"MARKET_LOT_SIZE\",\"maxQty\":\"2000\",\"minQty\":\"0.1\"},{\"limit\":200,\"filterType\":\"MAX_NUM_ORDERS\"},{\"limit\":10,\"filterType\":\"MAX_NUM_ALGO_ORDERS\"},{\"notional\":\"5\",\"filterType\":\"MIN_NOTIONAL\"},{\"multiplierDown\":\"0.9000\",\"multiplierUp\":\"1.1000\",\"multiplierDecimal\":\"4\",\"filterType\":\"PERCENT_PRICE\"}],\"orderTypes\":[\"LIMIT\",\"MARKET\",\"STOP\",\"STOP_MARKET\",\"TAKE_PROFIT\",\"TAKE_PROFIT_MARKET\",\"TRAILING_STOP_MARKET\"],\"timeInForce\":[\"GTC\",\"IOC\",\"FOK\",\"GTX\"]},{\"symbol\":\"SOLUSDT\",\"pair\":\"SOLUSDT\",\"contractType\":\"PERPETUAL\",\"deliveryDate\":4133404800000,\"onboardDate\":1569398400000,\"status\":\"TRADING\",\"maintMarginPercent\":\"2.5000\",\"requiredMarginPercent\":\"5.0000\",\"baseAsset\":\"SOL\",\"quoteAsset\":\"USDT\",\"marginAsset\":\"USDT\",\"pricePrecision\":4,\"quantityPrecision\":0,\"baseAssetPrecision\":8,\"quotePrecision\":8,\"underlyingType\":\"COIN\",\"underlyingSubType\":[\"Layer-1\"],\"settlePlan\":0,\"triggerProtect\":\"0.0500\",\"liquidationFee\":\"0.020000\",\"marketTakeBound\":\"0.05\",\"filters\":[{\"minPrice\":\"0.4200\",\"maxPrice\":\"6857\",\"filterType\":\"PRICE_FILTER\",\"tickSize\":\"0.0010\"},{\"stepSize\":\"1\",\"filterType\":\"LOT_SIZE\",\"maxQty\":\"1000000\",\"minQty\":\"1\"},{\"stepSize\":\"1\",\"filterType\":\"MARKET_LOT_SIZE\",\"maxQty\":\"1000\",\"minQty\":\"1\"},{\"limit\":200,\"filterType\":\"MAX_NUM_ORDERS\"},{\"limit\":10,\"filterType\":\"MAX_NUM_ALGO_ORDERS\"},{\"notional\":\"5\",\"filterType\":\"MIN_NOTIONAL\"},{\"multiplierDown\":\"0.9500\",\"multiplierUp\":\"1.0500\",\"multiplierDecimal\":\"4\",\"filterType\":\"PERCENT_PRICE\"}],\"orderTypes\":[\"LIMIT\",\"MARKET\",\"STOP\",\"STOP_MARKET\",\"TAKE_PROFIT\",\"TAKE_PROFIT_MARKET\",\"TRAILING_STOP_MARKET\"],\"timeInForce\":[\"GTC\",\"IOC\",\"FOK\",\"GTX\"]},{\"symbol\":\"ICXUSDT\",\"pair\":\"ICXUSDT\",\"contractType\":\"PERPETUAL\",\"deliveryDate\":4133404800000,\"onboardDate\":1569398400000,\"status\":\"TRADING\",\"maintMarginPercent\":\"2.5000\",\"requiredMarginPercent\":\"5.0000\",\"baseAsset\":\"ICX\",\"quoteAsset\":\"USDT\",\"marginAsset\":\"USDT\",\"pricePrecision\":4,\"quantityPrecision\":0,\"baseAssetPrecision\":8,\"quotePrecision\":8,\"underlyingType\":\"COIN\",\"underlyingSubType\":[\"Layer-1\"],\"settlePlan\":0,\"triggerProtect\":\"0.1000\",\"liquidationFee\":\"0.010000\",\"marketTakeBound\":\"0.10\",\"filters\":[{\"minPrice\":\"0.0234\",\"maxPrice\":\"400\",\"filterType\":\"PRICE_FILTER\",\"tickSize\":\"0.0001\"},{\"stepSize\":\"1\",\"filterType\":\"LOT_SIZE\",\"maxQty\":\"10000000\",\"minQty\":\"1\"},{\"stepSize\":\"1\",\"filterType\":\"MARKET_LOT_SIZE\",\"maxQty\":\"300000\",\"minQty\":\"1\"},{\"limit\":200,\"filterType\":\"MAX_NUM_ORDERS\"},{\"limit\":10,\"filterType\":\"MAX_NUM_ALGO_ORDERS\"},{\"notional\":\"5\",\"filterType\":\"MIN_NOTIONAL\"},{\"multiplierDown\":\"0.9000\",\"multiplierUp\":\"1.1000\",\"multiplierDecimal\":\"4\",\"filterType\":\"PERCENT_PRICE\"}],\"orderTypes\":[\"LIMIT\",\"MARKET\",\"STOP\",\"STOP_MARKET\",\"TAKE_PROFIT\",\"TAKE_PROFIT_MARKET\",\"TRAILING_STOP_MARKET\"],\"timeInForce\":[\"GTC\",\"IOC\",\"FOK\",\"GTX\"]},{\"symbol\":\"STORJUSDT\",\"pair\":\"STORJUSDT\",\"contractType\":\"PERPETUAL\",\"deliveryDate\":4133404800000,\"onboardDate\":1569398400000,\"status\":\"TRADING\",\"maintMarginPercent\":\"2.5000\",\"requiredMarginPercent\":\"5.0000\",\"baseAsset\":\"STORJ\",\"quoteAsset\":\"USDT\",\"marginAsset\":\"USDT\",\"pricePrecision\":4,\"quantityPrecision\":0,\"baseAssetPrecision\":8,\"quotePrecision\":8,\"underlyingType\":\"COIN\",\"underlyingSubType\":[\"Storage\"],\"settlePlan\":0,\"triggerProtect\":\"0.1000\",\"liquidationFee\":\"0.015000\",\"marketTakeBound\":\"0.10\",\"filters\":[{\"minPrice\":\"0.0190\",\"maxPrice\":\"121\",\"filterType\":\"PRICE_FILTER\",\"tickSize\":\"0.0001\"},{\"stepSize\":\"1\",\"filterType\":\"LOT_SIZE\",\"maxQty\":\"10000000\",\"minQty\":\"1\"},{\"stepSize\":\"1\",\"filterType\":\"MARKET_LOT_SIZE\",\"maxQty\":\"20000\",\"minQty\":\"1\"},{\"limit\":200,\"filterType\":\"MAX_NUM_ORDERS\"},{\"limit\":10,\"filterType\":\"MAX_NUM_ALGO_ORDERS\"},{\"notional\":\"5\",\"filterType\":\"MIN_NOTIONAL\"},{\"multiplierDown\":\"0.9000\",\"multiplierUp\":\"1.1000\",\"multiplierDecimal\":\"4\",\"filterType\":\"PERCENT_PRICE\"}],\"orderTypes\":[\"LIMIT\",\"MARKET\",\"STOP\",\"STOP_MARKET\",\"TAKE_PROFIT\",\"TAKE_PROFIT_MARKET\",\"TRAILING_STOP_MARKET\"],\"timeInForce\":[\"GTC\",\"IOC\",\"FOK\",\"GTX\"]},{\"symbol\":\"BLZUSDT\",\"pair\":\"BLZUSDT\",\"contractType\":\"PERPETUAL\",\"deliveryDate\":4133404800000,\"onboardDate\":1569398400000,\"status\":\"TRADING\",\"maintMarginPercent\":\"2.5000\",\"requiredMarginPercent\":\"5.0000\",\"baseAsset\":\"BLZ\",\"quoteAsset\":\"USDT\",\"marginAsset\":\"USDT\",\"pricePrecision\":5,\"quantityPrecision\":0,\"baseAssetPrecision\":8,\"quotePrecision\":8,\"underlyingType\":\"COIN\",\"underlyingSubType\":[\"Storage\"],\"settlePlan\":0,\"triggerProtect\":\"0.1000\",\"liquidationFee\":\"0.010000\",\"marketTakeBound\":\"0.10\",\"filters\":[{\"minPrice\":\"0.00360\",\"maxPrice\":\"22\",\"filterType\":\"PRICE_FILTER\",\"tickSize\":\"0.00001\"},{\"stepSize\":\"1\",\"filterType\":\"LOT_SIZE\",\"maxQty\":\"10000000\",\"minQty\":\"1\"},{\"stepSize\":\"1\",\"filterType\":\"MARKET_LOT_SIZE\",\"maxQty\":\"200000\",\"minQty\":\"1\"},{\"limit\":200,\"filterType\":\"MAX_NUM_ORDERS\"},{\"limit\":10,\"filterType\":\"MAX_NUM_ALGO_ORDERS\"},{\"notional\":\"5\",\"filterType\":\"MIN_NOTIONAL\"},{\"multiplierDown\":\"0.9000\",\"multiplierUp\":\"1.1000\",\"multiplierDecimal\":\"4\",\"filterType\":\"PERCENT_PRICE\"}],\"orderTypes\":[\"LIMIT\",\"MARKET\",\"STOP\",\"STOP_MARKET\",\"TAKE_PROFIT\",\"TAKE_PROFIT_MARKET\",\"TRAILING_STOP_MARKET\"],\"timeInForce\":[\"GTC\",\"IOC\",\"FOK\",\"GTX\"]},{\"symbol\":\"UNIUSDT\",\"pair\":\"UNIUSDT\",\"contractType\":\"PERPETUAL\",\"deliveryDate\":4133404800000,\"onboardDate\":1569398400000,\"status\":\"TRADING\",\"maintMarginPercent\":\"2.5000\",\"requiredMarginPercent\":\"5.0000\",\"baseAsset\":\"UNI\",\"quoteAsset\":\"USDT\",\"marginAsset\":\"USDT\",\"pricePrecision\":4,\"quantityPrecision\":0,\"baseAssetPrecision\":8,\"quotePrecision\":8,\"underlyingType\":\"COIN\",\"underlyingSubType\":[\"DEX\"],\"settlePlan\":0,\"triggerProtect\":\"0.1000\",\"liquidationFee\":\"0.015000\",\"marketTakeBound\":\"0.10\",\"filters\":[{\"minPrice\":\"0.3730\",\"maxPrice\":\"2684\",\"filterType\":\"PRICE_FILTER\",\"tickSize\":\"0.0010\"},{\"stepSize\":\"1\",\"filterType\":\"LOT_SIZE\",\"maxQty\":\"10000000\",\"minQty\":\"1\"},{\"stepSize\":\"1\",\"filterType\":\"MARKET_LOT_SIZE\",\"maxQty\":\"25000\",\"minQty\":\"1\"},{\"limit\":200,\"filterType\":\"MAX_NUM_ORDERS\"},{\"limit\":10,\"filterType\":\"MAX_NUM_ALGO_ORDERS\"},{\"notional\":\"5\",\"filterType\":\"MIN_NOTIONAL\"},{\"multiplierDown\":\"0.9000\",\"multiplierUp\":\"1.1000\",\"multiplierDecimal\":\"4\",\"filterType\":\"PERCENT_PRICE\"}],\"orderTypes\":[\"LIMIT\",\"MARKET\",\"STOP\",\"STOP_MARKET\",\"TAKE_PROFIT\",\"TAKE_PROFIT_MARKET\",\"TRAILING_STOP_MARKET\"],\"timeInForce\":[\"GTC\",\"IOC\",\"FOK\",\"GTX\"]},{\"symbol\":\"AVAXUSDT\",\"pair\":\"AVAXUSDT\",\"contractType\":\"PERPETUAL\",\"deliveryDate\":4133404800000,\"onboardDate\":1569398400000,\"status\":\"TRADING\",\"maintMarginPercent\":\"2.5000\",\"requiredMarginPercent\":\"5.0000\",\"baseAsset\":\"AVAX\",\"quoteAsset\":\"USDT\",\"marginAsset\":\"USDT\",\"pricePrecision\":4,\"quantityPrecision\":0,\"baseAssetPrecision\":8,\"quotePrecision\":8,\"underlyingType\":\"COIN\",\"underlyingSubType\":[\"Layer-1\"],\"settlePlan\":0,\"triggerProtect\":\"0.1000\",\"liquidationFee\":\"0.012500\",\"marketTakeBound\":\"0.10\",\"filters\":[{\"minPrice\":\"0.3500\",\"maxPrice\":\"2403\",\"filterType\":\"PRICE_FILTER\",\"tickSize\":\"0.0010\"},{\"stepSize\":\"1\",\"filterType\":\"LOT_SIZE\",\"maxQty\":\"100000\",\"minQty\":\"1\"},{\"stepSize\":\"1\",\"filterType\":\"MARKET_LOT_SIZE\",\"maxQty\":\"5000\",\"minQty\":\"1\"},{\"limit\":200,\"filterType\":\"MAX_NUM_ORDERS\"},{\"limit\":10,\"filterType\":\"MAX_NUM_ALGO_ORDERS\"},{\"notional\":\"5\",\"filterType\":\"MIN_NOTIONAL\"},{\"multiplierDown\":\"0.9000\",\"multiplierUp\":\"1.1000\",\"multiplierDecimal\":\"4\",\"filterType\":\"PERCENT_PRICE\"}],\"orderTypes\":[\"LIMIT\",\"MARKET\",\"STOP\",\"STOP_MARKET\",\"TAKE_PROFIT\",\"TAKE_PROFIT_MARKET\",\"TRAILING_STOP_MARKET\"],\"timeInForce\":[\"GTC\",\"IOC\",\"FOK\",\"GTX\"]},{\"symbol\":\"FTMUSDT\",\"pair\":\"FTMUSDT\",\"contractType\":\"PERPETUAL\",\"deliveryDate\":4133404800000,\"onboardDate\":1569398400000,\"status\":\"TRADING\",\"maintMarginPercent\":\"2.5000\",\"requiredMarginPercent\":\"5.0000\",\"baseAsset\":\"FTM\",\"quoteAsset\":\"USDT\",\"marginAsset\":\"USDT\",\"pricePrecision\":6,\"quantityPrecision\":0,\"baseAssetPrecision\":8,\"quotePrecision\":8,\"underlyingType\":\"COIN\",\"underlyingSubType\":[\"Layer-1\"],\"settlePlan\":0,\"triggerProtect\":\"0.1000\",\"liquidationFee\":\"0.010000\",\"marketTakeBound\":\"0.10\",\"filters\":[{\"minPrice\":\"0.007700\",\"maxPrice\":\"41\",\"filterType\":\"PRICE_FILTER\",\"tickSize\":\"0.000100\"},{\"stepSize\":\"1\",\"filterType\":\"LOT_SIZE\",\"maxQty\":\"10000000\",\"minQty\":\"1\"},{\"stepSize\":\"1\",\"filterType\":\"MARKET_LOT_SIZE\",\"maxQty\":\"250000\",\"minQty\":\"1\"},{\"limit\":200,\"filterType\":\"MAX_NUM_ORDERS\"},{\"limit\":10,\"filterType\":\"MAX_NUM_ALGO_ORDERS\"},{\"notional\":\"5\",\"filterType\":\"MIN_NOTIONAL\"},{\"multiplierDown\":\"0.9000\",\"multiplierUp\":\"1.1000\",\"multiplierDecimal\":\"4\",\"filterType\":\"PERCENT_PRICE\"}],\"orderTypes\":[\"LIMIT\",\"MARKET\",\"STOP\",\"STOP_MARKET\",\"TAKE_PROFIT\",\"TAKE_PROFIT_MARKET\",\"TRAILING_STOP_MARKET\"],\"timeInForce\":[\"GTC\",\"IOC\",\"FOK\",\"GTX\"]},{\"symbol\":\"HNTUSDT\",\"pair\":\"HNTUSDT\",\"contractType\":\"PERPETUAL\",\"deliveryDate\":4133404800000,\"onboardDate\":1569398400000,\"status\":\"TRADING\",\"maintMarginPercent\":\"2.5000\",\"requiredMarginPercent\":\"5.0000\",\"baseAsset\":\"HNT\",\"quoteAsset\":\"USDT\",\"marginAsset\":\"USDT\",\"pricePrecision\":4,\"quantityPrecision\":0,\"baseAssetPrecision\":8,\"quotePrecision\":8,\"underlyingType\":\"COIN\",\"underlyingSubType\":[\"Infrastructure\"],\"settlePlan\":0,\"triggerProtect\":\"0.1000\",\"liquidationFee\":\"0.020000\",\"marketTakeBound\":\"0.10\",\"filters\":[{\"minPrice\":\"0.1660\",\"maxPrice\":\"1929\",\"filterType\":\"PRICE_FILTER\",\"tickSize\":\"0.0010\"},{\"stepSize\":\"1\",\"filterType\":\"LOT_SIZE\",\"maxQty\":\"10000000\",\"minQty\":\"1\"},{\"stepSize\":\"1\",\"filterType\":\"MARKET_LOT_SIZE\",\"maxQty\":\"20000\",\"minQty\":\"1\"},{\"limit\":200,\"filterType\":\"MAX_NUM_ORDERS\"},{\"limit\":10,\"filterType\":\"MAX_NUM_ALGO_ORDERS\"},{\"notional\":\"5\",\"filterType\":\"MIN_NOTIONAL\"},{\"multiplierDown\":\"0.9000\",\"multiplierUp\":\"1.1000\",\"multiplierDecimal\":\"4\",\"filterType\":\"PERCENT_PRICE\"}],\"orderTypes\":[\"LIMIT\",\"MARKET\",\"STOP\",\"STOP_MARKET\",\"TAKE_PROFIT\",\"TAKE_PROFIT_MARKET\",\"TRAILING_STOP_MARKET\"],\"timeInForce\":[\"GTC\",\"IOC\",\"FOK\",\"GTX\"]},{\"symbol\":\"ENJUSDT\",\"pair\":\"ENJUSDT\",\"contractType\":\"PERPETUAL\",\"deliveryDate\":4133404800000,\"onboardDate\":1569398400000,\"status\":\"TRADING\",\"maintMarginPercent\":\"2.5000\",\"requiredMarginPercent\":\"5.0000\",\"baseAsset\":\"ENJ\",\"quoteAsset\":\"USDT\",\"marginAsset\":\"USDT\",\"pricePrecision\":5,\"quantityPrecision\":0,\"baseAssetPrecision\":8,\"quotePrecision\":8,\"underlyingType\":\"COIN\",\"underlyingSubType\":[\"NFT\"],\"settlePlan\":0,\"triggerProtect\":\"0.1000\",\"liquidationFee\":\"0.010000\",\"marketTakeBound\":\"0.10\",\"filters\":[{\"minPrice\":\"0.02250\",\"maxPrice\":\"153\",\"filterType\":\"PRICE_FILTER\",\"tickSize\":\"0.00010\"},{\"stepSize\":\"1\",\"filterType\":\"LOT_SIZE\",\"maxQty\":\"10000000\",\"minQty\":\"1\"},{\"stepSize\":\"1\",\"filterType\":\"MARKET_LOT_SIZE\",\"maxQty\":\"100000\",\"minQty\":\"1\"},{\"limit\":200,\"filterType\":\"MAX_NUM_ORDERS\"},{\"limit\":10,\"filterType\":\"MAX_NUM_ALGO_ORDERS\"},{\"notional\":\"5\",\"filterType\":\"MIN_NOTIONAL\"},{\"multiplierDown\":\"0.9000\",\"multiplierUp\":\"1.1000\",\"multiplierDecimal\":\"4\",\"filterType\":\"PERCENT_PRICE\"}],\"orderTypes\":[\"LIMIT\",\"MARKET\",\"STOP\",\"STOP_MARKET\",\"TAKE_PROFIT\",\"TAKE_PROFIT_MARKET\",\"TRAILING_STOP_MARKET\"],\"timeInForce\":[\"GTC\",\"IOC\",\"FOK\",\"GTX\"]},{\"symbol\":\"FLMUSDT\",\"pair\":\"FLMUSDT\",\"contractType\":\"PERPETUAL\",\"deliveryDate\":4133404800000,\"onboardDate\":1569398400000,\"status\":\"TRADING\",\"maintMarginPercent\":\"2.5000\",\"requiredMarginPercent\":\"5.0000\",\"baseAsset\":\"FLM\",\"quoteAsset\":\"USDT\",\"marginAsset\":\"USDT\",\"pricePrecision\":4,\"quantityPrecision\":0,\"baseAssetPrecision\":8,\"quotePrecision\":8,\"underlyingType\":\"COIN\",\"underlyingSubType\":[\"DeFi\"],\"settlePlan\":0,\"triggerProtect\":\"0.1000\",\"liquidationFee\":\"0.010000\",\"marketTakeBound\":\"0.10\",\"filters\":[{\"minPrice\":\"0.0096\",\"maxPrice\":\"1000\",\"filterType\":\"PRICE_FILTER\",\"tickSize\":\"0.0001\"},{\"stepSize\":\"1\",\"filterType\":\"LOT_SIZE\",\"maxQty\":\"1000000\",\"minQty\":\"1\"},{\"stepSize\":\"1\",\"filterType\":\"MARKET_LOT_SIZE\",\"maxQty\":\"100000\",\"minQty\":\"1\"},{\"limit\":200,\"filterType\":\"MAX_NUM_ORDERS\"},{\"limit\":10,\"filterType\":\"MAX_NUM_ALGO_ORDERS\"},{\"notional\":\"5\",\"filterType\":\"MIN_NOTIONAL\"},{\"multiplierDown\":\"0.9000\",\"multiplierUp\":\"1.1000\",\"multiplierDecimal\":\"4\",\"filterType\":\"PERCENT_PRICE\"}],\"orderTypes\":[\"LIMIT\",\"MARKET\",\"STOP\",\"STOP_MARKET\",\"TAKE_PROFIT\",\"TAKE_PROFIT_MARKET\",\"TRAILING_STOP_MARKET\"],\"timeInForce\":[\"GTC\",\"IOC\",\"FOK\",\"GTX\"]},{\"symbol\":\"TOMOUSDT\",\"pair\":\"TOMOUSDT\",\"contractType\":\"PERPETUAL\",\"deliveryDate\":4133404800000,\"onboardDate\":1569398400000,\"status\":\"TRADING\",\"maintMarginPercent\":\"2.5000\",\"requiredMarginPercent\":\"5.0000\",\"baseAsset\":\"TOMO\",\"quoteAsset\":\"USDT\",\"marginAsset\":\"USDT\",\"pricePrecision\":4,\"quantityPrecision\":0,\"baseAssetPrecision\":8,\"quotePrecision\":8,\"underlyingType\":\"COIN\",\"underlyingSubType\":[\"Layer-1\"],\"settlePlan\":0,\"triggerProtect\":\"0.1000\",\"liquidationFee\":\"0.015000\",\"marketTakeBound\":\"0.10\",\"filters\":[{\"minPrice\":\"0.0250\",\"maxPrice\":\"1000\",\"filterType\":\"PRICE_FILTER\",\"tickSize\":\"0.0001\"},{\"stepSize\":\"1\",\"filterType\":\"LOT_SIZE\",\"maxQty\":\"10000000\",\"minQty\":\"1\"},{\"stepSize\":\"1\",\"filterType\":\"MARKET_LOT_SIZE\",\"maxQty\":\"500000\",\"minQty\":\"1\"},{\"limit\":200,\"filterType\":\"MAX_NUM_ORDERS\"},{\"limit\":10,\"filterType\":\"MAX_NUM_ALGO_ORDERS\"},{\"notional\":\"5\",\"filterType\":\"MIN_NOTIONAL\"},{\"multiplierDown\":\"0.9000\",\"multiplierUp\":\"1.1000\",\"multiplierDecimal\":\"4\",\"filterType\":\"PERCENT_PRICE\"}],\"orderTypes\":[\"LIMIT\",\"MARKET\",\"STOP\",\"STOP_MARKET\",\"TAKE_PROFIT\",\"TAKE_PROFIT_MARKET\",\"TRAILING_STOP_MARKET\"],\"timeInForce\":[\"GTC\",\"IOC\",\"FOK\",\"GTX\"]},{\"symbol\":\"RENUSDT\",\"pair\":\"RENUSDT\",\"contractType\":\"PERPETUAL\",\"deliveryDate\":4133404800000,\"onboardDate\":1569398400000,\"status\":\"TRADING\",\"maintMarginPercent\":\"2.5000\",\"requiredMarginPercent\":\"5.0000\",\"baseAsset\":\"REN\",\"quoteAsset\":\"USDT\",\"marginAsset\":\"USDT\",\"pricePrecision\":5,\"quantityPrecision\":0,\"baseAssetPrecision\":8,\"quotePrecision\":8,\"underlyingType\":\"COIN\",\"underlyingSubType\":[\"DeFi\"],\"settlePlan\":0,\"triggerProtect\":\"0.1000\",\"liquidationFee\":\"0.010000\",\"marketTakeBound\":\"0.10\",\"filters\":[{\"minPrice\":\"0.00880\",\"maxPrice\":\"100\",\"filterType\":\"PRICE_FILTER\",\"tickSize\":\"0.00001\"},{\"stepSize\":\"1\",\"filterType\":\"LOT_SIZE\",\"maxQty\":\"10000000\",\"minQty\":\"1\"},{\"stepSize\":\"1\",\"filterType\":\"MARKET_LOT_SIZE\",\"maxQty\":\"1000000\",\"minQty\":\"1\"},{\"limit\":200,\"filterType\":\"MAX_NUM_ORDERS\"},{\"limit\":10,\"filterType\":\"MAX_NUM_ALGO_ORDERS\"},{\"notional\":\"5\",\"filterType\":\"MIN_NOTIONAL\"},{\"multiplierDown\":\"0.9000\",\"multiplierUp\":\"1.1000\",\"multiplierDecimal\":\"4\",\"filterType\":\"PERCENT_PRICE\"}],\"orderTypes\":[\"LIMIT\",\"MARKET\",\"STOP\",\"STOP_MARKET\",\"TAKE_PROFIT\",\"TAKE_PROFIT_MARKET\",\"TRAILING_STOP_MARKET\"],\"timeInForce\":[\"GTC\",\"IOC\",\"FOK\",\"GTX\"]},{\"symbol\":\"KSMUSDT\",\"pair\":\"KSMUSDT\",\"contractType\":\"PERPETUAL\",\"deliveryDate\":4133404800000,\"onboardDate\":1569398400000,\"status\":\"TRADING\",\"maintMarginPercent\":\"2.5000\",\"requiredMarginPercent\":\"5.0000\",\"baseAsset\":\"KSM\",\"quoteAsset\":\"USDT\",\"marginAsset\":\"USDT\",\"pricePrecision\":3,\"quantityPrecision\":1,\"baseAssetPrecision\":8,\"quotePrecision\":8,\"underlyingType\":\"COIN\",\"underlyingSubType\":[\"Layer-1\"],\"settlePlan\":0,\"triggerProtect\":\"0.1000\",\"liquidationFee\":\"0.012500\",\"marketTakeBound\":\"0.10\",\"filters\":[{\"minPrice\":\"4.060\",\"maxPrice\":\"28450\",\"filterType\":\"PRICE_FILTER\",\"tickSize\":\"0.010\"},{\"stepSize\":\"0.1\",\"filterType\":\"LOT_SIZE\",\"maxQty\":\"1000000\",\"minQty\":\"0.1\"},{\"stepSize\":\"0.1\",\"filterType\":\"MARKET_LOT_SIZE\",\"maxQty\":\"1000\",\"minQty\":\"0.1\"},{\"limit\":200,\"filterType\":\"MAX_NUM_ORDERS\"},{\"limit\":10,\"filterType\":\"MAX_NUM_ALGO_ORDERS\"},{\"notional\":\"5\",\"filterType\":\"MIN_NOTIONAL\"},{\"multiplierDown\":\"0.9000\",\"multiplierUp\":\"1.1000\",\"multiplierDecimal\":\"4\",\"filterType\":\"PERCENT_PRICE\"}],\"orderTypes\":[\"LIMIT\",\"MARKET\",\"STOP\",\"STOP_MARKET\",\"TAKE_PROFIT\",\"TAKE_PROFIT_MARKET\",\"TRAILING_STOP_MARKET\"],\"timeInForce\":[\"GTC\",\"IOC\",\"FOK\",\"GTX\"]},{\"symbol\":\"NEARUSDT\",\"pair\":\"NEARUSDT\",\"contractType\":\"PERPETUAL\",\"deliveryDate\":4133404800000,\"onboardDate\":1569398400000,\"status\":\"TRADING\",\"maintMarginPercent\":\"2.5000\",\"requiredMarginPercent\":\"5.0000\",\"baseAsset\":\"NEAR\",\"quoteAsset\":\"USDT\",\"marginAsset\":\"USDT\",\"pricePrecision\":4,\"quantityPrecision\":0,\"baseAssetPrecision\":8,\"quotePrecision\":8,\"underlyingType\":\"COIN\",\"underlyingSubType\":[\"Layer-2\"],\"settlePlan\":0,\"triggerProtect\":\"0.1000\",\"liquidationFee\":\"0.010000\",\"marketTakeBound\":\"0.10\",\"filters\":[{\"minPrice\":\"0.0480\",\"maxPrice\":\"1000\",\"filterType\":\"PRICE_FILTER\",\"tickSize\":\"0.0010\"},{\"stepSize\":\"1\",\"filterType\":\"LOT_SIZE\",\"maxQty\":\"10000000\",\"minQty\":\"1\"},{\"stepSize\":\"1\",\"filterType\":\"MARKET_LOT_SIZE\",\"maxQty\":\"24000\",\"minQty\":\"1\"},{\"limit\":200,\"filterType\":\"MAX_NUM_ORDERS\"},{\"limit\":10,\"filterType\":\"MAX_NUM_ALGO_ORDERS\"},{\"notional\":\"5\",\"filterType\":\"MIN_NOTIONAL\"},{\"multiplierDown\":\"0.9000\",\"multiplierUp\":\"1.1000\",\"multiplierDecimal\":\"4\",\"filterType\":\"PERCENT_PRICE\"}],\"orderTypes\":[\"LIMIT\",\"MARKET\",\"STOP\",\"STOP_MARKET\",\"TAKE_PROFIT\",\"TAKE_PROFIT_MARKET\",\"TRAILING_STOP_MARKET\"],\"timeInForce\":[\"GTC\",\"IOC\",\"FOK\",\"GTX\"]},{\"symbol\":\"AAVEUSDT\",\"pair\":\"AAVEUSDT\",\"contractType\":\"PERPETUAL\",\"deliveryDate\":4133404800000,\"onboardDate\":1569398400000,\"status\":\"TRADING\",\"maintMarginPercent\":\"2.5000\",\"requiredMarginPercent\":\"5.0000\",\"baseAsset\":\"AAVE\",\"quoteAsset\":\"USDT\",\"marginAsset\":\"USDT\",\"pricePrecision\":3,\"quantityPrecision\":1,\"baseAssetPrecision\":8,\"quotePrecision\":8,\"underlyingType\":\"COIN\",\"underlyingSubType\":[\"DeFi\"],\"settlePlan\":0,\"triggerProtect\":\"0.1000\",\"liquidationFee\":\"0.012500\",\"marketTakeBound\":\"0.10\",\"filters\":[{\"minPrice\":\"4.340\",\"maxPrice\":\"38702\",\"filterType\":\"PRICE_FILTER\",\"tickSize\":\"0.010\"},{\"stepSize\":\"0.1\",\"filterType\":\"LOT_SIZE\",\"maxQty\":\"1000000\",\"minQty\":\"0.1\"},{\"stepSize\":\"0.1\",\"filterType\":\"MARKET_LOT_SIZE\",\"maxQty\":\"1250\",\"minQty\":\"0.1\"},{\"limit\":200,\"filterType\":\"MAX_NUM_ORDERS\"},{\"limit\":10,\"filterType\":\"MAX_NUM_ALGO_ORDERS\"},{\"notional\":\"5\",\"filterType\":\"MIN_NOTIONAL\"},{\"multiplierDown\":\"0.9000\",\"multiplierUp\":\"1.1000\",\"multiplierDecimal\":\"4\",\"filterType\":\"PERCENT_PRICE\"}],\"orderTypes\":[\"LIMIT\",\"MARKET\",\"STOP\",\"STOP_MARKET\",\"TAKE_PROFIT\",\"TAKE_PROFIT_MARKET\",\"TRAILING_STOP_MARKET\"],\"timeInForce\":[\"GTC\",\"IOC\",\"FOK\",\"GTX\"]},{\"symbol\":\"FILUSDT\",\"pair\":\"FILUSDT\",\"contractType\":\"PERPETUAL\",\"deliveryDate\":4133404800000,\"onboardDate\":1569398400000,\"status\":\"TRADING\",\"maintMarginPercent\":\"2.5000\",\"requiredMarginPercent\":\"5.0000\",\"baseAsset\":\"FIL\",\"quoteAsset\":\"USDT\",\"marginAsset\":\"USDT\",\"pricePrecision\":3,\"quantityPrecision\":1,\"baseAssetPrecision\":8,\"quotePrecision\":8,\"underlyingType\":\"COIN\",\"underlyingSubType\":[\"Storage\"],\"settlePlan\":0,\"triggerProtect\":\"0.1000\",\"liquidationFee\":\"0.015000\",\"marketTakeBound\":\"0.10\",\"filters\":[{\"minPrice\":\"1.381\",\"maxPrice\":\"10000\",\"filterType\":\"PRICE_FILTER\",\"tickSize\":\"0.001\"},{\"stepSize\":\"0.1\",\"filterType\":\"LOT_SIZE\",\"maxQty\":\"10000000\",\"minQty\":\"0.1\"},{\"stepSize\":\"0.1\",\"filterType\":\"MARKET_LOT_SIZE\",\"maxQty\":\"7500\",\"minQty\":\"0.1\"},{\"limit\":200,\"filterType\":\"MAX_NUM_ORDERS\"},{\"limit\":10,\"filterType\":\"MAX_NUM_ALGO_ORDERS\"},{\"notional\":\"5\",\"filterType\":\"MIN_NOTIONAL\"},{\"multiplierDown\":\"0.9000\",\"multiplierUp\":\"1.1000\",\"multiplierDecimal\":\"4\",\"filterType\":\"PERCENT_PRICE\"}],\"orderTypes\":[\"LIMIT\",\"MARKET\",\"STOP\",\"STOP_MARKET\",\"TAKE_PROFIT\",\"TAKE_PROFIT_MARKET\",\"TRAILING_STOP_MARKET\"],\"timeInForce\":[\"GTC\",\"IOC\",\"FOK\",\"GTX\"]},{\"symbol\":\"RSRUSDT\",\"pair\":\"RSRUSDT\",\"contractType\":\"PERPETUAL\",\"deliveryDate\":4133404800000,\"onboardDate\":1569398400000,\"status\":\"TRADING\",\"maintMarginPercent\":\"2.5000\",\"requiredMarginPercent\":\"5.0000\",\"baseAsset\":\"RSR\",\"quoteAsset\":\"USDT\",\"marginAsset\":\"USDT\",\"pricePrecision\":6,\"quantityPrecision\":0,\"baseAssetPrecision\":8,\"quotePrecision\":8,\"underlyingType\":\"COIN\",\"underlyingSubType\":[\"DeFi\"],\"settlePlan\":0,\"triggerProtect\":\"0.1000\",\"liquidationFee\":\"0.010000\",\"marketTakeBound\":\"0.10\",\"filters\":[{\"minPrice\":\"0.000778\",\"maxPrice\":\"10\",\"filterType\":\"PRICE_FILTER\",\"tickSize\":\"0.000001\"},{\"stepSize\":\"1\",\"filterType\":\"LOT_SIZE\",\"maxQty\":\"10000000\",\"minQty\":\"1\"},{\"stepSize\":\"1\",\"filterType\":\"MARKET_LOT_SIZE\",\"maxQty\":\"10000000\",\"minQty\":\"1\"},{\"limit\":200,\"filterType\":\"MAX_NUM_ORDERS\"},{\"limit\":10,\"filterType\":\"MAX_NUM_ALGO_ORDERS\"},{\"notional\":\"5\",\"filterType\":\"MIN_NOTIONAL\"},{\"multiplierDown\":\"0.9000\",\"multiplierUp\":\"1.1000\",\"multiplierDecimal\":\"4\",\"filterType\":\"PERCENT_PRICE\"}],\"orderTypes\":[\"LIMIT\",\"MARKET\",\"STOP\",\"STOP_MARKET\",\"TAKE_PROFIT\",\"TAKE_PROFIT_MARKET\",\"TRAILING_STOP_MARKET\"],\"timeInForce\":[\"GTC\",\"IOC\",\"FOK\",\"GTX\"]},{\"symbol\":\"LRCUSDT\",\"pair\":\"LRCUSDT\",\"contractType\":\"PERPETUAL\",\"deliveryDate\":4133404800000,\"onboardDate\":1569398400000,\"status\":\"TRADING\",\"maintMarginPercent\":\"2.5000\",\"requiredMarginPercent\":\"5.0000\",\"baseAsset\":\"LRC\",\"quoteAsset\":\"USDT\",\"marginAsset\":\"USDT\",\"pricePrecision\":5,\"quantityPrecision\":0,\"baseAssetPrecision\":8,\"quotePrecision\":8,\"underlyingType\":\"COIN\",\"underlyingSubType\":[\"DEX\"],\"settlePlan\":0,\"triggerProtect\":\"0.1000\",\"liquidationFee\":\"0.010000\",\"marketTakeBound\":\"0.10\",\"filters\":[{\"minPrice\":\"0.00520\",\"maxPrice\":\"100\",\"filterType\":\"PRICE_FILTER\",\"tickSize\":\"0.00010\"},{\"stepSize\":\"1\",\"filterType\":\"LOT_SIZE\",\"maxQty\":\"10000000\",\"minQty\":\"1\"},{\"stepSize\":\"1\",\"filterType\":\"MARKET_LOT_SIZE\",\"maxQty\":\"500000\",\"minQty\":\"1\"},{\"limit\":200,\"filterType\":\"MAX_NUM_ORDERS\"},{\"limit\":10,\"filterType\":\"MAX_NUM_ALGO_ORDERS\"},{\"notional\":\"5\",\"filterType\":\"MIN_NOTIONAL\"},{\"multiplierDown\":\"0.9000\",\"multiplierUp\":\"1.1000\",\"multiplierDecimal\":\"4\",\"filterType\":\"PERCENT_PRICE\"}],\"orderTypes\":[\"LIMIT\",\"MARKET\",\"STOP\",\"STOP_MARKET\",\"TAKE_PROFIT\",\"TAKE_PROFIT_MARKET\",\"TRAILING_STOP_MARKET\"],\"timeInForce\":[\"GTC\",\"IOC\",\"FOK\",\"GTX\"]},{\"symbol\":\"MATICUSDT\",\"pair\":\"MATICUSDT\",\"contractType\":\"PERPETUAL\",\"deliveryDate\":4133404800000,\"onboardDate\":1569398400000,\"status\":\"TRADING\",\"maintMarginPercent\":\"2.5000\",\"requiredMarginPercent\":\"5.0000\",\"baseAsset\":\"MATIC\",\"quoteAsset\":\"USDT\",\"marginAsset\":\"USDT\",\"pricePrecision\":5,\"quantityPrecision\":0,\"baseAssetPrecision\":8,\"quotePrecision\":8,\"underlyingType\":\"COIN\",\"underlyingSubType\":[\"Layer-2\"],\"settlePlan\":0,\"triggerProtect\":\"0.1000\",\"liquidationFee\":\"0.010000\",\"marketTakeBound\":\"0.10\",\"filters\":[{\"minPrice\":\"0.00960\",\"maxPrice\":\"137\",\"filterType\":\"PRICE_FILTER\",\"tickSize\":\"0.00010\"},{\"stepSize\":\"1\",\"filterType\":\"LOT_SIZE\",\"maxQty\":\"10000000\",\"minQty\":\"1\"},{\"stepSize\":\"1\",\"filterType\":\"MARKET_LOT_SIZE\",\"maxQty\":\"500000\",\"minQty\":\"1\"},{\"limit\":200,\"filterType\":\"MAX_NUM_ORDERS\"},{\"limit\":10,\"filterType\":\"MAX_NUM_ALGO_ORDERS\"},{\"notional\":\"5\",\"filterType\":\"MIN_NOTIONAL\"},{\"multiplierDown\":\"0.9000\",\"multiplierUp\":\"1.1000\",\"multiplierDecimal\":\"4\",\"filterType\":\"PERCENT_PRICE\"}],\"orderTypes\":[\"LIMIT\",\"MARKET\",\"STOP\",\"STOP_MARKET\",\"TAKE_PROFIT\",\"TAKE_PROFIT_MARKET\",\"TRAILING_STOP_MARKET\"],\"timeInForce\":[\"GTC\",\"IOC\",\"FOK\",\"GTX\"]},{\"symbol\":\"OCEANUSDT\",\"pair\":\"OCEANUSDT\",\"contractType\":\"PERPETUAL\",\"deliveryDate\":4133404800000,\"onboardDate\":1569398400000,\"status\":\"TRADING\",\"maintMarginPercent\":\"2.5000\",\"requiredMarginPercent\":\"5.0000\",\"baseAsset\":\"OCEAN\",\"quoteAsset\":\"USDT\",\"marginAsset\":\"USDT\",\"pricePrecision\":5,\"quantityPrecision\":0,\"baseAssetPrecision\":8,\"quotePrecision\":8,\"underlyingType\":\"COIN\",\"underlyingSubType\":[\"Storage\"],\"settlePlan\":0,\"triggerProtect\":\"0.1000\",\"liquidationFee\":\"0.015000\",\"marketTakeBound\":\"0.10\",\"filters\":[{\"minPrice\":\"0.01379\",\"maxPrice\":\"100\",\"filterType\":\"PRICE_FILTER\",\"tickSize\":\"0.00001\"},{\"stepSize\":\"1\",\"filterType\":\"LOT_SIZE\",\"maxQty\":\"10000000\",\"minQty\":\"1\"},{\"stepSize\":\"1\",\"filterType\":\"MARKET_LOT_SIZE\",\"maxQty\":\"1000000\",\"minQty\":\"1\"},{\"limit\":200,\"filterType\":\"MAX_NUM_ORDERS\"},{\"limit\":10,\"filterType\":\"MAX_NUM_ALGO_ORDERS\"},{\"notional\":\"5\",\"filterType\":\"MIN_NOTIONAL\"},{\"multiplierDown\":\"0.9000\",\"multiplierUp\":\"1.1000\",\"multiplierDecimal\":\"4\",\"filterType\":\"PERCENT_PRICE\"}],\"orderTypes\":[\"LIMIT\",\"MARKET\",\"STOP\",\"STOP_MARKET\",\"TAKE_PROFIT\",\"TAKE_PROFIT_MARKET\",\"TRAILING_STOP_MARKET\"],\"timeInForce\":[\"GTC\",\"IOC\",\"FOK\",\"GTX\"]},{\"symbol\":\"CVCUSDT\",\"pair\":\"CVCUSDT\",\"contractType\":\"PERPETUAL\",\"deliveryDate\":1669712400000,\"onboardDate\":1569398400000,\"status\":\"SETTLING\",\"maintMarginPercent\":\"2.5000\",\"requiredMarginPercent\":\"5.0000\",\"baseAsset\":\"CVC\",\"quoteAsset\":\"USDT\",\"marginAsset\":\"USDT\",\"pricePrecision\":5,\"quantityPrecision\":0,\"baseAssetPrecision\":8,\"quotePrecision\":8,\"underlyingType\":\"COIN\",\"underlyingSubType\":[\"Infrastructure\"],\"settlePlan\":1669712400000,\"triggerProtect\":\"0.1000\",\"liquidationFee\":\"0.025000\",\"marketTakeBound\":\"0.10\",\"filters\":[{\"minPrice\":\"0.00517\",\"maxPrice\":\"100\",\"filterType\":\"PRICE_FILTER\",\"tickSize\":\"0.00001\"},{\"stepSize\":\"1\",\"filterType\":\"LOT_SIZE\",\"maxQty\":\"10000000\",\"minQty\":\"1\"},{\"stepSize\":\"1\",\"filterType\":\"MARKET_LOT_SIZE\",\"maxQty\":\"800000\",\"minQty\":\"1\"},{\"limit\":200,\"filterType\":\"MAX_NUM_ORDERS\"},{\"limit\":10,\"filterType\":\"MAX_NUM_ALGO_ORDERS\"},{\"notional\":\"5\",\"filterType\":\"MIN_NOTIONAL\"},{\"multiplierDown\":\"0.9000\",\"multiplierUp\":\"1.1000\",\"multiplierDecimal\":\"4\",\"filterType\":\"PERCENT_PRICE\"}],\"orderTypes\":[\"LIMIT\",\"MARKET\",\"STOP\",\"STOP_MARKET\",\"TAKE_PROFIT\",\"TAKE_PROFIT_MARKET\",\"TRAILING_STOP_MARKET\"],\"timeInForce\":[\"GTC\",\"IOC\",\"FOK\",\"GTX\"]},{\"symbol\":\"BELUSDT\",\"pair\":\"BELUSDT\",\"contractType\":\"PERPETUAL\",\"deliveryDate\":4133404800000,\"onboardDate\":1569398400000,\"status\":\"TRADING\",\"maintMarginPercent\":\"2.5000\",\"requiredMarginPercent\":\"5.0000\",\"baseAsset\":\"BEL\",\"quoteAsset\":\"USDT\",\"marginAsset\":\"USDT\",\"pricePrecision\":5,\"quantityPrecision\":0,\"baseAssetPrecision\":8,\"quotePrecision\":8,\"underlyingType\":\"COIN\",\"underlyingSubType\":[\"DeFi\"],\"settlePlan\":0,\"triggerProtect\":\"0.1000\",\"liquidationFee\":\"0.015000\",\"marketTakeBound\":\"0.10\",\"filters\":[{\"minPrice\":\"0.03610\",\"maxPrice\":\"204\",\"filterType\":\"PRICE_FILTER\",\"tickSize\":\"0.00010\"},{\"stepSize\":\"1\",\"filterType\":\"LOT_SIZE\",\"maxQty\":\"10000000\",\"minQty\":\"1\"},{\"stepSize\":\"1\",\"filterType\":\"MARKET_LOT_SIZE\",\"maxQty\":\"150000\",\"minQty\":\"1\"},{\"limit\":200,\"filterType\":\"MAX_NUM_ORDERS\"},{\"limit\":10,\"filterType\":\"MAX_NUM_ALGO_ORDERS\"},{\"notional\":\"5\",\"filterType\":\"MIN_NOTIONAL\"},{\"multiplierDown\":\"0.9000\",\"multiplierUp\":\"1.1000\",\"multiplierDecimal\":\"4\",\"filterType\":\"PERCENT_PRICE\"}],\"orderTypes\":[\"LIMIT\",\"MARKET\",\"STOP\",\"STOP_MARKET\",\"TAKE_PROFIT\",\"TAKE_PROFIT_MARKET\",\"TRAILING_STOP_MARKET\"],\"timeInForce\":[\"GTC\",\"IOC\",\"FOK\",\"GTX\"]},{\"symbol\":\"CTKUSDT\",\"pair\":\"CTKUSDT\",\"contractType\":\"PERPETUAL\",\"deliveryDate\":4133404800000,\"onboardDate\":1569398400000,\"status\":\"TRADING\",\"maintMarginPercent\":\"2.5000\",\"requiredMarginPercent\":\"5.0000\",\"baseAsset\":\"CTK\",\"quoteAsset\":\"USDT\",\"marginAsset\":\"USDT\",\"pricePrecision\":5,\"quantityPrecision\":0,\"baseAssetPrecision\":8,\"quotePrecision\":8,\"underlyingType\":\"COIN\",\"underlyingSubType\":[\"Infrastructure\"],\"settlePlan\":0,\"triggerProtect\":\"0.1000\",\"liquidationFee\":\"0.015000\",\"marketTakeBound\":\"0.10\",\"filters\":[{\"minPrice\":\"0.02600\",\"maxPrice\":\"180\",\"filterType\":\"PRICE_FILTER\",\"tickSize\":\"0.00010\"},{\"stepSize\":\"1\",\"filterType\":\"LOT_SIZE\",\"maxQty\":\"10000000\",\"minQty\":\"1\"},{\"stepSize\":\"1\",\"filterType\":\"MARKET_LOT_SIZE\",\"maxQty\":\"800000\",\"minQty\":\"1\"},{\"limit\":200,\"filterType\":\"MAX_NUM_ORDERS\"},{\"limit\":10,\"filterType\":\"MAX_NUM_ALGO_ORDERS\"},{\"notional\":\"5\",\"filterType\":\"MIN_NOTIONAL\"},{\"multiplierDown\":\"0.9000\",\"multiplierUp\":\"1.1000\",\"multiplierDecimal\":\"4\",\"filterType\":\"PERCENT_PRICE\"}],\"orderTypes\":[\"LIMIT\",\"MARKET\",\"STOP\",\"STOP_MARKET\",\"TAKE_PROFIT\",\"TAKE_PROFIT_MARKET\",\"TRAILING_STOP_MARKET\"],\"timeInForce\":[\"GTC\",\"IOC\",\"FOK\",\"GTX\"]},{\"symbol\":\"AXSUSDT\",\"pair\":\"AXSUSDT\",\"contractType\":\"PERPETUAL\",\"deliveryDate\":4133404800000,\"onboardDate\":1569398400000,\"status\":\"TRADING\",\"maintMarginPercent\":\"2.5000\",\"requiredMarginPercent\":\"5.0000\",\"baseAsset\":\"AXS\",\"quoteAsset\":\"USDT\",\"marginAsset\":\"USDT\",\"pricePrecision\":5,\"quantityPrecision\":0,\"baseAssetPrecision\":8,\"quotePrecision\":8,\"underlyingType\":\"COIN\",\"underlyingSubType\":[\"Metaverse\"],\"settlePlan\":0,\"triggerProtect\":\"0.1000\",\"liquidationFee\":\"0.020000\",\"marketTakeBound\":\"0.10\",\"filters\":[{\"minPrice\":\"0.08000\",\"maxPrice\":\"6989\",\"filterType\":\"PRICE_FILTER\",\"tickSize\":\"0.00100\"},{\"stepSize\":\"1\",\"filterType\":\"LOT_SIZE\",\"maxQty\":\"10000000\",\"minQty\":\"1\"},{\"stepSize\":\"1\",\"filterType\":\"MARKET_LOT_SIZE\",\"maxQty\":\"8000\",\"minQty\":\"1\"},{\"limit\":200,\"filterType\":\"MAX_NUM_ORDERS\"},{\"limit\":10,\"filterType\":\"MAX_NUM_ALGO_ORDERS\"},{\"notional\":\"5\",\"filterType\":\"MIN_NOTIONAL\"},{\"multiplierDown\":\"0.9000\",\"multiplierUp\":\"1.1000\",\"multiplierDecimal\":\"4\",\"filterType\":\"PERCENT_PRICE\"}],\"orderTypes\":[\"LIMIT\",\"MARKET\",\"STOP\",\"STOP_MARKET\",\"TAKE_PROFIT\",\"TAKE_PROFIT_MARKET\",\"TRAILING_STOP_MARKET\"],\"timeInForce\":[\"GTC\",\"IOC\",\"FOK\",\"GTX\"]},{\"symbol\":\"ALPHAUSDT\",\"pair\":\"ALPHAUSDT\",\"contractType\":\"PERPETUAL\",\"deliveryDate\":4133404800000,\"onboardDate\":1569398400000,\"status\":\"TRADING\",\"maintMarginPercent\":\"2.5000\",\"requiredMarginPercent\":\"5.0000\",\"baseAsset\":\"ALPHA\",\"quoteAsset\":\"USDT\",\"marginAsset\":\"USDT\",\"pricePrecision\":5,\"quantityPrecision\":0,\"baseAssetPrecision\":8,\"quotePrecision\":8,\"underlyingType\":\"COIN\",\"underlyingSubType\":[\"DeFi\"],\"settlePlan\":0,\"triggerProtect\":\"0.1000\",\"liquidationFee\":\"0.015000\",\"marketTakeBound\":\"0.10\",\"filters\":[{\"minPrice\":\"0.01760\",\"maxPrice\":\"100\",\"filterType\":\"PRICE_FILTER\",\"tickSize\":\"0.00001\"},{\"stepSize\":\"1\",\"filterType\":\"LOT_SIZE\",\"maxQty\":\"5000000\",\"minQty\":\"1\"},{\"stepSize\":\"1\",\"filterType\":\"MARKET_LOT_SIZE\",\"maxQty\":\"500000\",\"minQty\":\"1\"},{\"limit\":200,\"filterType\":\"MAX_NUM_ORDERS\"},{\"limit\":10,\"filterType\":\"MAX_NUM_ALGO_ORDERS\"},{\"notional\":\"5\",\"filterType\":\"MIN_NOTIONAL\"},{\"multiplierDown\":\"0.9000\",\"multiplierUp\":\"1.1000\",\"multiplierDecimal\":\"4\",\"filterType\":\"PERCENT_PRICE\"}],\"orderTypes\":[\"LIMIT\",\"MARKET\",\"STOP\",\"STOP_MARKET\",\"TAKE_PROFIT\",\"TAKE_PROFIT_MARKET\",\"TRAILING_STOP_MARKET\"],\"timeInForce\":[\"GTC\",\"IOC\",\"FOK\",\"GTX\"]},{\"symbol\":\"ZENUSDT\",\"pair\":\"ZENUSDT\",\"contractType\":\"PERPETUAL\",\"deliveryDate\":4133404800000,\"onboardDate\":1569398400000,\"status\":\"TRADING\",\"maintMarginPercent\":\"2.5000\",\"requiredMarginPercent\":\"5.0000\",\"baseAsset\":\"ZEN\",\"quoteAsset\":\"USDT\",\"marginAsset\":\"USDT\",\"pricePrecision\":3,\"quantityPrecision\":1,\"baseAssetPrecision\":8,\"quotePrecision\":8,\"underlyingType\":\"COIN\",\"underlyingSubType\":[\"Privacy\"],\"settlePlan\":0,\"triggerProtect\":\"0.1000\",\"liquidationFee\":\"0.010000\",\"marketTakeBound\":\"0.10\",\"filters\":[{\"minPrice\":\"1.437\",\"maxPrice\":\"10000\",\"filterType\":\"PRICE_FILTER\",\"tickSize\":\"0.001\"},{\"stepSize\":\"0.1\",\"filterType\":\"LOT_SIZE\",\"maxQty\":\"1000000\",\"minQty\":\"0.1\"},{\"stepSize\":\"0.1\",\"filterType\":\"MARKET_LOT_SIZE\",\"maxQty\":\"4000\",\"minQty\":\"0.1\"},{\"limit\":200,\"filterType\":\"MAX_NUM_ORDERS\"},{\"limit\":10,\"filterType\":\"MAX_NUM_ALGO_ORDERS\"},{\"notional\":\"5\",\"filterType\":\"MIN_NOTIONAL\"},{\"multiplierDown\":\"0.9000\",\"multiplierUp\":\"1.1000\",\"multiplierDecimal\":\"4\",\"filterType\":\"PERCENT_PRICE\"}],\"orderTypes\":[\"LIMIT\",\"MARKET\",\"STOP\",\"STOP_MARKET\",\"TAKE_PROFIT\",\"TAKE_PROFIT_MARKET\",\"TRAILING_STOP_MARKET\"],\"timeInForce\":[\"GTC\",\"IOC\",\"FOK\",\"GTX\"]},{\"symbol\":\"SKLUSDT\",\"pair\":\"SKLUSDT\",\"contractType\":\"PERPETUAL\",\"deliveryDate\":4133404800000,\"onboardDate\":1598252400000,\"status\":\"TRADING\",\"maintMarginPercent\":\"2.5000\",\"requiredMarginPercent\":\"5.0000\",\"baseAsset\":\"SKL\",\"quoteAsset\":\"USDT\",\"marginAsset\":\"USDT\",\"pricePrecision\":5,\"quantityPrecision\":0,\"baseAssetPrecision\":8,\"quotePrecision\":8,\"underlyingType\":\"COIN\",\"underlyingSubType\":[\"Layer-2\"],\"settlePlan\":0,\"triggerProtect\":\"0.1000\",\"liquidationFee\":\"0.010000\",\"marketTakeBound\":\"0.10\",\"filters\":[{\"minPrice\":\"0.00544\",\"maxPrice\":\"100\",\"filterType\":\"PRICE_FILTER\",\"tickSize\":\"0.00001\"},{\"stepSize\":\"1\",\"filterType\":\"LOT_SIZE\",\"maxQty\":\"10000000\",\"minQty\":\"1\"},{\"stepSize\":\"1\",\"filterType\":\"MARKET_LOT_SIZE\",\"maxQty\":\"1000000\",\"minQty\":\"1\"},{\"limit\":200,\"filterType\":\"MAX_NUM_ORDERS\"},{\"limit\":10,\"filterType\":\"MAX_NUM_ALGO_ORDERS\"},{\"notional\":\"5\",\"filterType\":\"MIN_NOTIONAL\"},{\"multiplierDown\":\"0.9000\",\"multiplierUp\":\"1.1000\",\"multiplierDecimal\":\"4\",\"filterType\":\"PERCENT_PRICE\"}],\"orderTypes\":[\"LIMIT\",\"MARKET\",\"STOP\",\"STOP_MARKET\",\"TAKE_PROFIT\",\"TAKE_PROFIT_MARKET\",\"TRAILING_STOP_MARKET\"],\"timeInForce\":[\"GTC\",\"IOC\",\"FOK\",\"GTX\"]},{\"symbol\":\"GRTUSDT\",\"pair\":\"GRTUSDT\",\"contractType\":\"PERPETUAL\",\"deliveryDate\":4133404800000,\"onboardDate\":1608274800000,\"status\":\"TRADING\",\"maintMarginPercent\":\"2.5000\",\"requiredMarginPercent\":\"5.0000\",\"baseAsset\":\"GRT\",\"quoteAsset\":\"USDT\",\"marginAsset\":\"USDT\",\"pricePrecision\":5,\"quantityPrecision\":0,\"baseAssetPrecision\":8,\"quotePrecision\":8,\"underlyingType\":\"COIN\",\"underlyingSubType\":[\"Oracle\"],\"settlePlan\":0,\"triggerProtect\":\"0.1000\",\"liquidationFee\":\"0.010000\",\"marketTakeBound\":\"0.10\",\"filters\":[{\"minPrice\":\"0.01398\",\"maxPrice\":\"100\",\"filterType\":\"PRICE_FILTER\",\"tickSize\":\"0.00001\"},{\"stepSize\":\"1\",\"filterType\":\"LOT_SIZE\",\"maxQty\":\"1000000\",\"minQty\":\"1\"},{\"stepSize\":\"1\",\"filterType\":\"MARKET_LOT_SIZE\",\"maxQty\":\"150000\",\"minQty\":\"1\"},{\"limit\":200,\"filterType\":\"MAX_NUM_ORDERS\"},{\"limit\":10,\"filterType\":\"MAX_NUM_ALGO_ORDERS\"},{\"notional\":\"5\",\"filterType\":\"MIN_NOTIONAL\"},{\"multiplierDown\":\"0.9000\",\"multiplierUp\":\"1.1000\",\"multiplierDecimal\":\"4\",\"filterType\":\"PERCENT_PRICE\"}],\"orderTypes\":[\"LIMIT\",\"MARKET\",\"STOP\",\"STOP_MARKET\",\"TAKE_PROFIT\",\"TAKE_PROFIT_MARKET\",\"TRAILING_STOP_MARKET\"],\"timeInForce\":[\"GTC\",\"IOC\",\"FOK\",\"GTX\"]},{\"symbol\":\"1INCHUSDT\",\"pair\":\"1INCHUSDT\",\"contractType\":\"PERPETUAL\",\"deliveryDate\":4133404800000,\"onboardDate\":1608879600000,\"status\":\"TRADING\",\"maintMarginPercent\":\"2.5000\",\"requiredMarginPercent\":\"5.0000\",\"baseAsset\":\"1INCH\",\"quoteAsset\":\"USDT\",\"marginAsset\":\"USDT\",\"pricePrecision\":4,\"quantityPrecision\":0,\"baseAssetPrecision\":8,\"quotePrecision\":8,\"underlyingType\":\"COIN\",\"underlyingSubType\":[\"DEX\"],\"settlePlan\":0,\"triggerProtect\":\"0.1000\",\"liquidationFee\":\"0.010000\",\"marketTakeBound\":\"0.10\",\"filters\":[{\"minPrice\":\"0.0613\",\"maxPrice\":\"100000\",\"filterType\":\"PRICE_FILTER\",\"tickSize\":\"0.0001\"},{\"stepSize\":\"1\",\"filterType\":\"LOT_SIZE\",\"maxQty\":\"1000000\",\"minQty\":\"1\"},{\"stepSize\":\"1\",\"filterType\":\"MARKET_LOT_SIZE\",\"maxQty\":\"100000\",\"minQty\":\"1\"},{\"limit\":200,\"filterType\":\"MAX_NUM_ORDERS\"},{\"limit\":10,\"filterType\":\"MAX_NUM_ALGO_ORDERS\"},{\"notional\":\"5\",\"filterType\":\"MIN_NOTIONAL\"},{\"multiplierDown\":\"0.9000\",\"multiplierUp\":\"1.1000\",\"multiplierDecimal\":\"4\",\"filterType\":\"PERCENT_PRICE\"}],\"orderTypes\":[\"LIMIT\",\"MARKET\",\"STOP\",\"STOP_MARKET\",\"TAKE_PROFIT\",\"TAKE_PROFIT_MARKET\",\"TRAILING_STOP_MARKET\"],\"timeInForce\":[\"GTC\",\"IOC\",\"FOK\",\"GTX\"]},{\"symbol\":\"BTCBUSD\",\"pair\":\"BTCBUSD\",\"contractType\":\"PERPETUAL\",\"deliveryDate\":4133404800000,\"onboardDate\":1610352000000,\"status\":\"TRADING\",\"maintMarginPercent\":\"2.5000\",\"requiredMarginPercent\":\"5.0000\",\"baseAsset\":\"BTC\",\"quoteAsset\":\"BUSD\",\"marginAsset\":\"BUSD\",\"pricePrecision\":1,\"quantityPrecision\":3,\"baseAssetPrecision\":8,\"quotePrecision\":8,\"underlyingType\":\"COIN\",\"underlyingSubType\":[\"BUSD\"],\"settlePlan\":0,\"triggerProtect\":\"0.0500\",\"liquidationFee\":\"0.012500\",\"marketTakeBound\":\"0.05\",\"filters\":[{\"minPrice\":\"557.6\",\"maxPrice\":\"4529890\",\"filterType\":\"PRICE_FILTER\",\"tickSize\":\"0.1\"},{\"stepSize\":\"0.001\",\"filterType\":\"LOT_SIZE\",\"maxQty\":\"500\",\"minQty\":\"0.001\"},{\"stepSize\":\"0.001\",\"filterType\":\"MARKET_LOT_SIZE\",\"maxQty\":\"50\",\"minQty\":\"0.001\"},{\"limit\":200,\"filterType\":\"MAX_NUM_ORDERS\"},{\"limit\":10,\"filterType\":\"MAX_NUM_ALGO_ORDERS\"},{\"notional\":\"5\",\"filterType\":\"MIN_NOTIONAL\"},{\"multiplierDown\":\"0.9500\",\"multiplierUp\":\"1.0500\",\"multiplierDecimal\":\"4\",\"filterType\":\"PERCENT_PRICE\"}],\"orderTypes\":[\"LIMIT\",\"MARKET\",\"STOP\",\"STOP_MARKET\",\"TAKE_PROFIT\",\"TAKE_PROFIT_MARKET\",\"TRAILING_STOP_MARKET\"],\"timeInForce\":[\"GTC\",\"IOC\",\"FOK\",\"GTX\"]},{\"symbol\":\"CHZUSDT\",\"pair\":\"CHZUSDT\",\"contractType\":\"PERPETUAL\",\"deliveryDate\":4133404800000,\"onboardDate\":1611212400000,\"status\":\"TRADING\",\"maintMarginPercent\":\"2.5000\",\"requiredMarginPercent\":\"5.0000\",\"baseAsset\":\"CHZ\",\"quoteAsset\":\"USDT\",\"marginAsset\":\"USDT\",\"pricePrecision\":5,\"quantityPrecision\":0,\"baseAssetPrecision\":8,\"quotePrecision\":8,\"underlyingType\":\"COIN\",\"underlyingSubType\":[\"NFT\"],\"settlePlan\":0,\"triggerProtect\":\"0.1000\",\"liquidationFee\":\"0.015000\",\"marketTakeBound\":\"0.10\",\"filters\":[{\"minPrice\":\"0.00447\",\"maxPrice\":\"100\",\"filterType\":\"PRICE_FILTER\",\"tickSize\":\"0.00001\"},{\"stepSize\":\"1\",\"filterType\":\"LOT_SIZE\",\"maxQty\":\"10000000\",\"minQty\":\"1\"},{\"stepSize\":\"1\",\"filterType\":\"MARKET_LOT_SIZE\",\"maxQty\":\"850000\",\"minQty\":\"1\"},{\"limit\":200,\"filterType\":\"MAX_NUM_ORDERS\"},{\"limit\":10,\"filterType\":\"MAX_NUM_ALGO_ORDERS\"},{\"notional\":\"5\",\"filterType\":\"MIN_NOTIONAL\"},{\"multiplierDown\":\"0.9000\",\"multiplierUp\":\"1.1000\",\"multiplierDecimal\":\"4\",\"filterType\":\"PERCENT_PRICE\"}],\"orderTypes\":[\"LIMIT\",\"MARKET\",\"STOP\",\"STOP_MARKET\",\"TAKE_PROFIT\",\"TAKE_PROFIT_MARKET\",\"TRAILING_STOP_MARKET\"],\"timeInForce\":[\"GTC\",\"IOC\",\"FOK\",\"GTX\"]},{\"symbol\":\"SANDUSDT\",\"pair\":\"SANDUSDT\",\"contractType\":\"PERPETUAL\",\"deliveryDate\":4133404800000,\"onboardDate\":1610953200000,\"status\":\"TRADING\",\"maintMarginPercent\":\"2.5000\",\"requiredMarginPercent\":\"5.0000\",\"baseAsset\":\"SAND\",\"quoteAsset\":\"USDT\",\"marginAsset\":\"USDT\",\"pricePrecision\":5,\"quantityPrecision\":0,\"baseAssetPrecision\":8,\"quotePrecision\":8,\"underlyingType\":\"COIN\",\"underlyingSubType\":[\"Metaverse\"],\"settlePlan\":0,\"triggerProtect\":\"0.1000\",\"liquidationFee\":\"0.015000\",\"marketTakeBound\":\"0.10\",\"filters\":[{\"minPrice\":\"0.00500\",\"maxPrice\":\"20000\",\"filterType\":\"PRICE_FILTER\",\"tickSize\":\"0.00010\"},{\"stepSize\":\"1\",\"filterType\":\"LOT_SIZE\",\"maxQty\":\"10000000\",\"minQty\":\"1\"},{\"stepSize\":\"1\",\"filterType\":\"MARKET_LOT_SIZE\",\"maxQty\":\"500000\",\"minQty\":\"1\"},{\"limit\":200,\"filterType\":\"MAX_NUM_ORDERS\"},{\"limit\":10,\"filterType\":\"MAX_NUM_ALGO_ORDERS\"},{\"notional\":\"5\",\"filterType\":\"MIN_NOTIONAL\"},{\"multiplierDown\":\"0.9000\",\"multiplierUp\":\"1.1000\",\"multiplierDecimal\":\"4\",\"filterType\":\"PERCENT_PRICE\"}],\"orderTypes\":[\"LIMIT\",\"MARKET\",\"STOP\",\"STOP_MARKET\",\"TAKE_PROFIT\",\"TAKE_PROFIT_MARKET\",\"TRAILING_STOP_MARKET\"],\"timeInForce\":[\"GTC\",\"IOC\",\"FOK\",\"GTX\"]},{\"symbol\":\"ANKRUSDT\",\"pair\":\"ANKRUSDT\",\"contractType\":\"PERPETUAL\",\"deliveryDate\":4133404800000,\"onboardDate\":1611558000000,\"status\":\"TRADING\",\"maintMarginPercent\":\"2.5000\",\"requiredMarginPercent\":\"5.0000\",\"baseAsset\":\"ANKR\",\"quoteAsset\":\"USDT\",\"marginAsset\":\"USDT\",\"pricePrecision\":6,\"quantityPrecision\":0,\"baseAssetPrecision\":8,\"quotePrecision\":8,\"underlyingType\":\"COIN\",\"underlyingSubType\":[\"Infrastructure\"],\"settlePlan\":0,\"triggerProtect\":\"0.1000\",\"liquidationFee\":\"0.010000\",\"marketTakeBound\":\"0.10\",\"filters\":[{\"minPrice\":\"0.001510\",\"maxPrice\":\"2000\",\"filterType\":\"PRICE_FILTER\",\"tickSize\":\"0.000010\"},{\"stepSize\":\"1\",\"filterType\":\"LOT_SIZE\",\"maxQty\":\"60000000\",\"minQty\":\"1\"},{\"stepSize\":\"1\",\"filterType\":\"MARKET_LOT_SIZE\",\"maxQty\":\"10000000\",\"minQty\":\"1\"},{\"limit\":200,\"filterType\":\"MAX_NUM_ORDERS\"},{\"limit\":10,\"filterType\":\"MAX_NUM_ALGO_ORDERS\"},{\"notional\":\"5\",\"filterType\":\"MIN_NOTIONAL\"},{\"multiplierDown\":\"0.9000\",\"multiplierUp\":\"1.1000\",\"multiplierDecimal\":\"4\",\"filterType\":\"PERCENT_PRICE\"}],\"orderTypes\":[\"LIMIT\",\"MARKET\",\"STOP\",\"STOP_MARKET\",\"TAKE_PROFIT\",\"TAKE_PROFIT_MARKET\",\"TRAILING_STOP_MARKET\"],\"timeInForce\":[\"GTC\",\"IOC\",\"FOK\",\"GTX\"]},{\"symbol\":\"BTSUSDT\",\"pair\":\"BTSUSDT\",\"contractType\":\"PERPETUAL\",\"deliveryDate\":1660813200000,\"onboardDate\":1612076400000,\"status\":\"SETTLING\",\"maintMarginPercent\":\"2.5000\",\"requiredMarginPercent\":\"5.0000\",\"baseAsset\":\"BTS\",\"quoteAsset\":\"USDT\",\"marginAsset\":\"USDT\",\"pricePrecision\":5,\"quantityPrecision\":0,\"baseAssetPrecision\":8,\"quotePrecision\":8,\"underlyingType\":\"COIN\",\"underlyingSubType\":[\"DEX\"],\"settlePlan\":0,\"triggerProtect\":\"0.0500\",\"liquidationFee\":\"0.025000\",\"marketTakeBound\":\"0.10\",\"filters\":[{\"minPrice\":\"0.00114\",\"maxPrice\":\"20000\",\"filterType\":\"PRICE_FILTER\",\"tickSize\":\"0.00001\"},{\"stepSize\":\"1\",\"filterType\":\"LOT_SIZE\",\"maxQty\":\"10000000\",\"minQty\":\"1\"},{\"stepSize\":\"1\",\"filterType\":\"MARKET_LOT_SIZE\",\"maxQty\":\"3000000\",\"minQty\":\"1\"},{\"limit\":200,\"filterType\":\"MAX_NUM_ORDERS\"},{\"limit\":10,\"filterType\":\"MAX_NUM_ALGO_ORDERS\"},{\"notional\":\"5\",\"filterType\":\"MIN_NOTIONAL\"},{\"multiplierDown\":\"0.9000\",\"multiplierUp\":\"1.1000\",\"multiplierDecimal\":\"4\",\"filterType\":\"PERCENT_PRICE\"}],\"orderTypes\":[\"LIMIT\",\"MARKET\",\"STOP\",\"STOP_MARKET\",\"TAKE_PROFIT\",\"TAKE_PROFIT_MARKET\",\"TRAILING_STOP_MARKET\"],\"timeInForce\":[\"GTC\",\"IOC\",\"FOK\",\"GTX\"]},{\"symbol\":\"LITUSDT\",\"pair\":\"LITUSDT\",\"contractType\":\"PERPETUAL\",\"deliveryDate\":4133404800000,\"onboardDate\":1613545200000,\"status\":\"TRADING\",\"maintMarginPercent\":\"2.5000\",\"requiredMarginPercent\":\"5.0000\",\"baseAsset\":\"LIT\",\"quoteAsset\":\"USDT\",\"marginAsset\":\"USDT\",\"pricePrecision\":3,\"quantityPrecision\":1,\"baseAssetPrecision\":8,\"quotePrecision\":8,\"underlyingType\":\"COIN\",\"underlyingSubType\":[\"Privacy\"],\"settlePlan\":0,\"triggerProtect\":\"0.1000\",\"liquidationFee\":\"0.015000\",\"marketTakeBound\":\"0.10\",\"filters\":[{\"minPrice\":\"0.077\",\"maxPrice\":\"100000\",\"filterType\":\"PRICE_FILTER\",\"tickSize\":\"0.001\"},{\"stepSize\":\"0.1\",\"filterType\":\"LOT_SIZE\",\"maxQty\":\"5000000\",\"minQty\":\"0.1\"},{\"stepSize\":\"0.1\",\"filterType\":\"MARKET_LOT_SIZE\",\"maxQty\":\"1000000\",\"minQty\":\"0.1\"},{\"limit\":200,\"filterType\":\"MAX_NUM_ORDERS\"},{\"limit\":10,\"filterType\":\"MAX_NUM_ALGO_ORDERS\"},{\"notional\":\"5\",\"filterType\":\"MIN_NOTIONAL\"},{\"multiplierDown\":\"0.9000\",\"multiplierUp\":\"1.1000\",\"multiplierDecimal\":\"4\",\"filterType\":\"PERCENT_PRICE\"}],\"orderTypes\":[\"LIMIT\",\"MARKET\",\"STOP\",\"STOP_MARKET\",\"TAKE_PROFIT\",\"TAKE_PROFIT_MARKET\",\"TRAILING_STOP_MARKET\"],\"timeInForce\":[\"GTC\",\"IOC\",\"FOK\",\"GTX\"]},{\"symbol\":\"UNFIUSDT\",\"pair\":\"UNFIUSDT\",\"contractType\":\"PERPETUAL\",\"deliveryDate\":4133404800000,\"onboardDate\":1612854000000,\"status\":\"TRADING\",\"maintMarginPercent\":\"2.5000\",\"requiredMarginPercent\":\"5.0000\",\"baseAsset\":\"UNFI\",\"quoteAsset\":\"USDT\",\"marginAsset\":\"USDT\",\"pricePrecision\":3,\"quantityPrecision\":1,\"baseAssetPrecision\":8,\"quotePrecision\":8,\"underlyingType\":\"COIN\",\"underlyingSubType\":[\"DeFi\"],\"settlePlan\":0,\"triggerProtect\":\"0.1000\",\"liquidationFee\":\"0.010000\",\"marketTakeBound\":\"0.10\",\"filters\":[{\"minPrice\":\"0.222\",\"maxPrice\":\"10000\",\"filterType\":\"PRICE_FILTER\",\"tickSize\":\"0.001\"},{\"stepSize\":\"0.1\",\"filterType\":\"LOT_SIZE\",\"maxQty\":\"100000\",\"minQty\":\"0.1\"},{\"stepSize\":\"0.1\",\"filterType\":\"MARKET_LOT_SIZE\",\"maxQty\":\"8000\",\"minQty\":\"0.1\"},{\"limit\":200,\"filterType\":\"MAX_NUM_ORDERS\"},{\"limit\":10,\"filterType\":\"MAX_NUM_ALGO_ORDERS\"},{\"notional\":\"5\",\"filterType\":\"MIN_NOTIONAL\"},{\"multiplierDown\":\"0.9000\",\"multiplierUp\":\"1.1000\",\"multiplierDecimal\":\"4\",\"filterType\":\"PERCENT_PRICE\"}],\"orderTypes\":[\"LIMIT\",\"MARKET\",\"STOP\",\"STOP_MARKET\",\"TAKE_PROFIT\",\"TAKE_PROFIT_MARKET\",\"TRAILING_STOP_MARKET\"],\"timeInForce\":[\"GTC\",\"IOC\",\"FOK\",\"GTX\"]},{\"symbol\":\"REEFUSDT\",\"pair\":\"REEFUSDT\",\"contractType\":\"PERPETUAL\",\"deliveryDate\":4133404800000,\"onboardDate\":1611558000000,\"status\":\"TRADING\",\"maintMarginPercent\":\"2.5000\",\"requiredMarginPercent\":\"5.0000\",\"baseAsset\":\"REEF\",\"quoteAsset\":\"USDT\",\"marginAsset\":\"USDT\",\"pricePrecision\":6,\"quantityPrecision\":0,\"baseAssetPrecision\":8,\"quotePrecision\":8,\"underlyingType\":\"COIN\",\"underlyingSubType\":[\"DeFi\"],\"settlePlan\":0,\"triggerProtect\":\"0.1200\",\"liquidationFee\":\"0.010000\",\"marketTakeBound\":\"0.12\",\"filters\":[{\"minPrice\":\"0.000516\",\"maxPrice\":\"2000\",\"filterType\":\"PRICE_FILTER\",\"tickSize\":\"0.000001\"},{\"stepSize\":\"1\",\"filterType\":\"LOT_SIZE\",\"maxQty\":\"200000000\",\"minQty\":\"1\"},{\"stepSize\":\"1\",\"filterType\":\"MARKET_LOT_SIZE\",\"maxQty\":\"100000000\",\"minQty\":\"1\"},{\"limit\":200,\"filterType\":\"MAX_NUM_ORDERS\"},{\"limit\":10,\"filterType\":\"MAX_NUM_ALGO_ORDERS\"},{\"notional\":\"5\",\"filterType\":\"MIN_NOTIONAL\"},{\"multiplierDown\":\"0.8800\",\"multiplierUp\":\"1.1200\",\"multiplierDecimal\":\"4\",\"filterType\":\"PERCENT_PRICE\"}],\"orderTypes\":[\"LIMIT\",\"MARKET\",\"STOP\",\"STOP_MARKET\",\"TAKE_PROFIT\",\"TAKE_PROFIT_MARKET\",\"TRAILING_STOP_MARKET\"],\"timeInForce\":[\"GTC\",\"IOC\",\"FOK\",\"GTX\"]},{\"symbol\":\"RVNUSDT\",\"pair\":\"RVNUSDT\",\"contractType\":\"PERPETUAL\",\"deliveryDate\":4133404800000,\"onboardDate\":1614063600000,\"status\":\"TRADING\",\"maintMarginPercent\":\"2.5000\",\"requiredMarginPercent\":\"5.0000\",\"baseAsset\":\"RVN\",\"quoteAsset\":\"USDT\",\"marginAsset\":\"USDT\",\"pricePrecision\":5,\"quantityPrecision\":0,\"baseAssetPrecision\":8,\"quotePrecision\":8,\"underlyingType\":\"COIN\",\"underlyingSubType\":[\"PoW\"],\"settlePlan\":0,\"triggerProtect\":\"0.1000\",\"liquidationFee\":\"0.010000\",\"marketTakeBound\":\"0.10\",\"filters\":[{\"minPrice\":\"0.00154\",\"maxPrice\":\"20000\",\"filterType\":\"PRICE_FILTER\",\"tickSize\":\"0.00001\"},{\"stepSize\":\"1\",\"filterType\":\"LOT_SIZE\",\"maxQty\":\"10000000\",\"minQty\":\"1\"},{\"stepSize\":\"1\",\"filterType\":\"MARKET_LOT_SIZE\",\"maxQty\":\"3000000\",\"minQty\":\"1\"},{\"limit\":200,\"filterType\":\"MAX_NUM_ORDERS\"},{\"limit\":10,\"filterType\":\"MAX_NUM_ALGO_ORDERS\"},{\"notional\":\"5\",\"filterType\":\"MIN_NOTIONAL\"},{\"multiplierDown\":\"0.9000\",\"multiplierUp\":\"1.1000\",\"multiplierDecimal\":\"4\",\"filterType\":\"PERCENT_PRICE\"}],\"orderTypes\":[\"LIMIT\",\"MARKET\",\"STOP\",\"STOP_MARKET\",\"TAKE_PROFIT\",\"TAKE_PROFIT_MARKET\",\"TRAILING_STOP_MARKET\"],\"timeInForce\":[\"GTC\",\"IOC\",\"FOK\",\"GTX\"]},{\"symbol\":\"SFPUSDT\",\"pair\":\"SFPUSDT\",\"contractType\":\"PERPETUAL\",\"deliveryDate\":4133404800000,\"onboardDate\":1614150000000,\"status\":\"TRADING\",\"maintMarginPercent\":\"2.5000\",\"requiredMarginPercent\":\"5.0000\",\"baseAsset\":\"SFP\",\"quoteAsset\":\"USDT\",\"marginAsset\":\"USDT\",\"pricePrecision\":4,\"quantityPrecision\":0,\"baseAssetPrecision\":8,\"quotePrecision\":8,\"underlyingType\":\"COIN\",\"underlyingSubType\":[\"Wallet\"],\"settlePlan\":0,\"triggerProtect\":\"0.1000\",\"liquidationFee\":\"0.015000\",\"marketTakeBound\":\"0.10\",\"filters\":[{\"minPrice\":\"0.0223\",\"maxPrice\":\"100000\",\"filterType\":\"PRICE_FILTER\",\"tickSize\":\"0.0001\"},{\"stepSize\":\"1\",\"filterType\":\"LOT_SIZE\",\"maxQty\":\"5000000\",\"minQty\":\"1\"},{\"stepSize\":\"1\",\"filterType\":\"MARKET_LOT_SIZE\",\"maxQty\":\"300000\",\"minQty\":\"1\"},{\"limit\":200,\"filterType\":\"MAX_NUM_ORDERS\"},{\"limit\":10,\"filterType\":\"MAX_NUM_ALGO_ORDERS\"},{\"notional\":\"5\",\"filterType\":\"MIN_NOTIONAL\"},{\"multiplierDown\":\"0.9000\",\"multiplierUp\":\"1.1000\",\"multiplierDecimal\":\"4\",\"filterType\":\"PERCENT_PRICE\"}],\"orderTypes\":[\"LIMIT\",\"MARKET\",\"STOP\",\"STOP_MARKET\",\"TAKE_PROFIT\",\"TAKE_PROFIT_MARKET\",\"TRAILING_STOP_MARKET\"],\"timeInForce\":[\"GTC\",\"IOC\",\"FOK\",\"GTX\"]},{\"symbol\":\"XEMUSDT\",\"pair\":\"XEMUSDT\",\"contractType\":\"PERPETUAL\",\"deliveryDate\":4133404800000,\"onboardDate\":1614668400000,\"status\":\"TRADING\",\"maintMarginPercent\":\"2.5000\",\"requiredMarginPercent\":\"5.0000\",\"baseAsset\":\"XEM\",\"quoteAsset\":\"USDT\",\"marginAsset\":\"USDT\",\"pricePrecision\":4,\"quantityPrecision\":0,\"baseAssetPrecision\":8,\"quotePrecision\":8,\"underlyingType\":\"COIN\",\"underlyingSubType\":[\"Layer-1\"],\"settlePlan\":0,\"triggerProtect\":\"0.1000\",\"liquidationFee\":\"0.010000\",\"marketTakeBound\":\"0.10\",\"filters\":[{\"minPrice\":\"0.0035\",\"maxPrice\":\"100000\",\"filterType\":\"PRICE_FILTER\",\"tickSize\":\"0.0001\"},{\"stepSize\":\"1\",\"filterType\":\"LOT_SIZE\",\"maxQty\":\"10000000\",\"minQty\":\"1\"},{\"stepSize\":\"1\",\"filterType\":\"MARKET_LOT_SIZE\",\"maxQty\":\"2000000\",\"minQty\":\"1\"},{\"limit\":200,\"filterType\":\"MAX_NUM_ORDERS\"},{\"limit\":10,\"filterType\":\"MAX_NUM_ALGO_ORDERS\"},{\"notional\":\"5\",\"filterType\":\"MIN_NOTIONAL\"},{\"multiplierDown\":\"0.9000\",\"multiplierUp\":\"1.1000\",\"multiplierDecimal\":\"4\",\"filterType\":\"PERCENT_PRICE\"}],\"orderTypes\":[\"LIMIT\",\"MARKET\",\"STOP\",\"STOP_MARKET\",\"TAKE_PROFIT\",\"TAKE_PROFIT_MARKET\",\"TRAILING_STOP_MARKET\"],\"timeInForce\":[\"GTC\",\"IOC\",\"FOK\",\"GTX\"]},{\"symbol\":\"BTCSTUSDT\",\"pair\":\"BTCSTUSDT\",\"contractType\":\"\",\"deliveryDate\":4133404800000,\"onboardDate\":1614754800000,\"status\":\"PENDING_TRADING\",\"maintMarginPercent\":\"2.5000\",\"requiredMarginPercent\":\"5.0000\",\"baseAsset\":\"BTCST\",\"quoteAsset\":\"USDT\",\"marginAsset\":\"USDT\",\"pricePrecision\":3,\"quantityPrecision\":1,\"baseAssetPrecision\":8,\"quotePrecision\":8,\"underlyingType\":\"COIN\",\"underlyingSubType\":[\"DEFI\"],\"settlePlan\":0,\"triggerProtect\":\"0.1500\",\"liquidationFee\":\"0.040000\",\"marketTakeBound\":\"0.30\",\"filters\":[{\"minPrice\":\"0.668\",\"maxPrice\":\"100000\",\"filterType\":\"PRICE_FILTER\",\"tickSize\":\"0.001\"},{\"stepSize\":\"0.1\",\"filterType\":\"LOT_SIZE\",\"maxQty\":\"1000000\",\"minQty\":\"0.1\"},{\"stepSize\":\"0.1\",\"filterType\":\"MARKET_LOT_SIZE\",\"maxQty\":\"1000\",\"minQty\":\"0.1\"},{\"limit\":200,\"filterType\":\"MAX_NUM_ORDERS\"},{\"limit\":10,\"filterType\":\"MAX_NUM_ALGO_ORDERS\"},{\"notional\":\"5\",\"filterType\":\"MIN_NOTIONAL\"},{\"multiplierDown\":\"8500\",\"multiplierUp\":\"11500\",\"multiplierDecimal\":\"4\",\"filterType\":\"PERCENT_PRICE\"}],\"orderTypes\":[\"LIMIT\",\"MARKET\",\"STOP\",\"STOP_MARKET\",\"TAKE_PROFIT\",\"TAKE_PROFIT_MARKET\",\"TRAILING_STOP_MARKET\"],\"timeInForce\":[\"GTC\",\"IOC\",\"FOK\",\"GTX\"]},{\"symbol\":\"COTIUSDT\",\"pair\":\"COTIUSDT\",\"contractType\":\"PERPETUAL\",\"deliveryDate\":4133404800000,\"onboardDate\":1615273200000,\"status\":\"TRADING\",\"maintMarginPercent\":\"2.5000\",\"requiredMarginPercent\":\"5.0000\",\"baseAsset\":\"COTI\",\"quoteAsset\":\"USDT\",\"marginAsset\":\"USDT\",\"pricePrecision\":5,\"quantityPrecision\":0,\"baseAssetPrecision\":8,\"quotePrecision\":8,\"underlyingType\":\"COIN\",\"underlyingSubType\":[\"Payment\"],\"settlePlan\":0,\"triggerProtect\":\"0.1000\",\"liquidationFee\":\"0.010000\",\"marketTakeBound\":\"0.10\",\"filters\":[{\"minPrice\":\"0.00328\",\"maxPrice\":\"20000\",\"filterType\":\"PRICE_FILTER\",\"tickSize\":\"0.00001\"},{\"stepSize\":\"1\",\"filterType\":\"LOT_SIZE\",\"maxQty\":\"5000000\",\"minQty\":\"1\"},{\"stepSize\":\"1\",\"filterType\":\"MARKET_LOT_SIZE\",\"maxQty\":\"800000\",\"minQty\":\"1\"},{\"limit\":200,\"filterType\":\"MAX_NUM_ORDERS\"},{\"limit\":10,\"filterType\":\"MAX_NUM_ALGO_ORDERS\"},{\"notional\":\"5\",\"filterType\":\"MIN_NOTIONAL\"},{\"multiplierDown\":\"0.9000\",\"multiplierUp\":\"1.1000\",\"multiplierDecimal\":\"4\",\"filterType\":\"PERCENT_PRICE\"}],\"orderTypes\":[\"LIMIT\",\"MARKET\",\"STOP\",\"STOP_MARKET\",\"TAKE_PROFIT\",\"TAKE_PROFIT_MARKET\",\"TRAILING_STOP_MARKET\"],\"timeInForce\":[\"GTC\",\"IOC\",\"FOK\",\"GTX\"]},{\"symbol\":\"CHRUSDT\",\"pair\":\"CHRUSDT\",\"contractType\":\"PERPETUAL\",\"deliveryDate\":4133404800000,\"onboardDate\":1615532400000,\"status\":\"TRADING\",\"maintMarginPercent\":\"2.5000\",\"requiredMarginPercent\":\"5.0000\",\"baseAsset\":\"CHR\",\"quoteAsset\":\"USDT\",\"marginAsset\":\"USDT\",\"pricePrecision\":4,\"quantityPrecision\":0,\"baseAssetPrecision\":8,\"quotePrecision\":8,\"underlyingType\":\"COIN\",\"underlyingSubType\":[\"Layer-2\"],\"settlePlan\":0,\"triggerProtect\":\"0.1000\",\"liquidationFee\":\"0.010000\",\"marketTakeBound\":\"0.10\",\"filters\":[{\"minPrice\":\"0.0031\",\"maxPrice\":\"100000\",\"filterType\":\"PRICE_FILTER\",\"tickSize\":\"0.0001\"},{\"stepSize\":\"1\",\"filterType\":\"LOT_SIZE\",\"maxQty\":\"1000000\",\"minQty\":\"1\"},{\"stepSize\":\"1\",\"filterType\":\"MARKET_LOT_SIZE\",\"maxQty\":\"250000\",\"minQty\":\"1\"},{\"limit\":200,\"filterType\":\"MAX_NUM_ORDERS\"},{\"limit\":10,\"filterType\":\"MAX_NUM_ALGO_ORDERS\"},{\"notional\":\"5\",\"filterType\":\"MIN_NOTIONAL\"},{\"multiplierDown\":\"0.9000\",\"multiplierUp\":\"1.1000\",\"multiplierDecimal\":\"4\",\"filterType\":\"PERCENT_PRICE\"}],\"orderTypes\":[\"LIMIT\",\"MARKET\",\"STOP\",\"STOP_MARKET\",\"TAKE_PROFIT\",\"TAKE_PROFIT_MARKET\",\"TRAILING_STOP_MARKET\"],\"timeInForce\":[\"GTC\",\"IOC\",\"FOK\",\"GTX\"]},{\"symbol\":\"MANAUSDT\",\"pair\":\"MANAUSDT\",\"contractType\":\"PERPETUAL\",\"deliveryDate\":4133404800000,\"onboardDate\":1615705200000,\"status\":\"TRADING\",\"maintMarginPercent\":\"2.5000\",\"requiredMarginPercent\":\"5.0000\",\"baseAsset\":\"MANA\",\"quoteAsset\":\"USDT\",\"marginAsset\":\"USDT\",\"pricePrecision\":4,\"quantityPrecision\":0,\"baseAssetPrecision\":8,\"quotePrecision\":8,\"underlyingType\":\"COIN\",\"underlyingSubType\":[\"Metaverse\"],\"settlePlan\":0,\"triggerProtect\":\"0.1000\",\"liquidationFee\":\"0.010000\",\"marketTakeBound\":\"0.10\",\"filters\":[{\"minPrice\":\"0.0136\",\"maxPrice\":\"100000\",\"filterType\":\"PRICE_FILTER\",\"tickSize\":\"0.0001\"},{\"stepSize\":\"1\",\"filterType\":\"LOT_SIZE\",\"maxQty\":\"1000000\",\"minQty\":\"1\"},{\"stepSize\":\"1\",\"filterType\":\"MARKET_LOT_SIZE\",\"maxQty\":\"100000\",\"minQty\":\"1\"},{\"limit\":200,\"filterType\":\"MAX_NUM_ORDERS\"},{\"limit\":10,\"filterType\":\"MAX_NUM_ALGO_ORDERS\"},{\"notional\":\"5\",\"filterType\":\"MIN_NOTIONAL\"},{\"multiplierDown\":\"0.9000\",\"multiplierUp\":\"1.1000\",\"multiplierDecimal\":\"4\",\"filterType\":\"PERCENT_PRICE\"}],\"orderTypes\":[\"LIMIT\",\"MARKET\",\"STOP\",\"STOP_MARKET\",\"TAKE_PROFIT\",\"TAKE_PROFIT_MARKET\",\"TRAILING_STOP_MARKET\"],\"timeInForce\":[\"GTC\",\"IOC\",\"FOK\",\"GTX\"]},{\"symbol\":\"ALICEUSDT\",\"pair\":\"ALICEUSDT\",\"contractType\":\"PERPETUAL\",\"deliveryDate\":4133404800000,\"onboardDate\":1615791600000,\"status\":\"TRADING\",\"maintMarginPercent\":\"2.5000\",\"requiredMarginPercent\":\"5.0000\",\"baseAsset\":\"ALICE\",\"quoteAsset\":\"USDT\",\"marginAsset\":\"USDT\",\"pricePrecision\":3,\"quantityPrecision\":1,\"baseAssetPrecision\":8,\"quotePrecision\":8,\"underlyingType\":\"COIN\",\"underlyingSubType\":[\"Metaverse\"],\"settlePlan\":0,\"triggerProtect\":\"0.1000\",\"liquidationFee\":\"0.010000\",\"marketTakeBound\":\"0.10\",\"filters\":[{\"minPrice\":\"0.120\",\"maxPrice\":\"100000\",\"filterType\":\"PRICE_FILTER\",\"tickSize\":\"0.001\"},{\"stepSize\":\"0.1\",\"filterType\":\"LOT_SIZE\",\"maxQty\":\"50000\",\"minQty\":\"0.1\"},{\"stepSize\":\"0.1\",\"filterType\":\"MARKET_LOT_SIZE\",\"maxQty\":\"12000\",\"minQty\":\"0.1\"},{\"limit\":200,\"filterType\":\"MAX_NUM_ORDERS\"},{\"limit\":10,\"filterType\":\"MAX_NUM_ALGO_ORDERS\"},{\"notional\":\"5\",\"filterType\":\"MIN_NOTIONAL\"},{\"multiplierDown\":\"0.9000\",\"multiplierUp\":\"1.1000\",\"multiplierDecimal\":\"4\",\"filterType\":\"PERCENT_PRICE\"}],\"orderTypes\":[\"LIMIT\",\"MARKET\",\"STOP\",\"STOP_MARKET\",\"TAKE_PROFIT\",\"TAKE_PROFIT_MARKET\",\"TRAILING_STOP_MARKET\"],\"timeInForce\":[\"GTC\",\"IOC\",\"FOK\",\"GTX\"]},{\"symbol\":\"HBARUSDT\",\"pair\":\"HBARUSDT\",\"contractType\":\"PERPETUAL\",\"deliveryDate\":4133404800000,\"onboardDate\":1615964400000,\"status\":\"TRADING\",\"maintMarginPercent\":\"2.5000\",\"requiredMarginPercent\":\"5.0000\",\"baseAsset\":\"HBAR\",\"quoteAsset\":\"USDT\",\"marginAsset\":\"USDT\",\"pricePrecision\":5,\"quantityPrecision\":0,\"baseAssetPrecision\":8,\"quotePrecision\":8,\"underlyingType\":\"COIN\",\"underlyingSubType\":[\"Layer-1\"],\"settlePlan\":0,\"triggerProtect\":\"0.1000\",\"liquidationFee\":\"0.010000\",\"marketTakeBound\":\"0.10\",\"filters\":[{\"minPrice\":\"0.00279\",\"maxPrice\":\"20000\",\"filterType\":\"PRICE_FILTER\",\"tickSize\":\"0.00001\"},{\"stepSize\":\"1\",\"filterType\":\"LOT_SIZE\",\"maxQty\":\"10000000\",\"minQty\":\"1\"},{\"stepSize\":\"1\",\"filterType\":\"MARKET_LOT_SIZE\",\"maxQty\":\"300000\",\"minQty\":\"1\"},{\"limit\":200,\"filterType\":\"MAX_NUM_ORDERS\"},{\"limit\":10,\"filterType\":\"MAX_NUM_ALGO_ORDERS\"},{\"notional\":\"5\",\"filterType\":\"MIN_NOTIONAL\"},{\"multiplierDown\":\"0.9000\",\"multiplierUp\":\"1.1000\",\"multiplierDecimal\":\"4\",\"filterType\":\"PERCENT_PRICE\"}],\"orderTypes\":[\"LIMIT\",\"MARKET\",\"STOP\",\"STOP_MARKET\",\"TAKE_PROFIT\",\"TAKE_PROFIT_MARKET\",\"TRAILING_STOP_MARKET\"],\"timeInForce\":[\"GTC\",\"IOC\",\"FOK\",\"GTX\"]},{\"symbol\":\"ONEUSDT\",\"pair\":\"ONEUSDT\",\"contractType\":\"PERPETUAL\",\"deliveryDate\":4133404800000,\"onboardDate\":1615964400000,\"status\":\"TRADING\",\"maintMarginPercent\":\"2.5000\",\"requiredMarginPercent\":\"5.0000\",\"baseAsset\":\"ONE\",\"quoteAsset\":\"USDT\",\"marginAsset\":\"USDT\",\"pricePrecision\":5,\"quantityPrecision\":0,\"baseAssetPrecision\":8,\"quotePrecision\":8,\"underlyingType\":\"COIN\",\"underlyingSubType\":[\"Layer-2\"],\"settlePlan\":0,\"triggerProtect\":\"0.1000\",\"liquidationFee\":\"0.010000\",\"marketTakeBound\":\"0.10\",\"filters\":[{\"minPrice\":\"0.00124\",\"maxPrice\":\"20000\",\"filterType\":\"PRICE_FILTER\",\"tickSize\":\"0.00001\"},{\"stepSize\":\"1\",\"filterType\":\"LOT_SIZE\",\"maxQty\":\"10000000\",\"minQty\":\"1\"},{\"stepSize\":\"1\",\"filterType\":\"MARKET_LOT_SIZE\",\"maxQty\":\"500000\",\"minQty\":\"1\"},{\"limit\":200,\"filterType\":\"MAX_NUM_ORDERS\"},{\"limit\":10,\"filterType\":\"MAX_NUM_ALGO_ORDERS\"},{\"notional\":\"5\",\"filterType\":\"MIN_NOTIONAL\"},{\"multiplierDown\":\"0.9000\",\"multiplierUp\":\"1.1000\",\"multiplierDecimal\":\"4\",\"filterType\":\"PERCENT_PRICE\"}],\"orderTypes\":[\"LIMIT\",\"MARKET\",\"STOP\",\"STOP_MARKET\",\"TAKE_PROFIT\",\"TAKE_PROFIT_MARKET\",\"TRAILING_STOP_MARKET\"],\"timeInForce\":[\"GTC\",\"IOC\",\"FOK\",\"GTX\"]},{\"symbol\":\"LINAUSDT\",\"pair\":\"LINAUSDT\",\"contractType\":\"PERPETUAL\",\"deliveryDate\":4133404800000,\"onboardDate\":1615964400000,\"status\":\"TRADING\",\"maintMarginPercent\":\"2.5000\",\"requiredMarginPercent\":\"5.0000\",\"baseAsset\":\"LINA\",\"quoteAsset\":\"USDT\",\"marginAsset\":\"USDT\",\"pricePrecision\":5,\"quantityPrecision\":0,\"baseAssetPrecision\":8,\"quotePrecision\":8,\"underlyingType\":\"COIN\",\"underlyingSubType\":[\"DeFi\"],\"settlePlan\":0,\"triggerProtect\":\"0.1000\",\"liquidationFee\":\"0.010000\",\"marketTakeBound\":\"0.10\",\"filters\":[{\"minPrice\":\"0.00087\",\"maxPrice\":\"20000\",\"filterType\":\"PRICE_FILTER\",\"tickSize\":\"0.00001\"},{\"stepSize\":\"1\",\"filterType\":\"LOT_SIZE\",\"maxQty\":\"10000000\",\"minQty\":\"1\"},{\"stepSize\":\"1\",\"filterType\":\"MARKET_LOT_SIZE\",\"maxQty\":\"2500000\",\"minQty\":\"1\"},{\"limit\":200,\"filterType\":\"MAX_NUM_ORDERS\"},{\"limit\":10,\"filterType\":\"MAX_NUM_ALGO_ORDERS\"},{\"notional\":\"5\",\"filterType\":\"MIN_NOTIONAL\"},{\"multiplierDown\":\"0.9000\",\"multiplierUp\":\"1.1000\",\"multiplierDecimal\":\"4\",\"filterType\":\"PERCENT_PRICE\"}],\"orderTypes\":[\"LIMIT\",\"MARKET\",\"STOP\",\"STOP_MARKET\",\"TAKE_PROFIT\",\"TAKE_PROFIT_MARKET\",\"TRAILING_STOP_MARKET\"],\"timeInForce\":[\"GTC\",\"IOC\",\"FOK\",\"GTX\"]},{\"symbol\":\"STMXUSDT\",\"pair\":\"STMXUSDT\",\"contractType\":\"PERPETUAL\",\"deliveryDate\":4133404800000,\"onboardDate\":1615964400000,\"status\":\"TRADING\",\"maintMarginPercent\":\"2.5000\",\"requiredMarginPercent\":\"5.0000\",\"baseAsset\":\"STMX\",\"quoteAsset\":\"USDT\",\"marginAsset\":\"USDT\",\"pricePrecision\":5,\"quantityPrecision\":0,\"baseAssetPrecision\":8,\"quotePrecision\":8,\"underlyingType\":\"COIN\",\"underlyingSubType\":[\"Payment\"],\"settlePlan\":0,\"triggerProtect\":\"0.1000\",\"liquidationFee\":\"0.010000\",\"marketTakeBound\":\"0.10\",\"filters\":[{\"minPrice\":\"0.00048\",\"maxPrice\":\"20000\",\"filterType\":\"PRICE_FILTER\",\"tickSize\":\"0.00001\"},{\"stepSize\":\"1\",\"filterType\":\"LOT_SIZE\",\"maxQty\":\"10000000\",\"minQty\":\"1\"},{\"stepSize\":\"1\",\"filterType\":\"MARKET_LOT_SIZE\",\"maxQty\":\"5000000\",\"minQty\":\"1\"},{\"limit\":200,\"filterType\":\"MAX_NUM_ORDERS\"},{\"limit\":10,\"filterType\":\"MAX_NUM_ALGO_ORDERS\"},{\"notional\":\"5\",\"filterType\":\"MIN_NOTIONAL\"},{\"multiplierDown\":\"0.9000\",\"multiplierUp\":\"1.1000\",\"multiplierDecimal\":\"4\",\"filterType\":\"PERCENT_PRICE\"}],\"orderTypes\":[\"LIMIT\",\"MARKET\",\"STOP\",\"STOP_MARKET\",\"TAKE_PROFIT\",\"TAKE_PROFIT_MARKET\",\"TRAILING_STOP_MARKET\"],\"timeInForce\":[\"GTC\",\"IOC\",\"FOK\",\"GTX\"]},{\"symbol\":\"DENTUSDT\",\"pair\":\"DENTUSDT\",\"contractType\":\"PERPETUAL\",\"deliveryDate\":4133404800000,\"onboardDate\":1616482800000,\"status\":\"TRADING\",\"maintMarginPercent\":\"2.5000\",\"requiredMarginPercent\":\"5.0000\",\"baseAsset\":\"DENT\",\"quoteAsset\":\"USDT\",\"marginAsset\":\"USDT\",\"pricePrecision\":6,\"quantityPrecision\":0,\"baseAssetPrecision\":8,\"quotePrecision\":8,\"underlyingType\":\"COIN\",\"underlyingSubType\":[\"Infrastructure\"],\"settlePlan\":0,\"triggerProtect\":\"0.1000\",\"liquidationFee\":\"0.010000\",\"marketTakeBound\":\"0.10\",\"filters\":[{\"minPrice\":\"0.000070\",\"maxPrice\":\"2000\",\"filterType\":\"PRICE_FILTER\",\"tickSize\":\"0.000001\"},{\"stepSize\":\"1\",\"filterType\":\"LOT_SIZE\",\"maxQty\":\"10000000\",\"minQty\":\"1\"},{\"stepSize\":\"1\",\"filterType\":\"MARKET_LOT_SIZE\",\"maxQty\":\"2000000\",\"minQty\":\"1\"},{\"limit\":200,\"filterType\":\"MAX_NUM_ORDERS\"},{\"limit\":10,\"filterType\":\"MAX_NUM_ALGO_ORDERS\"},{\"notional\":\"5\",\"filterType\":\"MIN_NOTIONAL\"},{\"multiplierDown\":\"0.9000\",\"multiplierUp\":\"1.1000\",\"multiplierDecimal\":\"4\",\"filterType\":\"PERCENT_PRICE\"}],\"orderTypes\":[\"LIMIT\",\"MARKET\",\"STOP\",\"STOP_MARKET\",\"TAKE_PROFIT\",\"TAKE_PROFIT_MARKET\",\"TRAILING_STOP_MARKET\"],\"timeInForce\":[\"GTC\",\"IOC\",\"FOK\",\"GTX\"]},{\"symbol\":\"CELRUSDT\",\"pair\":\"CELRUSDT\",\"contractType\":\"PERPETUAL\",\"deliveryDate\":4133404800000,\"onboardDate\":1617001200000,\"status\":\"TRADING\",\"maintMarginPercent\":\"2.5000\",\"requiredMarginPercent\":\"5.0000\",\"baseAsset\":\"CELR\",\"quoteAsset\":\"USDT\",\"marginAsset\":\"USDT\",\"pricePrecision\":5,\"quantityPrecision\":0,\"baseAssetPrecision\":8,\"quotePrecision\":8,\"underlyingType\":\"COIN\",\"underlyingSubType\":[\"Layer-2\"],\"settlePlan\":0,\"triggerProtect\":\"0.1000\",\"liquidationFee\":\"0.010000\",\"marketTakeBound\":\"0.10\",\"filters\":[{\"minPrice\":\"0.00050\",\"maxPrice\":\"20000\",\"filterType\":\"PRICE_FILTER\",\"tickSize\":\"0.00001\"},{\"stepSize\":\"1\",\"filterType\":\"LOT_SIZE\",\"maxQty\":\"10000000\",\"minQty\":\"1\"},{\"stepSize\":\"1\",\"filterType\":\"MARKET_LOT_SIZE\",\"maxQty\":\"500000\",\"minQty\":\"1\"},{\"limit\":200,\"filterType\":\"MAX_NUM_ORDERS\"},{\"limit\":10,\"filterType\":\"MAX_NUM_ALGO_ORDERS\"},{\"notional\":\"5\",\"filterType\":\"MIN_NOTIONAL\"},{\"multiplierDown\":\"0.9000\",\"multiplierUp\":\"1.1000\",\"multiplierDecimal\":\"4\",\"filterType\":\"PERCENT_PRICE\"}],\"orderTypes\":[\"LIMIT\",\"MARKET\",\"STOP\",\"STOP_MARKET\",\"TAKE_PROFIT\",\"TAKE_PROFIT_MARKET\",\"TRAILING_STOP_MARKET\"],\"timeInForce\":[\"GTC\",\"IOC\",\"FOK\",\"GTX\"]},{\"symbol\":\"HOTUSDT\",\"pair\":\"HOTUSDT\",\"contractType\":\"PERPETUAL\",\"deliveryDate\":4133404800000,\"onboardDate\":1617087600000,\"status\":\"TRADING\",\"maintMarginPercent\":\"2.5000\",\"requiredMarginPercent\":\"5.0000\",\"baseAsset\":\"HOT\",\"quoteAsset\":\"USDT\",\"marginAsset\":\"USDT\",\"pricePrecision\":6,\"quantityPrecision\":0,\"baseAssetPrecision\":8,\"quotePrecision\":8,\"underlyingType\":\"COIN\",\"underlyingSubType\":[\"Storage\"],\"settlePlan\":0,\"triggerProtect\":\"0.1000\",\"liquidationFee\":\"0.010000\",\"marketTakeBound\":\"0.10\",\"filters\":[{\"minPrice\":\"0.000129\",\"maxPrice\":\"2000\",\"filterType\":\"PRICE_FILTER\",\"tickSize\":\"0.000001\"},{\"stepSize\":\"1\",\"filterType\":\"LOT_SIZE\",\"maxQty\":\"20000000\",\"minQty\":\"1\"},{\"stepSize\":\"1\",\"filterType\":\"MARKET_LOT_SIZE\",\"maxQty\":\"10000000\",\"minQty\":\"1\"},{\"limit\":200,\"filterType\":\"MAX_NUM_ORDERS\"},{\"limit\":10,\"filterType\":\"MAX_NUM_ALGO_ORDERS\"},{\"notional\":\"5\",\"filterType\":\"MIN_NOTIONAL\"},{\"multiplierDown\":\"0.9000\",\"multiplierUp\":\"1.1000\",\"multiplierDecimal\":\"4\",\"filterType\":\"PERCENT_PRICE\"}],\"orderTypes\":[\"LIMIT\",\"MARKET\",\"STOP\",\"STOP_MARKET\",\"TAKE_PROFIT\",\"TAKE_PROFIT_MARKET\",\"TRAILING_STOP_MARKET\"],\"timeInForce\":[\"GTC\",\"IOC\",\"FOK\",\"GTX\"]},{\"symbol\":\"MTLUSDT\",\"pair\":\"MTLUSDT\",\"contractType\":\"PERPETUAL\",\"deliveryDate\":4133404800000,\"onboardDate\":1617174000000,\"status\":\"TRADING\",\"maintMarginPercent\":\"2.5000\",\"requiredMarginPercent\":\"5.0000\",\"baseAsset\":\"MTL\",\"quoteAsset\":\"USDT\",\"marginAsset\":\"USDT\",\"pricePrecision\":4,\"quantityPrecision\":0,\"baseAssetPrecision\":8,\"quotePrecision\":8,\"underlyingType\":\"COIN\",\"underlyingSubType\":[\"Wallet\"],\"settlePlan\":0,\"triggerProtect\":\"0.1000\",\"liquidationFee\":\"0.020000\",\"marketTakeBound\":\"0.10\",\"filters\":[{\"minPrice\":\"0.0390\",\"maxPrice\":\"100000\",\"filterType\":\"PRICE_FILTER\",\"tickSize\":\"0.0001\"},{\"stepSize\":\"1\",\"filterType\":\"LOT_SIZE\",\"maxQty\":\"1000000\",\"minQty\":\"1\"},{\"stepSize\":\"1\",\"filterType\":\"MARKET_LOT_SIZE\",\"maxQty\":\"300000\",\"minQty\":\"1\"},{\"limit\":200,\"filterType\":\"MAX_NUM_ORDERS\"},{\"limit\":10,\"filterType\":\"MAX_NUM_ALGO_ORDERS\"},{\"notional\":\"5\",\"filterType\":\"MIN_NOTIONAL\"},{\"multiplierDown\":\"0.9000\",\"multiplierUp\":\"1.1000\",\"multiplierDecimal\":\"4\",\"filterType\":\"PERCENT_PRICE\"}],\"orderTypes\":[\"LIMIT\",\"MARKET\",\"STOP\",\"STOP_MARKET\",\"TAKE_PROFIT\",\"TAKE_PROFIT_MARKET\",\"TRAILING_STOP_MARKET\"],\"timeInForce\":[\"GTC\",\"IOC\",\"FOK\",\"GTX\"]},{\"symbol\":\"OGNUSDT\",\"pair\":\"OGNUSDT\",\"contractType\":\"PERPETUAL\",\"deliveryDate\":4133404800000,\"onboardDate\":1617174000000,\"status\":\"TRADING\",\"maintMarginPercent\":\"2.5000\",\"requiredMarginPercent\":\"5.0000\",\"baseAsset\":\"OGN\",\"quoteAsset\":\"USDT\",\"marginAsset\":\"USDT\",\"pricePrecision\":4,\"quantityPrecision\":0,\"baseAssetPrecision\":8,\"quotePrecision\":8,\"underlyingType\":\"COIN\",\"underlyingSubType\":[\"NFT\"],\"settlePlan\":0,\"triggerProtect\":\"0.1000\",\"liquidationFee\":\"0.010000\",\"marketTakeBound\":\"0.10\",\"filters\":[{\"minPrice\":\"0.0137\",\"maxPrice\":\"100000\",\"filterType\":\"PRICE_FILTER\",\"tickSize\":\"0.0001\"},{\"stepSize\":\"1\",\"filterType\":\"LOT_SIZE\",\"maxQty\":\"1000000\",\"minQty\":\"1\"},{\"stepSize\":\"1\",\"filterType\":\"MARKET_LOT_SIZE\",\"maxQty\":\"100000\",\"minQty\":\"1\"},{\"limit\":200,\"filterType\":\"MAX_NUM_ORDERS\"},{\"limit\":10,\"filterType\":\"MAX_NUM_ALGO_ORDERS\"},{\"notional\":\"5\",\"filterType\":\"MIN_NOTIONAL\"},{\"multiplierDown\":\"0.9000\",\"multiplierUp\":\"1.1000\",\"multiplierDecimal\":\"4\",\"filterType\":\"PERCENT_PRICE\"}],\"orderTypes\":[\"LIMIT\",\"MARKET\",\"STOP\",\"STOP_MARKET\",\"TAKE_PROFIT\",\"TAKE_PROFIT_MARKET\",\"TRAILING_STOP_MARKET\"],\"timeInForce\":[\"GTC\",\"IOC\",\"FOK\",\"GTX\"]},{\"symbol\":\"NKNUSDT\",\"pair\":\"NKNUSDT\",\"contractType\":\"PERPETUAL\",\"deliveryDate\":4133404800000,\"onboardDate\":1617865200000,\"status\":\"TRADING\",\"maintMarginPercent\":\"2.5000\",\"requiredMarginPercent\":\"5.0000\",\"baseAsset\":\"NKN\",\"quoteAsset\":\"USDT\",\"marginAsset\":\"USDT\",\"pricePrecision\":5,\"quantityPrecision\":0,\"baseAssetPrecision\":8,\"quotePrecision\":8,\"underlyingType\":\"COIN\",\"underlyingSubType\":[\"Infrastructure\"],\"settlePlan\":0,\"triggerProtect\":\"0.1000\",\"liquidationFee\":\"0.010000\",\"marketTakeBound\":\"0.10\",\"filters\":[{\"minPrice\":\"0.00602\",\"maxPrice\":\"20000\",\"filterType\":\"PRICE_FILTER\",\"tickSize\":\"0.00001\"},{\"stepSize\":\"1\",\"filterType\":\"LOT_SIZE\",\"maxQty\":\"10000000\",\"minQty\":\"1\"},{\"stepSize\":\"1\",\"filterType\":\"MARKET_LOT_SIZE\",\"maxQty\":\"500000\",\"minQty\":\"1\"},{\"limit\":200,\"filterType\":\"MAX_NUM_ORDERS\"},{\"limit\":10,\"filterType\":\"MAX_NUM_ALGO_ORDERS\"},{\"notional\":\"5\",\"filterType\":\"MIN_NOTIONAL\"},{\"multiplierDown\":\"0.9000\",\"multiplierUp\":\"1.1000\",\"multiplierDecimal\":\"4\",\"filterType\":\"PERCENT_PRICE\"}],\"orderTypes\":[\"LIMIT\",\"MARKET\",\"STOP\",\"STOP_MARKET\",\"TAKE_PROFIT\",\"TAKE_PROFIT_MARKET\",\"TRAILING_STOP_MARKET\"],\"timeInForce\":[\"GTC\",\"IOC\",\"FOK\",\"GTX\"]},{\"symbol\":\"SCUSDT\",\"pair\":\"SCUSDT\",\"contractType\":\"PERPETUAL\",\"deliveryDate\":1655456400000,\"onboardDate\":1618210800000,\"status\":\"SETTLING\",\"maintMarginPercent\":\"2.5000\",\"requiredMarginPercent\":\"5.0000\",\"baseAsset\":\"SC\",\"quoteAsset\":\"USDT\",\"marginAsset\":\"USDT\",\"pricePrecision\":6,\"quantityPrecision\":0,\"baseAssetPrecision\":8,\"quotePrecision\":8,\"underlyingType\":\"COIN\",\"underlyingSubType\":[\"Storage\"],\"settlePlan\":0,\"triggerProtect\":\"0.0500\",\"liquidationFee\":\"0.010000\",\"marketTakeBound\":\"0.10\",\"filters\":[{\"minPrice\":\"0.000368\",\"maxPrice\":\"2000\",\"filterType\":\"PRICE_FILTER\",\"tickSize\":\"0.000001\"},{\"stepSize\":\"1\",\"filterType\":\"LOT_SIZE\",\"maxQty\":\"10000000\",\"minQty\":\"1\"},{\"stepSize\":\"1\",\"filterType\":\"MARKET_LOT_SIZE\",\"maxQty\":\"5000000\",\"minQty\":\"1\"},{\"limit\":200,\"filterType\":\"MAX_NUM_ORDERS\"},{\"limit\":10,\"filterType\":\"MAX_NUM_ALGO_ORDERS\"},{\"notional\":\"5\",\"filterType\":\"MIN_NOTIONAL\"},{\"multiplierDown\":\"0.9000\",\"multiplierUp\":\"1.1000\",\"multiplierDecimal\":\"4\",\"filterType\":\"PERCENT_PRICE\"}],\"orderTypes\":[\"LIMIT\",\"MARKET\",\"STOP\",\"STOP_MARKET\",\"TAKE_PROFIT\",\"TAKE_PROFIT_MARKET\",\"TRAILING_STOP_MARKET\"],\"timeInForce\":[\"GTC\",\"IOC\",\"FOK\",\"GTX\"]},{\"symbol\":\"DGBUSDT\",\"pair\":\"DGBUSDT\",\"contractType\":\"PERPETUAL\",\"deliveryDate\":4133404800000,\"onboardDate\":1618815600000,\"status\":\"TRADING\",\"maintMarginPercent\":\"2.5000\",\"requiredMarginPercent\":\"5.0000\",\"baseAsset\":\"DGB\",\"quoteAsset\":\"USDT\",\"marginAsset\":\"USDT\",\"pricePrecision\":5,\"quantityPrecision\":0,\"baseAssetPrecision\":8,\"quotePrecision\":8,\"underlyingType\":\"COIN\",\"underlyingSubType\":[\"Payment\"],\"settlePlan\":0,\"triggerProtect\":\"0.1000\",\"liquidationFee\":\"0.010000\",\"marketTakeBound\":\"0.10\",\"filters\":[{\"minPrice\":\"0.00131\",\"maxPrice\":\"20000\",\"filterType\":\"PRICE_FILTER\",\"tickSize\":\"0.00001\"},{\"stepSize\":\"1\",\"filterType\":\"LOT_SIZE\",\"maxQty\":\"10000000\",\"minQty\":\"1\"},{\"stepSize\":\"1\",\"filterType\":\"MARKET_LOT_SIZE\",\"maxQty\":\"500000\",\"minQty\":\"1\"},{\"limit\":200,\"filterType\":\"MAX_NUM_ORDERS\"},{\"limit\":10,\"filterType\":\"MAX_NUM_ALGO_ORDERS\"},{\"notional\":\"5\",\"filterType\":\"MIN_NOTIONAL\"},{\"multiplierDown\":\"0.9000\",\"multiplierUp\":\"1.1000\",\"multiplierDecimal\":\"4\",\"filterType\":\"PERCENT_PRICE\"}],\"orderTypes\":[\"LIMIT\",\"MARKET\",\"STOP\",\"STOP_MARKET\",\"TAKE_PROFIT\",\"TAKE_PROFIT_MARKET\",\"TRAILING_STOP_MARKET\"],\"timeInForce\":[\"GTC\",\"IOC\",\"FOK\",\"GTX\"]},{\"symbol\":\"1000SHIBUSDT\",\"pair\":\"1000SHIBUSDT\",\"contractType\":\"PERPETUAL\",\"deliveryDate\":4133404800000,\"onboardDate\":1620630000000,\"status\":\"TRADING\",\"maintMarginPercent\":\"2.5000\",\"requiredMarginPercent\":\"5.0000\",\"baseAsset\":\"1000SHIB\",\"quoteAsset\":\"USDT\",\"marginAsset\":\"USDT\",\"pricePrecision\":6,\"quantityPrecision\":0,\"baseAssetPrecision\":8,\"quotePrecision\":8,\"underlyingType\":\"COIN\",\"underlyingSubType\":[\"Meme\"],\"settlePlan\":0,\"triggerProtect\":\"0.1000\",\"liquidationFee\":\"0.015000\",\"marketTakeBound\":\"0.10\",\"filters\":[{\"minPrice\":\"0.000157\",\"maxPrice\":\"2000\",\"filterType\":\"PRICE_FILTER\",\"tickSize\":\"0.000001\"},{\"stepSize\":\"1\",\"filterType\":\"LOT_SIZE\",\"maxQty\":\"100000000\",\"minQty\":\"1\"},{\"stepSize\":\"1\",\"filterType\":\"MARKET_LOT_SIZE\",\"maxQty\":\"20000000\",\"minQty\":\"1\"},{\"limit\":200,\"filterType\":\"MAX_NUM_ORDERS\"},{\"limit\":10,\"filterType\":\"MAX_NUM_ALGO_ORDERS\"},{\"notional\":\"5\",\"filterType\":\"MIN_NOTIONAL\"},{\"multiplierDown\":\"0.9000\",\"multiplierUp\":\"1.1000\",\"multiplierDecimal\":\"4\",\"filterType\":\"PERCENT_PRICE\"}],\"orderTypes\":[\"LIMIT\",\"MARKET\",\"STOP\",\"STOP_MARKET\",\"TAKE_PROFIT\",\"TAKE_PROFIT_MARKET\",\"TRAILING_STOP_MARKET\"],\"timeInForce\":[\"GTC\",\"IOC\",\"FOK\",\"GTX\"]},{\"symbol\":\"BAKEUSDT\",\"pair\":\"BAKEUSDT\",\"contractType\":\"PERPETUAL\",\"deliveryDate\":4133404800000,\"onboardDate\":1621321200000,\"status\":\"TRADING\",\"maintMarginPercent\":\"2.5000\",\"requiredMarginPercent\":\"5.0000\",\"baseAsset\":\"BAKE\",\"quoteAsset\":\"USDT\",\"marginAsset\":\"USDT\",\"pricePrecision\":4,\"quantityPrecision\":0,\"baseAssetPrecision\":8,\"quotePrecision\":8,\"underlyingType\":\"COIN\",\"underlyingSubType\":[\"NFT\"],\"settlePlan\":0,\"triggerProtect\":\"0.1000\",\"liquidationFee\":\"0.010000\",\"marketTakeBound\":\"0.10\",\"filters\":[{\"minPrice\":\"0.0001\",\"maxPrice\":\"100000\",\"filterType\":\"PRICE_FILTER\",\"tickSize\":\"0.0001\"},{\"stepSize\":\"1\",\"filterType\":\"LOT_SIZE\",\"maxQty\":\"500000\",\"minQty\":\"1\"},{\"stepSize\":\"1\",\"filterType\":\"MARKET_LOT_SIZE\",\"maxQty\":\"30000\",\"minQty\":\"1\"},{\"limit\":200,\"filterType\":\"MAX_NUM_ORDERS\"},{\"limit\":10,\"filterType\":\"MAX_NUM_ALGO_ORDERS\"},{\"notional\":\"5\",\"filterType\":\"MIN_NOTIONAL\"},{\"multiplierDown\":\"0.9000\",\"multiplierUp\":\"1.1000\",\"multiplierDecimal\":\"4\",\"filterType\":\"PERCENT_PRICE\"}],\"orderTypes\":[\"LIMIT\",\"MARKET\",\"STOP\",\"STOP_MARKET\",\"TAKE_PROFIT\",\"TAKE_PROFIT_MARKET\",\"TRAILING_STOP_MARKET\"],\"timeInForce\":[\"GTC\",\"IOC\",\"FOK\",\"GTX\"]},{\"symbol\":\"GTCUSDT\",\"pair\":\"GTCUSDT\",\"contractType\":\"PERPETUAL\",\"deliveryDate\":4133404800000,\"onboardDate\":1615791600000,\"status\":\"TRADING\",\"maintMarginPercent\":\"2.5000\",\"requiredMarginPercent\":\"5.0000\",\"baseAsset\":\"GTC\",\"quoteAsset\":\"USDT\",\"marginAsset\":\"USDT\",\"pricePrecision\":3,\"quantityPrecision\":1,\"baseAssetPrecision\":8,\"quotePrecision\":8,\"underlyingType\":\"COIN\",\"underlyingSubType\":[\"Infrastructure\"],\"settlePlan\":0,\"triggerProtect\":\"0.1000\",\"liquidationFee\":\"0.010000\",\"marketTakeBound\":\"0.10\",\"filters\":[{\"minPrice\":\"0.200\",\"maxPrice\":\"100000\",\"filterType\":\"PRICE_FILTER\",\"tickSize\":\"0.001\"},{\"stepSize\":\"0.1\",\"filterType\":\"LOT_SIZE\",\"maxQty\":\"100000\",\"minQty\":\"0.1\"},{\"stepSize\":\"0.1\",\"filterType\":\"MARKET_LOT_SIZE\",\"maxQty\":\"5000\",\"minQty\":\"0.1\"},{\"limit\":200,\"filterType\":\"MAX_NUM_ORDERS\"},{\"limit\":10,\"filterType\":\"MAX_NUM_ALGO_ORDERS\"},{\"notional\":\"5\",\"filterType\":\"MIN_NOTIONAL\"},{\"multiplierDown\":\"0.9000\",\"multiplierUp\":\"1.1000\",\"multiplierDecimal\":\"4\",\"filterType\":\"PERCENT_PRICE\"}],\"orderTypes\":[\"LIMIT\",\"MARKET\",\"STOP\",\"STOP_MARKET\",\"TAKE_PROFIT\",\"TAKE_PROFIT_MARKET\",\"TRAILING_STOP_MARKET\"],\"timeInForce\":[\"GTC\",\"IOC\",\"FOK\",\"GTX\"]},{\"symbol\":\"ETHBUSD\",\"pair\":\"ETHBUSD\",\"contractType\":\"PERPETUAL\",\"deliveryDate\":4133404800000,\"onboardDate\":1623744000000,\"status\":\"TRADING\",\"maintMarginPercent\":\"2.5000\",\"requiredMarginPercent\":\"5.0000\",\"baseAsset\":\"ETH\",\"quoteAsset\":\"BUSD\",\"marginAsset\":\"BUSD\",\"pricePrecision\":2,\"quantityPrecision\":3,\"baseAssetPrecision\":8,\"quotePrecision\":8,\"underlyingType\":\"COIN\",\"underlyingSubType\":[\"BUSD\"],\"settlePlan\":0,\"triggerProtect\":\"0.0500\",\"liquidationFee\":\"0.012500\",\"marketTakeBound\":\"0.05\",\"filters\":[{\"minPrice\":\"41.10\",\"maxPrice\":\"306468\",\"filterType\":\"PRICE_FILTER\",\"tickSize\":\"0.01\"},{\"stepSize\":\"0.001\",\"filterType\":\"LOT_SIZE\",\"maxQty\":\"10000\",\"minQty\":\"0.001\"},{\"stepSize\":\"0.001\",\"filterType\":\"MARKET_LOT_SIZE\",\"maxQty\":\"1000\",\"minQty\":\"0.001\"},{\"limit\":200,\"filterType\":\"MAX_NUM_ORDERS\"},{\"limit\":10,\"filterType\":\"MAX_NUM_ALGO_ORDERS\"},{\"notional\":\"5\",\"filterType\":\"MIN_NOTIONAL\"},{\"multiplierDown\":\"0.9500\",\"multiplierUp\":\"1.0500\",\"multiplierDecimal\":\"4\",\"filterType\":\"PERCENT_PRICE\"}],\"orderTypes\":[\"LIMIT\",\"MARKET\",\"STOP\",\"STOP_MARKET\",\"TAKE_PROFIT\",\"TAKE_PROFIT_MARKET\",\"TRAILING_STOP_MARKET\"],\"timeInForce\":[\"GTC\",\"IOC\",\"FOK\",\"GTX\"]},{\"symbol\":\"BTCDOMUSDT\",\"pair\":\"BTCDOMUSDT\",\"contractType\":\"PERPETUAL\",\"deliveryDate\":4133404800000,\"onboardDate\":1623913200000,\"status\":\"TRADING\",\"maintMarginPercent\":\"2.5000\",\"requiredMarginPercent\":\"5.0000\",\"baseAsset\":\"BTCDOM\",\"quoteAsset\":\"USDT\",\"marginAsset\":\"USDT\",\"pricePrecision\":1,\"quantityPrecision\":3,\"baseAssetPrecision\":8,\"quotePrecision\":8,\"underlyingType\":\"INDEX\",\"underlyingSubType\":[\"Index\"],\"settlePlan\":0,\"triggerProtect\":\"0.1000\",\"liquidationFee\":\"0.012500\",\"marketTakeBound\":\"0.10\",\"filters\":[{\"minPrice\":\"10\",\"maxPrice\":\"100000\",\"filterType\":\"PRICE_FILTER\",\"tickSize\":\"0.1\"},{\"stepSize\":\"0.001\",\"filterType\":\"LOT_SIZE\",\"maxQty\":\"10000\",\"minQty\":\"0.001\"},{\"stepSize\":\"0.001\",\"filterType\":\"MARKET_LOT_SIZE\",\"maxQty\":\"100\",\"minQty\":\"0.001\"},{\"limit\":200,\"filterType\":\"MAX_NUM_ORDERS\"},{\"limit\":10,\"filterType\":\"MAX_NUM_ALGO_ORDERS\"},{\"notional\":\"5\",\"filterType\":\"MIN_NOTIONAL\"},{\"multiplierDown\":\"0.9000\",\"multiplierUp\":\"1.1000\",\"multiplierDecimal\":\"4\",\"filterType\":\"PERCENT_PRICE\"}],\"orderTypes\":[\"LIMIT\",\"MARKET\",\"STOP\",\"STOP_MARKET\",\"TAKE_PROFIT\",\"TAKE_PROFIT_MARKET\",\"TRAILING_STOP_MARKET\"],\"timeInForce\":[\"GTC\",\"IOC\",\"FOK\",\"GTX\"]},{\"symbol\":\"TLMUSDT\",\"pair\":\"TLMUSDT\",\"contractType\":\"PERPETUAL\",\"deliveryDate\":1654765200000,\"onboardDate\":1626332400000,\"status\":\"SETTLING\",\"maintMarginPercent\":\"2.5000\",\"requiredMarginPercent\":\"5.0000\",\"baseAsset\":\"TLM\",\"quoteAsset\":\"USDT\",\"marginAsset\":\"USDT\",\"pricePrecision\":4,\"quantityPrecision\":0,\"baseAssetPrecision\":8,\"quotePrecision\":8,\"underlyingType\":\"COIN\",\"underlyingSubType\":[\"Metaverse\"],\"settlePlan\":0,\"triggerProtect\":\"0.0500\",\"liquidationFee\":\"0.025000\",\"marketTakeBound\":\"0.05\",\"filters\":[{\"minPrice\":\"0.0040\",\"maxPrice\":\"100000\",\"filterType\":\"PRICE_FILTER\",\"tickSize\":\"0.0001\"},{\"stepSize\":\"1\",\"filterType\":\"LOT_SIZE\",\"maxQty\":\"1000000\",\"minQty\":\"1\"},{\"stepSize\":\"1\",\"filterType\":\"MARKET_LOT_SIZE\",\"maxQty\":\"625000\",\"minQty\":\"1\"},{\"limit\":200,\"filterType\":\"MAX_NUM_ORDERS\"},{\"limit\":10,\"filterType\":\"MAX_NUM_ALGO_ORDERS\"},{\"notional\":\"5\",\"filterType\":\"MIN_NOTIONAL\"},{\"multiplierDown\":\"0.9500\",\"multiplierUp\":\"1.0500\",\"multiplierDecimal\":\"4\",\"filterType\":\"PERCENT_PRICE\"}],\"orderTypes\":[\"LIMIT\",\"MARKET\",\"STOP\",\"STOP_MARKET\",\"TAKE_PROFIT\",\"TAKE_PROFIT_MARKET\",\"TRAILING_STOP_MARKET\"],\"timeInForce\":[\"GTC\",\"IOC\",\"FOK\",\"GTX\"]},{\"symbol\":\"BNBBUSD\",\"pair\":\"BNBBUSD\",\"contractType\":\"PERPETUAL\",\"deliveryDate\":4133404800000,\"onboardDate\":1627372800000,\"status\":\"TRADING\",\"maintMarginPercent\":\"2.5000\",\"requiredMarginPercent\":\"5.0000\",\"baseAsset\":\"BNB\",\"quoteAsset\":\"BUSD\",\"marginAsset\":\"BUSD\",\"pricePrecision\":3,\"quantityPrecision\":2,\"baseAssetPrecision\":8,\"quotePrecision\":8,\"underlyingType\":\"COIN\",\"underlyingSubType\":[\"BUSD\"],\"settlePlan\":0,\"triggerProtect\":\"0.0500\",\"liquidationFee\":\"0.012500\",\"marketTakeBound\":\"0.05\",\"filters\":[{\"minPrice\":\"6.600\",\"maxPrice\":\"100000\",\"filterType\":\"PRICE_FILTER\",\"tickSize\":\"0.010\"},{\"stepSize\":\"0.01\",\"filterType\":\"LOT_SIZE\",\"maxQty\":\"10000\",\"minQty\":\"0.01\"},{\"stepSize\":\"0.01\",\"filterType\":\"MARKET_LOT_SIZE\",\"maxQty\":\"1000\",\"minQty\":\"0.01\"},{\"limit\":200,\"filterType\":\"MAX_NUM_ORDERS\"},{\"limit\":10,\"filterType\":\"MAX_NUM_ALGO_ORDERS\"},{\"notional\":\"5\",\"filterType\":\"MIN_NOTIONAL\"},{\"multiplierDown\":\"0.9500\",\"multiplierUp\":\"1.0500\",\"multiplierDecimal\":\"4\",\"filterType\":\"PERCENT_PRICE\"}],\"orderTypes\":[\"LIMIT\",\"MARKET\",\"STOP\",\"STOP_MARKET\",\"TAKE_PROFIT\",\"TAKE_PROFIT_MARKET\",\"TRAILING_STOP_MARKET\"],\"timeInForce\":[\"GTC\",\"IOC\",\"FOK\",\"GTX\"]},{\"symbol\":\"ADABUSD\",\"pair\":\"ADABUSD\",\"contractType\":\"PERPETUAL\",\"deliveryDate\":4133404800000,\"onboardDate\":1627372800000,\"status\":\"TRADING\",\"maintMarginPercent\":\"2.5000\",\"requiredMarginPercent\":\"5.0000\",\"baseAsset\":\"ADA\",\"quoteAsset\":\"BUSD\",\"marginAsset\":\"BUSD\",\"pricePrecision\":5,\"quantityPrecision\":0,\"baseAssetPrecision\":8,\"quotePrecision\":8,\"underlyingType\":\"COIN\",\"underlyingSubType\":[\"BUSD\"],\"settlePlan\":0,\"triggerProtect\":\"0.0500\",\"liquidationFee\":\"0.015000\",\"marketTakeBound\":\"0.05\",\"filters\":[{\"minPrice\":\"0.01740\",\"maxPrice\":\"20000\",\"filterType\":\"PRICE_FILTER\",\"tickSize\":\"0.00010\"},{\"stepSize\":\"1\",\"filterType\":\"LOT_SIZE\",\"maxQty\":\"10000000\",\"minQty\":\"1\"},{\"stepSize\":\"1\",\"filterType\":\"MARKET_LOT_SIZE\",\"maxQty\":\"25000\",\"minQty\":\"1\"},{\"limit\":200,\"filterType\":\"MAX_NUM_ORDERS\"},{\"limit\":10,\"filterType\":\"MAX_NUM_ALGO_ORDERS\"},{\"notional\":\"5\",\"filterType\":\"MIN_NOTIONAL\"},{\"multiplierDown\":\"0.9500\",\"multiplierUp\":\"1.0500\",\"multiplierDecimal\":\"4\",\"filterType\":\"PERCENT_PRICE\"}],\"orderTypes\":[\"LIMIT\",\"MARKET\",\"STOP\",\"STOP_MARKET\",\"TAKE_PROFIT\",\"TAKE_PROFIT_MARKET\",\"TRAILING_STOP_MARKET\"],\"timeInForce\":[\"GTC\",\"IOC\",\"FOK\",\"GTX\"]},{\"symbol\":\"XRPBUSD\",\"pair\":\"XRPBUSD\",\"contractType\":\"PERPETUAL\",\"deliveryDate\":4133404800000,\"onboardDate\":1627372800000,\"status\":\"TRADING\",\"maintMarginPercent\":\"2.5000\",\"requiredMarginPercent\":\"5.0000\",\"baseAsset\":\"XRP\",\"quoteAsset\":\"BUSD\",\"marginAsset\":\"BUSD\",\"pricePrecision\":4,\"quantityPrecision\":1,\"baseAssetPrecision\":8,\"quotePrecision\":8,\"underlyingType\":\"COIN\",\"underlyingSubType\":[\"BUSD\"],\"settlePlan\":0,\"triggerProtect\":\"0.0500\",\"liquidationFee\":\"0.010000\",\"marketTakeBound\":\"0.05\",\"filters\":[{\"minPrice\":\"0.0143\",\"maxPrice\":\"100000\",\"filterType\":\"PRICE_FILTER\",\"tickSize\":\"0.0001\"},{\"stepSize\":\"0.1\",\"filterType\":\"LOT_SIZE\",\"maxQty\":\"4000000\",\"minQty\":\"0.1\"},{\"stepSize\":\"0.1\",\"filterType\":\"MARKET_LOT_SIZE\",\"maxQty\":\"800000\",\"minQty\":\"0.1\"},{\"limit\":200,\"filterType\":\"MAX_NUM_ORDERS\"},{\"limit\":10,\"filterType\":\"MAX_NUM_ALGO_ORDERS\"},{\"notional\":\"5\",\"filterType\":\"MIN_NOTIONAL\"},{\"multiplierDown\":\"0.9500\",\"multiplierUp\":\"1.0500\",\"multiplierDecimal\":\"4\",\"filterType\":\"PERCENT_PRICE\"}],\"orderTypes\":[\"LIMIT\",\"MARKET\",\"STOP\",\"STOP_MARKET\",\"TAKE_PROFIT\",\"TAKE_PROFIT_MARKET\",\"TRAILING_STOP_MARKET\"],\"timeInForce\":[\"GTC\",\"IOC\",\"FOK\",\"GTX\"]},{\"symbol\":\"IOTXUSDT\",\"pair\":\"IOTXUSDT\",\"contractType\":\"PERPETUAL\",\"deliveryDate\":4133404800000,\"onboardDate\":1628665200000,\"status\":\"TRADING\",\"maintMarginPercent\":\"2.5000\",\"requiredMarginPercent\":\"5.0000\",\"baseAsset\":\"IOTX\",\"quoteAsset\":\"USDT\",\"marginAsset\":\"USDT\",\"pricePrecision\":5,\"quantityPrecision\":0,\"baseAssetPrecision\":8,\"quotePrecision\":8,\"underlyingType\":\"COIN\",\"underlyingSubType\":[\"Layer-1\"],\"settlePlan\":0,\"triggerProtect\":\"0.1000\",\"liquidationFee\":\"0.010000\",\"marketTakeBound\":\"0.10\",\"filters\":[{\"minPrice\":\"0.00050\",\"maxPrice\":\"20000\",\"filterType\":\"PRICE_FILTER\",\"tickSize\":\"0.00001\"},{\"stepSize\":\"1\",\"filterType\":\"LOT_SIZE\",\"maxQty\":\"10000000\",\"minQty\":\"1\"},{\"stepSize\":\"1\",\"filterType\":\"MARKET_LOT_SIZE\",\"maxQty\":\"500000\",\"minQty\":\"1\"},{\"limit\":200,\"filterType\":\"MAX_NUM_ORDERS\"},{\"limit\":10,\"filterType\":\"MAX_NUM_ALGO_ORDERS\"},{\"notional\":\"5\",\"filterType\":\"MIN_NOTIONAL\"},{\"multiplierDown\":\"0.9000\",\"multiplierUp\":\"1.1000\",\"multiplierDecimal\":\"4\",\"filterType\":\"PERCENT_PRICE\"}],\"orderTypes\":[\"LIMIT\",\"MARKET\",\"STOP\",\"STOP_MARKET\",\"TAKE_PROFIT\",\"TAKE_PROFIT_MARKET\",\"TRAILING_STOP_MARKET\"],\"timeInForce\":[\"GTC\",\"IOC\",\"FOK\",\"GTX\"]},{\"symbol\":\"DOGEBUSD\",\"pair\":\"DOGEBUSD\",\"contractType\":\"PERPETUAL\",\"deliveryDate\":4133404800000,\"onboardDate\":1627372800000,\"status\":\"TRADING\",\"maintMarginPercent\":\"2.5000\",\"requiredMarginPercent\":\"5.0000\",\"baseAsset\":\"DOGE\",\"quoteAsset\":\"BUSD\",\"marginAsset\":\"BUSD\",\"pricePrecision\":6,\"quantityPrecision\":0,\"baseAssetPrecision\":8,\"quotePrecision\":8,\"underlyingType\":\"COIN\",\"underlyingSubType\":[\"BUSD\"],\"settlePlan\":0,\"triggerProtect\":\"0.1000\",\"liquidationFee\":\"0.010000\",\"marketTakeBound\":\"0.10\",\"filters\":[{\"minPrice\":\"0.002440\",\"maxPrice\":\"2000\",\"filterType\":\"PRICE_FILTER\",\"tickSize\":\"0.000010\"},{\"stepSize\":\"1\",\"filterType\":\"LOT_SIZE\",\"maxQty\":\"10000000\",\"minQty\":\"1\"},{\"stepSize\":\"1\",\"filterType\":\"MARKET_LOT_SIZE\",\"maxQty\":\"5000000\",\"minQty\":\"1\"},{\"limit\":200,\"filterType\":\"MAX_NUM_ORDERS\"},{\"limit\":10,\"filterType\":\"MAX_NUM_ALGO_ORDERS\"},{\"notional\":\"5\",\"filterType\":\"MIN_NOTIONAL\"},{\"multiplierDown\":\"0.9000\",\"multiplierUp\":\"1.1000\",\"multiplierDecimal\":\"4\",\"filterType\":\"PERCENT_PRICE\"}],\"orderTypes\":[\"LIMIT\",\"MARKET\",\"STOP\",\"STOP_MARKET\",\"TAKE_PROFIT\",\"TAKE_PROFIT_MARKET\",\"TRAILING_STOP_MARKET\"],\"timeInForce\":[\"GTC\",\"IOC\",\"FOK\",\"GTX\"]},{\"symbol\":\"AUDIOUSDT\",\"pair\":\"AUDIOUSDT\",\"contractType\":\"PERPETUAL\",\"deliveryDate\":4133404800000,\"onboardDate\":1629270000000,\"status\":\"TRADING\",\"maintMarginPercent\":\"2.5000\",\"requiredMarginPercent\":\"5.0000\",\"baseAsset\":\"AUDIO\",\"quoteAsset\":\"USDT\",\"marginAsset\":\"USDT\",\"pricePrecision\":4,\"quantityPrecision\":0,\"baseAssetPrecision\":8,\"quotePrecision\":8,\"underlyingType\":\"COIN\",\"underlyingSubType\":[\"NFT\"],\"settlePlan\":0,\"triggerProtect\":\"0.1000\",\"liquidationFee\":\"0.010000\",\"marketTakeBound\":\"0.10\",\"filters\":[{\"minPrice\":\"0.0040\",\"maxPrice\":\"100000\",\"filterType\":\"PRICE_FILTER\",\"tickSize\":\"0.0001\"},{\"stepSize\":\"1\",\"filterType\":\"LOT_SIZE\",\"maxQty\":\"1000000\",\"minQty\":\"1\"},{\"stepSize\":\"1\",\"filterType\":\"MARKET_LOT_SIZE\",\"maxQty\":\"18000\",\"minQty\":\"1\"},{\"limit\":200,\"filterType\":\"MAX_NUM_ORDERS\"},{\"limit\":10,\"filterType\":\"MAX_NUM_ALGO_ORDERS\"},{\"notional\":\"5\",\"filterType\":\"MIN_NOTIONAL\"},{\"multiplierDown\":\"0.9000\",\"multiplierUp\":\"1.1000\",\"multiplierDecimal\":\"4\",\"filterType\":\"PERCENT_PRICE\"}],\"orderTypes\":[\"LIMIT\",\"MARKET\",\"STOP\",\"STOP_MARKET\",\"TAKE_PROFIT\",\"TAKE_PROFIT_MARKET\",\"TRAILING_STOP_MARKET\"],\"timeInForce\":[\"GTC\",\"IOC\",\"FOK\",\"GTX\"]},{\"symbol\":\"RAYUSDT\",\"pair\":\"RAYUSDT\",\"contractType\":\"PERPETUAL\",\"deliveryDate\":1668484800000,\"onboardDate\":1629270000000,\"status\":\"SETTLING\",\"maintMarginPercent\":\"2.5000\",\"requiredMarginPercent\":\"5.0000\",\"baseAsset\":\"RAY\",\"quoteAsset\":\"USDT\",\"marginAsset\":\"USDT\",\"pricePrecision\":3,\"quantityPrecision\":1,\"baseAssetPrecision\":8,\"quotePrecision\":8,\"underlyingType\":\"COIN\",\"underlyingSubType\":[\"DEX\"],\"settlePlan\":1668484800000,\"triggerProtect\":\"0.1000\",\"liquidationFee\":\"0.025000\",\"marketTakeBound\":\"0.10\",\"filters\":[{\"minPrice\":\"0.010\",\"maxPrice\":\"100000\",\"filterType\":\"PRICE_FILTER\",\"tickSize\":\"0.001\"},{\"stepSize\":\"0.1\",\"filterType\":\"LOT_SIZE\",\"maxQty\":\"500000\",\"minQty\":\"0.1\"},{\"stepSize\":\"0.1\",\"filterType\":\"MARKET_LOT_SIZE\",\"maxQty\":\"5000\",\"minQty\":\"0.1\"},{\"limit\":200,\"filterType\":\"MAX_NUM_ORDERS\"},{\"limit\":10,\"filterType\":\"MAX_NUM_ALGO_ORDERS\"},{\"notional\":\"5\",\"filterType\":\"MIN_NOTIONAL\"},{\"multiplierDown\":\"0.9000\",\"multiplierUp\":\"1.1000\",\"multiplierDecimal\":\"4\",\"filterType\":\"PERCENT_PRICE\"}],\"orderTypes\":[\"LIMIT\",\"MARKET\",\"STOP\",\"STOP_MARKET\",\"TAKE_PROFIT\",\"TAKE_PROFIT_MARKET\",\"TRAILING_STOP_MARKET\"],\"timeInForce\":[\"GTC\",\"IOC\",\"FOK\",\"GTX\"]},{\"symbol\":\"C98USDT\",\"pair\":\"C98USDT\",\"contractType\":\"PERPETUAL\",\"deliveryDate\":4133404800000,\"onboardDate\":1629702000000,\"status\":\"TRADING\",\"maintMarginPercent\":\"2.5000\",\"requiredMarginPercent\":\"5.0000\",\"baseAsset\":\"C98\",\"quoteAsset\":\"USDT\",\"marginAsset\":\"USDT\",\"pricePrecision\":4,\"quantityPrecision\":0,\"baseAssetPrecision\":8,\"quotePrecision\":8,\"underlyingType\":\"COIN\",\"underlyingSubType\":[\"Wallet\"],\"settlePlan\":0,\"triggerProtect\":\"0.1000\",\"liquidationFee\":\"0.010000\",\"marketTakeBound\":\"0.10\",\"filters\":[{\"minPrice\":\"0.0010\",\"maxPrice\":\"100000\",\"filterType\":\"PRICE_FILTER\",\"tickSize\":\"0.0001\"},{\"stepSize\":\"1\",\"filterType\":\"LOT_SIZE\",\"maxQty\":\"250000\",\"minQty\":\"1\"},{\"stepSize\":\"1\",\"filterType\":\"MARKET_LOT_SIZE\",\"maxQty\":\"30000\",\"minQty\":\"1\"},{\"limit\":200,\"filterType\":\"MAX_NUM_ORDERS\"},{\"limit\":10,\"filterType\":\"MAX_NUM_ALGO_ORDERS\"},{\"notional\":\"5\",\"filterType\":\"MIN_NOTIONAL\"},{\"multiplierDown\":\"0.9000\",\"multiplierUp\":\"1.1000\",\"multiplierDecimal\":\"4\",\"filterType\":\"PERCENT_PRICE\"}],\"orderTypes\":[\"LIMIT\",\"MARKET\",\"STOP\",\"STOP_MARKET\",\"TAKE_PROFIT\",\"TAKE_PROFIT_MARKET\",\"TRAILING_STOP_MARKET\"],\"timeInForce\":[\"GTC\",\"IOC\",\"FOK\",\"GTX\"]},{\"symbol\":\"MASKUSDT\",\"pair\":\"MASKUSDT\",\"contractType\":\"PERPETUAL\",\"deliveryDate\":4133404800000,\"onboardDate\":1626418800000,\"status\":\"TRADING\",\"maintMarginPercent\":\"2.5000\",\"requiredMarginPercent\":\"5.0000\",\"baseAsset\":\"MASK\",\"quoteAsset\":\"USDT\",\"marginAsset\":\"USDT\",\"pricePrecision\":4,\"quantityPrecision\":0,\"baseAssetPrecision\":8,\"quotePrecision\":8,\"underlyingType\":\"COIN\",\"underlyingSubType\":[\"Privacy\"],\"settlePlan\":0,\"triggerProtect\":\"0.1000\",\"liquidationFee\":\"0.020000\",\"marketTakeBound\":\"0.10\",\"filters\":[{\"minPrice\":\"0.0040\",\"maxPrice\":\"100000\",\"filterType\":\"PRICE_FILTER\",\"tickSize\":\"0.0010\"},{\"stepSize\":\"1\",\"filterType\":\"LOT_SIZE\",\"maxQty\":\"5000000\",\"minQty\":\"1\"},{\"stepSize\":\"1\",\"filterType\":\"MARKET_LOT_SIZE\",\"maxQty\":\"40000\",\"minQty\":\"1\"},{\"limit\":200,\"filterType\":\"MAX_NUM_ORDERS\"},{\"limit\":10,\"filterType\":\"MAX_NUM_ALGO_ORDERS\"},{\"notional\":\"5\",\"filterType\":\"MIN_NOTIONAL\"},{\"multiplierDown\":\"0.9000\",\"multiplierUp\":\"1.1000\",\"multiplierDecimal\":\"4\",\"filterType\":\"PERCENT_PRICE\"}],\"orderTypes\":[\"LIMIT\",\"MARKET\",\"STOP\",\"STOP_MARKET\",\"TAKE_PROFIT\",\"TAKE_PROFIT_MARKET\",\"TRAILING_STOP_MARKET\"],\"timeInForce\":[\"GTC\",\"IOC\",\"FOK\",\"GTX\"]},{\"symbol\":\"ATAUSDT\",\"pair\":\"ATAUSDT\",\"contractType\":\"PERPETUAL\",\"deliveryDate\":4133404800000,\"onboardDate\":1630306800000,\"status\":\"TRADING\",\"maintMarginPercent\":\"2.5000\",\"requiredMarginPercent\":\"5.0000\",\"baseAsset\":\"ATA\",\"quoteAsset\":\"USDT\",\"marginAsset\":\"USDT\",\"pricePrecision\":4,\"quantityPrecision\":0,\"baseAssetPrecision\":8,\"quotePrecision\":8,\"underlyingType\":\"COIN\",\"underlyingSubType\":[\"Privacy\"],\"settlePlan\":0,\"triggerProtect\":\"0.1200\",\"liquidationFee\":\"0.010000\",\"marketTakeBound\":\"0.12\",\"filters\":[{\"minPrice\":\"0.0040\",\"maxPrice\":\"100000\",\"filterType\":\"PRICE_FILTER\",\"tickSize\":\"0.0001\"},{\"stepSize\":\"1\",\"filterType\":\"LOT_SIZE\",\"maxQty\":\"10000000\",\"minQty\":\"1\"},{\"stepSize\":\"1\",\"filterType\":\"MARKET_LOT_SIZE\",\"maxQty\":\"1000000\",\"minQty\":\"1\"},{\"limit\":200,\"filterType\":\"MAX_NUM_ORDERS\"},{\"limit\":10,\"filterType\":\"MAX_NUM_ALGO_ORDERS\"},{\"notional\":\"5\",\"filterType\":\"MIN_NOTIONAL\"},{\"multiplierDown\":\"0.8800\",\"multiplierUp\":\"1.1200\",\"multiplierDecimal\":\"4\",\"filterType\":\"PERCENT_PRICE\"}],\"orderTypes\":[\"LIMIT\",\"MARKET\",\"STOP\",\"STOP_MARKET\",\"TAKE_PROFIT\",\"TAKE_PROFIT_MARKET\",\"TRAILING_STOP_MARKET\"],\"timeInForce\":[\"GTC\",\"IOC\",\"FOK\",\"GTX\"]},{\"symbol\":\"SOLBUSD\",\"pair\":\"SOLBUSD\",\"contractType\":\"PERPETUAL\",\"deliveryDate\":4133404800000,\"onboardDate\":1630566000000,\"status\":\"TRADING\",\"maintMarginPercent\":\"2.5000\",\"requiredMarginPercent\":\"5.0000\",\"baseAsset\":\"SOL\",\"quoteAsset\":\"BUSD\",\"marginAsset\":\"BUSD\",\"pricePrecision\":4,\"quantityPrecision\":0,\"baseAssetPrecision\":8,\"quotePrecision\":8,\"underlyingType\":\"COIN\",\"underlyingSubType\":[\"BUSD\"],\"settlePlan\":0,\"triggerProtect\":\"0.0500\",\"liquidationFee\":\"0.020000\",\"marketTakeBound\":\"0.05\",\"filters\":[{\"minPrice\":\"0.0400\",\"maxPrice\":\"100000\",\"filterType\":\"PRICE_FILTER\",\"tickSize\":\"0.0010\"},{\"stepSize\":\"1\",\"filterType\":\"LOT_SIZE\",\"maxQty\":\"1000000\",\"minQty\":\"1\"},{\"stepSize\":\"1\",\"filterType\":\"MARKET_LOT_SIZE\",\"maxQty\":\"1000\",\"minQty\":\"1\"},{\"limit\":200,\"filterType\":\"MAX_NUM_ORDERS\"},{\"limit\":10,\"filterType\":\"MAX_NUM_ALGO_ORDERS\"},{\"notional\":\"5\",\"filterType\":\"MIN_NOTIONAL\"},{\"multiplierDown\":\"0.9500\",\"multiplierUp\":\"1.0500\",\"multiplierDecimal\":\"4\",\"filterType\":\"PERCENT_PRICE\"}],\"orderTypes\":[\"LIMIT\",\"MARKET\",\"STOP\",\"STOP_MARKET\",\"TAKE_PROFIT\",\"TAKE_PROFIT_MARKET\",\"TRAILING_STOP_MARKET\"],\"timeInForce\":[\"GTC\",\"IOC\",\"FOK\",\"GTX\"]},{\"symbol\":\"FTTBUSD\",\"pair\":\"FTTBUSD\",\"contractType\":\"PERPETUAL\",\"deliveryDate\":1668400200000,\"onboardDate\":1630911600000,\"status\":\"SETTLING\",\"maintMarginPercent\":\"2.5000\",\"requiredMarginPercent\":\"5.0000\",\"baseAsset\":\"FTT\",\"quoteAsset\":\"BUSD\",\"marginAsset\":\"BUSD\",\"pricePrecision\":3,\"quantityPrecision\":1,\"baseAssetPrecision\":8,\"quotePrecision\":8,\"underlyingType\":\"COIN\",\"underlyingSubType\":[\"BUSD\"],\"settlePlan\":0,\"triggerProtect\":\"0.0500\",\"liquidationFee\":\"0.025000\",\"marketTakeBound\":\"0.05\",\"filters\":[{\"minPrice\":\"0.010\",\"maxPrice\":\"100000\",\"filterType\":\"PRICE_FILTER\",\"tickSize\":\"0.001\"},{\"stepSize\":\"0.1\",\"filterType\":\"LOT_SIZE\",\"maxQty\":\"1000000\",\"minQty\":\"0.1\"},{\"stepSize\":\"0.1\",\"filterType\":\"MARKET_LOT_SIZE\",\"maxQty\":\"1000\",\"minQty\":\"0.1\"},{\"limit\":200,\"filterType\":\"MAX_NUM_ORDERS\"},{\"limit\":10,\"filterType\":\"MAX_NUM_ALGO_ORDERS\"},{\"notional\":\"5\",\"filterType\":\"MIN_NOTIONAL\"},{\"multiplierDown\":\"0.9500\",\"multiplierUp\":\"1.0500\",\"multiplierDecimal\":\"4\",\"filterType\":\"PERCENT_PRICE\"}],\"orderTypes\":[\"LIMIT\",\"MARKET\",\"STOP\",\"STOP_MARKET\",\"TAKE_PROFIT\",\"TAKE_PROFIT_MARKET\",\"TRAILING_STOP_MARKET\"],\"timeInForce\":[\"GTC\",\"IOC\",\"FOK\",\"GTX\"]},{\"symbol\":\"DYDXUSDT\",\"pair\":\"DYDXUSDT\",\"contractType\":\"PERPETUAL\",\"deliveryDate\":4133404800000,\"onboardDate\":1631170800000,\"status\":\"TRADING\",\"maintMarginPercent\":\"2.5000\",\"requiredMarginPercent\":\"5.0000\",\"baseAsset\":\"DYDX\",\"quoteAsset\":\"USDT\",\"marginAsset\":\"USDT\",\"pricePrecision\":3,\"quantityPrecision\":1,\"baseAssetPrecision\":8,\"quotePrecision\":8,\"underlyingType\":\"COIN\",\"underlyingSubType\":[\"DEX\"],\"settlePlan\":0,\"triggerProtect\":\"0.1000\",\"liquidationFee\":\"0.015000\",\"marketTakeBound\":\"0.10\",\"filters\":[{\"minPrice\":\"0.010\",\"maxPrice\":\"100000\",\"filterType\":\"PRICE_FILTER\",\"tickSize\":\"0.001\"},{\"stepSize\":\"0.1\",\"filterType\":\"LOT_SIZE\",\"maxQty\":\"1000000\",\"minQty\":\"0.1\"},{\"stepSize\":\"0.1\",\"filterType\":\"MARKET_LOT_SIZE\",\"maxQty\":\"16800\",\"minQty\":\"0.1\"},{\"limit\":200,\"filterType\":\"MAX_NUM_ORDERS\"},{\"limit\":10,\"filterType\":\"MAX_NUM_ALGO_ORDERS\"},{\"notional\":\"5\",\"filterType\":\"MIN_NOTIONAL\"},{\"multiplierDown\":\"0.9000\",\"multiplierUp\":\"1.1000\",\"multiplierDecimal\":\"4\",\"filterType\":\"PERCENT_PRICE\"}],\"orderTypes\":[\"LIMIT\",\"MARKET\",\"STOP\",\"STOP_MARKET\",\"TAKE_PROFIT\",\"TAKE_PROFIT_MARKET\",\"TRAILING_STOP_MARKET\"],\"timeInForce\":[\"GTC\",\"IOC\",\"FOK\",\"GTX\"]},{\"symbol\":\"1000XECUSDT\",\"pair\":\"1000XECUSDT\",\"contractType\":\"PERPETUAL\",\"deliveryDate\":4133404800000,\"onboardDate\":1631775600000,\"status\":\"TRADING\",\"maintMarginPercent\":\"2.5000\",\"requiredMarginPercent\":\"5.0000\",\"baseAsset\":\"1000XEC\",\"quoteAsset\":\"USDT\",\"marginAsset\":\"USDT\",\"pricePrecision\":5,\"quantityPrecision\":0,\"baseAssetPrecision\":8,\"quotePrecision\":8,\"underlyingType\":\"COIN\",\"underlyingSubType\":[\"PoW\"],\"settlePlan\":0,\"triggerProtect\":\"0.1500\",\"liquidationFee\":\"0.010000\",\"marketTakeBound\":\"0.15\",\"filters\":[{\"minPrice\":\"0.00050\",\"maxPrice\":\"20000\",\"filterType\":\"PRICE_FILTER\",\"tickSize\":\"0.00001\"},{\"stepSize\":\"1\",\"filterType\":\"LOT_SIZE\",\"maxQty\":\"50000000\",\"minQty\":\"1\"},{\"stepSize\":\"1\",\"filterType\":\"MARKET_LOT_SIZE\",\"maxQty\":\"5000000\",\"minQty\":\"1\"},{\"limit\":200,\"filterType\":\"MAX_NUM_ORDERS\"},{\"limit\":10,\"filterType\":\"MAX_NUM_ALGO_ORDERS\"},{\"notional\":\"5\",\"filterType\":\"MIN_NOTIONAL\"},{\"multiplierDown\":\"0.8500\",\"multiplierUp\":\"1.1500\",\"multiplierDecimal\":\"4\",\"filterType\":\"PERCENT_PRICE\"}],\"orderTypes\":[\"LIMIT\",\"MARKET\",\"STOP\",\"STOP_MARKET\",\"TAKE_PROFIT\",\"TAKE_PROFIT_MARKET\",\"TRAILING_STOP_MARKET\"],\"timeInForce\":[\"GTC\",\"IOC\",\"FOK\",\"GTX\"]},{\"symbol\":\"GALAUSDT\",\"pair\":\"GALAUSDT\",\"contractType\":\"PERPETUAL\",\"deliveryDate\":4133404800000,\"onboardDate\":1631862000000,\"status\":\"TRADING\",\"maintMarginPercent\":\"2.5000\",\"requiredMarginPercent\":\"5.0000\",\"baseAsset\":\"GALA\",\"quoteAsset\":\"USDT\",\"marginAsset\":\"USDT\",\"pricePrecision\":5,\"quantityPrecision\":0,\"baseAssetPrecision\":8,\"quotePrecision\":8,\"underlyingType\":\"COIN\",\"underlyingSubType\":[\"Metaverse\"],\"settlePlan\":0,\"triggerProtect\":\"0.1000\",\"liquidationFee\":\"0.010000\",\"marketTakeBound\":\"0.10\",\"filters\":[{\"minPrice\":\"0.00050\",\"maxPrice\":\"20000\",\"filterType\":\"PRICE_FILTER\",\"tickSize\":\"0.00001\"},{\"stepSize\":\"1\",\"filterType\":\"LOT_SIZE\",\"maxQty\":\"10000000\",\"minQty\":\"1\"},{\"stepSize\":\"1\",\"filterType\":\"MARKET_LOT_SIZE\",\"maxQty\":\"1000000\",\"minQty\":\"1\"},{\"limit\":200,\"filterType\":\"MAX_NUM_ORDERS\"},{\"limit\":10,\"filterType\":\"MAX_NUM_ALGO_ORDERS\"},{\"notional\":\"5\",\"filterType\":\"MIN_NOTIONAL\"},{\"multiplierDown\":\"0.9000\",\"multiplierUp\":\"1.1000\",\"multiplierDecimal\":\"4\",\"filterType\":\"PERCENT_PRICE\"}],\"orderTypes\":[\"LIMIT\",\"MARKET\",\"STOP\",\"STOP_MARKET\",\"TAKE_PROFIT\",\"TAKE_PROFIT_MARKET\",\"TRAILING_STOP_MARKET\"],\"timeInForce\":[\"GTC\",\"IOC\",\"FOK\",\"GTX\"]},{\"symbol\":\"CELOUSDT\",\"pair\":\"CELOUSDT\",\"contractType\":\"PERPETUAL\",\"deliveryDate\":4133404800000,\"onboardDate\":1632639600000,\"status\":\"TRADING\",\"maintMarginPercent\":\"2.5000\",\"requiredMarginPercent\":\"5.0000\",\"baseAsset\":\"CELO\",\"quoteAsset\":\"USDT\",\"marginAsset\":\"USDT\",\"pricePrecision\":3,\"quantityPrecision\":1,\"baseAssetPrecision\":8,\"quotePrecision\":8,\"underlyingType\":\"COIN\",\"underlyingSubType\":[\"Layer-1\"],\"settlePlan\":0,\"triggerProtect\":\"0.0500\",\"liquidationFee\":\"0.015000\",\"marketTakeBound\":\"0.05\",\"filters\":[{\"minPrice\":\"0.010\",\"maxPrice\":\"100000\",\"filterType\":\"PRICE_FILTER\",\"tickSize\":\"0.001\"},{\"stepSize\":\"0.1\",\"filterType\":\"LOT_SIZE\",\"maxQty\":\"1000000\",\"minQty\":\"0.1\"},{\"stepSize\":\"0.1\",\"filterType\":\"MARKET_LOT_SIZE\",\"maxQty\":\"100000\",\"minQty\":\"0.1\"},{\"limit\":200,\"filterType\":\"MAX_NUM_ORDERS\"},{\"limit\":10,\"filterType\":\"MAX_NUM_ALGO_ORDERS\"},{\"notional\":\"5\",\"filterType\":\"MIN_NOTIONAL\"},{\"multiplierDown\":\"0.9500\",\"multiplierUp\":\"1.0500\",\"multiplierDecimal\":\"4\",\"filterType\":\"PERCENT_PRICE\"}],\"orderTypes\":[\"LIMIT\",\"MARKET\",\"STOP\",\"STOP_MARKET\",\"TAKE_PROFIT\",\"TAKE_PROFIT_MARKET\",\"TRAILING_STOP_MARKET\"],\"timeInForce\":[\"GTC\",\"IOC\",\"FOK\",\"GTX\"]},{\"symbol\":\"ARUSDT\",\"pair\":\"ARUSDT\",\"contractType\":\"PERPETUAL\",\"deliveryDate\":4133404800000,\"onboardDate\":1632812400000,\"status\":\"TRADING\",\"maintMarginPercent\":\"2.5000\",\"requiredMarginPercent\":\"5.0000\",\"baseAsset\":\"AR\",\"quoteAsset\":\"USDT\",\"marginAsset\":\"USDT\",\"pricePrecision\":3,\"quantityPrecision\":1,\"baseAssetPrecision\":8,\"quotePrecision\":8,\"underlyingType\":\"COIN\",\"underlyingSubType\":[\"Storage\"],\"settlePlan\":0,\"triggerProtect\":\"0.1000\",\"liquidationFee\":\"0.012500\",\"marketTakeBound\":\"0.10\",\"filters\":[{\"minPrice\":\"0.010\",\"maxPrice\":\"100000\",\"filterType\":\"PRICE_FILTER\",\"tickSize\":\"0.001\"},{\"stepSize\":\"0.1\",\"filterType\":\"LOT_SIZE\",\"maxQty\":\"1000000\",\"minQty\":\"0.1\"},{\"stepSize\":\"0.1\",\"filterType\":\"MARKET_LOT_SIZE\",\"maxQty\":\"1500\",\"minQty\":\"0.1\"},{\"limit\":200,\"filterType\":\"MAX_NUM_ORDERS\"},{\"limit\":10,\"filterType\":\"MAX_NUM_ALGO_ORDERS\"},{\"notional\":\"5\",\"filterType\":\"MIN_NOTIONAL\"},{\"multiplierDown\":\"0.9000\",\"multiplierUp\":\"1.1000\",\"multiplierDecimal\":\"4\",\"filterType\":\"PERCENT_PRICE\"}],\"orderTypes\":[\"LIMIT\",\"MARKET\",\"STOP\",\"STOP_MARKET\",\"TAKE_PROFIT\",\"TAKE_PROFIT_MARKET\",\"TRAILING_STOP_MARKET\"],\"timeInForce\":[\"GTC\",\"IOC\",\"FOK\",\"GTX\"]},{\"symbol\":\"KLAYUSDT\",\"pair\":\"KLAYUSDT\",\"contractType\":\"PERPETUAL\",\"deliveryDate\":4133404800000,\"onboardDate\":1633935600000,\"status\":\"TRADING\",\"maintMarginPercent\":\"2.5000\",\"requiredMarginPercent\":\"5.0000\",\"baseAsset\":\"KLAY\",\"quoteAsset\":\"USDT\",\"marginAsset\":\"USDT\",\"pricePrecision\":4,\"quantityPrecision\":1,\"baseAssetPrecision\":8,\"quotePrecision\":8,\"underlyingType\":\"COIN\",\"underlyingSubType\":[\"Layer-1\"],\"settlePlan\":0,\"triggerProtect\":\"0.0500\",\"liquidationFee\":\"0.015000\",\"marketTakeBound\":\"0.05\",\"filters\":[{\"minPrice\":\"0.0010\",\"maxPrice\":\"100000\",\"filterType\":\"PRICE_FILTER\",\"tickSize\":\"0.0001\"},{\"stepSize\":\"0.1\",\"filterType\":\"LOT_SIZE\",\"maxQty\":\"5000000\",\"minQty\":\"0.1\"},{\"stepSize\":\"0.1\",\"filterType\":\"MARKET_LOT_SIZE\",\"maxQty\":\"700000\",\"minQty\":\"0.1\"},{\"limit\":200,\"filterType\":\"MAX_NUM_ORDERS\"},{\"limit\":10,\"filterType\":\"MAX_NUM_ALGO_ORDERS\"},{\"notional\":\"5\",\"filterType\":\"MIN_NOTIONAL\"},{\"multiplierDown\":\"0.9500\",\"multiplierUp\":\"1.0500\",\"multiplierDecimal\":\"4\",\"filterType\":\"PERCENT_PRICE\"}],\"orderTypes\":[\"LIMIT\",\"MARKET\",\"STOP\",\"STOP_MARKET\",\"TAKE_PROFIT\",\"TAKE_PROFIT_MARKET\",\"TRAILING_STOP_MARKET\"],\"timeInForce\":[\"GTC\",\"IOC\",\"FOK\",\"GTX\"]},{\"symbol\":\"ARPAUSDT\",\"pair\":\"ARPAUSDT\",\"contractType\":\"PERPETUAL\",\"deliveryDate\":4133404800000,\"onboardDate\":1634540400000,\"status\":\"TRADING\",\"maintMarginPercent\":\"2.5000\",\"requiredMarginPercent\":\"5.0000\",\"baseAsset\":\"ARPA\",\"quoteAsset\":\"USDT\",\"marginAsset\":\"USDT\",\"pricePrecision\":5,\"quantityPrecision\":0,\"baseAssetPrecision\":8,\"quotePrecision\":8,\"underlyingType\":\"COIN\",\"underlyingSubType\":[\"Privacy\"],\"settlePlan\":0,\"triggerProtect\":\"0.1000\",\"liquidationFee\":\"0.010000\",\"marketTakeBound\":\"0.10\",\"filters\":[{\"minPrice\":\"0.00050\",\"maxPrice\":\"20000\",\"filterType\":\"PRICE_FILTER\",\"tickSize\":\"0.00001\"},{\"stepSize\":\"1\",\"filterType\":\"LOT_SIZE\",\"maxQty\":\"10000000\",\"minQty\":\"1\"},{\"stepSize\":\"1\",\"filterType\":\"MARKET_LOT_SIZE\",\"maxQty\":\"5000000\",\"minQty\":\"1\"},{\"limit\":200,\"filterType\":\"MAX_NUM_ORDERS\"},{\"limit\":10,\"filterType\":\"MAX_NUM_ALGO_ORDERS\"},{\"notional\":\"5\",\"filterType\":\"MIN_NOTIONAL\"},{\"multiplierDown\":\"0.9000\",\"multiplierUp\":\"1.1000\",\"multiplierDecimal\":\"4\",\"filterType\":\"PERCENT_PRICE\"}],\"orderTypes\":[\"LIMIT\",\"MARKET\",\"STOP\",\"STOP_MARKET\",\"TAKE_PROFIT\",\"TAKE_PROFIT_MARKET\",\"TRAILING_STOP_MARKET\"],\"timeInForce\":[\"GTC\",\"IOC\",\"FOK\",\"GTX\"]},{\"symbol\":\"CTSIUSDT\",\"pair\":\"CTSIUSDT\",\"contractType\":\"PERPETUAL\",\"deliveryDate\":4133404800000,\"onboardDate\":1635145200000,\"status\":\"TRADING\",\"maintMarginPercent\":\"2.5000\",\"requiredMarginPercent\":\"5.0000\",\"baseAsset\":\"CTSI\",\"quoteAsset\":\"USDT\",\"marginAsset\":\"USDT\",\"pricePrecision\":4,\"quantityPrecision\":0,\"baseAssetPrecision\":8,\"quotePrecision\":8,\"underlyingType\":\"COIN\",\"underlyingSubType\":[\"Layer-2\"],\"settlePlan\":0,\"triggerProtect\":\"0.1000\",\"liquidationFee\":\"0.015000\",\"marketTakeBound\":\"0.10\",\"filters\":[{\"minPrice\":\"0.0010\",\"maxPrice\":\"100000\",\"filterType\":\"PRICE_FILTER\",\"tickSize\":\"0.0001\"},{\"stepSize\":\"1\",\"filterType\":\"LOT_SIZE\",\"maxQty\":\"1000000\",\"minQty\":\"1\"},{\"stepSize\":\"1\",\"filterType\":\"MARKET_LOT_SIZE\",\"maxQty\":\"700000\",\"minQty\":\"1\"},{\"limit\":200,\"filterType\":\"MAX_NUM_ORDERS\"},{\"limit\":10,\"filterType\":\"MAX_NUM_ALGO_ORDERS\"},{\"notional\":\"5\",\"filterType\":\"MIN_NOTIONAL\"},{\"multiplierDown\":\"0.9000\",\"multiplierUp\":\"1.1000\",\"multiplierDecimal\":\"4\",\"filterType\":\"PERCENT_PRICE\"}],\"orderTypes\":[\"LIMIT\",\"MARKET\",\"STOP\",\"STOP_MARKET\",\"TAKE_PROFIT\",\"TAKE_PROFIT_MARKET\",\"TRAILING_STOP_MARKET\"],\"timeInForce\":[\"GTC\",\"IOC\",\"FOK\",\"GTX\"]},{\"symbol\":\"LPTUSDT\",\"pair\":\"LPTUSDT\",\"contractType\":\"PERPETUAL\",\"deliveryDate\":4133404800000,\"onboardDate\":1636527600000,\"status\":\"TRADING\",\"maintMarginPercent\":\"2.5000\",\"requiredMarginPercent\":\"5.0000\",\"baseAsset\":\"LPT\",\"quoteAsset\":\"USDT\",\"marginAsset\":\"USDT\",\"pricePrecision\":3,\"quantityPrecision\":1,\"baseAssetPrecision\":8,\"quotePrecision\":8,\"underlyingType\":\"COIN\",\"underlyingSubType\":[\"Infrastructure\"],\"settlePlan\":0,\"triggerProtect\":\"0.1000\",\"liquidationFee\":\"0.010000\",\"marketTakeBound\":\"0.10\",\"filters\":[{\"minPrice\":\"0.010\",\"maxPrice\":\"100000\",\"filterType\":\"PRICE_FILTER\",\"tickSize\":\"0.001\"},{\"stepSize\":\"0.1\",\"filterType\":\"LOT_SIZE\",\"maxQty\":\"1000000\",\"minQty\":\"0.1\"},{\"stepSize\":\"0.1\",\"filterType\":\"MARKET_LOT_SIZE\",\"maxQty\":\"1000\",\"minQty\":\"0.1\"},{\"limit\":200,\"filterType\":\"MAX_NUM_ORDERS\"},{\"limit\":10,\"filterType\":\"MAX_NUM_ALGO_ORDERS\"},{\"notional\":\"5\",\"filterType\":\"MIN_NOTIONAL\"},{\"multiplierDown\":\"0.9000\",\"multiplierUp\":\"1.1000\",\"multiplierDecimal\":\"4\",\"filterType\":\"PERCENT_PRICE\"}],\"orderTypes\":[\"LIMIT\",\"MARKET\",\"STOP\",\"STOP_MARKET\",\"TAKE_PROFIT\",\"TAKE_PROFIT_MARKET\",\"TRAILING_STOP_MARKET\"],\"timeInForce\":[\"GTC\",\"IOC\",\"FOK\",\"GTX\"]},{\"symbol\":\"ENSUSDT\",\"pair\":\"ENSUSDT\",\"contractType\":\"PERPETUAL\",\"deliveryDate\":4133404800000,\"onboardDate\":1638169200000,\"status\":\"TRADING\",\"maintMarginPercent\":\"2.5000\",\"requiredMarginPercent\":\"5.0000\",\"baseAsset\":\"ENS\",\"quoteAsset\":\"USDT\",\"marginAsset\":\"USDT\",\"pricePrecision\":3,\"quantityPrecision\":1,\"baseAssetPrecision\":8,\"quotePrecision\":8,\"underlyingType\":\"COIN\",\"underlyingSubType\":[\"DAO\"],\"settlePlan\":0,\"triggerProtect\":\"0.1000\",\"liquidationFee\":\"0.015000\",\"marketTakeBound\":\"0.10\",\"filters\":[{\"minPrice\":\"0.010\",\"maxPrice\":\"100000\",\"filterType\":\"PRICE_FILTER\",\"tickSize\":\"0.001\"},{\"stepSize\":\"0.1\",\"filterType\":\"LOT_SIZE\",\"maxQty\":\"1000000\",\"minQty\":\"0.1\"},{\"stepSize\":\"0.1\",\"filterType\":\"MARKET_LOT_SIZE\",\"maxQty\":\"1000\",\"minQty\":\"0.1\"},{\"limit\":200,\"filterType\":\"MAX_NUM_ORDERS\"},{\"limit\":10,\"filterType\":\"MAX_NUM_ALGO_ORDERS\"},{\"notional\":\"5\",\"filterType\":\"MIN_NOTIONAL\"},{\"multiplierDown\":\"0.9000\",\"multiplierUp\":\"1.1000\",\"multiplierDecimal\":\"4\",\"filterType\":\"PERCENT_PRICE\"}],\"orderTypes\":[\"LIMIT\",\"MARKET\",\"STOP\",\"STOP_MARKET\",\"TAKE_PROFIT\",\"TAKE_PROFIT_MARKET\",\"TRAILING_STOP_MARKET\"],\"timeInForce\":[\"GTC\",\"IOC\",\"FOK\",\"GTX\"]},{\"symbol\":\"PEOPLEUSDT\",\"pair\":\"PEOPLEUSDT\",\"contractType\":\"PERPETUAL\",\"deliveryDate\":4133404800000,\"onboardDate\":1640242800000,\"status\":\"TRADING\",\"maintMarginPercent\":\"2.5000\",\"requiredMarginPercent\":\"5.0000\",\"baseAsset\":\"PEOPLE\",\"quoteAsset\":\"USDT\",\"marginAsset\":\"USDT\",\"pricePrecision\":5,\"quantityPrecision\":0,\"baseAssetPrecision\":8,\"quotePrecision\":8,\"underlyingType\":\"COIN\",\"underlyingSubType\":[\"DAO\"],\"settlePlan\":0,\"triggerProtect\":\"0.1000\",\"liquidationFee\":\"0.010000\",\"marketTakeBound\":\"0.10\",\"filters\":[{\"minPrice\":\"0.00010\",\"maxPrice\":\"100000\",\"filterType\":\"PRICE_FILTER\",\"tickSize\":\"0.00001\"},{\"stepSize\":\"1\",\"filterType\":\"LOT_SIZE\",\"maxQty\":\"10000000\",\"minQty\":\"1\"},{\"stepSize\":\"1\",\"filterType\":\"MARKET_LOT_SIZE\",\"maxQty\":\"100000\",\"minQty\":\"1\"},{\"limit\":200,\"filterType\":\"MAX_NUM_ORDERS\"},{\"limit\":10,\"filterType\":\"MAX_NUM_ALGO_ORDERS\"},{\"notional\":\"5\",\"filterType\":\"MIN_NOTIONAL\"},{\"multiplierDown\":\"0.9000\",\"multiplierUp\":\"1.1000\",\"multiplierDecimal\":\"4\",\"filterType\":\"PERCENT_PRICE\"}],\"orderTypes\":[\"LIMIT\",\"MARKET\",\"STOP\",\"STOP_MARKET\",\"TAKE_PROFIT\",\"TAKE_PROFIT_MARKET\",\"TRAILING_STOP_MARKET\"],\"timeInForce\":[\"GTC\",\"IOC\",\"FOK\",\"GTX\"]},{\"symbol\":\"ANTUSDT\",\"pair\":\"ANTUSDT\",\"contractType\":\"PERPETUAL\",\"deliveryDate\":4133404800000,\"onboardDate\":1640329200000,\"status\":\"TRADING\",\"maintMarginPercent\":\"2.5000\",\"requiredMarginPercent\":\"5.0000\",\"baseAsset\":\"ANT\",\"quoteAsset\":\"USDT\",\"marginAsset\":\"USDT\",\"pricePrecision\":3,\"quantityPrecision\":1,\"baseAssetPrecision\":8,\"quotePrecision\":8,\"underlyingType\":\"COIN\",\"underlyingSubType\":[\"DAO\"],\"settlePlan\":0,\"triggerProtect\":\"0.0500\",\"liquidationFee\":\"0.020000\",\"marketTakeBound\":\"0.05\",\"filters\":[{\"minPrice\":\"0.010\",\"maxPrice\":\"100000\",\"filterType\":\"PRICE_FILTER\",\"tickSize\":\"0.001\"},{\"stepSize\":\"0.1\",\"filterType\":\"LOT_SIZE\",\"maxQty\":\"1000000\",\"minQty\":\"0.1\"},{\"stepSize\":\"0.1\",\"filterType\":\"MARKET_LOT_SIZE\",\"maxQty\":\"1000\",\"minQty\":\"0.1\"},{\"limit\":200,\"filterType\":\"MAX_NUM_ORDERS\"},{\"limit\":10,\"filterType\":\"MAX_NUM_ALGO_ORDERS\"},{\"notional\":\"5\",\"filterType\":\"MIN_NOTIONAL\"},{\"multiplierDown\":\"0.9500\",\"multiplierUp\":\"1.0500\",\"multiplierDecimal\":\"4\",\"filterType\":\"PERCENT_PRICE\"}],\"orderTypes\":[\"LIMIT\",\"MARKET\",\"STOP\",\"STOP_MARKET\",\"TAKE_PROFIT\",\"TAKE_PROFIT_MARKET\",\"TRAILING_STOP_MARKET\"],\"timeInForce\":[\"GTC\",\"IOC\",\"FOK\",\"GTX\"]},{\"symbol\":\"ROSEUSDT\",\"pair\":\"ROSEUSDT\",\"contractType\":\"PERPETUAL\",\"deliveryDate\":4133404800000,\"onboardDate\":1640934000000,\"status\":\"TRADING\",\"maintMarginPercent\":\"2.5000\",\"requiredMarginPercent\":\"5.0000\",\"baseAsset\":\"ROSE\",\"quoteAsset\":\"USDT\",\"marginAsset\":\"USDT\",\"pricePrecision\":5,\"quantityPrecision\":0,\"baseAssetPrecision\":8,\"quotePrecision\":8,\"underlyingType\":\"COIN\",\"underlyingSubType\":[\"DeFi\"],\"settlePlan\":0,\"triggerProtect\":\"0.1000\",\"liquidationFee\":\"0.010000\",\"marketTakeBound\":\"0.10\",\"filters\":[{\"minPrice\":\"0.00010\",\"maxPrice\":\"10000\",\"filterType\":\"PRICE_FILTER\",\"tickSize\":\"0.00001\"},{\"stepSize\":\"1\",\"filterType\":\"LOT_SIZE\",\"maxQty\":\"10000000\",\"minQty\":\"1\"},{\"stepSize\":\"1\",\"filterType\":\"MARKET_LOT_SIZE\",\"maxQty\":\"100000\",\"minQty\":\"1\"},{\"limit\":200,\"filterType\":\"MAX_NUM_ORDERS\"},{\"limit\":10,\"filterType\":\"MAX_NUM_ALGO_ORDERS\"},{\"notional\":\"5\",\"filterType\":\"MIN_NOTIONAL\"},{\"multiplierDown\":\"0.9000\",\"multiplierUp\":\"1.1000\",\"multiplierDecimal\":\"4\",\"filterType\":\"PERCENT_PRICE\"}],\"orderTypes\":[\"LIMIT\",\"MARKET\",\"STOP\",\"STOP_MARKET\",\"TAKE_PROFIT\",\"TAKE_PROFIT_MARKET\",\"TRAILING_STOP_MARKET\"],\"timeInForce\":[\"GTC\",\"IOC\",\"FOK\",\"GTX\"]},{\"symbol\":\"DUSKUSDT\",\"pair\":\"DUSKUSDT\",\"contractType\":\"PERPETUAL\",\"deliveryDate\":4133404800000,\"onboardDate\":1641452400000,\"status\":\"TRADING\",\"maintMarginPercent\":\"2.5000\",\"requiredMarginPercent\":\"5.0000\",\"baseAsset\":\"DUSK\",\"quoteAsset\":\"USDT\",\"marginAsset\":\"USDT\",\"pricePrecision\":5,\"quantityPrecision\":0,\"baseAssetPrecision\":8,\"quotePrecision\":8,\"underlyingType\":\"COIN\",\"underlyingSubType\":[\"Privacy\"],\"settlePlan\":0,\"triggerProtect\":\"0.1000\",\"liquidationFee\":\"0.015000\",\"marketTakeBound\":\"0.10\",\"filters\":[{\"minPrice\":\"0.00010\",\"maxPrice\":\"10000\",\"filterType\":\"PRICE_FILTER\",\"tickSize\":\"0.00001\"},{\"stepSize\":\"1\",\"filterType\":\"LOT_SIZE\",\"maxQty\":\"10000000\",\"minQty\":\"1\"},{\"stepSize\":\"1\",\"filterType\":\"MARKET_LOT_SIZE\",\"maxQty\":\"20000\",\"minQty\":\"1\"},{\"limit\":200,\"filterType\":\"MAX_NUM_ORDERS\"},{\"limit\":10,\"filterType\":\"MAX_NUM_ALGO_ORDERS\"},{\"notional\":\"5\",\"filterType\":\"MIN_NOTIONAL\"},{\"multiplierDown\":\"0.9000\",\"multiplierUp\":\"1.1000\",\"multiplierDecimal\":\"4\",\"filterType\":\"PERCENT_PRICE\"}],\"orderTypes\":[\"LIMIT\",\"MARKET\",\"STOP\",\"STOP_MARKET\",\"TAKE_PROFIT\",\"TAKE_PROFIT_MARKET\",\"TRAILING_STOP_MARKET\"],\"timeInForce\":[\"GTC\",\"IOC\",\"FOK\",\"GTX\"]},{\"symbol\":\"FLOWUSDT\",\"pair\":\"FLOWUSDT\",\"contractType\":\"PERPETUAL\",\"deliveryDate\":4133404800000,\"onboardDate\":1644390000000,\"status\":\"TRADING\",\"maintMarginPercent\":\"2.5000\",\"requiredMarginPercent\":\"5.0000\",\"baseAsset\":\"FLOW\",\"quoteAsset\":\"USDT\",\"marginAsset\":\"USDT\",\"pricePrecision\":3,\"quantityPrecision\":1,\"baseAssetPrecision\":8,\"quotePrecision\":8,\"underlyingType\":\"COIN\",\"underlyingSubType\":[\"NFT\"],\"settlePlan\":0,\"triggerProtect\":\"0.1000\",\"liquidationFee\":\"0.010000\",\"marketTakeBound\":\"0.10\",\"filters\":[{\"minPrice\":\"0.010\",\"maxPrice\":\"100000\",\"filterType\":\"PRICE_FILTER\",\"tickSize\":\"0.001\"},{\"stepSize\":\"0.1\",\"filterType\":\"LOT_SIZE\",\"maxQty\":\"1000000\",\"minQty\":\"0.1\"},{\"stepSize\":\"0.1\",\"filterType\":\"MARKET_LOT_SIZE\",\"maxQty\":\"6000\",\"minQty\":\"0.1\"},{\"limit\":200,\"filterType\":\"MAX_NUM_ORDERS\"},{\"limit\":10,\"filterType\":\"MAX_NUM_ALGO_ORDERS\"},{\"notional\":\"5\",\"filterType\":\"MIN_NOTIONAL\"},{\"multiplierDown\":\"0.9000\",\"multiplierUp\":\"1.1000\",\"multiplierDecimal\":\"4\",\"filterType\":\"PERCENT_PRICE\"}],\"orderTypes\":[\"LIMIT\",\"MARKET\",\"STOP\",\"STOP_MARKET\",\"TAKE_PROFIT\",\"TAKE_PROFIT_MARKET\",\"TRAILING_STOP_MARKET\"],\"timeInForce\":[\"GTC\",\"IOC\",\"FOK\",\"GTX\"]},{\"symbol\":\"IMXUSDT\",\"pair\":\"IMXUSDT\",\"contractType\":\"PERPETUAL\",\"deliveryDate\":4133404800000,\"onboardDate\":1644476400000,\"status\":\"TRADING\",\"maintMarginPercent\":\"2.5000\",\"requiredMarginPercent\":\"5.0000\",\"baseAsset\":\"IMX\",\"quoteAsset\":\"USDT\",\"marginAsset\":\"USDT\",\"pricePrecision\":4,\"quantityPrecision\":0,\"baseAssetPrecision\":8,\"quotePrecision\":8,\"underlyingType\":\"COIN\",\"underlyingSubType\":[\"NFT\"],\"settlePlan\":0,\"triggerProtect\":\"0.1000\",\"liquidationFee\":\"0.010000\",\"marketTakeBound\":\"0.10\",\"filters\":[{\"minPrice\":\"0.0010\",\"maxPrice\":\"100000\",\"filterType\":\"PRICE_FILTER\",\"tickSize\":\"0.0001\"},{\"stepSize\":\"1\",\"filterType\":\"LOT_SIZE\",\"maxQty\":\"1000000\",\"minQty\":\"1\"},{\"stepSize\":\"1\",\"filterType\":\"MARKET_LOT_SIZE\",\"maxQty\":\"20000\",\"minQty\":\"1\"},{\"limit\":200,\"filterType\":\"MAX_NUM_ORDERS\"},{\"limit\":10,\"filterType\":\"MAX_NUM_ALGO_ORDERS\"},{\"notional\":\"5\",\"filterType\":\"MIN_NOTIONAL\"},{\"multiplierDown\":\"0.9000\",\"multiplierUp\":\"1.1000\",\"multiplierDecimal\":\"4\",\"filterType\":\"PERCENT_PRICE\"}],\"orderTypes\":[\"LIMIT\",\"MARKET\",\"STOP\",\"STOP_MARKET\",\"TAKE_PROFIT\",\"TAKE_PROFIT_MARKET\",\"TRAILING_STOP_MARKET\"],\"timeInForce\":[\"GTC\",\"IOC\",\"FOK\",\"GTX\"]},{\"symbol\":\"API3USDT\",\"pair\":\"API3USDT\",\"contractType\":\"PERPETUAL\",\"deliveryDate\":4133404800000,\"onboardDate\":1645426800000,\"status\":\"TRADING\",\"maintMarginPercent\":\"2.5000\",\"requiredMarginPercent\":\"5.0000\",\"baseAsset\":\"API3\",\"quoteAsset\":\"USDT\",\"marginAsset\":\"USDT\",\"pricePrecision\":4,\"quantityPrecision\":1,\"baseAssetPrecision\":8,\"quotePrecision\":8,\"underlyingType\":\"COIN\",\"underlyingSubType\":[\"DeFi\"],\"settlePlan\":0,\"triggerProtect\":\"0.1000\",\"liquidationFee\":\"0.015000\",\"marketTakeBound\":\"0.10\",\"filters\":[{\"minPrice\":\"0.0010\",\"maxPrice\":\"10000\",\"filterType\":\"PRICE_FILTER\",\"tickSize\":\"0.0010\"},{\"stepSize\":\"0.1\",\"filterType\":\"LOT_SIZE\",\"maxQty\":\"1000000\",\"minQty\":\"0.1\"},{\"stepSize\":\"0.1\",\"filterType\":\"MARKET_LOT_SIZE\",\"maxQty\":\"100000\",\"minQty\":\"0.1\"},{\"limit\":200,\"filterType\":\"MAX_NUM_ORDERS\"},{\"limit\":10,\"filterType\":\"MAX_NUM_ALGO_ORDERS\"},{\"notional\":\"5\",\"filterType\":\"MIN_NOTIONAL\"},{\"multiplierDown\":\"0.9000\",\"multiplierUp\":\"1.1000\",\"multiplierDecimal\":\"4\",\"filterType\":\"PERCENT_PRICE\"}],\"orderTypes\":[\"LIMIT\",\"MARKET\",\"STOP\",\"STOP_MARKET\",\"TAKE_PROFIT\",\"TAKE_PROFIT_MARKET\",\"TRAILING_STOP_MARKET\"],\"timeInForce\":[\"GTC\",\"IOC\",\"FOK\",\"GTX\"]},{\"symbol\":\"GMTUSDT\",\"pair\":\"GMTUSDT\",\"contractType\":\"PERPETUAL\",\"deliveryDate\":4133404800000,\"onboardDate\":1647241200000,\"status\":\"TRADING\",\"maintMarginPercent\":\"2.5000\",\"requiredMarginPercent\":\"5.0000\",\"baseAsset\":\"GMT\",\"quoteAsset\":\"USDT\",\"marginAsset\":\"USDT\",\"pricePrecision\":5,\"quantityPrecision\":0,\"baseAssetPrecision\":8,\"quotePrecision\":8,\"underlyingType\":\"COIN\",\"underlyingSubType\":[\"Metaverse\"],\"settlePlan\":0,\"triggerProtect\":\"0.1000\",\"liquidationFee\":\"0.010000\",\"marketTakeBound\":\"0.10\",\"filters\":[{\"minPrice\":\"0.00010\",\"maxPrice\":\"10000\",\"filterType\":\"PRICE_FILTER\",\"tickSize\":\"0.00010\"},{\"stepSize\":\"1\",\"filterType\":\"LOT_SIZE\",\"maxQty\":\"10000000\",\"minQty\":\"1\"},{\"stepSize\":\"1\",\"filterType\":\"MARKET_LOT_SIZE\",\"maxQty\":\"150000\",\"minQty\":\"1\"},{\"limit\":200,\"filterType\":\"MAX_NUM_ORDERS\"},{\"limit\":10,\"filterType\":\"MAX_NUM_ALGO_ORDERS\"},{\"notional\":\"5\",\"filterType\":\"MIN_NOTIONAL\"},{\"multiplierDown\":\"0.9000\",\"multiplierUp\":\"1.1000\",\"multiplierDecimal\":\"4\",\"filterType\":\"PERCENT_PRICE\"}],\"orderTypes\":[\"LIMIT\",\"MARKET\",\"STOP\",\"STOP_MARKET\",\"TAKE_PROFIT\",\"TAKE_PROFIT_MARKET\",\"TRAILING_STOP_MARKET\"],\"timeInForce\":[\"GTC\",\"IOC\",\"FOK\",\"GTX\"]},{\"symbol\":\"APEUSDT\",\"pair\":\"APEUSDT\",\"contractType\":\"PERPETUAL\",\"deliveryDate\":4133404800000,\"onboardDate\":1647500400000,\"status\":\"TRADING\",\"maintMarginPercent\":\"2.5000\",\"requiredMarginPercent\":\"5.0000\",\"baseAsset\":\"APE\",\"quoteAsset\":\"USDT\",\"marginAsset\":\"USDT\",\"pricePrecision\":4,\"quantityPrecision\":0,\"baseAssetPrecision\":8,\"quotePrecision\":8,\"underlyingType\":\"COIN\",\"underlyingSubType\":[\"NFT\"],\"settlePlan\":0,\"triggerProtect\":\"0.1000\",\"liquidationFee\":\"0.015000\",\"marketTakeBound\":\"0.10\",\"filters\":[{\"minPrice\":\"0.0010\",\"maxPrice\":\"100000\",\"filterType\":\"PRICE_FILTER\",\"tickSize\":\"0.0010\"},{\"stepSize\":\"1\",\"filterType\":\"LOT_SIZE\",\"maxQty\":\"1000000\",\"minQty\":\"1\"},{\"stepSize\":\"1\",\"filterType\":\"MARKET_LOT_SIZE\",\"maxQty\":\"6000\",\"minQty\":\"1\"},{\"limit\":200,\"filterType\":\"MAX_NUM_ORDERS\"},{\"limit\":10,\"filterType\":\"MAX_NUM_ALGO_ORDERS\"},{\"notional\":\"5\",\"filterType\":\"MIN_NOTIONAL\"},{\"multiplierDown\":\"0.9000\",\"multiplierUp\":\"1.1000\",\"multiplierDecimal\":\"4\",\"filterType\":\"PERCENT_PRICE\"}],\"orderTypes\":[\"LIMIT\",\"MARKET\",\"STOP\",\"STOP_MARKET\",\"TAKE_PROFIT\",\"TAKE_PROFIT_MARKET\",\"TRAILING_STOP_MARKET\"],\"timeInForce\":[\"GTC\",\"IOC\",\"FOK\",\"GTX\"]},{\"symbol\":\"BNXUSDT\",\"pair\":\"BNXUSDT\",\"contractType\":\"PERPETUAL\",\"deliveryDate\":4133404800000,\"onboardDate\":1648710000000,\"status\":\"TRADING\",\"maintMarginPercent\":\"2.5000\",\"requiredMarginPercent\":\"5.0000\",\"baseAsset\":\"BNX\",\"quoteAsset\":\"USDT\",\"marginAsset\":\"USDT\",\"pricePrecision\":4,\"quantityPrecision\":1,\"baseAssetPrecision\":8,\"quotePrecision\":8,\"underlyingType\":\"COIN\",\"underlyingSubType\":[\"NFT\"],\"settlePlan\":0,\"triggerProtect\":\"0.0500\",\"liquidationFee\":\"0.025000\",\"marketTakeBound\":\"0.05\",\"filters\":[{\"minPrice\":\"0.0100\",\"maxPrice\":\"100000\",\"filterType\":\"PRICE_FILTER\",\"tickSize\":\"0.0100\"},{\"stepSize\":\"0.1\",\"filterType\":\"LOT_SIZE\",\"maxQty\":\"1000000\",\"minQty\":\"0.1\"},{\"stepSize\":\"0.1\",\"filterType\":\"MARKET_LOT_SIZE\",\"maxQty\":\"85\",\"minQty\":\"0.1\"},{\"limit\":200,\"filterType\":\"MAX_NUM_ORDERS\"},{\"limit\":10,\"filterType\":\"MAX_NUM_ALGO_ORDERS\"},{\"notional\":\"5\",\"filterType\":\"MIN_NOTIONAL\"},{\"multiplierDown\":\"0.9500\",\"multiplierUp\":\"1.0500\",\"multiplierDecimal\":\"4\",\"filterType\":\"PERCENT_PRICE\"}],\"orderTypes\":[\"LIMIT\",\"MARKET\",\"STOP\",\"STOP_MARKET\",\"TAKE_PROFIT\",\"TAKE_PROFIT_MARKET\",\"TRAILING_STOP_MARKET\"],\"timeInForce\":[\"GTC\",\"IOC\",\"FOK\",\"GTX\"]},{\"symbol\":\"WOOUSDT\",\"pair\":\"WOOUSDT\",\"contractType\":\"PERPETUAL\",\"deliveryDate\":4133404800000,\"onboardDate\":1649314800000,\"status\":\"TRADING\",\"maintMarginPercent\":\"2.5000\",\"requiredMarginPercent\":\"5.0000\",\"baseAsset\":\"WOO\",\"quoteAsset\":\"USDT\",\"marginAsset\":\"USDT\",\"pricePrecision\":5,\"quantityPrecision\":0,\"baseAssetPrecision\":8,\"quotePrecision\":8,\"underlyingType\":\"COIN\",\"underlyingSubType\":[\"CEX\"],\"settlePlan\":0,\"triggerProtect\":\"0.1000\",\"liquidationFee\":\"0.010000\",\"marketTakeBound\":\"0.10\",\"filters\":[{\"minPrice\":\"0.00010\",\"maxPrice\":\"10000\",\"filterType\":\"PRICE_FILTER\",\"tickSize\":\"0.00001\"},{\"stepSize\":\"1\",\"filterType\":\"LOT_SIZE\",\"maxQty\":\"10000000\",\"minQty\":\"1\"},{\"stepSize\":\"1\",\"filterType\":\"MARKET_LOT_SIZE\",\"maxQty\":\"100000\",\"minQty\":\"1\"},{\"limit\":200,\"filterType\":\"MAX_NUM_ORDERS\"},{\"limit\":10,\"filterType\":\"MAX_NUM_ALGO_ORDERS\"},{\"notional\":\"5\",\"filterType\":\"MIN_NOTIONAL\"},{\"multiplierDown\":\"0.9000\",\"multiplierUp\":\"1.1000\",\"multiplierDecimal\":\"4\",\"filterType\":\"PERCENT_PRICE\"}],\"orderTypes\":[\"LIMIT\",\"MARKET\",\"STOP\",\"STOP_MARKET\",\"TAKE_PROFIT\",\"TAKE_PROFIT_MARKET\",\"TRAILING_STOP_MARKET\"],\"timeInForce\":[\"GTC\",\"IOC\",\"FOK\",\"GTX\"]},{\"symbol\":\"FTTUSDT\",\"pair\":\"FTTUSDT\",\"contractType\":\"PERPETUAL\",\"deliveryDate\":1668398400000,\"onboardDate\":1649919600000,\"status\":\"SETTLING\",\"maintMarginPercent\":\"2.5000\",\"requiredMarginPercent\":\"5.0000\",\"baseAsset\":\"FTT\",\"quoteAsset\":\"USDT\",\"marginAsset\":\"USDT\",\"pricePrecision\":4,\"quantityPrecision\":1,\"baseAssetPrecision\":8,\"quotePrecision\":8,\"underlyingType\":\"COIN\",\"underlyingSubType\":[\"CEX\"],\"settlePlan\":0,\"triggerProtect\":\"0.0500\",\"liquidationFee\":\"0.025000\",\"marketTakeBound\":\"0.05\",\"filters\":[{\"minPrice\":\"0.0010\",\"maxPrice\":\"100000\",\"filterType\":\"PRICE_FILTER\",\"tickSize\":\"0.0001\"},{\"stepSize\":\"0.1\",\"filterType\":\"LOT_SIZE\",\"maxQty\":\"1000000\",\"minQty\":\"0.1\"},{\"stepSize\":\"0.1\",\"filterType\":\"MARKET_LOT_SIZE\",\"maxQty\":\"1000\",\"minQty\":\"0.1\"},{\"limit\":200,\"filterType\":\"MAX_NUM_ORDERS\"},{\"limit\":10,\"filterType\":\"MAX_NUM_ALGO_ORDERS\"},{\"notional\":\"5\",\"filterType\":\"MIN_NOTIONAL\"},{\"multiplierDown\":\"0.9500\",\"multiplierUp\":\"1.0500\",\"multiplierDecimal\":\"4\",\"filterType\":\"PERCENT_PRICE\"}],\"orderTypes\":[\"LIMIT\",\"MARKET\",\"STOP\",\"STOP_MARKET\",\"TAKE_PROFIT\",\"TAKE_PROFIT_MARKET\",\"TRAILING_STOP_MARKET\"],\"timeInForce\":[\"GTC\",\"IOC\",\"FOK\",\"GTX\"]},{\"symbol\":\"JASMYUSDT\",\"pair\":\"JASMYUSDT\",\"contractType\":\"PERPETUAL\",\"deliveryDate\":4133404800000,\"onboardDate\":1650351600000,\"status\":\"TRADING\",\"maintMarginPercent\":\"2.5000\",\"requiredMarginPercent\":\"5.0000\",\"baseAsset\":\"JASMY\",\"quoteAsset\":\"USDT\",\"marginAsset\":\"USDT\",\"pricePrecision\":6,\"quantityPrecision\":0,\"baseAssetPrecision\":8,\"quotePrecision\":8,\"underlyingType\":\"COIN\",\"underlyingSubType\":[\"Infrastructure\"],\"settlePlan\":0,\"triggerProtect\":\"0.1000\",\"liquidationFee\":\"0.010000\",\"marketTakeBound\":\"0.10\",\"filters\":[{\"minPrice\":\"0.000010\",\"maxPrice\":\"10000\",\"filterType\":\"PRICE_FILTER\",\"tickSize\":\"0.000001\"},{\"stepSize\":\"1\",\"filterType\":\"LOT_SIZE\",\"maxQty\":\"10000000\",\"minQty\":\"1\"},{\"stepSize\":\"1\",\"filterType\":\"MARKET_LOT_SIZE\",\"maxQty\":\"2500000\",\"minQty\":\"1\"},{\"limit\":200,\"filterType\":\"MAX_NUM_ORDERS\"},{\"limit\":10,\"filterType\":\"MAX_NUM_ALGO_ORDERS\"},{\"notional\":\"5\",\"filterType\":\"MIN_NOTIONAL\"},{\"multiplierDown\":\"0.9000\",\"multiplierUp\":\"1.1000\",\"multiplierDecimal\":\"4\",\"filterType\":\"PERCENT_PRICE\"}],\"orderTypes\":[\"LIMIT\",\"MARKET\",\"STOP\",\"STOP_MARKET\",\"TAKE_PROFIT\",\"TAKE_PROFIT_MARKET\",\"TRAILING_STOP_MARKET\"],\"timeInForce\":[\"GTC\",\"IOC\",\"FOK\",\"GTX\"]},{\"symbol\":\"DARUSDT\",\"pair\":\"DARUSDT\",\"contractType\":\"PERPETUAL\",\"deliveryDate\":4133404800000,\"onboardDate\":1651129200000,\"status\":\"TRADING\",\"maintMarginPercent\":\"2.5000\",\"requiredMarginPercent\":\"5.0000\",\"baseAsset\":\"DAR\",\"quoteAsset\":\"USDT\",\"marginAsset\":\"USDT\",\"pricePrecision\":4,\"quantityPrecision\":1,\"baseAssetPrecision\":8,\"quotePrecision\":8,\"underlyingType\":\"COIN\",\"underlyingSubType\":[\"NFT\"],\"settlePlan\":0,\"triggerProtect\":\"0.1000\",\"liquidationFee\":\"0.010000\",\"marketTakeBound\":\"0.10\",\"filters\":[{\"minPrice\":\"0.0010\",\"maxPrice\":\"100000\",\"filterType\":\"PRICE_FILTER\",\"tickSize\":\"0.0001\"},{\"stepSize\":\"0.1\",\"filterType\":\"LOT_SIZE\",\"maxQty\":\"1000000\",\"minQty\":\"0.1\"},{\"stepSize\":\"0.1\",\"filterType\":\"MARKET_LOT_SIZE\",\"maxQty\":\"30000\",\"minQty\":\"0.1\"},{\"limit\":200,\"filterType\":\"MAX_NUM_ORDERS\"},{\"limit\":10,\"filterType\":\"MAX_NUM_ALGO_ORDERS\"},{\"notional\":\"5\",\"filterType\":\"MIN_NOTIONAL\"},{\"multiplierDown\":\"0.9000\",\"multiplierUp\":\"1.1000\",\"multiplierDecimal\":\"4\",\"filterType\":\"PERCENT_PRICE\"}],\"orderTypes\":[\"LIMIT\",\"MARKET\",\"STOP\",\"STOP_MARKET\",\"TAKE_PROFIT\",\"TAKE_PROFIT_MARKET\",\"TRAILING_STOP_MARKET\"],\"timeInForce\":[\"GTC\",\"IOC\",\"FOK\",\"GTX\"]},{\"symbol\":\"GALUSDT\",\"pair\":\"GALUSDT\",\"contractType\":\"PERPETUAL\",\"deliveryDate\":4133404800000,\"onboardDate\":1651734000000,\"status\":\"TRADING\",\"maintMarginPercent\":\"2.5000\",\"requiredMarginPercent\":\"5.0000\",\"baseAsset\":\"GAL\",\"quoteAsset\":\"USDT\",\"marginAsset\":\"USDT\",\"pricePrecision\":5,\"quantityPrecision\":0,\"baseAssetPrecision\":8,\"quotePrecision\":8,\"underlyingType\":\"COIN\",\"underlyingSubType\":[\"Infrastructure\"],\"settlePlan\":0,\"triggerProtect\":\"0.1000\",\"liquidationFee\":\"0.010000\",\"marketTakeBound\":\"0.10\",\"filters\":[{\"minPrice\":\"0.00010\",\"maxPrice\":\"10000\",\"filterType\":\"PRICE_FILTER\",\"tickSize\":\"0.00010\"},{\"stepSize\":\"1\",\"filterType\":\"LOT_SIZE\",\"maxQty\":\"10000000\",\"minQty\":\"1\"},{\"stepSize\":\"1\",\"filterType\":\"MARKET_LOT_SIZE\",\"maxQty\":\"4000\",\"minQty\":\"1\"},{\"limit\":200,\"filterType\":\"MAX_NUM_ORDERS\"},{\"limit\":10,\"filterType\":\"MAX_NUM_ALGO_ORDERS\"},{\"notional\":\"5\",\"filterType\":\"MIN_NOTIONAL\"},{\"multiplierDown\":\"0.9000\",\"multiplierUp\":\"1.1000\",\"multiplierDecimal\":\"4\",\"filterType\":\"PERCENT_PRICE\"}],\"orderTypes\":[\"LIMIT\",\"MARKET\",\"STOP\",\"STOP_MARKET\",\"TAKE_PROFIT\",\"TAKE_PROFIT_MARKET\",\"TRAILING_STOP_MARKET\"],\"timeInForce\":[\"GTC\",\"IOC\",\"FOK\",\"GTX\"]},{\"symbol\":\"AVAXBUSD\",\"pair\":\"AVAXBUSD\",\"contractType\":\"PERPETUAL\",\"deliveryDate\":4133404800000,\"onboardDate\":1652425200000,\"status\":\"TRADING\",\"maintMarginPercent\":\"2.5000\",\"requiredMarginPercent\":\"5.0000\",\"baseAsset\":\"AVAX\",\"quoteAsset\":\"BUSD\",\"marginAsset\":\"BUSD\",\"pricePrecision\":6,\"quantityPrecision\":1,\"baseAssetPrecision\":8,\"quotePrecision\":8,\"underlyingType\":\"COIN\",\"underlyingSubType\":[\"BUSD\"],\"settlePlan\":0,\"triggerProtect\":\"0.0500\",\"liquidationFee\":\"0.012500\",\"marketTakeBound\":\"0.05\",\"filters\":[{\"minPrice\":\"0.001000\",\"maxPrice\":\"100000\",\"filterType\":\"PRICE_FILTER\",\"tickSize\":\"0.001000\"},{\"stepSize\":\"0.1\",\"filterType\":\"LOT_SIZE\",\"maxQty\":\"1000000\",\"minQty\":\"0.1\"},{\"stepSize\":\"0.1\",\"filterType\":\"MARKET_LOT_SIZE\",\"maxQty\":\"500\",\"minQty\":\"0.1\"},{\"limit\":200,\"filterType\":\"MAX_NUM_ORDERS\"},{\"limit\":10,\"filterType\":\"MAX_NUM_ALGO_ORDERS\"},{\"notional\":\"5\",\"filterType\":\"MIN_NOTIONAL\"},{\"multiplierDown\":\"0.9500\",\"multiplierUp\":\"1.0500\",\"multiplierDecimal\":\"4\",\"filterType\":\"PERCENT_PRICE\"}],\"orderTypes\":[\"LIMIT\",\"MARKET\",\"STOP\",\"STOP_MARKET\",\"TAKE_PROFIT\",\"TAKE_PROFIT_MARKET\",\"TRAILING_STOP_MARKET\"],\"timeInForce\":[\"GTC\",\"IOC\",\"FOK\",\"GTX\"]},{\"symbol\":\"NEARBUSD\",\"pair\":\"NEARBUSD\",\"contractType\":\"PERPETUAL\",\"deliveryDate\":4133404800000,\"onboardDate\":1652684400000,\"status\":\"TRADING\",\"maintMarginPercent\":\"2.5000\",\"requiredMarginPercent\":\"5.0000\",\"baseAsset\":\"NEAR\",\"quoteAsset\":\"BUSD\",\"marginAsset\":\"BUSD\",\"pricePrecision\":7,\"quantityPrecision\":1,\"baseAssetPrecision\":8,\"quotePrecision\":8,\"underlyingType\":\"COIN\",\"underlyingSubType\":[\"BUSD\"],\"settlePlan\":0,\"triggerProtect\":\"0.0500\",\"liquidationFee\":\"0.010000\",\"marketTakeBound\":\"0.05\",\"filters\":[{\"minPrice\":\"0.0010000\",\"maxPrice\":\"100000\",\"filterType\":\"PRICE_FILTER\",\"tickSize\":\"0.0010000\"},{\"stepSize\":\"0.1\",\"filterType\":\"LOT_SIZE\",\"maxQty\":\"1000000\",\"minQty\":\"0.1\"},{\"stepSize\":\"0.1\",\"filterType\":\"MARKET_LOT_SIZE\",\"maxQty\":\"9000\",\"minQty\":\"0.1\"},{\"limit\":200,\"filterType\":\"MAX_NUM_ORDERS\"},{\"limit\":10,\"filterType\":\"MAX_NUM_ALGO_ORDERS\"},{\"notional\":\"5\",\"filterType\":\"MIN_NOTIONAL\"},{\"multiplierDown\":\"0.9500\",\"multiplierUp\":\"1.0500\",\"multiplierDecimal\":\"4\",\"filterType\":\"PERCENT_PRICE\"}],\"orderTypes\":[\"LIMIT\",\"MARKET\",\"STOP\",\"STOP_MARKET\",\"TAKE_PROFIT\",\"TAKE_PROFIT_MARKET\",\"TRAILING_STOP_MARKET\"],\"timeInForce\":[\"GTC\",\"IOC\",\"FOK\",\"GTX\"]},{\"symbol\":\"GMTBUSD\",\"pair\":\"GMTBUSD\",\"contractType\":\"PERPETUAL\",\"deliveryDate\":4133404800000,\"onboardDate\":1652684400000,\"status\":\"TRADING\",\"maintMarginPercent\":\"2.5000\",\"requiredMarginPercent\":\"5.0000\",\"baseAsset\":\"GMT\",\"quoteAsset\":\"BUSD\",\"marginAsset\":\"BUSD\",\"pricePrecision\":7,\"quantityPrecision\":1,\"baseAssetPrecision\":8,\"quotePrecision\":8,\"underlyingType\":\"COIN\",\"underlyingSubType\":[\"BUSD\"],\"settlePlan\":0,\"triggerProtect\":\"0.1000\",\"liquidationFee\":\"0.010000\",\"marketTakeBound\":\"0.10\",\"filters\":[{\"minPrice\":\"0.0001000\",\"maxPrice\":\"100000\",\"filterType\":\"PRICE_FILTER\",\"tickSize\":\"0.0001000\"},{\"stepSize\":\"0.1\",\"filterType\":\"LOT_SIZE\",\"maxQty\":\"1000000\",\"minQty\":\"0.1\"},{\"stepSize\":\"0.1\",\"filterType\":\"MARKET_LOT_SIZE\",\"maxQty\":\"32000\",\"minQty\":\"0.1\"},{\"limit\":200,\"filterType\":\"MAX_NUM_ORDERS\"},{\"limit\":10,\"filterType\":\"MAX_NUM_ALGO_ORDERS\"},{\"notional\":\"5\",\"filterType\":\"MIN_NOTIONAL\"},{\"multiplierDown\":\"0.9000\",\"multiplierUp\":\"1.1000\",\"multiplierDecimal\":\"4\",\"filterType\":\"PERCENT_PRICE\"}],\"orderTypes\":[\"LIMIT\",\"MARKET\",\"STOP\",\"STOP_MARKET\",\"TAKE_PROFIT\",\"TAKE_PROFIT_MARKET\",\"TRAILING_STOP_MARKET\"],\"timeInForce\":[\"GTC\",\"IOC\",\"FOK\",\"GTX\"]},{\"symbol\":\"APEBUSD\",\"pair\":\"APEBUSD\",\"contractType\":\"PERPETUAL\",\"deliveryDate\":4133404800000,\"onboardDate\":1652684400000,\"status\":\"TRADING\",\"maintMarginPercent\":\"2.5000\",\"requiredMarginPercent\":\"5.0000\",\"baseAsset\":\"APE\",\"quoteAsset\":\"BUSD\",\"marginAsset\":\"BUSD\",\"pricePrecision\":7,\"quantityPrecision\":1,\"baseAssetPrecision\":8,\"quotePrecision\":8,\"underlyingType\":\"COIN\",\"underlyingSubType\":[\"BUSD\"],\"settlePlan\":0,\"triggerProtect\":\"0.1000\",\"liquidationFee\":\"0.010000\",\"marketTakeBound\":\"0.10\",\"filters\":[{\"minPrice\":\"0.0010000\",\"maxPrice\":\"100000\",\"filterType\":\"PRICE_FILTER\",\"tickSize\":\"0.0010000\"},{\"stepSize\":\"0.1\",\"filterType\":\"LOT_SIZE\",\"maxQty\":\"1000000\",\"minQty\":\"0.1\"},{\"stepSize\":\"0.1\",\"filterType\":\"MARKET_LOT_SIZE\",\"maxQty\":\"8000\",\"minQty\":\"0.1\"},{\"limit\":200,\"filterType\":\"MAX_NUM_ORDERS\"},{\"limit\":10,\"filterType\":\"MAX_NUM_ALGO_ORDERS\"},{\"notional\":\"5\",\"filterType\":\"MIN_NOTIONAL\"},{\"multiplierDown\":\"0.9000\",\"multiplierUp\":\"1.1000\",\"multiplierDecimal\":\"4\",\"filterType\":\"PERCENT_PRICE\"}],\"orderTypes\":[\"LIMIT\",\"MARKET\",\"STOP\",\"STOP_MARKET\",\"TAKE_PROFIT\",\"TAKE_PROFIT_MARKET\",\"TRAILING_STOP_MARKET\"],\"timeInForce\":[\"GTC\",\"IOC\",\"FOK\",\"GTX\"]},{\"symbol\":\"GALBUSD\",\"pair\":\"GALBUSD\",\"contractType\":\"PERPETUAL\",\"deliveryDate\":4133404800000,\"onboardDate\":1653289200000,\"status\":\"TRADING\",\"maintMarginPercent\":\"2.5000\",\"requiredMarginPercent\":\"5.0000\",\"baseAsset\":\"GAL\",\"quoteAsset\":\"BUSD\",\"marginAsset\":\"BUSD\",\"pricePrecision\":7,\"quantityPrecision\":0,\"baseAssetPrecision\":8,\"quotePrecision\":8,\"underlyingType\":\"COIN\",\"underlyingSubType\":[\"BUSD\"],\"settlePlan\":0,\"triggerProtect\":\"0.0500\",\"liquidationFee\":\"0.010000\",\"marketTakeBound\":\"0.05\",\"filters\":[{\"minPrice\":\"0.0010000\",\"maxPrice\":\"100000\",\"filterType\":\"PRICE_FILTER\",\"tickSize\":\"0.0010000\"},{\"stepSize\":\"1\",\"filterType\":\"LOT_SIZE\",\"maxQty\":\"1000000\",\"minQty\":\"1\"},{\"stepSize\":\"1\",\"filterType\":\"MARKET_LOT_SIZE\",\"maxQty\":\"10000\",\"minQty\":\"1\"},{\"limit\":200,\"filterType\":\"MAX_NUM_ORDERS\"},{\"limit\":10,\"filterType\":\"MAX_NUM_ALGO_ORDERS\"},{\"notional\":\"5\",\"filterType\":\"MIN_NOTIONAL\"},{\"multiplierDown\":\"0.9500\",\"multiplierUp\":\"1.0500\",\"multiplierDecimal\":\"4\",\"filterType\":\"PERCENT_PRICE\"}],\"orderTypes\":[\"LIMIT\",\"MARKET\",\"STOP\",\"STOP_MARKET\",\"TAKE_PROFIT\",\"TAKE_PROFIT_MARKET\",\"TRAILING_STOP_MARKET\"],\"timeInForce\":[\"GTC\",\"IOC\",\"FOK\",\"GTX\"]},{\"symbol\":\"FTMBUSD\",\"pair\":\"FTMBUSD\",\"contractType\":\"PERPETUAL\",\"deliveryDate\":4133404800000,\"onboardDate\":1653289200000,\"status\":\"TRADING\",\"maintMarginPercent\":\"2.5000\",\"requiredMarginPercent\":\"5.0000\",\"baseAsset\":\"FTM\",\"quoteAsset\":\"BUSD\",\"marginAsset\":\"BUSD\",\"pricePrecision\":7,\"quantityPrecision\":0,\"baseAssetPrecision\":8,\"quotePrecision\":8,\"underlyingType\":\"COIN\",\"underlyingSubType\":[\"BUSD\"],\"settlePlan\":0,\"triggerProtect\":\"0.0500\",\"liquidationFee\":\"0.010000\",\"marketTakeBound\":\"0.05\",\"filters\":[{\"minPrice\":\"0.0001000\",\"maxPrice\":\"100000\",\"filterType\":\"PRICE_FILTER\",\"tickSize\":\"0.0001000\"},{\"stepSize\":\"1\",\"filterType\":\"LOT_SIZE\",\"maxQty\":\"10000000\",\"minQty\":\"1\"},{\"stepSize\":\"1\",\"filterType\":\"MARKET_LOT_SIZE\",\"maxQty\":\"120000\",\"minQty\":\"1\"},{\"limit\":200,\"filterType\":\"MAX_NUM_ORDERS\"},{\"limit\":10,\"filterType\":\"MAX_NUM_ALGO_ORDERS\"},{\"notional\":\"5\",\"filterType\":\"MIN_NOTIONAL\"},{\"multiplierDown\":\"0.9500\",\"multiplierUp\":\"1.0500\",\"multiplierDecimal\":\"4\",\"filterType\":\"PERCENT_PRICE\"}],\"orderTypes\":[\"LIMIT\",\"MARKET\",\"STOP\",\"STOP_MARKET\",\"TAKE_PROFIT\",\"TAKE_PROFIT_MARKET\",\"TRAILING_STOP_MARKET\"],\"timeInForce\":[\"GTC\",\"IOC\",\"FOK\",\"GTX\"]},{\"symbol\":\"DODOBUSD\",\"pair\":\"DODOBUSD\",\"contractType\":\"PERPETUAL\",\"deliveryDate\":4133404800000,\"onboardDate\":1653375600000,\"status\":\"TRADING\",\"maintMarginPercent\":\"2.5000\",\"requiredMarginPercent\":\"5.0000\",\"baseAsset\":\"DODO\",\"quoteAsset\":\"BUSD\",\"marginAsset\":\"BUSD\",\"pricePrecision\":7,\"quantityPrecision\":0,\"baseAssetPrecision\":8,\"quotePrecision\":8,\"underlyingType\":\"COIN\",\"underlyingSubType\":[\"BUSD\"],\"settlePlan\":0,\"triggerProtect\":\"0.0500\",\"liquidationFee\":\"0.010000\",\"marketTakeBound\":\"0.05\",\"filters\":[{\"minPrice\":\"0.0001000\",\"maxPrice\":\"100000\",\"filterType\":\"PRICE_FILTER\",\"tickSize\":\"0.0001000\"},{\"stepSize\":\"1\",\"filterType\":\"LOT_SIZE\",\"maxQty\":\"10000000\",\"minQty\":\"1\"},{\"stepSize\":\"1\",\"filterType\":\"MARKET_LOT_SIZE\",\"maxQty\":\"300000\",\"minQty\":\"1\"},{\"limit\":200,\"filterType\":\"MAX_NUM_ORDERS\"},{\"limit\":10,\"filterType\":\"MAX_NUM_ALGO_ORDERS\"},{\"notional\":\"5\",\"filterType\":\"MIN_NOTIONAL\"},{\"multiplierDown\":\"0.9500\",\"multiplierUp\":\"1.0500\",\"multiplierDecimal\":\"4\",\"filterType\":\"PERCENT_PRICE\"}],\"orderTypes\":[\"LIMIT\",\"MARKET\",\"STOP\",\"STOP_MARKET\",\"TAKE_PROFIT\",\"TAKE_PROFIT_MARKET\",\"TRAILING_STOP_MARKET\"],\"timeInForce\":[\"GTC\",\"IOC\",\"FOK\",\"GTX\"]},{\"symbol\":\"ANCBUSD\",\"pair\":\"ANCBUSD\",\"contractType\":\"PERPETUAL\",\"deliveryDate\":1671094800000,\"onboardDate\":1653375600000,\"status\":\"SETTLING\",\"maintMarginPercent\":\"2.5000\",\"requiredMarginPercent\":\"5.0000\",\"baseAsset\":\"ANC\",\"quoteAsset\":\"BUSD\",\"marginAsset\":\"BUSD\",\"pricePrecision\":7,\"quantityPrecision\":0,\"baseAssetPrecision\":8,\"quotePrecision\":8,\"underlyingType\":\"COIN\",\"underlyingSubType\":[\"BUSD\"],\"settlePlan\":1671094800000,\"triggerProtect\":\"0.1000\",\"liquidationFee\":\"0.025000\",\"marketTakeBound\":\"0.10\",\"filters\":[{\"minPrice\":\"0.0001000\",\"maxPrice\":\"100000\",\"filterType\":\"PRICE_FILTER\",\"tickSize\":\"0.0000100\"},{\"stepSize\":\"1\",\"filterType\":\"LOT_SIZE\",\"maxQty\":\"10000000\",\"minQty\":\"1\"},{\"stepSize\":\"1\",\"filterType\":\"MARKET_LOT_SIZE\",\"maxQty\":\"150000\",\"minQty\":\"1\"},{\"limit\":200,\"filterType\":\"MAX_NUM_ORDERS\"},{\"limit\":10,\"filterType\":\"MAX_NUM_ALGO_ORDERS\"},{\"notional\":\"5\",\"filterType\":\"MIN_NOTIONAL\"},{\"multiplierDown\":\"0.9000\",\"multiplierUp\":\"1.1000\",\"multiplierDecimal\":\"4\",\"filterType\":\"PERCENT_PRICE\"}],\"orderTypes\":[\"LIMIT\",\"MARKET\",\"STOP\",\"STOP_MARKET\",\"TAKE_PROFIT\",\"TAKE_PROFIT_MARKET\",\"TRAILING_STOP_MARKET\"],\"timeInForce\":[\"GTC\",\"IOC\",\"FOK\",\"GTX\"]},{\"symbol\":\"GALABUSD\",\"pair\":\"GALABUSD\",\"contractType\":\"PERPETUAL\",\"deliveryDate\":4133404800000,\"onboardDate\":1653462000000,\"status\":\"TRADING\",\"maintMarginPercent\":\"2.5000\",\"requiredMarginPercent\":\"5.0000\",\"baseAsset\":\"GALA\",\"quoteAsset\":\"BUSD\",\"marginAsset\":\"BUSD\",\"pricePrecision\":7,\"quantityPrecision\":0,\"baseAssetPrecision\":8,\"quotePrecision\":8,\"underlyingType\":\"COIN\",\"underlyingSubType\":[\"BUSD\"],\"settlePlan\":0,\"triggerProtect\":\"0.1000\",\"liquidationFee\":\"0.010000\",\"marketTakeBound\":\"0.10\",\"filters\":[{\"minPrice\":\"0.0000010\",\"maxPrice\":\"100000\",\"filterType\":\"PRICE_FILTER\",\"tickSize\":\"0.0000010\"},{\"stepSize\":\"1\",\"filterType\":\"LOT_SIZE\",\"maxQty\":\"100000000\",\"minQty\":\"1\"},{\"stepSize\":\"1\",\"filterType\":\"MARKET_LOT_SIZE\",\"maxQty\":\"600000\",\"minQty\":\"1\"},{\"limit\":200,\"filterType\":\"MAX_NUM_ORDERS\"},{\"limit\":10,\"filterType\":\"MAX_NUM_ALGO_ORDERS\"},{\"notional\":\"5\",\"filterType\":\"MIN_NOTIONAL\"},{\"multiplierDown\":\"0.9000\",\"multiplierUp\":\"1.1000\",\"multiplierDecimal\":\"4\",\"filterType\":\"PERCENT_PRICE\"}],\"orderTypes\":[\"LIMIT\",\"MARKET\",\"STOP\",\"STOP_MARKET\",\"TAKE_PROFIT\",\"TAKE_PROFIT_MARKET\",\"TRAILING_STOP_MARKET\"],\"timeInForce\":[\"GTC\",\"IOC\",\"FOK\",\"GTX\"]},{\"symbol\":\"TRXBUSD\",\"pair\":\"TRXBUSD\",\"contractType\":\"PERPETUAL\",\"deliveryDate\":4133404800000,\"onboardDate\":1653462000000,\"status\":\"TRADING\",\"maintMarginPercent\":\"2.5000\",\"requiredMarginPercent\":\"5.0000\",\"baseAsset\":\"TRX\",\"quoteAsset\":\"BUSD\",\"marginAsset\":\"BUSD\",\"pricePrecision\":7,\"quantityPrecision\":0,\"baseAssetPrecision\":8,\"quotePrecision\":8,\"underlyingType\":\"COIN\",\"underlyingSubType\":[\"BUSD\"],\"settlePlan\":0,\"triggerProtect\":\"0.0500\",\"liquidationFee\":\"0.010000\",\"marketTakeBound\":\"0.05\",\"filters\":[{\"minPrice\":\"0.0000010\",\"maxPrice\":\"10000\",\"filterType\":\"PRICE_FILTER\",\"tickSize\":\"0.0000010\"},{\"stepSize\":\"1\",\"filterType\":\"LOT_SIZE\",\"maxQty\":\"100000000\",\"minQty\":\"1\"},{\"stepSize\":\"1\",\"filterType\":\"MARKET_LOT_SIZE\",\"maxQty\":\"600000\",\"minQty\":\"1\"},{\"limit\":200,\"filterType\":\"MAX_NUM_ORDERS\"},{\"limit\":10,\"filterType\":\"MAX_NUM_ALGO_ORDERS\"},{\"notional\":\"5\",\"filterType\":\"MIN_NOTIONAL\"},{\"multiplierDown\":\"0.9500\",\"multiplierUp\":\"1.0500\",\"multiplierDecimal\":\"4\",\"filterType\":\"PERCENT_PRICE\"}],\"orderTypes\":[\"LIMIT\",\"MARKET\",\"STOP\",\"STOP_MARKET\",\"TAKE_PROFIT\",\"TAKE_PROFIT_MARKET\",\"TRAILING_STOP_MARKET\"],\"timeInForce\":[\"GTC\",\"IOC\",\"FOK\",\"GTX\"]},{\"symbol\":\"1000LUNCBUSD\",\"pair\":\"1000LUNCBUSD\",\"contractType\":\"PERPETUAL\",\"deliveryDate\":4133404800000,\"onboardDate\":1653894000000,\"status\":\"TRADING\",\"maintMarginPercent\":\"2.5000\",\"requiredMarginPercent\":\"5.0000\",\"baseAsset\":\"1000LUNC\",\"quoteAsset\":\"BUSD\",\"marginAsset\":\"BUSD\",\"pricePrecision\":7,\"quantityPrecision\":0,\"baseAssetPrecision\":8,\"quotePrecision\":8,\"underlyingType\":\"COIN\",\"underlyingSubType\":[\"BUSD\"],\"settlePlan\":0,\"triggerProtect\":\"0.1000\",\"liquidationFee\":\"0.015000\",\"marketTakeBound\":\"0.10\",\"filters\":[{\"minPrice\":\"0.0001000\",\"maxPrice\":\"100000\",\"filterType\":\"PRICE_FILTER\",\"tickSize\":\"0.0001000\"},{\"stepSize\":\"1\",\"filterType\":\"LOT_SIZE\",\"maxQty\":\"10000000\",\"minQty\":\"1\"},{\"stepSize\":\"1\",\"filterType\":\"MARKET_LOT_SIZE\",\"maxQty\":\"2000000\",\"minQty\":\"1\"},{\"limit\":200,\"filterType\":\"MAX_NUM_ORDERS\"},{\"limit\":10,\"filterType\":\"MAX_NUM_ALGO_ORDERS\"},{\"notional\":\"5\",\"filterType\":\"MIN_NOTIONAL\"},{\"multiplierDown\":\"0.9000\",\"multiplierUp\":\"1.1000\",\"multiplierDecimal\":\"4\",\"filterType\":\"PERCENT_PRICE\"}],\"orderTypes\":[\"LIMIT\",\"MARKET\",\"STOP\",\"STOP_MARKET\",\"TAKE_PROFIT\",\"TAKE_PROFIT_MARKET\",\"TRAILING_STOP_MARKET\"],\"timeInForce\":[\"GTC\",\"IOC\",\"FOK\",\"GTX\"]},{\"symbol\":\"LUNA2BUSD\",\"pair\":\"LUNA2BUSD\",\"contractType\":\"PERPETUAL\",\"deliveryDate\":4133404800000,\"onboardDate\":1653980400000,\"status\":\"TRADING\",\"maintMarginPercent\":\"2.5000\",\"requiredMarginPercent\":\"5.0000\",\"baseAsset\":\"LUNA2\",\"quoteAsset\":\"BUSD\",\"marginAsset\":\"BUSD\",\"pricePrecision\":7,\"quantityPrecision\":0,\"baseAssetPrecision\":8,\"quotePrecision\":8,\"underlyingType\":\"COIN\",\"underlyingSubType\":[\"BUSD\"],\"settlePlan\":0,\"triggerProtect\":\"0.1000\",\"liquidationFee\":\"0.020000\",\"marketTakeBound\":\"0.10\",\"filters\":[{\"minPrice\":\"0.0001000\",\"maxPrice\":\"100000\",\"filterType\":\"PRICE_FILTER\",\"tickSize\":\"0.0001000\"},{\"stepSize\":\"1\",\"filterType\":\"LOT_SIZE\",\"maxQty\":\"100000000\",\"minQty\":\"1\"},{\"stepSize\":\"1\",\"filterType\":\"MARKET_LOT_SIZE\",\"maxQty\":\"50000\",\"minQty\":\"1\"},{\"limit\":200,\"filterType\":\"MAX_NUM_ORDERS\"},{\"limit\":10,\"filterType\":\"MAX_NUM_ALGO_ORDERS\"},{\"notional\":\"5\",\"filterType\":\"MIN_NOTIONAL\"},{\"multiplierDown\":\"0.9000\",\"multiplierUp\":\"1.1000\",\"multiplierDecimal\":\"4\",\"filterType\":\"PERCENT_PRICE\"}],\"orderTypes\":[\"LIMIT\",\"MARKET\",\"STOP\",\"STOP_MARKET\",\"TAKE_PROFIT\",\"TAKE_PROFIT_MARKET\",\"TRAILING_STOP_MARKET\"],\"timeInForce\":[\"GTC\",\"IOC\",\"FOK\",\"GTX\"]},{\"symbol\":\"OPUSDT\",\"pair\":\"OPUSDT\",\"contractType\":\"PERPETUAL\",\"deliveryDate\":4133404800000,\"onboardDate\":1654066800000,\"status\":\"TRADING\",\"maintMarginPercent\":\"2.5000\",\"requiredMarginPercent\":\"5.0000\",\"baseAsset\":\"OP\",\"quoteAsset\":\"USDT\",\"marginAsset\":\"USDT\",\"pricePrecision\":7,\"quantityPrecision\":1,\"baseAssetPrecision\":8,\"quotePrecision\":8,\"underlyingType\":\"COIN\",\"underlyingSubType\":[\"Layer-2\"],\"settlePlan\":0,\"triggerProtect\":\"0.1000\",\"liquidationFee\":\"0.010000\",\"marketTakeBound\":\"0.10\",\"filters\":[{\"minPrice\":\"0.0001000\",\"maxPrice\":\"100000\",\"filterType\":\"PRICE_FILTER\",\"tickSize\":\"0.0001000\"},{\"stepSize\":\"0.1\",\"filterType\":\"LOT_SIZE\",\"maxQty\":\"10000000\",\"minQty\":\"0.1\"},{\"stepSize\":\"0.1\",\"filterType\":\"MARKET_LOT_SIZE\",\"maxQty\":\"50000\",\"minQty\":\"0.1\"},{\"limit\":200,\"filterType\":\"MAX_NUM_ORDERS\"},{\"limit\":10,\"filterType\":\"MAX_NUM_ALGO_ORDERS\"},{\"notional\":\"5\",\"filterType\":\"MIN_NOTIONAL\"},{\"multiplierDown\":\"0.9000\",\"multiplierUp\":\"1.1000\",\"multiplierDecimal\":\"4\",\"filterType\":\"PERCENT_PRICE\"}],\"orderTypes\":[\"LIMIT\",\"MARKET\",\"STOP\",\"STOP_MARKET\",\"TAKE_PROFIT\",\"TAKE_PROFIT_MARKET\",\"TRAILING_STOP_MARKET\"],\"timeInForce\":[\"GTC\",\"IOC\",\"FOK\",\"GTX\"]},{\"symbol\":\"DOTBUSD\",\"pair\":\"DOTBUSD\",\"contractType\":\"PERPETUAL\",\"deliveryDate\":4133404800000,\"onboardDate\":1654585200000,\"status\":\"TRADING\",\"maintMarginPercent\":\"2.5000\",\"requiredMarginPercent\":\"5.0000\",\"baseAsset\":\"DOT\",\"quoteAsset\":\"BUSD\",\"marginAsset\":\"BUSD\",\"pricePrecision\":7,\"quantityPrecision\":1,\"baseAssetPrecision\":8,\"quotePrecision\":8,\"underlyingType\":\"COIN\",\"underlyingSubType\":[\"BUSD\"],\"settlePlan\":0,\"triggerProtect\":\"0.0500\",\"liquidationFee\":\"0.010000\",\"marketTakeBound\":\"0.05\",\"filters\":[{\"minPrice\":\"0.0010000\",\"maxPrice\":\"100000\",\"filterType\":\"PRICE_FILTER\",\"tickSize\":\"0.0010000\"},{\"stepSize\":\"0.1\",\"filterType\":\"LOT_SIZE\",\"maxQty\":\"10000000\",\"minQty\":\"0.1\"},{\"stepSize\":\"0.1\",\"filterType\":\"MARKET_LOT_SIZE\",\"maxQty\":\"6000\",\"minQty\":\"0.1\"},{\"limit\":200,\"filterType\":\"MAX_NUM_ORDERS\"},{\"limit\":10,\"filterType\":\"MAX_NUM_ALGO_ORDERS\"},{\"notional\":\"5\",\"filterType\":\"MIN_NOTIONAL\"},{\"multiplierDown\":\"0.9500\",\"multiplierUp\":\"1.0500\",\"multiplierDecimal\":\"4\",\"filterType\":\"PERCENT_PRICE\"}],\"orderTypes\":[\"LIMIT\",\"MARKET\",\"STOP\",\"STOP_MARKET\",\"TAKE_PROFIT\",\"TAKE_PROFIT_MARKET\",\"TRAILING_STOP_MARKET\"],\"timeInForce\":[\"GTC\",\"IOC\",\"FOK\",\"GTX\"]},{\"symbol\":\"TLMBUSD\",\"pair\":\"TLMBUSD\",\"contractType\":\"PERPETUAL\",\"deliveryDate\":4133404800000,\"onboardDate\":1654585200000,\"status\":\"TRADING\",\"maintMarginPercent\":\"2.5000\",\"requiredMarginPercent\":\"5.0000\",\"baseAsset\":\"TLM\",\"quoteAsset\":\"BUSD\",\"marginAsset\":\"BUSD\",\"pricePrecision\":7,\"quantityPrecision\":0,\"baseAssetPrecision\":8,\"quotePrecision\":8,\"underlyingType\":\"COIN\",\"underlyingSubType\":[\"BUSD\"],\"settlePlan\":0,\"triggerProtect\":\"0.0500\",\"liquidationFee\":\"0.010000\",\"marketTakeBound\":\"0.05\",\"filters\":[{\"minPrice\":\"0.0000100\",\"maxPrice\":\"100000\",\"filterType\":\"PRICE_FILTER\",\"tickSize\":\"0.0000100\"},{\"stepSize\":\"1\",\"filterType\":\"LOT_SIZE\",\"maxQty\":\"100000000\",\"minQty\":\"1\"},{\"stepSize\":\"1\",\"filterType\":\"MARKET_LOT_SIZE\",\"maxQty\":\"1600000\",\"minQty\":\"1\"},{\"limit\":200,\"filterType\":\"MAX_NUM_ORDERS\"},{\"limit\":10,\"filterType\":\"MAX_NUM_ALGO_ORDERS\"},{\"notional\":\"5\",\"filterType\":\"MIN_NOTIONAL\"},{\"multiplierDown\":\"0.9500\",\"multiplierUp\":\"1.0500\",\"multiplierDecimal\":\"4\",\"filterType\":\"PERCENT_PRICE\"}],\"orderTypes\":[\"LIMIT\",\"MARKET\",\"STOP\",\"STOP_MARKET\",\"TAKE_PROFIT\",\"TAKE_PROFIT_MARKET\",\"TRAILING_STOP_MARKET\"],\"timeInForce\":[\"GTC\",\"IOC\",\"FOK\",\"GTX\"]},{\"symbol\":\"ICPBUSD\",\"pair\":\"ICPBUSD\",\"contractType\":\"PERPETUAL\",\"deliveryDate\":4133404800000,\"onboardDate\":1654585200000,\"status\":\"TRADING\",\"maintMarginPercent\":\"2.5000\",\"requiredMarginPercent\":\"5.0000\",\"baseAsset\":\"ICP\",\"quoteAsset\":\"BUSD\",\"marginAsset\":\"BUSD\",\"pricePrecision\":7,\"quantityPrecision\":1,\"baseAssetPrecision\":8,\"quotePrecision\":8,\"underlyingType\":\"COIN\",\"underlyingSubType\":[\"BUSD\"],\"settlePlan\":0,\"triggerProtect\":\"0.0500\",\"liquidationFee\":\"0.010000\",\"marketTakeBound\":\"0.05\",\"filters\":[{\"minPrice\":\"0.0010000\",\"maxPrice\":\"100000\",\"filterType\":\"PRICE_FILTER\",\"tickSize\":\"0.0010000\"},{\"stepSize\":\"0.1\",\"filterType\":\"LOT_SIZE\",\"maxQty\":\"10000000\",\"minQty\":\"0.1\"},{\"stepSize\":\"0.1\",\"filterType\":\"MARKET_LOT_SIZE\",\"maxQty\":\"8000\",\"minQty\":\"0.1\"},{\"limit\":200,\"filterType\":\"MAX_NUM_ORDERS\"},{\"limit\":10,\"filterType\":\"MAX_NUM_ALGO_ORDERS\"},{\"notional\":\"5\",\"filterType\":\"MIN_NOTIONAL\"},{\"multiplierDown\":\"0.9500\",\"multiplierUp\":\"1.0500\",\"multiplierDecimal\":\"4\",\"filterType\":\"PERCENT_PRICE\"}],\"orderTypes\":[\"LIMIT\",\"MARKET\",\"STOP\",\"STOP_MARKET\",\"TAKE_PROFIT\",\"TAKE_PROFIT_MARKET\",\"TRAILING_STOP_MARKET\"],\"timeInForce\":[\"GTC\",\"IOC\",\"FOK\",\"GTX\"]},{\"symbol\":\"WAVESBUSD\",\"pair\":\"WAVESBUSD\",\"contractType\":\"PERPETUAL\",\"deliveryDate\":4133404800000,\"onboardDate\":1656313200000,\"status\":\"TRADING\",\"maintMarginPercent\":\"2.5000\",\"requiredMarginPercent\":\"5.0000\",\"baseAsset\":\"WAVES\",\"quoteAsset\":\"BUSD\",\"marginAsset\":\"BUSD\",\"pricePrecision\":7,\"quantityPrecision\":1,\"baseAssetPrecision\":8,\"quotePrecision\":8,\"underlyingType\":\"COIN\",\"underlyingSubType\":[\"BUSD\"],\"settlePlan\":0,\"triggerProtect\":\"0.0500\",\"liquidationFee\":\"0.015000\",\"marketTakeBound\":\"0.05\",\"filters\":[{\"minPrice\":\"0.0010000\",\"maxPrice\":\"100000\",\"filterType\":\"PRICE_FILTER\",\"tickSize\":\"0.0001000\"},{\"stepSize\":\"0.1\",\"filterType\":\"LOT_SIZE\",\"maxQty\":\"10000000\",\"minQty\":\"0.1\"},{\"stepSize\":\"0.1\",\"filterType\":\"MARKET_LOT_SIZE\",\"maxQty\":\"9500\",\"minQty\":\"0.1\"},{\"limit\":200,\"filterType\":\"MAX_NUM_ORDERS\"},{\"limit\":10,\"filterType\":\"MAX_NUM_ALGO_ORDERS\"},{\"notional\":\"5\",\"filterType\":\"MIN_NOTIONAL\"},{\"multiplierDown\":\"0.9500\",\"multiplierUp\":\"1.0500\",\"multiplierDecimal\":\"4\",\"filterType\":\"PERCENT_PRICE\"}],\"orderTypes\":[\"LIMIT\",\"MARKET\",\"STOP\",\"STOP_MARKET\",\"TAKE_PROFIT\",\"TAKE_PROFIT_MARKET\",\"TRAILING_STOP_MARKET\"],\"timeInForce\":[\"GTC\",\"IOC\",\"FOK\",\"GTX\"]},{\"symbol\":\"LINKBUSD\",\"pair\":\"LINKBUSD\",\"contractType\":\"PERPETUAL\",\"deliveryDate\":4133404800000,\"onboardDate\":1656313200000,\"status\":\"TRADING\",\"maintMarginPercent\":\"2.5000\",\"requiredMarginPercent\":\"5.0000\",\"baseAsset\":\"LINK\",\"quoteAsset\":\"BUSD\",\"marginAsset\":\"BUSD\",\"pricePrecision\":7,\"quantityPrecision\":1,\"baseAssetPrecision\":8,\"quotePrecision\":8,\"underlyingType\":\"COIN\",\"underlyingSubType\":[\"BUSD\"],\"settlePlan\":0,\"triggerProtect\":\"0.0500\",\"liquidationFee\":\"0.010000\",\"marketTakeBound\":\"0.05\",\"filters\":[{\"minPrice\":\"0.0010000\",\"maxPrice\":\"100000\",\"filterType\":\"PRICE_FILTER\",\"tickSize\":\"0.0010000\"},{\"stepSize\":\"0.1\",\"filterType\":\"LOT_SIZE\",\"maxQty\":\"10000000\",\"minQty\":\"0.1\"},{\"stepSize\":\"0.1\",\"filterType\":\"MARKET_LOT_SIZE\",\"maxQty\":\"10000\",\"minQty\":\"0.1\"},{\"limit\":200,\"filterType\":\"MAX_NUM_ORDERS\"},{\"limit\":10,\"filterType\":\"MAX_NUM_ALGO_ORDERS\"},{\"notional\":\"5\",\"filterType\":\"MIN_NOTIONAL\"},{\"multiplierDown\":\"0.9500\",\"multiplierUp\":\"1.0500\",\"multiplierDecimal\":\"4\",\"filterType\":\"PERCENT_PRICE\"}],\"orderTypes\":[\"LIMIT\",\"MARKET\",\"STOP\",\"STOP_MARKET\",\"TAKE_PROFIT\",\"TAKE_PROFIT_MARKET\",\"TRAILING_STOP_MARKET\"],\"timeInForce\":[\"GTC\",\"IOC\",\"FOK\",\"GTX\"]},{\"symbol\":\"SANDBUSD\",\"pair\":\"SANDBUSD\",\"contractType\":\"PERPETUAL\",\"deliveryDate\":4133404800000,\"onboardDate\":1657090800000,\"status\":\"TRADING\",\"maintMarginPercent\":\"2.5000\",\"requiredMarginPercent\":\"5.0000\",\"baseAsset\":\"SAND\",\"quoteAsset\":\"BUSD\",\"marginAsset\":\"BUSD\",\"pricePrecision\":7,\"quantityPrecision\":1,\"baseAssetPrecision\":8,\"quotePrecision\":8,\"underlyingType\":\"COIN\",\"underlyingSubType\":[\"BUSD\"],\"settlePlan\":0,\"triggerProtect\":\"0.0500\",\"liquidationFee\":\"0.015000\",\"marketTakeBound\":\"0.05\",\"filters\":[{\"minPrice\":\"0.0010000\",\"maxPrice\":\"100000\",\"filterType\":\"PRICE_FILTER\",\"tickSize\":\"0.0001000\"},{\"stepSize\":\"0.1\",\"filterType\":\"LOT_SIZE\",\"maxQty\":\"1000000\",\"minQty\":\"0.1\"},{\"stepSize\":\"0.1\",\"filterType\":\"MARKET_LOT_SIZE\",\"maxQty\":\"45000\",\"minQty\":\"0.1\"},{\"limit\":200,\"filterType\":\"MAX_NUM_ORDERS\"},{\"limit\":10,\"filterType\":\"MAX_NUM_ALGO_ORDERS\"},{\"notional\":\"5\",\"filterType\":\"MIN_NOTIONAL\"},{\"multiplierDown\":\"0.9500\",\"multiplierUp\":\"1.0500\",\"multiplierDecimal\":\"4\",\"filterType\":\"PERCENT_PRICE\"}],\"orderTypes\":[\"LIMIT\",\"MARKET\",\"STOP\",\"STOP_MARKET\",\"TAKE_PROFIT\",\"TAKE_PROFIT_MARKET\",\"TRAILING_STOP_MARKET\"],\"timeInForce\":[\"GTC\",\"IOC\",\"FOK\",\"GTX\"]},{\"symbol\":\"LTCBUSD\",\"pair\":\"LTCBUSD\",\"contractType\":\"PERPETUAL\",\"deliveryDate\":4133404800000,\"onboardDate\":1657090800000,\"status\":\"TRADING\",\"maintMarginPercent\":\"2.5000\",\"requiredMarginPercent\":\"5.0000\",\"baseAsset\":\"LTC\",\"quoteAsset\":\"BUSD\",\"marginAsset\":\"BUSD\",\"pricePrecision\":6,\"quantityPrecision\":2,\"baseAssetPrecision\":8,\"quotePrecision\":8,\"underlyingType\":\"COIN\",\"underlyingSubType\":[\"BUSD\"],\"settlePlan\":0,\"triggerProtect\":\"0.0500\",\"liquidationFee\":\"0.020000\",\"marketTakeBound\":\"0.05\",\"filters\":[{\"minPrice\":\"0.010000\",\"maxPrice\":\"100000\",\"filterType\":\"PRICE_FILTER\",\"tickSize\":\"0.010000\"},{\"stepSize\":\"0.01\",\"filterType\":\"LOT_SIZE\",\"maxQty\":\"1000000\",\"minQty\":\"0.01\"},{\"stepSize\":\"0.01\",\"filterType\":\"MARKET_LOT_SIZE\",\"maxQty\":\"800\",\"minQty\":\"0.01\"},{\"limit\":200,\"filterType\":\"MAX_NUM_ORDERS\"},{\"limit\":10,\"filterType\":\"MAX_NUM_ALGO_ORDERS\"},{\"notional\":\"5\",\"filterType\":\"MIN_NOTIONAL\"},{\"multiplierDown\":\"0.9500\",\"multiplierUp\":\"1.0500\",\"multiplierDecimal\":\"4\",\"filterType\":\"PERCENT_PRICE\"}],\"orderTypes\":[\"LIMIT\",\"MARKET\",\"STOP\",\"STOP_MARKET\",\"TAKE_PROFIT\",\"TAKE_PROFIT_MARKET\",\"TRAILING_STOP_MARKET\"],\"timeInForce\":[\"GTC\",\"IOC\",\"FOK\",\"GTX\"]},{\"symbol\":\"MATICBUSD\",\"pair\":\"MATICBUSD\",\"contractType\":\"PERPETUAL\",\"deliveryDate\":4133404800000,\"onboardDate\":1657609200000,\"status\":\"TRADING\",\"maintMarginPercent\":\"2.5000\",\"requiredMarginPercent\":\"5.0000\",\"baseAsset\":\"MATIC\",\"quoteAsset\":\"BUSD\",\"marginAsset\":\"BUSD\",\"pricePrecision\":7,\"quantityPrecision\":0,\"baseAssetPrecision\":8,\"quotePrecision\":8,\"underlyingType\":\"COIN\",\"underlyingSubType\":[\"BUSD\"],\"settlePlan\":0,\"triggerProtect\":\"0.0500\",\"liquidationFee\":\"0.015000\",\"marketTakeBound\":\"0.05\",\"filters\":[{\"minPrice\":\"0.0001000\",\"maxPrice\":\"10000\",\"filterType\":\"PRICE_FILTER\",\"tickSize\":\"0.0001000\"},{\"stepSize\":\"1\",\"filterType\":\"LOT_SIZE\",\"maxQty\":\"10000000\",\"minQty\":\"1\"},{\"stepSize\":\"1\",\"filterType\":\"MARKET_LOT_SIZE\",\"maxQty\":\"100000\",\"minQty\":\"1\"},{\"limit\":200,\"filterType\":\"MAX_NUM_ORDERS\"},{\"limit\":10,\"filterType\":\"MAX_NUM_ALGO_ORDERS\"},{\"notional\":\"5\",\"filterType\":\"MIN_NOTIONAL\"},{\"multiplierDown\":\"0.9500\",\"multiplierUp\":\"1.0500\",\"multiplierDecimal\":\"4\",\"filterType\":\"PERCENT_PRICE\"}],\"orderTypes\":[\"LIMIT\",\"MARKET\",\"STOP\",\"STOP_MARKET\",\"TAKE_PROFIT\",\"TAKE_PROFIT_MARKET\",\"TRAILING_STOP_MARKET\"],\"timeInForce\":[\"GTC\",\"IOC\",\"FOK\",\"GTX\"]},{\"symbol\":\"CVXBUSD\",\"pair\":\"CVXBUSD\",\"contractType\":\"PERPETUAL\",\"deliveryDate\":4133404800000,\"onboardDate\":1657609200000,\"status\":\"TRADING\",\"maintMarginPercent\":\"2.5000\",\"requiredMarginPercent\":\"5.0000\",\"baseAsset\":\"CVX\",\"quoteAsset\":\"BUSD\",\"marginAsset\":\"BUSD\",\"pricePrecision\":7,\"quantityPrecision\":1,\"baseAssetPrecision\":8,\"quotePrecision\":8,\"underlyingType\":\"COIN\",\"underlyingSubType\":[\"BUSD\"],\"settlePlan\":0,\"triggerProtect\":\"0.0500\",\"liquidationFee\":\"0.020000\",\"marketTakeBound\":\"0.05\",\"filters\":[{\"minPrice\":\"0.0010000\",\"maxPrice\":\"100000\",\"filterType\":\"PRICE_FILTER\",\"tickSize\":\"0.0010000\"},{\"stepSize\":\"0.1\",\"filterType\":\"LOT_SIZE\",\"maxQty\":\"1000000\",\"minQty\":\"0.1\"},{\"stepSize\":\"0.1\",\"filterType\":\"MARKET_LOT_SIZE\",\"maxQty\":\"1000\",\"minQty\":\"0.1\"},{\"limit\":200,\"filterType\":\"MAX_NUM_ORDERS\"},{\"limit\":10,\"filterType\":\"MAX_NUM_ALGO_ORDERS\"},{\"notional\":\"5\",\"filterType\":\"MIN_NOTIONAL\"},{\"multiplierDown\":\"0.9500\",\"multiplierUp\":\"1.0500\",\"multiplierDecimal\":\"4\",\"filterType\":\"PERCENT_PRICE\"}],\"orderTypes\":[\"LIMIT\",\"MARKET\",\"STOP\",\"STOP_MARKET\",\"TAKE_PROFIT\",\"TAKE_PROFIT_MARKET\",\"TRAILING_STOP_MARKET\"],\"timeInForce\":[\"GTC\",\"IOC\",\"FOK\",\"GTX\"]},{\"symbol\":\"FILBUSD\",\"pair\":\"FILBUSD\",\"contractType\":\"PERPETUAL\",\"deliveryDate\":4133404800000,\"onboardDate\":1658214000000,\"status\":\"TRADING\",\"maintMarginPercent\":\"2.5000\",\"requiredMarginPercent\":\"5.0000\",\"baseAsset\":\"FIL\",\"quoteAsset\":\"BUSD\",\"marginAsset\":\"BUSD\",\"pricePrecision\":7,\"quantityPrecision\":1,\"baseAssetPrecision\":8,\"quotePrecision\":8,\"underlyingType\":\"COIN\",\"underlyingSubType\":[\"BUSD\"],\"settlePlan\":0,\"triggerProtect\":\"0.1000\",\"liquidationFee\":\"0.010000\",\"marketTakeBound\":\"0.10\",\"filters\":[{\"minPrice\":\"0.0010000\",\"maxPrice\":\"100000\",\"filterType\":\"PRICE_FILTER\",\"tickSize\":\"0.0010000\"},{\"stepSize\":\"0.1\",\"filterType\":\"LOT_SIZE\",\"maxQty\":\"1000000\",\"minQty\":\"0.1\"},{\"stepSize\":\"0.1\",\"filterType\":\"MARKET_LOT_SIZE\",\"maxQty\":\"10000\",\"minQty\":\"0.1\"},{\"limit\":200,\"filterType\":\"MAX_NUM_ORDERS\"},{\"limit\":10,\"filterType\":\"MAX_NUM_ALGO_ORDERS\"},{\"notional\":\"5\",\"filterType\":\"MIN_NOTIONAL\"},{\"multiplierDown\":\"0.9000\",\"multiplierUp\":\"1.1000\",\"multiplierDecimal\":\"4\",\"filterType\":\"PERCENT_PRICE\"}],\"orderTypes\":[\"LIMIT\",\"MARKET\",\"STOP\",\"STOP_MARKET\",\"TAKE_PROFIT\",\"TAKE_PROFIT_MARKET\",\"TRAILING_STOP_MARKET\"],\"timeInForce\":[\"GTC\",\"IOC\",\"FOK\",\"GTX\"]},{\"symbol\":\"1000SHIBBUSD\",\"pair\":\"1000SHIBBUSD\",\"contractType\":\"PERPETUAL\",\"deliveryDate\":4133404800000,\"onboardDate\":1658214000000,\"status\":\"TRADING\",\"maintMarginPercent\":\"2.5000\",\"requiredMarginPercent\":\"5.0000\",\"baseAsset\":\"1000SHIB\",\"quoteAsset\":\"BUSD\",\"marginAsset\":\"BUSD\",\"pricePrecision\":7,\"quantityPrecision\":0,\"baseAssetPrecision\":8,\"quotePrecision\":8,\"underlyingType\":\"COIN\",\"underlyingSubType\":[\"BUSD\"],\"settlePlan\":0,\"triggerProtect\":\"0.1000\",\"liquidationFee\":\"0.010000\",\"marketTakeBound\":\"0.10\",\"filters\":[{\"minPrice\":\"0.0000010\",\"maxPrice\":\"10000\",\"filterType\":\"PRICE_FILTER\",\"tickSize\":\"0.0000010\"},{\"stepSize\":\"1\",\"filterType\":\"LOT_SIZE\",\"maxQty\":\"10000000\",\"minQty\":\"1\"},{\"stepSize\":\"1\",\"filterType\":\"MARKET_LOT_SIZE\",\"maxQty\":\"4000000\",\"minQty\":\"1\"},{\"limit\":200,\"filterType\":\"MAX_NUM_ORDERS\"},{\"limit\":10,\"filterType\":\"MAX_NUM_ALGO_ORDERS\"},{\"notional\":\"5\",\"filterType\":\"MIN_NOTIONAL\"},{\"multiplierDown\":\"0.9000\",\"multiplierUp\":\"1.1000\",\"multiplierDecimal\":\"4\",\"filterType\":\"PERCENT_PRICE\"}],\"orderTypes\":[\"LIMIT\",\"MARKET\",\"STOP\",\"STOP_MARKET\",\"TAKE_PROFIT\",\"TAKE_PROFIT_MARKET\",\"TRAILING_STOP_MARKET\"],\"timeInForce\":[\"GTC\",\"IOC\",\"FOK\",\"GTX\"]},{\"symbol\":\"LEVERBUSD\",\"pair\":\"LEVERBUSD\",\"contractType\":\"PERPETUAL\",\"deliveryDate\":4133404800000,\"onboardDate\":1658214000000,\"status\":\"TRADING\",\"maintMarginPercent\":\"2.5000\",\"requiredMarginPercent\":\"5.0000\",\"baseAsset\":\"LEVER\",\"quoteAsset\":\"BUSD\",\"marginAsset\":\"BUSD\",\"pricePrecision\":7,\"quantityPrecision\":0,\"baseAssetPrecision\":8,\"quotePrecision\":8,\"underlyingType\":\"COIN\",\"underlyingSubType\":[\"BUSD\"],\"settlePlan\":0,\"triggerProtect\":\"0.1000\",\"liquidationFee\":\"0.010000\",\"marketTakeBound\":\"0.10\",\"filters\":[{\"minPrice\":\"0.0000010\",\"maxPrice\":\"10000\",\"filterType\":\"PRICE_FILTER\",\"tickSize\":\"0.0000001\"},{\"stepSize\":\"1\",\"filterType\":\"LOT_SIZE\",\"maxQty\":\"80000000\",\"minQty\":\"1\"},{\"stepSize\":\"1\",\"filterType\":\"MARKET_LOT_SIZE\",\"maxQty\":\"10000000\",\"minQty\":\"1\"},{\"limit\":200,\"filterType\":\"MAX_NUM_ORDERS\"},{\"limit\":10,\"filterType\":\"MAX_NUM_ALGO_ORDERS\"},{\"notional\":\"5\",\"filterType\":\"MIN_NOTIONAL\"},{\"multiplierDown\":\"0.9000\",\"multiplierUp\":\"1.1000\",\"multiplierDecimal\":\"4\",\"filterType\":\"PERCENT_PRICE\"}],\"orderTypes\":[\"LIMIT\",\"MARKET\",\"STOP\",\"STOP_MARKET\",\"TAKE_PROFIT\",\"TAKE_PROFIT_MARKET\",\"TRAILING_STOP_MARKET\"],\"timeInForce\":[\"GTC\",\"IOC\",\"FOK\",\"GTX\"]},{\"symbol\":\"ETCBUSD\",\"pair\":\"ETCBUSD\",\"contractType\":\"PERPETUAL\",\"deliveryDate\":4133404800000,\"onboardDate\":1658905200000,\"status\":\"TRADING\",\"maintMarginPercent\":\"2.5000\",\"requiredMarginPercent\":\"5.0000\",\"baseAsset\":\"ETC\",\"quoteAsset\":\"BUSD\",\"marginAsset\":\"BUSD\",\"pricePrecision\":6,\"quantityPrecision\":1,\"baseAssetPrecision\":8,\"quotePrecision\":8,\"underlyingType\":\"COIN\",\"underlyingSubType\":[\"BUSD\"],\"settlePlan\":0,\"triggerProtect\":\"0.1000\",\"liquidationFee\":\"0.012500\",\"marketTakeBound\":\"0.10\",\"filters\":[{\"minPrice\":\"0.001000\",\"maxPrice\":\"100000\",\"filterType\":\"PRICE_FILTER\",\"tickSize\":\"0.001000\"},{\"stepSize\":\"0.1\",\"filterType\":\"LOT_SIZE\",\"maxQty\":\"1000000\",\"minQty\":\"0.1\"},{\"stepSize\":\"0.1\",\"filterType\":\"MARKET_LOT_SIZE\",\"maxQty\":\"1500\",\"minQty\":\"0.1\"},{\"limit\":200,\"filterType\":\"MAX_NUM_ORDERS\"},{\"limit\":10,\"filterType\":\"MAX_NUM_ALGO_ORDERS\"},{\"notional\":\"5\",\"filterType\":\"MIN_NOTIONAL\"},{\"multiplierDown\":\"0.9000\",\"multiplierUp\":\"1.1000\",\"multiplierDecimal\":\"4\",\"filterType\":\"PERCENT_PRICE\"}],\"orderTypes\":[\"LIMIT\",\"MARKET\",\"STOP\",\"STOP_MARKET\",\"TAKE_PROFIT\",\"TAKE_PROFIT_MARKET\",\"TRAILING_STOP_MARKET\"],\"timeInForce\":[\"GTC\",\"IOC\",\"FOK\",\"GTX\"]},{\"symbol\":\"LDOBUSD\",\"pair\":\"LDOBUSD\",\"contractType\":\"PERPETUAL\",\"deliveryDate\":4133404800000,\"onboardDate\":1658905200000,\"status\":\"TRADING\",\"maintMarginPercent\":\"2.5000\",\"requiredMarginPercent\":\"5.0000\",\"baseAsset\":\"LDO\",\"quoteAsset\":\"BUSD\",\"marginAsset\":\"BUSD\",\"pricePrecision\":6,\"quantityPrecision\":1,\"baseAssetPrecision\":8,\"quotePrecision\":8,\"underlyingType\":\"COIN\",\"underlyingSubType\":[\"BUSD\"],\"settlePlan\":0,\"triggerProtect\":\"0.1000\",\"liquidationFee\":\"0.015000\",\"marketTakeBound\":\"0.10\",\"filters\":[{\"minPrice\":\"0.001000\",\"maxPrice\":\"100000\",\"filterType\":\"PRICE_FILTER\",\"tickSize\":\"0.000100\"},{\"stepSize\":\"0.1\",\"filterType\":\"LOT_SIZE\",\"maxQty\":\"1000000\",\"minQty\":\"0.1\"},{\"stepSize\":\"0.1\",\"filterType\":\"MARKET_LOT_SIZE\",\"maxQty\":\"25000\",\"minQty\":\"0.1\"},{\"limit\":200,\"filterType\":\"MAX_NUM_ORDERS\"},{\"limit\":10,\"filterType\":\"MAX_NUM_ALGO_ORDERS\"},{\"notional\":\"5\",\"filterType\":\"MIN_NOTIONAL\"},{\"multiplierDown\":\"0.9000\",\"multiplierUp\":\"1.1000\",\"multiplierDecimal\":\"4\",\"filterType\":\"PERCENT_PRICE\"}],\"orderTypes\":[\"LIMIT\",\"MARKET\",\"STOP\",\"STOP_MARKET\",\"TAKE_PROFIT\",\"TAKE_PROFIT_MARKET\",\"TRAILING_STOP_MARKET\"],\"timeInForce\":[\"GTC\",\"IOC\",\"FOK\",\"GTX\"]},{\"symbol\":\"UNIBUSD\",\"pair\":\"UNIBUSD\",\"contractType\":\"PERPETUAL\",\"deliveryDate\":4133404800000,\"onboardDate\":1659596400000,\"status\":\"TRADING\",\"maintMarginPercent\":\"2.5000\",\"requiredMarginPercent\":\"5.0000\",\"baseAsset\":\"UNI\",\"quoteAsset\":\"BUSD\",\"marginAsset\":\"BUSD\",\"pricePrecision\":6,\"quantityPrecision\":1,\"baseAssetPrecision\":8,\"quotePrecision\":8,\"underlyingType\":\"COIN\",\"underlyingSubType\":[\"BUSD\"],\"settlePlan\":0,\"triggerProtect\":\"0.0500\",\"liquidationFee\":\"0.010000\",\"marketTakeBound\":\"0.05\",\"filters\":[{\"minPrice\":\"0.001000\",\"maxPrice\":\"100000\",\"filterType\":\"PRICE_FILTER\",\"tickSize\":\"0.001000\"},{\"stepSize\":\"0.1\",\"filterType\":\"LOT_SIZE\",\"maxQty\":\"1000000\",\"minQty\":\"0.1\"},{\"stepSize\":\"0.1\",\"filterType\":\"MARKET_LOT_SIZE\",\"maxQty\":\"6000\",\"minQty\":\"0.1\"},{\"limit\":200,\"filterType\":\"MAX_NUM_ORDERS\"},{\"limit\":10,\"filterType\":\"MAX_NUM_ALGO_ORDERS\"},{\"notional\":\"5\",\"filterType\":\"MIN_NOTIONAL\"},{\"multiplierDown\":\"0.9500\",\"multiplierUp\":\"1.0500\",\"multiplierDecimal\":\"4\",\"filterType\":\"PERCENT_PRICE\"}],\"orderTypes\":[\"LIMIT\",\"MARKET\",\"STOP\",\"STOP_MARKET\",\"TAKE_PROFIT\",\"TAKE_PROFIT_MARKET\",\"TRAILING_STOP_MARKET\"],\"timeInForce\":[\"GTC\",\"IOC\",\"FOK\",\"GTX\"]},{\"symbol\":\"AUCTIONBUSD\",\"pair\":\"AUCTIONBUSD\",\"contractType\":\"PERPETUAL\",\"deliveryDate\":1671094800000,\"onboardDate\":1659596400000,\"status\":\"SETTLING\",\"maintMarginPercent\":\"2.5000\",\"requiredMarginPercent\":\"5.0000\",\"baseAsset\":\"AUCTION\",\"quoteAsset\":\"BUSD\",\"marginAsset\":\"BUSD\",\"pricePrecision\":7,\"quantityPrecision\":1,\"baseAssetPrecision\":8,\"quotePrecision\":8,\"underlyingType\":\"COIN\",\"underlyingSubType\":[\"BUSD\"],\"settlePlan\":1671094800000,\"triggerProtect\":\"0.1000\",\"liquidationFee\":\"0.010000\",\"marketTakeBound\":\"0.10\",\"filters\":[{\"minPrice\":\"0.0010000\",\"maxPrice\":\"100000\",\"filterType\":\"PRICE_FILTER\",\"tickSize\":\"0.0010000\"},{\"stepSize\":\"0.1\",\"filterType\":\"LOT_SIZE\",\"maxQty\":\"1000000\",\"minQty\":\"0.1\"},{\"stepSize\":\"0.1\",\"filterType\":\"MARKET_LOT_SIZE\",\"maxQty\":\"6000\",\"minQty\":\"0.1\"},{\"limit\":200,\"filterType\":\"MAX_NUM_ORDERS\"},{\"limit\":10,\"filterType\":\"MAX_NUM_ALGO_ORDERS\"},{\"notional\":\"5\",\"filterType\":\"MIN_NOTIONAL\"},{\"multiplierDown\":\"0.9000\",\"multiplierUp\":\"1.1000\",\"multiplierDecimal\":\"4\",\"filterType\":\"PERCENT_PRICE\"}],\"orderTypes\":[\"LIMIT\",\"MARKET\",\"STOP\",\"STOP_MARKET\",\"TAKE_PROFIT\",\"TAKE_PROFIT_MARKET\",\"TRAILING_STOP_MARKET\"],\"timeInForce\":[\"GTC\",\"IOC\",\"FOK\",\"GTX\"]},{\"symbol\":\"INJUSDT\",\"pair\":\"INJUSDT\",\"contractType\":\"PERPETUAL\",\"deliveryDate\":4133404800000,\"onboardDate\":1660633200000,\"status\":\"TRADING\",\"maintMarginPercent\":\"2.5000\",\"requiredMarginPercent\":\"5.0000\",\"baseAsset\":\"INJ\",\"quoteAsset\":\"USDT\",\"marginAsset\":\"USDT\",\"pricePrecision\":6,\"quantityPrecision\":1,\"baseAssetPrecision\":8,\"quotePrecision\":8,\"underlyingType\":\"COIN\",\"underlyingSubType\":[\"DeFi\"],\"settlePlan\":0,\"triggerProtect\":\"0.1000\",\"liquidationFee\":\"0.010000\",\"marketTakeBound\":\"0.10\",\"filters\":[{\"minPrice\":\"0.001000\",\"maxPrice\":\"100000\",\"filterType\":\"PRICE_FILTER\",\"tickSize\":\"0.001000\"},{\"stepSize\":\"0.1\",\"filterType\":\"LOT_SIZE\",\"maxQty\":\"1000000\",\"minQty\":\"0.1\"},{\"stepSize\":\"0.1\",\"filterType\":\"MARKET_LOT_SIZE\",\"maxQty\":\"25000\",\"minQty\":\"0.1\"},{\"limit\":200,\"filterType\":\"MAX_NUM_ORDERS\"},{\"limit\":10,\"filterType\":\"MAX_NUM_ALGO_ORDERS\"},{\"notional\":\"5\",\"filterType\":\"MIN_NOTIONAL\"},{\"multiplierDown\":\"0.9000\",\"multiplierUp\":\"1.1000\",\"multiplierDecimal\":\"4\",\"filterType\":\"PERCENT_PRICE\"}],\"orderTypes\":[\"LIMIT\",\"MARKET\",\"STOP\",\"STOP_MARKET\",\"TAKE_PROFIT\",\"TAKE_PROFIT_MARKET\",\"TRAILING_STOP_MARKET\"],\"timeInForce\":[\"GTC\",\"IOC\",\"FOK\",\"GTX\"]},{\"symbol\":\"STGUSDT\",\"pair\":\"STGUSDT\",\"contractType\":\"PERPETUAL\",\"deliveryDate\":4133404800000,\"onboardDate\":1661324400000,\"status\":\"TRADING\",\"maintMarginPercent\":\"2.5000\",\"requiredMarginPercent\":\"5.0000\",\"baseAsset\":\"STG\",\"quoteAsset\":\"USDT\",\"marginAsset\":\"USDT\",\"pricePrecision\":7,\"quantityPrecision\":0,\"baseAssetPrecision\":8,\"quotePrecision\":8,\"underlyingType\":\"COIN\",\"underlyingSubType\":[],\"settlePlan\":0,\"triggerProtect\":\"0.1000\",\"liquidationFee\":\"0.015000\",\"marketTakeBound\":\"0.10\",\"filters\":[{\"minPrice\":\"0.0001000\",\"maxPrice\":\"5000\",\"filterType\":\"PRICE_FILTER\",\"tickSize\":\"0.0001000\"},{\"stepSize\":\"1\",\"filterType\":\"LOT_SIZE\",\"maxQty\":\"10000000\",\"minQty\":\"1\"},{\"stepSize\":\"1\",\"filterType\":\"MARKET_LOT_SIZE\",\"maxQty\":\"56000\",\"minQty\":\"1\"},{\"limit\":200,\"filterType\":\"MAX_NUM_ORDERS\"},{\"limit\":10,\"filterType\":\"MAX_NUM_ALGO_ORDERS\"},{\"notional\":\"5\",\"filterType\":\"MIN_NOTIONAL\"},{\"multiplierDown\":\"0.9000\",\"multiplierUp\":\"1.1000\",\"multiplierDecimal\":\"4\",\"filterType\":\"PERCENT_PRICE\"}],\"orderTypes\":[\"LIMIT\",\"MARKET\",\"STOP\",\"STOP_MARKET\",\"TAKE_PROFIT\",\"TAKE_PROFIT_MARKET\",\"TRAILING_STOP_MARKET\"],\"timeInForce\":[\"GTC\",\"IOC\",\"FOK\",\"GTX\"]},{\"symbol\":\"FOOTBALLUSDT\",\"pair\":\"FOOTBALLUSDT\",\"contractType\":\"PERPETUAL\",\"deliveryDate\":4133404800000,\"onboardDate\":1661929200000,\"status\":\"TRADING\",\"maintMarginPercent\":\"2.5000\",\"requiredMarginPercent\":\"5.0000\",\"baseAsset\":\"FOOTBALL\",\"quoteAsset\":\"USDT\",\"marginAsset\":\"USDT\",\"pricePrecision\":5,\"quantityPrecision\":2,\"baseAssetPrecision\":8,\"quotePrecision\":8,\"underlyingType\":\"INDEX\",\"underlyingSubType\":[\"Index\"],\"settlePlan\":0,\"triggerProtect\":\"0.1500\",\"liquidationFee\":\"0.015000\",\"marketTakeBound\":\"0.15\",\"filters\":[{\"minPrice\":\"0.01000\",\"maxPrice\":\"100000\",\"filterType\":\"PRICE_FILTER\",\"tickSize\":\"0.01000\"},{\"stepSize\":\"0.01\",\"filterType\":\"LOT_SIZE\",\"maxQty\":\"10000\",\"minQty\":\"0.01\"},{\"stepSize\":\"0.01\",\"filterType\":\"MARKET_LOT_SIZE\",\"maxQty\":\"200\",\"minQty\":\"0.01\"},{\"limit\":200,\"filterType\":\"MAX_NUM_ORDERS\"},{\"limit\":10,\"filterType\":\"MAX_NUM_ALGO_ORDERS\"},{\"notional\":\"5\",\"filterType\":\"MIN_NOTIONAL\"},{\"multiplierDown\":\"0.8500\",\"multiplierUp\":\"1.1500\",\"multiplierDecimal\":\"4\",\"filterType\":\"PERCENT_PRICE\"}],\"orderTypes\":[\"LIMIT\",\"MARKET\",\"STOP\",\"STOP_MARKET\",\"TAKE_PROFIT\",\"TAKE_PROFIT_MARKET\",\"TRAILING_STOP_MARKET\"],\"timeInForce\":[\"GTC\",\"IOC\",\"FOK\",\"GTX\"]},{\"symbol\":\"SPELLUSDT\",\"pair\":\"SPELLUSDT\",\"contractType\":\"PERPETUAL\",\"deliveryDate\":4133404800000,\"onboardDate\":1662361200000,\"status\":\"TRADING\",\"maintMarginPercent\":\"2.5000\",\"requiredMarginPercent\":\"5.0000\",\"baseAsset\":\"SPELL\",\"quoteAsset\":\"USDT\",\"marginAsset\":\"USDT\",\"pricePrecision\":7,\"quantityPrecision\":0,\"baseAssetPrecision\":8,\"quotePrecision\":8,\"underlyingType\":\"COIN\",\"underlyingSubType\":[\"DeFi\"],\"settlePlan\":0,\"triggerProtect\":\"0.1000\",\"liquidationFee\":\"0.010000\",\"marketTakeBound\":\"0.10\",\"filters\":[{\"minPrice\":\"0.0000010\",\"maxPrice\":\"1000\",\"filterType\":\"PRICE_FILTER\",\"tickSize\":\"0.0000001\"},{\"stepSize\":\"1\",\"filterType\":\"LOT_SIZE\",\"maxQty\":\"80000000\",\"minQty\":\"1\"},{\"stepSize\":\"1\",\"filterType\":\"MARKET_LOT_SIZE\",\"maxQty\":\"8000000\",\"minQty\":\"1\"},{\"limit\":200,\"filterType\":\"MAX_NUM_ORDERS\"},{\"limit\":10,\"filterType\":\"MAX_NUM_ALGO_ORDERS\"},{\"notional\":\"5\",\"filterType\":\"MIN_NOTIONAL\"},{\"multiplierDown\":\"0.9000\",\"multiplierUp\":\"1.1000\",\"multiplierDecimal\":\"4\",\"filterType\":\"PERCENT_PRICE\"}],\"orderTypes\":[\"LIMIT\",\"MARKET\",\"STOP\",\"STOP_MARKET\",\"TAKE_PROFIT\",\"TAKE_PROFIT_MARKET\",\"TRAILING_STOP_MARKET\"],\"timeInForce\":[\"GTC\",\"IOC\",\"FOK\",\"GTX\"]},{\"symbol\":\"1000LUNCUSDT\",\"pair\":\"1000LUNCUSDT\",\"contractType\":\"PERPETUAL\",\"deliveryDate\":4133404800000,\"onboardDate\":1662620400000,\"status\":\"TRADING\",\"maintMarginPercent\":\"2.5000\",\"requiredMarginPercent\":\"5.0000\",\"baseAsset\":\"1000LUNC\",\"quoteAsset\":\"USDT\",\"marginAsset\":\"USDT\",\"pricePrecision\":7,\"quantityPrecision\":0,\"baseAssetPrecision\":8,\"quotePrecision\":8,\"underlyingType\":\"COIN\",\"underlyingSubType\":[\"Layer-1\"],\"settlePlan\":0,\"triggerProtect\":\"0.1000\",\"liquidationFee\":\"0.015000\",\"marketTakeBound\":\"0.10\",\"filters\":[{\"minPrice\":\"0.0001000\",\"maxPrice\":\"100000\",\"filterType\":\"PRICE_FILTER\",\"tickSize\":\"0.0001000\"},{\"stepSize\":\"1\",\"filterType\":\"LOT_SIZE\",\"maxQty\":\"10000000\",\"minQty\":\"1\"},{\"stepSize\":\"1\",\"filterType\":\"MARKET_LOT_SIZE\",\"maxQty\":\"2000000\",\"minQty\":\"1\"},{\"limit\":200,\"filterType\":\"MAX_NUM_ORDERS\"},{\"limit\":10,\"filterType\":\"MAX_NUM_ALGO_ORDERS\"},{\"notional\":\"5\",\"filterType\":\"MIN_NOTIONAL\"},{\"multiplierDown\":\"0.9000\",\"multiplierUp\":\"1.1000\",\"multiplierDecimal\":\"4\",\"filterType\":\"PERCENT_PRICE\"}],\"orderTypes\":[\"LIMIT\",\"MARKET\",\"STOP\",\"STOP_MARKET\",\"TAKE_PROFIT\",\"TAKE_PROFIT_MARKET\",\"TRAILING_STOP_MARKET\"],\"timeInForce\":[\"GTC\",\"IOC\",\"FOK\",\"GTX\"]},{\"symbol\":\"LUNA2USDT\",\"pair\":\"LUNA2USDT\",\"contractType\":\"PERPETUAL\",\"deliveryDate\":4133404800000,\"onboardDate\":1662706800000,\"status\":\"TRADING\",\"maintMarginPercent\":\"2.5000\",\"requiredMarginPercent\":\"5.0000\",\"baseAsset\":\"LUNA2\",\"quoteAsset\":\"USDT\",\"marginAsset\":\"USDT\",\"pricePrecision\":7,\"quantityPrecision\":0,\"baseAssetPrecision\":8,\"quotePrecision\":8,\"underlyingType\":\"COIN\",\"underlyingSubType\":[\"Layer-1\"],\"settlePlan\":0,\"triggerProtect\":\"0.1000\",\"liquidationFee\":\"0.020000\",\"marketTakeBound\":\"0.10\",\"filters\":[{\"minPrice\":\"0.0001000\",\"maxPrice\":\"10000\",\"filterType\":\"PRICE_FILTER\",\"tickSize\":\"0.0001000\"},{\"stepSize\":\"1\",\"filterType\":\"LOT_SIZE\",\"maxQty\":\"1000000\",\"minQty\":\"1\"},{\"stepSize\":\"1\",\"filterType\":\"MARKET_LOT_SIZE\",\"maxQty\":\"60000\",\"minQty\":\"1\"},{\"limit\":200,\"filterType\":\"MAX_NUM_ORDERS\"},{\"limit\":10,\"filterType\":\"MAX_NUM_ALGO_ORDERS\"},{\"notional\":\"5\",\"filterType\":\"MIN_NOTIONAL\"},{\"multiplierDown\":\"0.9000\",\"multiplierUp\":\"1.1000\",\"multiplierDecimal\":\"4\",\"filterType\":\"PERCENT_PRICE\"}],\"orderTypes\":[\"LIMIT\",\"MARKET\",\"STOP\",\"STOP_MARKET\",\"TAKE_PROFIT\",\"TAKE_PROFIT_MARKET\",\"TRAILING_STOP_MARKET\"],\"timeInForce\":[\"GTC\",\"IOC\",\"FOK\",\"GTX\"]},{\"symbol\":\"AMBBUSD\",\"pair\":\"AMBBUSD\",\"contractType\":\"PERPETUAL\",\"deliveryDate\":4133404800000,\"onboardDate\":1663052400000,\"status\":\"TRADING\",\"maintMarginPercent\":\"2.5000\",\"requiredMarginPercent\":\"5.0000\",\"baseAsset\":\"AMB\",\"quoteAsset\":\"BUSD\",\"marginAsset\":\"BUSD\",\"pricePrecision\":7,\"quantityPrecision\":0,\"baseAssetPrecision\":8,\"quotePrecision\":8,\"underlyingType\":\"COIN\",\"underlyingSubType\":[\"Infrastructure\"],\"settlePlan\":0,\"triggerProtect\":\"0.1000\",\"liquidationFee\":\"0.010000\",\"marketTakeBound\":\"0.10\",\"filters\":[{\"minPrice\":\"0.0000100\",\"maxPrice\":\"10000\",\"filterType\":\"PRICE_FILTER\",\"tickSize\":\"0.0000010\"},{\"stepSize\":\"1\",\"filterType\":\"LOT_SIZE\",\"maxQty\":\"50000000\",\"minQty\":\"1\"},{\"stepSize\":\"1\",\"filterType\":\"MARKET_LOT_SIZE\",\"maxQty\":\"3000000\",\"minQty\":\"1\"},{\"limit\":200,\"filterType\":\"MAX_NUM_ORDERS\"},{\"limit\":10,\"filterType\":\"MAX_NUM_ALGO_ORDERS\"},{\"notional\":\"5\",\"filterType\":\"MIN_NOTIONAL\"},{\"multiplierDown\":\"0.9000\",\"multiplierUp\":\"1.1000\",\"multiplierDecimal\":\"4\",\"filterType\":\"PERCENT_PRICE\"}],\"orderTypes\":[\"LIMIT\",\"MARKET\",\"STOP\",\"STOP_MARKET\",\"TAKE_PROFIT\",\"TAKE_PROFIT_MARKET\",\"TRAILING_STOP_MARKET\"],\"timeInForce\":[\"GTC\",\"IOC\",\"FOK\",\"GTX\"]},{\"symbol\":\"PHBBUSD\",\"pair\":\"PHBBUSD\",\"contractType\":\"PERPETUAL\",\"deliveryDate\":4133404800000,\"onboardDate\":1663225200000,\"status\":\"TRADING\",\"maintMarginPercent\":\"2.5000\",\"requiredMarginPercent\":\"5.0000\",\"baseAsset\":\"PHB\",\"quoteAsset\":\"BUSD\",\"marginAsset\":\"BUSD\",\"pricePrecision\":7,\"quantityPrecision\":0,\"baseAssetPrecision\":8,\"quotePrecision\":8,\"underlyingType\":\"COIN\",\"underlyingSubType\":[\"Infrastructure\"],\"settlePlan\":0,\"triggerProtect\":\"0.1000\",\"liquidationFee\":\"0.020000\",\"marketTakeBound\":\"0.10\",\"filters\":[{\"minPrice\":\"0.0001000\",\"maxPrice\":\"10000\",\"filterType\":\"PRICE_FILTER\",\"tickSize\":\"0.0001000\"},{\"stepSize\":\"1\",\"filterType\":\"LOT_SIZE\",\"maxQty\":\"1000000\",\"minQty\":\"1\"},{\"stepSize\":\"1\",\"filterType\":\"MARKET_LOT_SIZE\",\"maxQty\":\"100000\",\"minQty\":\"1\"},{\"limit\":200,\"filterType\":\"MAX_NUM_ORDERS\"},{\"limit\":10,\"filterType\":\"MAX_NUM_ALGO_ORDERS\"},{\"notional\":\"5\",\"filterType\":\"MIN_NOTIONAL\"},{\"multiplierDown\":\"0.9000\",\"multiplierUp\":\"1.1000\",\"multiplierDecimal\":\"4\",\"filterType\":\"PERCENT_PRICE\"}],\"orderTypes\":[\"LIMIT\",\"MARKET\",\"STOP\",\"STOP_MARKET\",\"TAKE_PROFIT\",\"TAKE_PROFIT_MARKET\",\"TRAILING_STOP_MARKET\"],\"timeInForce\":[\"GTC\",\"IOC\",\"FOK\",\"GTX\"]},{\"symbol\":\"LDOUSDT\",\"pair\":\"LDOUSDT\",\"contractType\":\"PERPETUAL\",\"deliveryDate\":4133404800000,\"onboardDate\":1663743600000,\"status\":\"TRADING\",\"maintMarginPercent\":\"2.5000\",\"requiredMarginPercent\":\"5.0000\",\"baseAsset\":\"LDO\",\"quoteAsset\":\"USDT\",\"marginAsset\":\"USDT\",\"pricePrecision\":6,\"quantityPrecision\":0,\"baseAssetPrecision\":8,\"quotePrecision\":8,\"underlyingType\":\"COIN\",\"underlyingSubType\":[\"Layer-2\"],\"settlePlan\":0,\"triggerProtect\":\"0.1000\",\"liquidationFee\":\"0.020000\",\"marketTakeBound\":\"0.10\",\"filters\":[{\"minPrice\":\"0.001000\",\"maxPrice\":\"10000\",\"filterType\":\"PRICE_FILTER\",\"tickSize\":\"0.000100\"},{\"stepSize\":\"1\",\"filterType\":\"LOT_SIZE\",\"maxQty\":\"100000\",\"minQty\":\"1\"},{\"stepSize\":\"1\",\"filterType\":\"MARKET_LOT_SIZE\",\"maxQty\":\"30000\",\"minQty\":\"1\"},{\"limit\":200,\"filterType\":\"MAX_NUM_ORDERS\"},{\"limit\":10,\"filterType\":\"MAX_NUM_ALGO_ORDERS\"},{\"notional\":\"5\",\"filterType\":\"MIN_NOTIONAL\"},{\"multiplierDown\":\"0.9000\",\"multiplierUp\":\"1.1000\",\"multiplierDecimal\":\"4\",\"filterType\":\"PERCENT_PRICE\"}],\"orderTypes\":[\"LIMIT\",\"MARKET\",\"STOP\",\"STOP_MARKET\",\"TAKE_PROFIT\",\"TAKE_PROFIT_MARKET\",\"TRAILING_STOP_MARKET\"],\"timeInForce\":[\"GTC\",\"IOC\",\"FOK\",\"GTX\"]},{\"symbol\":\"CVXUSDT\",\"pair\":\"CVXUSDT\",\"contractType\":\"PERPETUAL\",\"deliveryDate\":4133404800000,\"onboardDate\":1663743600000,\"status\":\"TRADING\",\"maintMarginPercent\":\"2.5000\",\"requiredMarginPercent\":\"5.0000\",\"baseAsset\":\"CVX\",\"quoteAsset\":\"USDT\",\"marginAsset\":\"USDT\",\"pricePrecision\":6,\"quantityPrecision\":0,\"baseAssetPrecision\":8,\"quotePrecision\":8,\"underlyingType\":\"COIN\",\"underlyingSubType\":[\"DeFi\"],\"settlePlan\":0,\"triggerProtect\":\"0.1200\",\"liquidationFee\":\"0.020000\",\"marketTakeBound\":\"0.12\",\"filters\":[{\"minPrice\":\"0.001000\",\"maxPrice\":\"10000\",\"filterType\":\"PRICE_FILTER\",\"tickSize\":\"0.001000\"},{\"stepSize\":\"1\",\"filterType\":\"LOT_SIZE\",\"maxQty\":\"100000\",\"minQty\":\"1\"},{\"stepSize\":\"1\",\"filterType\":\"MARKET_LOT_SIZE\",\"maxQty\":\"1000\",\"minQty\":\"1\"},{\"limit\":200,\"filterType\":\"MAX_NUM_ORDERS\"},{\"limit\":10,\"filterType\":\"MAX_NUM_ALGO_ORDERS\"},{\"notional\":\"5\",\"filterType\":\"MIN_NOTIONAL\"},{\"multiplierDown\":\"0.8800\",\"multiplierUp\":\"1.1200\",\"multiplierDecimal\":\"4\",\"filterType\":\"PERCENT_PRICE\"}],\"orderTypes\":[\"LIMIT\",\"MARKET\",\"STOP\",\"STOP_MARKET\",\"TAKE_PROFIT\",\"TAKE_PROFIT_MARKET\",\"TRAILING_STOP_MARKET\"],\"timeInForce\":[\"GTC\",\"IOC\",\"FOK\",\"GTX\"]},{\"symbol\":\"ICPUSDT\",\"pair\":\"ICPUSDT\",\"contractType\":\"PERPETUAL\",\"deliveryDate\":4133404800000,\"onboardDate\":1627628400000,\"status\":\"TRADING\",\"maintMarginPercent\":\"2.5000\",\"requiredMarginPercent\":\"5.0000\",\"baseAsset\":\"ICP\",\"quoteAsset\":\"USDT\",\"marginAsset\":\"USDT\",\"pricePrecision\":6,\"quantityPrecision\":0,\"baseAssetPrecision\":8,\"quotePrecision\":8,\"underlyingType\":\"COIN\",\"underlyingSubType\":[\"Layer-1\"],\"settlePlan\":0,\"triggerProtect\":\"0.1500\",\"liquidationFee\":\"0.015000\",\"marketTakeBound\":\"0.30\",\"filters\":[{\"minPrice\":\"0.001000\",\"maxPrice\":\"10000\",\"filterType\":\"PRICE_FILTER\",\"tickSize\":\"0.001000\"},{\"stepSize\":\"1\",\"filterType\":\"LOT_SIZE\",\"maxQty\":\"100000\",\"minQty\":\"1\"},{\"stepSize\":\"1\",\"filterType\":\"MARKET_LOT_SIZE\",\"maxQty\":\"10000\",\"minQty\":\"1\"},{\"limit\":200,\"filterType\":\"MAX_NUM_ORDERS\"},{\"limit\":10,\"filterType\":\"MAX_NUM_ALGO_ORDERS\"},{\"notional\":\"5\",\"filterType\":\"MIN_NOTIONAL\"},{\"multiplierDown\":\"0.9000\",\"multiplierUp\":\"1.1000\",\"multiplierDecimal\":\"4\",\"filterType\":\"PERCENT_PRICE\"}],\"orderTypes\":[\"LIMIT\",\"MARKET\",\"STOP\",\"STOP_MARKET\",\"TAKE_PROFIT\",\"TAKE_PROFIT_MARKET\",\"TRAILING_STOP_MARKET\"],\"timeInForce\":[\"GTC\",\"IOC\",\"FOK\",\"GTX\"]},{\"symbol\":\"APTUSDT\",\"pair\":\"APTUSDT\",\"contractType\":\"PERPETUAL\",\"deliveryDate\":4133404800000,\"onboardDate\":1666076400000,\"status\":\"TRADING\",\"maintMarginPercent\":\"2.5000\",\"requiredMarginPercent\":\"5.0000\",\"baseAsset\":\"APT\",\"quoteAsset\":\"USDT\",\"marginAsset\":\"USDT\",\"pricePrecision\":5,\"quantityPrecision\":1,\"baseAssetPrecision\":8,\"quotePrecision\":8,\"underlyingType\":\"COIN\",\"underlyingSubType\":[\"Layer-1\"],\"settlePlan\":0,\"triggerProtect\":\"0.1000\",\"liquidationFee\":\"0.025000\",\"marketTakeBound\":\"0.10\",\"filters\":[{\"minPrice\":\"0.00100\",\"maxPrice\":\"100000\",\"filterType\":\"PRICE_FILTER\",\"tickSize\":\"0.00010\"},{\"stepSize\":\"0.1\",\"filterType\":\"LOT_SIZE\",\"maxQty\":\"1000000\",\"minQty\":\"0.1\"},{\"stepSize\":\"0.1\",\"filterType\":\"MARKET_LOT_SIZE\",\"maxQty\":\"8000\",\"minQty\":\"0.1\"},{\"limit\":200,\"filterType\":\"MAX_NUM_ORDERS\"},{\"limit\":10,\"filterType\":\"MAX_NUM_ALGO_ORDERS\"},{\"notional\":\"5\",\"filterType\":\"MIN_NOTIONAL\"},{\"multiplierDown\":\"0.9000\",\"multiplierUp\":\"1.1000\",\"multiplierDecimal\":\"4\",\"filterType\":\"PERCENT_PRICE\"}],\"orderTypes\":[\"LIMIT\",\"MARKET\",\"STOP\",\"STOP_MARKET\",\"TAKE_PROFIT\",\"TAKE_PROFIT_MARKET\",\"TRAILING_STOP_MARKET\"],\"timeInForce\":[\"GTC\",\"IOC\",\"FOK\",\"GTX\"]},{\"symbol\":\"QNTUSDT\",\"pair\":\"QNTUSDT\",\"contractType\":\"PERPETUAL\",\"deliveryDate\":4133404800000,\"onboardDate\":1666076400000,\"status\":\"TRADING\",\"maintMarginPercent\":\"2.5000\",\"requiredMarginPercent\":\"5.0000\",\"baseAsset\":\"QNT\",\"quoteAsset\":\"USDT\",\"marginAsset\":\"USDT\",\"pricePrecision\":6,\"quantityPrecision\":1,\"baseAssetPrecision\":8,\"quotePrecision\":8,\"underlyingType\":\"COIN\",\"underlyingSubType\":[\"Infrastructure\"],\"settlePlan\":0,\"triggerProtect\":\"0.1000\",\"liquidationFee\":\"0.012500\",\"marketTakeBound\":\"0.10\",\"filters\":[{\"minPrice\":\"0.010000\",\"maxPrice\":\"100000\",\"filterType\":\"PRICE_FILTER\",\"tickSize\":\"0.010000\"},{\"stepSize\":\"0.1\",\"filterType\":\"LOT_SIZE\",\"maxQty\":\"1000000\",\"minQty\":\"0.1\"},{\"stepSize\":\"0.1\",\"filterType\":\"MARKET_LOT_SIZE\",\"maxQty\":\"300\",\"minQty\":\"0.1\"},{\"limit\":200,\"filterType\":\"MAX_NUM_ORDERS\"},{\"limit\":10,\"filterType\":\"MAX_NUM_ALGO_ORDERS\"},{\"notional\":\"5\",\"filterType\":\"MIN_NOTIONAL\"},{\"multiplierDown\":\"0.9000\",\"multiplierUp\":\"1.1000\",\"multiplierDecimal\":\"4\",\"filterType\":\"PERCENT_PRICE\"}],\"orderTypes\":[\"LIMIT\",\"MARKET\",\"STOP\",\"STOP_MARKET\",\"TAKE_PROFIT\",\"TAKE_PROFIT_MARKET\",\"TRAILING_STOP_MARKET\"],\"timeInForce\":[\"GTC\",\"IOC\",\"FOK\",\"GTX\"]},{\"symbol\":\"APTBUSD\",\"pair\":\"APTBUSD\",\"contractType\":\"PERPETUAL\",\"deliveryDate\":4133404800000,\"onboardDate\":1666594800000,\"status\":\"TRADING\",\"maintMarginPercent\":\"2.5000\",\"requiredMarginPercent\":\"5.0000\",\"baseAsset\":\"APT\",\"quoteAsset\":\"BUSD\",\"marginAsset\":\"BUSD\",\"pricePrecision\":5,\"quantityPrecision\":1,\"baseAssetPrecision\":8,\"quotePrecision\":8,\"underlyingType\":\"COIN\",\"underlyingSubType\":[\"Layer-1\"],\"settlePlan\":0,\"triggerProtect\":\"0.1000\",\"liquidationFee\":\"0.015000\",\"marketTakeBound\":\"0.10\",\"filters\":[{\"minPrice\":\"0.00100\",\"maxPrice\":\"100000\",\"filterType\":\"PRICE_FILTER\",\"tickSize\":\"0.00010\"},{\"stepSize\":\"0.1\",\"filterType\":\"LOT_SIZE\",\"maxQty\":\"1000000\",\"minQty\":\"0.1\"},{\"stepSize\":\"0.1\",\"filterType\":\"MARKET_LOT_SIZE\",\"maxQty\":\"5000\",\"minQty\":\"0.1\"},{\"limit\":200,\"filterType\":\"MAX_NUM_ORDERS\"},{\"limit\":10,\"filterType\":\"MAX_NUM_ALGO_ORDERS\"},{\"notional\":\"5\",\"filterType\":\"MIN_NOTIONAL\"},{\"multiplierDown\":\"0.9000\",\"multiplierUp\":\"1.1000\",\"multiplierDecimal\":\"4\",\"filterType\":\"PERCENT_PRICE\"}],\"orderTypes\":[\"LIMIT\",\"MARKET\",\"STOP\",\"STOP_MARKET\",\"TAKE_PROFIT\",\"TAKE_PROFIT_MARKET\",\"TRAILING_STOP_MARKET\"],\"timeInForce\":[\"GTC\",\"IOC\",\"FOK\",\"GTX\"]},{\"symbol\":\"BLUEBIRDUSDT\",\"pair\":\"BLUEBIRDUSDT\",\"contractType\":\"PERPETUAL\",\"deliveryDate\":4133404800000,\"onboardDate\":1667286000000,\"status\":\"TRADING\",\"maintMarginPercent\":\"2.5000\",\"requiredMarginPercent\":\"5.0000\",\"baseAsset\":\"BLUEBIRD\",\"quoteAsset\":\"USDT\",\"marginAsset\":\"USDT\",\"pricePrecision\":5,\"quantityPrecision\":1,\"baseAssetPrecision\":8,\"quotePrecision\":8,\"underlyingType\":\"INDEX\",\"underlyingSubType\":[\"Index\"],\"settlePlan\":0,\"triggerProtect\":\"0.1000\",\"liquidationFee\":\"0.015000\",\"marketTakeBound\":\"0.10\",\"filters\":[{\"minPrice\":\"0.00100\",\"maxPrice\":\"100000\",\"filterType\":\"PRICE_FILTER\",\"tickSize\":\"0.00100\"},{\"stepSize\":\"0.1\",\"filterType\":\"LOT_SIZE\",\"maxQty\":\"1000000\",\"minQty\":\"0.1\"},{\"stepSize\":\"0.1\",\"filterType\":\"MARKET_LOT_SIZE\",\"maxQty\":\"5000\",\"minQty\":\"0.1\"},{\"limit\":200,\"filterType\":\"MAX_NUM_ORDERS\"},{\"limit\":10,\"filterType\":\"MAX_NUM_ALGO_ORDERS\"},{\"notional\":\"5\",\"filterType\":\"MIN_NOTIONAL\"},{\"multiplierDown\":\"0.9000\",\"multiplierUp\":\"1.1000\",\"multiplierDecimal\":\"4\",\"filterType\":\"PERCENT_PRICE\"}],\"orderTypes\":[\"LIMIT\",\"MARKET\",\"STOP\",\"STOP_MARKET\",\"TAKE_PROFIT\",\"TAKE_PROFIT_MARKET\",\"TRAILING_STOP_MARKET\"],\"timeInForce\":[\"GTC\",\"IOC\",\"FOK\",\"GTX\"]},{\"symbol\":\"ETHUSDT_230331\",\"pair\":\"ETHUSDT\",\"contractType\":\"CURRENT_QUARTER\",\"deliveryDate\":1680249600000,\"onboardDate\":1671696000000,\"status\":\"TRADING\",\"maintMarginPercent\":\"2.5000\",\"requiredMarginPercent\":\"5.0000\",\"baseAsset\":\"ETH\",\"quoteAsset\":\"USDT\",\"marginAsset\":\"USDT\",\"pricePrecision\":2,\"quantityPrecision\":3,\"baseAssetPrecision\":8,\"quotePrecision\":8,\"underlyingType\":\"COIN\",\"underlyingSubType\":[],\"settlePlan\":0,\"triggerProtect\":\"0.0500\",\"liquidationFee\":\"0.010000\",\"marketTakeBound\":\"0.05\",\"filters\":[{\"minPrice\":\"41.10\",\"maxPrice\":\"100000\",\"filterType\":\"PRICE_FILTER\",\"tickSize\":\"0.01\"},{\"stepSize\":\"0.001\",\"filterType\":\"LOT_SIZE\",\"maxQty\":\"10000\",\"minQty\":\"0.001\"},{\"stepSize\":\"0.001\",\"filterType\":\"MARKET_LOT_SIZE\",\"maxQty\":\"10\",\"minQty\":\"0.001\"},{\"limit\":200,\"filterType\":\"MAX_NUM_ORDERS\"},{\"limit\":10,\"filterType\":\"MAX_NUM_ALGO_ORDERS\"},{\"notional\":\"5\",\"filterType\":\"MIN_NOTIONAL\"},{\"multiplierDown\":\"0.9500\",\"multiplierUp\":\"1.0500\",\"multiplierDecimal\":\"4\",\"filterType\":\"PERCENT_PRICE\"}],\"orderTypes\":[\"LIMIT\",\"MARKET\",\"STOP\",\"STOP_MARKET\",\"TAKE_PROFIT\",\"TAKE_PROFIT_MARKET\",\"TRAILING_STOP_MARKET\"],\"timeInForce\":[\"GTC\",\"IOC\",\"FOK\",\"GTX\"]},{\"symbol\":\"BTCUSDT_230331\",\"pair\":\"BTCUSDT\",\"contractType\":\"CURRENT_QUARTER\",\"deliveryDate\":1680249600000,\"onboardDate\":1671696000000,\"status\":\"TRADING\",\"maintMarginPercent\":\"2.5000\",\"requiredMarginPercent\":\"5.0000\",\"baseAsset\":\"BTC\",\"quoteAsset\":\"USDT\",\"marginAsset\":\"USDT\",\"pricePrecision\":1,\"quantityPrecision\":3,\"baseAssetPrecision\":8,\"quotePrecision\":8,\"underlyingType\":\"COIN\",\"underlyingSubType\":[],\"settlePlan\":0,\"triggerProtect\":\"0.0500\",\"liquidationFee\":\"0.010000\",\"marketTakeBound\":\"0.05\",\"filters\":[{\"minPrice\":\"576.3\",\"maxPrice\":\"1000000\",\"filterType\":\"PRICE_FILTER\",\"tickSize\":\"0.1\"},{\"stepSize\":\"0.001\",\"filterType\":\"LOT_SIZE\",\"maxQty\":\"500\",\"minQty\":\"0.001\"},{\"stepSize\":\"0.001\",\"filterType\":\"MARKET_LOT_SIZE\",\"maxQty\":\"3\",\"minQty\":\"0.001\"},{\"limit\":200,\"filterType\":\"MAX_NUM_ORDERS\"},{\"limit\":10,\"filterType\":\"MAX_NUM_ALGO_ORDERS\"},{\"notional\":\"5\",\"filterType\":\"MIN_NOTIONAL\"},{\"multiplierDown\":\"0.9500\",\"multiplierUp\":\"1.0500\",\"multiplierDecimal\":\"4\",\"filterType\":\"PERCENT_PRICE\"}],\"orderTypes\":[\"LIMIT\",\"MARKET\",\"STOP\",\"STOP_MARKET\",\"TAKE_PROFIT\",\"TAKE_PROFIT_MARKET\",\"TRAILING_STOP_MARKET\"],\"timeInForce\":[\"GTC\",\"IOC\",\"FOK\",\"GTX\"]},{\"symbol\":\"FETUSDT\",\"pair\":\"FETUSDT\",\"contractType\":\"PERPETUAL\",\"deliveryDate\":4133404800000,\"onboardDate\":1673766000000,\"status\":\"TRADING\",\"maintMarginPercent\":\"2.5000\",\"requiredMarginPercent\":\"5.0000\",\"baseAsset\":\"FET\",\"quoteAsset\":\"USDT\",\"marginAsset\":\"USDT\",\"pricePrecision\":7,\"quantityPrecision\":0,\"baseAssetPrecision\":8,\"quotePrecision\":8,\"underlyingType\":\"COIN\",\"underlyingSubType\":[\"AI\"],\"settlePlan\":0,\"triggerProtect\":\"0.1000\",\"liquidationFee\":\"0.015000\",\"marketTakeBound\":\"0.10\",\"filters\":[{\"minPrice\":\"0.0001000\",\"maxPrice\":\"1000\",\"filterType\":\"PRICE_FILTER\",\"tickSize\":\"0.0001000\"},{\"stepSize\":\"1\",\"filterType\":\"LOT_SIZE\",\"maxQty\":\"10000000\",\"minQty\":\"1\"},{\"stepSize\":\"1\",\"filterType\":\"MARKET_LOT_SIZE\",\"maxQty\":\"250000\",\"minQty\":\"1\"},{\"limit\":200,\"filterType\":\"MAX_NUM_ORDERS\"},{\"limit\":10,\"filterType\":\"MAX_NUM_ALGO_ORDERS\"},{\"notional\":\"5\",\"filterType\":\"MIN_NOTIONAL\"},{\"multiplierDown\":\"0.9000\",\"multiplierUp\":\"1.1000\",\"multiplierDecimal\":\"4\",\"filterType\":\"PERCENT_PRICE\"}],\"orderTypes\":[\"LIMIT\",\"MARKET\",\"STOP\",\"STOP_MARKET\",\"TAKE_PROFIT\",\"TAKE_PROFIT_MARKET\",\"TRAILING_STOP_MARKET\"],\"timeInForce\":[\"GTC\",\"IOC\",\"FOK\",\"GTX\"]},{\"symbol\":\"AGIXBUSD\",\"pair\":\"AGIXBUSD\",\"contractType\":\"PERPETUAL\",\"deliveryDate\":4133404800000,\"onboardDate\":1673938800000,\"status\":\"TRADING\",\"maintMarginPercent\":\"2.5000\",\"requiredMarginPercent\":\"5.0000\",\"baseAsset\":\"AGIX\",\"quoteAsset\":\"BUSD\",\"marginAsset\":\"BUSD\",\"pricePrecision\":7,\"quantityPrecision\":0,\"baseAssetPrecision\":8,\"quotePrecision\":8,\"underlyingType\":\"COIN\",\"underlyingSubType\":[\"AI\"],\"settlePlan\":0,\"triggerProtect\":\"0.1000\",\"liquidationFee\":\"0.015000\",\"marketTakeBound\":\"0.10\",\"filters\":[{\"minPrice\":\"0.0001000\",\"maxPrice\":\"1000\",\"filterType\":\"PRICE_FILTER\",\"tickSize\":\"0.0001000\"},{\"stepSize\":\"1\",\"filterType\":\"LOT_SIZE\",\"maxQty\":\"10000000\",\"minQty\":\"1\"},{\"stepSize\":\"1\",\"filterType\":\"MARKET_LOT_SIZE\",\"maxQty\":\"270000\",\"minQty\":\"1\"},{\"limit\":200,\"filterType\":\"MAX_NUM_ORDERS\"},{\"limit\":10,\"filterType\":\"MAX_NUM_ALGO_ORDERS\"},{\"notional\":\"5\",\"filterType\":\"MIN_NOTIONAL\"},{\"multiplierDown\":\"0.9000\",\"multiplierUp\":\"1.1000\",\"multiplierDecimal\":\"4\",\"filterType\":\"PERCENT_PRICE\"}],\"orderTypes\":[\"LIMIT\",\"MARKET\",\"STOP\",\"STOP_MARKET\",\"TAKE_PROFIT\",\"TAKE_PROFIT_MARKET\",\"TRAILING_STOP_MARKET\"],\"timeInForce\":[\"GTC\",\"IOC\",\"FOK\",\"GTX\"]},{\"symbol\":\"FXSUSDT\",\"pair\":\"FXSUSDT\",\"contractType\":\"PERPETUAL\",\"deliveryDate\":4133404800000,\"onboardDate\":1674111600000,\"status\":\"TRADING\",\"maintMarginPercent\":\"2.5000\",\"requiredMarginPercent\":\"5.0000\",\"baseAsset\":\"FXS\",\"quoteAsset\":\"USDT\",\"marginAsset\":\"USDT\",\"pricePrecision\":6,\"quantityPrecision\":1,\"baseAssetPrecision\":8,\"quotePrecision\":8,\"underlyingType\":\"COIN\",\"underlyingSubType\":[],\"settlePlan\":0,\"triggerProtect\":\"0.1500\",\"liquidationFee\":\"0.015000\",\"marketTakeBound\":\"0.15\",\"filters\":[{\"minPrice\":\"0.001000\",\"maxPrice\":\"100000\",\"filterType\":\"PRICE_FILTER\",\"tickSize\":\"0.001000\"},{\"stepSize\":\"0.1\",\"filterType\":\"LOT_SIZE\",\"maxQty\":\"1000000\",\"minQty\":\"0.1\"},{\"stepSize\":\"0.1\",\"filterType\":\"MARKET_LOT_SIZE\",\"maxQty\":\"5000\",\"minQty\":\"0.1\"},{\"limit\":200,\"filterType\":\"MAX_NUM_ORDERS\"},{\"limit\":10,\"filterType\":\"MAX_NUM_ALGO_ORDERS\"},{\"notional\":\"5\",\"filterType\":\"MIN_NOTIONAL\"},{\"multiplierDown\":\"0.8500\",\"multiplierUp\":\"1.1500\",\"multiplierDecimal\":\"4\",\"filterType\":\"PERCENT_PRICE\"}],\"orderTypes\":[\"LIMIT\",\"MARKET\",\"STOP\",\"STOP_MARKET\",\"TAKE_PROFIT\",\"TAKE_PROFIT_MARKET\",\"TRAILING_STOP_MARKET\"],\"timeInForce\":[\"GTC\",\"IOC\",\"FOK\",\"GTX\"]},{\"symbol\":\"HOOKUSDT\",\"pair\":\"HOOKUSDT\",\"contractType\":\"PERPETUAL\",\"deliveryDate\":4133404800000,\"onboardDate\":1674111600000,\"status\":\"TRADING\",\"maintMarginPercent\":\"2.5000\",\"requiredMarginPercent\":\"5.0000\",\"baseAsset\":\"HOOK\",\"quoteAsset\":\"USDT\",\"marginAsset\":\"USDT\",\"pricePrecision\":6,\"quantityPrecision\":1,\"baseAssetPrecision\":8,\"quotePrecision\":8,\"underlyingType\":\"COIN\",\"underlyingSubType\":[],\"settlePlan\":0,\"triggerProtect\":\"0.1500\",\"liquidationFee\":\"0.015000\",\"marketTakeBound\":\"0.15\",\"filters\":[{\"minPrice\":\"0.001000\",\"maxPrice\":\"100000\",\"filterType\":\"PRICE_FILTER\",\"tickSize\":\"0.001000\"},{\"stepSize\":\"0.1\",\"filterType\":\"LOT_SIZE\",\"maxQty\":\"1000000\",\"minQty\":\"0.1\"},{\"stepSize\":\"0.1\",\"filterType\":\"MARKET_LOT_SIZE\",\"maxQty\":\"20000\",\"minQty\":\"0.1\"},{\"limit\":200,\"filterType\":\"MAX_NUM_ORDERS\"},{\"limit\":10,\"filterType\":\"MAX_NUM_ALGO_ORDERS\"},{\"notional\":\"5\",\"filterType\":\"MIN_NOTIONAL\"},{\"multiplierDown\":\"0.8500\",\"multiplierUp\":\"1.1500\",\"multiplierDecimal\":\"4\",\"filterType\":\"PERCENT_PRICE\"}],\"orderTypes\":[\"LIMIT\",\"MARKET\",\"STOP\",\"STOP_MARKET\",\"TAKE_PROFIT\",\"TAKE_PROFIT_MARKET\",\"TRAILING_STOP_MARKET\"],\"timeInForce\":[\"GTC\",\"IOC\",\"FOK\",\"GTX\"]}]}\"\"\"\n",
    "# info = json.loads(perpetual_info)"
   ]
  },
  {
   "cell_type": "code",
   "execution_count": 3,
   "id": "025336a8",
   "metadata": {},
   "outputs": [],
   "source": [
    "perpetual_ticker_df = pd.DataFrame(perpetual_ticker)\n",
    "perpetual_ticker_df[\"quoteVolume\"] = perpetual_ticker_df[\"quoteVolume\"].astype(float)\n",
    "perpetual_ticker_df = perpetual_ticker_df.sort_values(by=\"quoteVolume\")\n",
    "perpetual_ticker_df.set_index(\"symbol\", inplace=True)"
   ]
  },
  {
   "cell_type": "code",
   "execution_count": 4,
   "id": "a49956eb",
   "metadata": {},
   "outputs": [],
   "source": [
    "from datetime import datetime\n",
    "volumeThreshold = 50_000_000\n",
    "liveDaysThreshold = 90\n",
    "today = datetime.utcnow()"
   ]
  },
  {
   "cell_type": "code",
   "execution_count": 5,
   "id": "2c068045",
   "metadata": {},
   "outputs": [],
   "source": [
    "def get_tag(tags):\n",
    "    if len(tags) > 1:\n",
    "        raise ValueError()\n",
    "    elif len(tags) == 1:\n",
    "        return tags[0]\n",
    "    else:\n",
    "        return \"None\"\n",
    "perpetual_symbol_info = pd.DataFrame(perpetual_info[\"symbols\"])\n",
    "perpetual_symbol_info.set_index(\"symbol\", verify_integrity=True, inplace=True)\n",
    "perpetual_symbol_info[\"onboardDate\"] = pd.to_datetime(perpetual_symbol_info[\"onboardDate\"], unit=\"ms\")\n",
    "perpetual_symbol_info[\"deliveryDate\"] = pd.to_datetime(perpetual_symbol_info[\"deliveryDate\"], unit=\"ms\")\n",
    "perpetual_symbol_info[\"liveDays\"] = (today - perpetual_symbol_info[\"onboardDate\"]).dt.days\n",
    "perpetual_symbol_info[\"quoteVolume\"] = perpetual_ticker_df[\"quoteVolume\"]\n",
    "perpetual_symbol_info[\"tag\"] = perpetual_symbol_info[\"underlyingSubType\"].apply(get_tag)"
   ]
  },
  {
   "cell_type": "code",
   "execution_count": 6,
   "id": "792ed854",
   "metadata": {},
   "outputs": [],
   "source": [
    "perpetual_symbol_info_selected = perpetual_symbol_info.query(\"status=='TRADING' and contractType=='PERPETUAL'\")\n",
    "perpetual_symbol_info_selected = perpetual_symbol_info_selected.query(\"quoteVolume>=@volumeThreshold\")\n",
    "perpetual_symbol_info_selected = perpetual_symbol_info_selected.query(\"liveDays>=@liveDaysThreshold\")\n",
    "perpetual_symbol_info_selected = perpetual_symbol_info_selected.query(\"tag!='None'\")\n",
    "risky_coins = [\"FTTUSDT\", \"LUNAUSDT\", \"FTTBUSD\", \"LUNABUSD\"]\n",
    "perpetual_symbol_info_selected = perpetual_symbol_info_selected.query(\"symbol not in @risky_coins\")"
   ]
  },
  {
   "cell_type": "code",
   "execution_count": 7,
   "id": "80c22afb",
   "metadata": {},
   "outputs": [
    {
     "data": {
      "text/plain": [
       "Layer-1           19\n",
       "BUSD               9\n",
       "Layer-2            7\n",
       "NFT                6\n",
       "DeFi               5\n",
       "Metaverse          5\n",
       "DEX                4\n",
       "PoW                3\n",
       "Oracle             3\n",
       "Infrastructure     3\n",
       "Meme               2\n",
       "Storage            2\n",
       "Payment            1\n",
       "CEX                1\n",
       "Privacy            1\n",
       "DAO                1\n",
       "Name: tag, dtype: int64"
      ]
     },
     "execution_count": 7,
     "metadata": {},
     "output_type": "execute_result"
    }
   ],
   "source": [
    "perpetual_symbol_info_selected.tag.value_counts()"
   ]
  },
  {
   "cell_type": "code",
   "execution_count": 8,
   "id": "be22429b",
   "metadata": {},
   "outputs": [],
   "source": [
    "perpetual_symbol_info_selected[\"CreatedDateByAuthor\"] = today\n",
    "perpetual_symbol_info_selected.to_csv(\"/Users/bytedance/binance_data/perpetual_symbol_info_selected.csv\", index=True)"
   ]
  },
  {
   "cell_type": "code",
   "execution_count": 9,
   "id": "14835edc",
   "metadata": {},
   "outputs": [],
   "source": [
    "# spot_symbol_info = pd.DataFrame(spot_info[\"symbols\"])\n",
    "# spot_symbol_info.set_index(\"symbol\", verify_integrity=True, inplace=True)"
   ]
  },
  {
   "cell_type": "code",
   "execution_count": 10,
   "id": "19909dad",
   "metadata": {},
   "outputs": [
    {
     "data": {
      "text/html": [
       "<div>\n",
       "<style scoped>\n",
       "    .dataframe tbody tr th:only-of-type {\n",
       "        vertical-align: middle;\n",
       "    }\n",
       "\n",
       "    .dataframe tbody tr th {\n",
       "        vertical-align: top;\n",
       "    }\n",
       "\n",
       "    .dataframe thead th {\n",
       "        text-align: right;\n",
       "    }\n",
       "</style>\n",
       "<table border=\"1\" class=\"dataframe\">\n",
       "  <thead>\n",
       "    <tr style=\"text-align: right;\">\n",
       "      <th></th>\n",
       "      <th>symbol</th>\n",
       "      <th>volume</th>\n",
       "      <th>turnover</th>\n",
       "      <th>open</th>\n",
       "      <th>high</th>\n",
       "      <th>low</th>\n",
       "      <th>close</th>\n",
       "      <th>closed_datetime</th>\n",
       "    </tr>\n",
       "  </thead>\n",
       "  <tbody>\n",
       "    <tr>\n",
       "      <th>0</th>\n",
       "      <td>ETHBTC</td>\n",
       "      <td>1.005964e+05</td>\n",
       "      <td>7643.073074</td>\n",
       "      <td>0.075020</td>\n",
       "      <td>0.077084</td>\n",
       "      <td>0.074927</td>\n",
       "      <td>0.076153</td>\n",
       "      <td>2022-11-07 15:59:59.999</td>\n",
       "    </tr>\n",
       "    <tr>\n",
       "      <th>1</th>\n",
       "      <td>ETHBTC</td>\n",
       "      <td>3.001515e+05</td>\n",
       "      <td>22254.036472</td>\n",
       "      <td>0.076158</td>\n",
       "      <td>0.077140</td>\n",
       "      <td>0.071195</td>\n",
       "      <td>0.071965</td>\n",
       "      <td>2022-11-08 15:59:59.999</td>\n",
       "    </tr>\n",
       "    <tr>\n",
       "      <th>2</th>\n",
       "      <td>ETHBTC</td>\n",
       "      <td>3.588011e+05</td>\n",
       "      <td>24905.428504</td>\n",
       "      <td>0.071965</td>\n",
       "      <td>0.072218</td>\n",
       "      <td>0.066000</td>\n",
       "      <td>0.069253</td>\n",
       "      <td>2022-11-09 15:59:59.999</td>\n",
       "    </tr>\n",
       "    <tr>\n",
       "      <th>3</th>\n",
       "      <td>ETHBTC</td>\n",
       "      <td>2.894290e+05</td>\n",
       "      <td>21021.622849</td>\n",
       "      <td>0.069269</td>\n",
       "      <td>0.075638</td>\n",
       "      <td>0.068824</td>\n",
       "      <td>0.073828</td>\n",
       "      <td>2022-11-10 15:59:59.999</td>\n",
       "    </tr>\n",
       "    <tr>\n",
       "      <th>4</th>\n",
       "      <td>ETHBTC</td>\n",
       "      <td>1.908479e+05</td>\n",
       "      <td>14128.237467</td>\n",
       "      <td>0.073828</td>\n",
       "      <td>0.076133</td>\n",
       "      <td>0.072133</td>\n",
       "      <td>0.075563</td>\n",
       "      <td>2022-11-11 15:59:59.999</td>\n",
       "    </tr>\n",
       "    <tr>\n",
       "      <th>...</th>\n",
       "      <td>...</td>\n",
       "      <td>...</td>\n",
       "      <td>...</td>\n",
       "      <td>...</td>\n",
       "      <td>...</td>\n",
       "      <td>...</td>\n",
       "      <td>...</td>\n",
       "      <td>...</td>\n",
       "    </tr>\n",
       "    <tr>\n",
       "      <th>1</th>\n",
       "      <td>HOOKBNB</td>\n",
       "      <td>2.247054e+06</td>\n",
       "      <td>19682.234724</td>\n",
       "      <td>0.008700</td>\n",
       "      <td>0.010296</td>\n",
       "      <td>0.007812</td>\n",
       "      <td>0.008443</td>\n",
       "      <td>2022-12-02 15:59:59.999</td>\n",
       "    </tr>\n",
       "    <tr>\n",
       "      <th>2</th>\n",
       "      <td>HOOKBNB</td>\n",
       "      <td>1.627284e+06</td>\n",
       "      <td>12949.144115</td>\n",
       "      <td>0.008403</td>\n",
       "      <td>0.009040</td>\n",
       "      <td>0.007316</td>\n",
       "      <td>0.007560</td>\n",
       "      <td>2022-12-03 15:59:59.999</td>\n",
       "    </tr>\n",
       "    <tr>\n",
       "      <th>3</th>\n",
       "      <td>HOOKBNB</td>\n",
       "      <td>1.624098e+06</td>\n",
       "      <td>13075.388816</td>\n",
       "      <td>0.007560</td>\n",
       "      <td>0.008768</td>\n",
       "      <td>0.007343</td>\n",
       "      <td>0.007688</td>\n",
       "      <td>2022-12-04 15:59:59.999</td>\n",
       "    </tr>\n",
       "    <tr>\n",
       "      <th>4</th>\n",
       "      <td>HOOKBNB</td>\n",
       "      <td>9.356433e+05</td>\n",
       "      <td>7220.692024</td>\n",
       "      <td>0.007719</td>\n",
       "      <td>0.008748</td>\n",
       "      <td>0.007450</td>\n",
       "      <td>0.007849</td>\n",
       "      <td>2022-12-05 15:59:59.999</td>\n",
       "    </tr>\n",
       "    <tr>\n",
       "      <th>5</th>\n",
       "      <td>HOOKBNB</td>\n",
       "      <td>4.215149e+05</td>\n",
       "      <td>3311.326407</td>\n",
       "      <td>0.007826</td>\n",
       "      <td>0.008188</td>\n",
       "      <td>0.007621</td>\n",
       "      <td>0.007689</td>\n",
       "      <td>2022-12-06 15:59:59.999</td>\n",
       "    </tr>\n",
       "  </tbody>\n",
       "</table>\n",
       "<p>63606 rows × 8 columns</p>\n",
       "</div>"
      ],
      "text/plain": [
       "     symbol        volume      turnover      open      high       low  \\\n",
       "0    ETHBTC  1.005964e+05   7643.073074  0.075020  0.077084  0.074927   \n",
       "1    ETHBTC  3.001515e+05  22254.036472  0.076158  0.077140  0.071195   \n",
       "2    ETHBTC  3.588011e+05  24905.428504  0.071965  0.072218  0.066000   \n",
       "3    ETHBTC  2.894290e+05  21021.622849  0.069269  0.075638  0.068824   \n",
       "4    ETHBTC  1.908479e+05  14128.237467  0.073828  0.076133  0.072133   \n",
       "..      ...           ...           ...       ...       ...       ...   \n",
       "1   HOOKBNB  2.247054e+06  19682.234724  0.008700  0.010296  0.007812   \n",
       "2   HOOKBNB  1.627284e+06  12949.144115  0.008403  0.009040  0.007316   \n",
       "3   HOOKBNB  1.624098e+06  13075.388816  0.007560  0.008768  0.007343   \n",
       "4   HOOKBNB  9.356433e+05   7220.692024  0.007719  0.008748  0.007450   \n",
       "5   HOOKBNB  4.215149e+05   3311.326407  0.007826  0.008188  0.007621   \n",
       "\n",
       "       close          closed_datetime  \n",
       "0   0.076153  2022-11-07 15:59:59.999  \n",
       "1   0.071965  2022-11-08 15:59:59.999  \n",
       "2   0.069253  2022-11-09 15:59:59.999  \n",
       "3   0.073828  2022-11-10 15:59:59.999  \n",
       "4   0.075563  2022-11-11 15:59:59.999  \n",
       "..       ...                      ...  \n",
       "1   0.008443  2022-12-02 15:59:59.999  \n",
       "2   0.007560  2022-12-03 15:59:59.999  \n",
       "3   0.007688  2022-12-04 15:59:59.999  \n",
       "4   0.007849  2022-12-05 15:59:59.999  \n",
       "5   0.007689  2022-12-06 15:59:59.999  \n",
       "\n",
       "[63606 rows x 8 columns]"
      ]
     },
     "execution_count": 10,
     "metadata": {},
     "output_type": "execute_result"
    }
   ],
   "source": [
    "csv_path = \"/Users/bytedance/MLTrader-deploy/research/data_binance/final_csv.csv\"\n",
    "df = pd.read_csv(csv_path, index_col=0)\n",
    "df"
   ]
  },
  {
   "cell_type": "code",
   "execution_count": 11,
   "id": "e6735185",
   "metadata": {},
   "outputs": [],
   "source": [
    "min_turnover = 3_000_000\n",
    "min_turnover2 = 3_000_000"
   ]
  },
  {
   "cell_type": "code",
   "execution_count": 12,
   "id": "73a9b52e",
   "metadata": {},
   "outputs": [],
   "source": [
    "sum_counts = df.groupby(by=df[\"symbol\"])[\"turnover\"].count()"
   ]
  },
  {
   "cell_type": "code",
   "execution_count": 13,
   "id": "8babd474",
   "metadata": {},
   "outputs": [
    {
     "data": {
      "text/plain": [
       "30    2110\n",
       "21       8\n",
       "6        4\n",
       "19       3\n",
       "22       1\n",
       "8        1\n",
       "27       1\n",
       "Name: turnover, dtype: int64"
      ]
     },
     "execution_count": 13,
     "metadata": {},
     "output_type": "execute_result"
    }
   ],
   "source": [
    "sum_counts.value_counts()"
   ]
  },
  {
   "cell_type": "code",
   "execution_count": 14,
   "id": "f69b06b9",
   "metadata": {},
   "outputs": [],
   "source": [
    "stable_coins = [\"USDT\", \"BUSD\", \"TUSD\", \"USDC\", \"USDP\"]\n",
    "delete = [\"UST\", \"FTT\", \"ETHBEAR\", \"NPXS\", \"ETHBULL\", \"EUR\", \n",
    "          \"BCHABC\", \"BCC\", \"BEAR\", \"GXS\", 'BULL', \"EPS\", \n",
    "          \"BZRX\", \"EOSBULL\", \"LEND\", \"HNT\", \n",
    "          \"SRM\", \"KEEP\", \"HOOK\"]\n",
    "usdt_symbols = [symbol for symbol in np.unique(df[\"symbol\"]) if symbol.endswith(\"USDT\") and symbol[:4] not in stable_coins and symbol[:-4] not in delete]\n",
    "busd_symbols = [symbol for symbol in np.unique(df[\"symbol\"]) if symbol.endswith(\"BUSD\") and symbol[:4] not in stable_coins and symbol[:-4] not in delete]\n",
    "avg_turnover = df.groupby(by=df[\"symbol\"])[\"turnover\"].agg([\"mean\", \"count\", \"median\"])"
   ]
  },
  {
   "cell_type": "code",
   "execution_count": 15,
   "id": "3c82ae02",
   "metadata": {},
   "outputs": [
    {
     "data": {
      "text/html": [
       "<div>\n",
       "<style scoped>\n",
       "    .dataframe tbody tr th:only-of-type {\n",
       "        vertical-align: middle;\n",
       "    }\n",
       "\n",
       "    .dataframe tbody tr th {\n",
       "        vertical-align: top;\n",
       "    }\n",
       "\n",
       "    .dataframe thead th {\n",
       "        text-align: right;\n",
       "    }\n",
       "</style>\n",
       "<table border=\"1\" class=\"dataframe\">\n",
       "  <thead>\n",
       "    <tr style=\"text-align: right;\">\n",
       "      <th></th>\n",
       "      <th>mean</th>\n",
       "      <th>count</th>\n",
       "      <th>median</th>\n",
       "    </tr>\n",
       "    <tr>\n",
       "      <th>symbol</th>\n",
       "      <th></th>\n",
       "      <th></th>\n",
       "      <th></th>\n",
       "    </tr>\n",
       "  </thead>\n",
       "  <tbody>\n",
       "    <tr>\n",
       "      <th>BTCUSDT</th>\n",
       "      <td>4.764826e+09</td>\n",
       "      <td>30</td>\n",
       "      <td>3.898110e+09</td>\n",
       "    </tr>\n",
       "    <tr>\n",
       "      <th>ETHUSDT</th>\n",
       "      <td>8.929443e+08</td>\n",
       "      <td>30</td>\n",
       "      <td>6.316753e+08</td>\n",
       "    </tr>\n",
       "    <tr>\n",
       "      <th>DOGEUSDT</th>\n",
       "      <td>2.132911e+08</td>\n",
       "      <td>30</td>\n",
       "      <td>1.837455e+08</td>\n",
       "    </tr>\n",
       "    <tr>\n",
       "      <th>XRPUSDT</th>\n",
       "      <td>1.527341e+08</td>\n",
       "      <td>30</td>\n",
       "      <td>1.350818e+08</td>\n",
       "    </tr>\n",
       "    <tr>\n",
       "      <th>BNBUSDT</th>\n",
       "      <td>1.915259e+08</td>\n",
       "      <td>30</td>\n",
       "      <td>1.327555e+08</td>\n",
       "    </tr>\n",
       "    <tr>\n",
       "      <th>...</th>\n",
       "      <td>...</td>\n",
       "      <td>...</td>\n",
       "      <td>...</td>\n",
       "    </tr>\n",
       "    <tr>\n",
       "      <th>CAKEUSDT</th>\n",
       "      <td>5.905444e+06</td>\n",
       "      <td>30</td>\n",
       "      <td>3.354292e+06</td>\n",
       "    </tr>\n",
       "    <tr>\n",
       "      <th>CELOUSDT</th>\n",
       "      <td>5.338510e+06</td>\n",
       "      <td>30</td>\n",
       "      <td>3.268743e+06</td>\n",
       "    </tr>\n",
       "    <tr>\n",
       "      <th>LDOUSDT</th>\n",
       "      <td>5.617680e+06</td>\n",
       "      <td>30</td>\n",
       "      <td>3.095883e+06</td>\n",
       "    </tr>\n",
       "    <tr>\n",
       "      <th>ALICEUSDT</th>\n",
       "      <td>4.025401e+06</td>\n",
       "      <td>30</td>\n",
       "      <td>3.076303e+06</td>\n",
       "    </tr>\n",
       "    <tr>\n",
       "      <th>SXPUSDT</th>\n",
       "      <td>4.702693e+06</td>\n",
       "      <td>30</td>\n",
       "      <td>3.071162e+06</td>\n",
       "    </tr>\n",
       "  </tbody>\n",
       "</table>\n",
       "<p>99 rows × 3 columns</p>\n",
       "</div>"
      ],
      "text/plain": [
       "                   mean  count        median\n",
       "symbol                                      \n",
       "BTCUSDT    4.764826e+09     30  3.898110e+09\n",
       "ETHUSDT    8.929443e+08     30  6.316753e+08\n",
       "DOGEUSDT   2.132911e+08     30  1.837455e+08\n",
       "XRPUSDT    1.527341e+08     30  1.350818e+08\n",
       "BNBUSDT    1.915259e+08     30  1.327555e+08\n",
       "...                 ...    ...           ...\n",
       "CAKEUSDT   5.905444e+06     30  3.354292e+06\n",
       "CELOUSDT   5.338510e+06     30  3.268743e+06\n",
       "LDOUSDT    5.617680e+06     30  3.095883e+06\n",
       "ALICEUSDT  4.025401e+06     30  3.076303e+06\n",
       "SXPUSDT    4.702693e+06     30  3.071162e+06\n",
       "\n",
       "[99 rows x 3 columns]"
      ]
     },
     "execution_count": 15,
     "metadata": {},
     "output_type": "execute_result"
    }
   ],
   "source": [
    "sub_df = avg_turnover.loc[usdt_symbols].loc[(avg_turnover[\"mean\"] >= min_turnover2) & (avg_turnover[\"median\"] >= min_turnover) & (avg_turnover[\"count\"] == 30)]\n",
    "sub_df.sort_values(by=\"median\", ascending=False)"
   ]
  },
  {
   "cell_type": "code",
   "execution_count": 16,
   "id": "1d536af9",
   "metadata": {},
   "outputs": [],
   "source": [
    "import requests\n",
    "def symbol_get_most_recent_depth_data(symbol, depth):\n",
    "    response = requests.get(\n",
    "        f\"https://api.binance.com/api/v3/depth?symbol={symbol}&limit={depth}\"\n",
    "    ).json()\n",
    "    if len(response[\"bids\"]) == 0:\n",
    "        raise ValueError(f\"{symbol} got zero depth: {response}\")\n",
    "    d = {\"symbol\": symbol}\n",
    "    d[\"bids_price\"], d[\"bids_qty\"] = zip(*response[\"bids\"])\n",
    "    d[\"asks_price\"], d[\"asks_qty\"] = zip(*response[\"asks\"])\n",
    "    d[\"bids_price\"] = list(map(float, d[\"bids_price\"]))\n",
    "    d[\"bids_qty\"] = list(map(float, d[\"bids_qty\"]))\n",
    "    d[\"asks_price\"] = list(map(float, d[\"asks_price\"]))\n",
    "    d[\"asks_qty\"] = list(map(float, d[\"asks_qty\"]))\n",
    "    return d"
   ]
  },
  {
   "cell_type": "code",
   "execution_count": 17,
   "id": "40faddd4",
   "metadata": {},
   "outputs": [
    {
     "name": "stdout",
     "output_type": "stream",
     "text": [
      "ANYUSDT failed\n",
      "BTTUSDT failed\n",
      "EOSBEARUSDT failed\n",
      "ERDUSDT failed\n",
      "NUUSDT failed\n",
      "PAXUSDT failed\n",
      "POLYUSDT failed\n",
      "VENUSDT failed\n",
      "XRPBULLUSDT failed\n",
      "XTZUPUSDT failed\n"
     ]
    }
   ],
   "source": [
    "valid_symbols = []\n",
    "for symbol in sub_df.index:\n",
    "    try:\n",
    "        depth = symbol_get_most_recent_depth_data(symbol, 2)\n",
    "        valid_symbols.append(symbol)\n",
    "    except Exception as e:\n",
    "        print(symbol, \"failed\")\n"
   ]
  },
  {
   "cell_type": "code",
   "execution_count": 20,
   "id": "eaf97aad",
   "metadata": {},
   "outputs": [
    {
     "data": {
      "text/plain": [
       "89"
      ]
     },
     "execution_count": 20,
     "metadata": {},
     "output_type": "execute_result"
    }
   ],
   "source": [
    "len(valid_symbols)"
   ]
  },
  {
   "cell_type": "code",
   "execution_count": 22,
   "id": "3bd548a9",
   "metadata": {},
   "outputs": [],
   "source": [
    "valid_symbols = list(perpetual_symbol_info_selected.index)"
   ]
  },
  {
   "cell_type": "code",
   "execution_count": 23,
   "id": "11d34bcf",
   "metadata": {},
   "outputs": [
    {
     "data": {
      "text/plain": [
       "['BTCUSDT',\n",
       " 'ETHUSDT',\n",
       " 'BCHUSDT',\n",
       " 'XRPUSDT',\n",
       " 'EOSUSDT',\n",
       " 'LTCUSDT',\n",
       " 'TRXUSDT',\n",
       " 'ETCUSDT',\n",
       " 'LINKUSDT',\n",
       " 'XLMUSDT',\n",
       " 'ADAUSDT',\n",
       " 'BNBUSDT',\n",
       " 'ATOMUSDT',\n",
       " 'THETAUSDT',\n",
       " 'ALGOUSDT',\n",
       " 'ZILUSDT',\n",
       " 'DOGEUSDT',\n",
       " 'KAVAUSDT',\n",
       " 'RLCUSDT',\n",
       " 'WAVESUSDT',\n",
       " 'DOTUSDT',\n",
       " 'YFIUSDT',\n",
       " 'CRVUSDT',\n",
       " 'SUSHIUSDT',\n",
       " 'SOLUSDT',\n",
       " 'ICXUSDT',\n",
       " 'UNIUSDT',\n",
       " 'AVAXUSDT',\n",
       " 'FTMUSDT',\n",
       " 'ENJUSDT',\n",
       " 'NEARUSDT',\n",
       " 'AAVEUSDT',\n",
       " 'FILUSDT',\n",
       " 'MATICUSDT',\n",
       " 'OCEANUSDT',\n",
       " 'AXSUSDT',\n",
       " 'ALPHAUSDT',\n",
       " 'GRTUSDT',\n",
       " '1INCHUSDT',\n",
       " 'BTCBUSD',\n",
       " 'CHZUSDT',\n",
       " 'SANDUSDT',\n",
       " 'ANKRUSDT',\n",
       " 'UNFIUSDT',\n",
       " 'MANAUSDT',\n",
       " 'ONEUSDT',\n",
       " 'CELRUSDT',\n",
       " '1000SHIBUSDT',\n",
       " 'ETHBUSD',\n",
       " 'BNBBUSD',\n",
       " 'XRPBUSD',\n",
       " 'DOGEBUSD',\n",
       " 'AUDIOUSDT',\n",
       " 'MASKUSDT',\n",
       " 'SOLBUSD',\n",
       " 'DYDXUSDT',\n",
       " 'GALAUSDT',\n",
       " 'CELOUSDT',\n",
       " 'PEOPLEUSDT',\n",
       " 'FLOWUSDT',\n",
       " 'GMTUSDT',\n",
       " 'APEUSDT',\n",
       " 'JASMYUSDT',\n",
       " 'GALUSDT',\n",
       " 'GMTBUSD',\n",
       " 'GALABUSD',\n",
       " 'OPUSDT',\n",
       " 'LDOBUSD',\n",
       " 'LUNA2USDT',\n",
       " 'LDOUSDT',\n",
       " 'APTUSDT',\n",
       " 'APTBUSD']"
      ]
     },
     "execution_count": 23,
     "metadata": {},
     "output_type": "execute_result"
    }
   ],
   "source": [
    "valid_symbols"
   ]
  },
  {
   "cell_type": "code",
   "execution_count": 42,
   "id": "77f0fa5d",
   "metadata": {},
   "outputs": [],
   "source": [
    "# sub_df = avg_turnover.loc[busd_symbols].loc[(avg_turnover[\"mean\"] >= min_turnover) & (avg_turnover[\"count\"] == 30)]\n",
    "# sub_df.sort_values(by=\"mean\", ascending=False)"
   ]
  },
  {
   "cell_type": "code",
   "execution_count": 24,
   "id": "a03e651a",
   "metadata": {},
   "outputs": [
    {
     "name": "stderr",
     "output_type": "stream",
     "text": [
      "/opt/miniconda3/envs/vnpy3.9/lib/python3.9/site-packages/backtesting/_plotting.py:50: UserWarning: Jupyter Notebook detected. Setting Bokeh output to notebook. This may not work in Jupyter clients without JavaScript support (e.g. PyCharm, Spyder IDE). Reset with `backtesting.set_bokeh_output(notebook=False)`.\n",
      "  warnings.warn('Jupyter Notebook detected. '\n"
     ]
    },
    {
     "data": {
      "text/html": [
       "\n",
       "    <div class=\"bk-root\">\n",
       "        <a href=\"https://bokeh.org\" target=\"_blank\" class=\"bk-logo bk-logo-small bk-logo-notebook\"></a>\n",
       "        <span id=\"1002\">Loading BokehJS ...</span>\n",
       "    </div>"
      ]
     },
     "metadata": {},
     "output_type": "display_data"
    },
    {
     "data": {
      "application/javascript": "\n(function(root) {\n  function now() {\n    return new Date();\n  }\n\n  const force = true;\n\n  if (typeof root._bokeh_onload_callbacks === \"undefined\" || force === true) {\n    root._bokeh_onload_callbacks = [];\n    root._bokeh_is_loading = undefined;\n  }\n\n  const JS_MIME_TYPE = 'application/javascript';\n  const HTML_MIME_TYPE = 'text/html';\n  const EXEC_MIME_TYPE = 'application/vnd.bokehjs_exec.v0+json';\n  const CLASS_NAME = 'output_bokeh rendered_html';\n\n  /**\n   * Render data to the DOM node\n   */\n  function render(props, node) {\n    const script = document.createElement(\"script\");\n    node.appendChild(script);\n  }\n\n  /**\n   * Handle when an output is cleared or removed\n   */\n  function handleClearOutput(event, handle) {\n    const cell = handle.cell;\n\n    const id = cell.output_area._bokeh_element_id;\n    const server_id = cell.output_area._bokeh_server_id;\n    // Clean up Bokeh references\n    if (id != null && id in Bokeh.index) {\n      Bokeh.index[id].model.document.clear();\n      delete Bokeh.index[id];\n    }\n\n    if (server_id !== undefined) {\n      // Clean up Bokeh references\n      const cmd_clean = \"from bokeh.io.state import curstate; print(curstate().uuid_to_server['\" + server_id + \"'].get_sessions()[0].document.roots[0]._id)\";\n      cell.notebook.kernel.execute(cmd_clean, {\n        iopub: {\n          output: function(msg) {\n            const id = msg.content.text.trim();\n            if (id in Bokeh.index) {\n              Bokeh.index[id].model.document.clear();\n              delete Bokeh.index[id];\n            }\n          }\n        }\n      });\n      // Destroy server and session\n      const cmd_destroy = \"import bokeh.io.notebook as ion; ion.destroy_server('\" + server_id + \"')\";\n      cell.notebook.kernel.execute(cmd_destroy);\n    }\n  }\n\n  /**\n   * Handle when a new output is added\n   */\n  function handleAddOutput(event, handle) {\n    const output_area = handle.output_area;\n    const output = handle.output;\n\n    // limit handleAddOutput to display_data with EXEC_MIME_TYPE content only\n    if ((output.output_type != \"display_data\") || (!Object.prototype.hasOwnProperty.call(output.data, EXEC_MIME_TYPE))) {\n      return\n    }\n\n    const toinsert = output_area.element.find(\".\" + CLASS_NAME.split(' ')[0]);\n\n    if (output.metadata[EXEC_MIME_TYPE][\"id\"] !== undefined) {\n      toinsert[toinsert.length - 1].firstChild.textContent = output.data[JS_MIME_TYPE];\n      // store reference to embed id on output_area\n      output_area._bokeh_element_id = output.metadata[EXEC_MIME_TYPE][\"id\"];\n    }\n    if (output.metadata[EXEC_MIME_TYPE][\"server_id\"] !== undefined) {\n      const bk_div = document.createElement(\"div\");\n      bk_div.innerHTML = output.data[HTML_MIME_TYPE];\n      const script_attrs = bk_div.children[0].attributes;\n      for (let i = 0; i < script_attrs.length; i++) {\n        toinsert[toinsert.length - 1].firstChild.setAttribute(script_attrs[i].name, script_attrs[i].value);\n        toinsert[toinsert.length - 1].firstChild.textContent = bk_div.children[0].textContent\n      }\n      // store reference to server id on output_area\n      output_area._bokeh_server_id = output.metadata[EXEC_MIME_TYPE][\"server_id\"];\n    }\n  }\n\n  function register_renderer(events, OutputArea) {\n\n    function append_mime(data, metadata, element) {\n      // create a DOM node to render to\n      const toinsert = this.create_output_subarea(\n        metadata,\n        CLASS_NAME,\n        EXEC_MIME_TYPE\n      );\n      this.keyboard_manager.register_events(toinsert);\n      // Render to node\n      const props = {data: data, metadata: metadata[EXEC_MIME_TYPE]};\n      render(props, toinsert[toinsert.length - 1]);\n      element.append(toinsert);\n      return toinsert\n    }\n\n    /* Handle when an output is cleared or removed */\n    events.on('clear_output.CodeCell', handleClearOutput);\n    events.on('delete.Cell', handleClearOutput);\n\n    /* Handle when a new output is added */\n    events.on('output_added.OutputArea', handleAddOutput);\n\n    /**\n     * Register the mime type and append_mime function with output_area\n     */\n    OutputArea.prototype.register_mime_type(EXEC_MIME_TYPE, append_mime, {\n      /* Is output safe? */\n      safe: true,\n      /* Index of renderer in `output_area.display_order` */\n      index: 0\n    });\n  }\n\n  // register the mime type if in Jupyter Notebook environment and previously unregistered\n  if (root.Jupyter !== undefined) {\n    const events = require('base/js/events');\n    const OutputArea = require('notebook/js/outputarea').OutputArea;\n\n    if (OutputArea.prototype.mime_types().indexOf(EXEC_MIME_TYPE) == -1) {\n      register_renderer(events, OutputArea);\n    }\n  }\n\n  \n  if (typeof (root._bokeh_timeout) === \"undefined\" || force === true) {\n    root._bokeh_timeout = Date.now() + 5000;\n    root._bokeh_failed_load = false;\n  }\n\n  const NB_LOAD_WARNING = {'data': {'text/html':\n     \"<div style='background-color: #fdd'>\\n\"+\n     \"<p>\\n\"+\n     \"BokehJS does not appear to have successfully loaded. If loading BokehJS from CDN, this \\n\"+\n     \"may be due to a slow or bad network connection. Possible fixes:\\n\"+\n     \"</p>\\n\"+\n     \"<ul>\\n\"+\n     \"<li>re-rerun `output_notebook()` to attempt to load from CDN again, or</li>\\n\"+\n     \"<li>use INLINE resources instead, as so:</li>\\n\"+\n     \"</ul>\\n\"+\n     \"<code>\\n\"+\n     \"from bokeh.resources import INLINE\\n\"+\n     \"output_notebook(resources=INLINE)\\n\"+\n     \"</code>\\n\"+\n     \"</div>\"}};\n\n  function display_loaded() {\n    const el = document.getElementById(\"1002\");\n    if (el != null) {\n      el.textContent = \"BokehJS is loading...\";\n    }\n    if (root.Bokeh !== undefined) {\n      if (el != null) {\n        el.textContent = \"BokehJS \" + root.Bokeh.version + \" successfully loaded.\";\n      }\n    } else if (Date.now() < root._bokeh_timeout) {\n      setTimeout(display_loaded, 100)\n    }\n  }\n\n\n  function run_callbacks() {\n    try {\n      root._bokeh_onload_callbacks.forEach(function(callback) {\n        if (callback != null)\n          callback();\n      });\n    } finally {\n      delete root._bokeh_onload_callbacks\n    }\n    console.debug(\"Bokeh: all callbacks have finished\");\n  }\n\n  function load_libs(css_urls, js_urls, callback) {\n    if (css_urls == null) css_urls = [];\n    if (js_urls == null) js_urls = [];\n\n    root._bokeh_onload_callbacks.push(callback);\n    if (root._bokeh_is_loading > 0) {\n      console.debug(\"Bokeh: BokehJS is being loaded, scheduling callback at\", now());\n      return null;\n    }\n    if (js_urls == null || js_urls.length === 0) {\n      run_callbacks();\n      return null;\n    }\n    console.debug(\"Bokeh: BokehJS not loaded, scheduling load and callback at\", now());\n    root._bokeh_is_loading = css_urls.length + js_urls.length;\n\n    function on_load() {\n      root._bokeh_is_loading--;\n      if (root._bokeh_is_loading === 0) {\n        console.debug(\"Bokeh: all BokehJS libraries/stylesheets loaded\");\n        run_callbacks()\n      }\n    }\n\n    function on_error(url) {\n      console.error(\"failed to load \" + url);\n    }\n\n    for (let i = 0; i < css_urls.length; i++) {\n      const url = css_urls[i];\n      const element = document.createElement(\"link\");\n      element.onload = on_load;\n      element.onerror = on_error.bind(null, url);\n      element.rel = \"stylesheet\";\n      element.type = \"text/css\";\n      element.href = url;\n      console.debug(\"Bokeh: injecting link tag for BokehJS stylesheet: \", url);\n      document.body.appendChild(element);\n    }\n\n    for (let i = 0; i < js_urls.length; i++) {\n      const url = js_urls[i];\n      const element = document.createElement('script');\n      element.onload = on_load;\n      element.onerror = on_error.bind(null, url);\n      element.async = false;\n      element.src = url;\n      console.debug(\"Bokeh: injecting script tag for BokehJS library: \", url);\n      document.head.appendChild(element);\n    }\n  };\n\n  function inject_raw_css(css) {\n    const element = document.createElement(\"style\");\n    element.appendChild(document.createTextNode(css));\n    document.body.appendChild(element);\n  }\n\n  \n  const js_urls = [\"https://cdn.bokeh.org/bokeh/release/bokeh-2.4.2.min.js\", \"https://cdn.bokeh.org/bokeh/release/bokeh-gl-2.4.2.min.js\", \"https://cdn.bokeh.org/bokeh/release/bokeh-widgets-2.4.2.min.js\", \"https://cdn.bokeh.org/bokeh/release/bokeh-tables-2.4.2.min.js\", \"https://cdn.bokeh.org/bokeh/release/bokeh-mathjax-2.4.2.min.js\"];\n  const css_urls = [];\n  \n\n  const inline_js = [\n    function(Bokeh) {\n      Bokeh.set_log_level(\"info\");\n    },\n    function(Bokeh) {\n    \n    \n    }\n  ];\n\n  function run_inline_js() {\n    \n    if (root.Bokeh !== undefined || force === true) {\n      \n    for (let i = 0; i < inline_js.length; i++) {\n      inline_js[i].call(root, root.Bokeh);\n    }\n    if (force === true) {\n        display_loaded();\n      }} else if (Date.now() < root._bokeh_timeout) {\n      setTimeout(run_inline_js, 100);\n    } else if (!root._bokeh_failed_load) {\n      console.log(\"Bokeh: BokehJS failed to load within specified timeout.\");\n      root._bokeh_failed_load = true;\n    } else if (force !== true) {\n      const cell = $(document.getElementById(\"1002\")).parents('.cell').data().cell;\n      cell.output_area.append_execute_result(NB_LOAD_WARNING)\n    }\n\n  }\n\n  if (root._bokeh_is_loading === 0) {\n    console.debug(\"Bokeh: BokehJS loaded, going straight to plotting\");\n    run_inline_js();\n  } else {\n    load_libs(css_urls, js_urls, function() {\n      console.debug(\"Bokeh: BokehJS plotting callback run at\", now());\n      run_inline_js();\n    });\n  }\n}(window));",
      "application/vnd.bokehjs_load.v0+json": ""
     },
     "metadata": {},
     "output_type": "display_data"
    }
   ],
   "source": [
    "import pandas as pd\n",
    "import os\n",
    "os.chdir(\"/Users/bytedance/MLTrader-deploy/\")\n",
    "from utility import read_symbol"
   ]
  },
  {
   "cell_type": "code",
   "execution_count": 28,
   "id": "64e2fd12",
   "metadata": {},
   "outputs": [
    {
     "name": "stderr",
     "output_type": "stream",
     "text": [
      "/Users/bytedance/MLTrader-deploy/research/utility.py:432: FutureWarning: pandas.Int64Index is deprecated and will be removed from pandas in a future version. Use pandas.Index with the appropriate dtype instead.\n",
      "  df: pd.DataFrame = df.reindex(pd.Int64Index(np.arange(start, end + 60, 60)))\n"
     ]
    },
    {
     "name": "stdout",
     "output_type": "stream",
     "text": [
      "load BTCUSDT data succeed. 2017-08-17 05:00:00 to 2023-01-23 00:00:00; bar window=60\n"
     ]
    },
    {
     "name": "stderr",
     "output_type": "stream",
     "text": [
      "/Users/bytedance/MLTrader-deploy/research/utility.py:432: FutureWarning: pandas.Int64Index is deprecated and will be removed from pandas in a future version. Use pandas.Index with the appropriate dtype instead.\n",
      "  df: pd.DataFrame = df.reindex(pd.Int64Index(np.arange(start, end + 60, 60)))\n"
     ]
    },
    {
     "name": "stdout",
     "output_type": "stream",
     "text": [
      "load ETHUSDT data succeed. 2017-08-17 05:00:00 to 2023-01-23 00:00:00; bar window=60\n"
     ]
    },
    {
     "name": "stderr",
     "output_type": "stream",
     "text": [
      "/Users/bytedance/MLTrader-deploy/research/utility.py:432: FutureWarning: pandas.Int64Index is deprecated and will be removed from pandas in a future version. Use pandas.Index with the appropriate dtype instead.\n",
      "  df: pd.DataFrame = df.reindex(pd.Int64Index(np.arange(start, end + 60, 60)))\n"
     ]
    },
    {
     "name": "stdout",
     "output_type": "stream",
     "text": [
      "load BCHUSDT data succeed. 2019-11-28 11:00:00 to 2022-12-07 00:00:00; bar window=60\n"
     ]
    },
    {
     "name": "stderr",
     "output_type": "stream",
     "text": [
      "/Users/bytedance/MLTrader-deploy/research/utility.py:432: FutureWarning: pandas.Int64Index is deprecated and will be removed from pandas in a future version. Use pandas.Index with the appropriate dtype instead.\n",
      "  df: pd.DataFrame = df.reindex(pd.Int64Index(np.arange(start, end + 60, 60)))\n"
     ]
    },
    {
     "name": "stdout",
     "output_type": "stream",
     "text": [
      "load XRPUSDT data succeed. 2018-05-04 09:00:00 to 2023-01-23 00:00:00; bar window=60\n"
     ]
    },
    {
     "name": "stderr",
     "output_type": "stream",
     "text": [
      "/Users/bytedance/MLTrader-deploy/research/utility.py:432: FutureWarning: pandas.Int64Index is deprecated and will be removed from pandas in a future version. Use pandas.Index with the appropriate dtype instead.\n",
      "  df: pd.DataFrame = df.reindex(pd.Int64Index(np.arange(start, end + 60, 60)))\n"
     ]
    },
    {
     "name": "stdout",
     "output_type": "stream",
     "text": [
      "load EOSUSDT data succeed. 2018-05-28 06:00:00 to 2023-01-23 00:00:00; bar window=60\n"
     ]
    },
    {
     "name": "stderr",
     "output_type": "stream",
     "text": [
      "/Users/bytedance/MLTrader-deploy/research/utility.py:432: FutureWarning: pandas.Int64Index is deprecated and will be removed from pandas in a future version. Use pandas.Index with the appropriate dtype instead.\n",
      "  df: pd.DataFrame = df.reindex(pd.Int64Index(np.arange(start, end + 60, 60)))\n"
     ]
    },
    {
     "name": "stdout",
     "output_type": "stream",
     "text": [
      "load LTCUSDT data succeed. 2017-12-13 04:00:00 to 2023-01-23 00:00:00; bar window=60\n"
     ]
    },
    {
     "name": "stderr",
     "output_type": "stream",
     "text": [
      "/Users/bytedance/MLTrader-deploy/research/utility.py:432: FutureWarning: pandas.Int64Index is deprecated and will be removed from pandas in a future version. Use pandas.Index with the appropriate dtype instead.\n",
      "  df: pd.DataFrame = df.reindex(pd.Int64Index(np.arange(start, end + 60, 60)))\n"
     ]
    },
    {
     "name": "stdout",
     "output_type": "stream",
     "text": [
      "load TRXUSDT data succeed. 2018-06-11 12:00:00 to 2023-01-23 00:00:00; bar window=60\n"
     ]
    },
    {
     "name": "stderr",
     "output_type": "stream",
     "text": [
      "/Users/bytedance/MLTrader-deploy/research/utility.py:432: FutureWarning: pandas.Int64Index is deprecated and will be removed from pandas in a future version. Use pandas.Index with the appropriate dtype instead.\n",
      "  df: pd.DataFrame = df.reindex(pd.Int64Index(np.arange(start, end + 60, 60)))\n"
     ]
    },
    {
     "name": "stdout",
     "output_type": "stream",
     "text": [
      "load ETCUSDT data succeed. 2018-06-12 03:00:00 to 2023-01-23 00:00:00; bar window=60\n"
     ]
    },
    {
     "name": "stderr",
     "output_type": "stream",
     "text": [
      "/Users/bytedance/MLTrader-deploy/research/utility.py:432: FutureWarning: pandas.Int64Index is deprecated and will be removed from pandas in a future version. Use pandas.Index with the appropriate dtype instead.\n",
      "  df: pd.DataFrame = df.reindex(pd.Int64Index(np.arange(start, end + 60, 60)))\n"
     ]
    },
    {
     "name": "stdout",
     "output_type": "stream",
     "text": [
      "load LINKUSDT data succeed. 2019-01-16 11:00:00 to 2022-12-07 00:00:00; bar window=60\n"
     ]
    },
    {
     "name": "stderr",
     "output_type": "stream",
     "text": [
      "/Users/bytedance/MLTrader-deploy/research/utility.py:432: FutureWarning: pandas.Int64Index is deprecated and will be removed from pandas in a future version. Use pandas.Index with the appropriate dtype instead.\n",
      "  df: pd.DataFrame = df.reindex(pd.Int64Index(np.arange(start, end + 60, 60)))\n"
     ]
    },
    {
     "name": "stdout",
     "output_type": "stream",
     "text": [
      "load XLMUSDT data succeed. 2018-05-31 10:00:00 to 2022-12-07 00:00:00; bar window=60\n"
     ]
    },
    {
     "name": "stderr",
     "output_type": "stream",
     "text": [
      "/Users/bytedance/MLTrader-deploy/research/utility.py:432: FutureWarning: pandas.Int64Index is deprecated and will be removed from pandas in a future version. Use pandas.Index with the appropriate dtype instead.\n",
      "  df: pd.DataFrame = df.reindex(pd.Int64Index(np.arange(start, end + 60, 60)))\n"
     ]
    },
    {
     "name": "stdout",
     "output_type": "stream",
     "text": [
      "load ADAUSDT data succeed. 2018-04-17 05:00:00 to 2022-12-07 00:00:00; bar window=60\n"
     ]
    },
    {
     "name": "stderr",
     "output_type": "stream",
     "text": [
      "/Users/bytedance/MLTrader-deploy/research/utility.py:432: FutureWarning: pandas.Int64Index is deprecated and will be removed from pandas in a future version. Use pandas.Index with the appropriate dtype instead.\n",
      "  df: pd.DataFrame = df.reindex(pd.Int64Index(np.arange(start, end + 60, 60)))\n"
     ]
    },
    {
     "name": "stdout",
     "output_type": "stream",
     "text": [
      "load BNBUSDT data succeed. 2017-11-06 04:00:00 to 2023-01-23 00:00:00; bar window=60\n"
     ]
    },
    {
     "name": "stderr",
     "output_type": "stream",
     "text": [
      "/Users/bytedance/MLTrader-deploy/research/utility.py:432: FutureWarning: pandas.Int64Index is deprecated and will be removed from pandas in a future version. Use pandas.Index with the appropriate dtype instead.\n",
      "  df: pd.DataFrame = df.reindex(pd.Int64Index(np.arange(start, end + 60, 60)))\n"
     ]
    },
    {
     "name": "stdout",
     "output_type": "stream",
     "text": [
      "load ATOMUSDT data succeed. 2019-04-29 05:00:00 to 2022-12-07 00:00:00; bar window=60\n"
     ]
    },
    {
     "name": "stderr",
     "output_type": "stream",
     "text": [
      "/Users/bytedance/MLTrader-deploy/research/utility.py:432: FutureWarning: pandas.Int64Index is deprecated and will be removed from pandas in a future version. Use pandas.Index with the appropriate dtype instead.\n",
      "  df: pd.DataFrame = df.reindex(pd.Int64Index(np.arange(start, end + 60, 60)))\n"
     ]
    },
    {
     "name": "stdout",
     "output_type": "stream",
     "text": [
      "load THETAUSDT data succeed. 2019-04-10 05:00:00 to 2022-12-07 00:00:00; bar window=60\n"
     ]
    },
    {
     "name": "stderr",
     "output_type": "stream",
     "text": [
      "/Users/bytedance/MLTrader-deploy/research/utility.py:432: FutureWarning: pandas.Int64Index is deprecated and will be removed from pandas in a future version. Use pandas.Index with the appropriate dtype instead.\n",
      "  df: pd.DataFrame = df.reindex(pd.Int64Index(np.arange(start, end + 60, 60)))\n"
     ]
    },
    {
     "name": "stdout",
     "output_type": "stream",
     "text": [
      "load ALGOUSDT data succeed. 2019-06-22 01:00:00 to 2022-12-07 00:00:00; bar window=60\n"
     ]
    },
    {
     "name": "stderr",
     "output_type": "stream",
     "text": [
      "/Users/bytedance/MLTrader-deploy/research/utility.py:432: FutureWarning: pandas.Int64Index is deprecated and will be removed from pandas in a future version. Use pandas.Index with the appropriate dtype instead.\n",
      "  df: pd.DataFrame = df.reindex(pd.Int64Index(np.arange(start, end + 60, 60)))\n"
     ]
    },
    {
     "name": "stdout",
     "output_type": "stream",
     "text": [
      "load ZILUSDT data succeed. 2019-02-19 12:00:00 to 2022-12-07 00:00:00; bar window=60\n"
     ]
    },
    {
     "name": "stderr",
     "output_type": "stream",
     "text": [
      "/Users/bytedance/MLTrader-deploy/research/utility.py:432: FutureWarning: pandas.Int64Index is deprecated and will be removed from pandas in a future version. Use pandas.Index with the appropriate dtype instead.\n",
      "  df: pd.DataFrame = df.reindex(pd.Int64Index(np.arange(start, end + 60, 60)))\n"
     ]
    },
    {
     "name": "stdout",
     "output_type": "stream",
     "text": [
      "load DOGEUSDT data succeed. 2019-07-05 13:00:00 to 2023-01-23 00:00:00; bar window=60\n"
     ]
    },
    {
     "name": "stderr",
     "output_type": "stream",
     "text": [
      "/Users/bytedance/MLTrader-deploy/research/utility.py:432: FutureWarning: pandas.Int64Index is deprecated and will be removed from pandas in a future version. Use pandas.Index with the appropriate dtype instead.\n",
      "  df: pd.DataFrame = df.reindex(pd.Int64Index(np.arange(start, end + 60, 60)))\n"
     ]
    },
    {
     "name": "stdout",
     "output_type": "stream",
     "text": [
      "load KAVAUSDT data succeed. 2019-10-25 03:00:00 to 2022-12-07 00:00:00; bar window=60\n",
      "[Errno 2] No such file or directory: '/Users/bytedance/binance_data/csv_data/RLCUSDT-1m.csv'\n"
     ]
    },
    {
     "name": "stderr",
     "output_type": "stream",
     "text": [
      "/Users/bytedance/MLTrader-deploy/research/utility.py:432: FutureWarning: pandas.Int64Index is deprecated and will be removed from pandas in a future version. Use pandas.Index with the appropriate dtype instead.\n",
      "  df: pd.DataFrame = df.reindex(pd.Int64Index(np.arange(start, end + 60, 60)))\n"
     ]
    },
    {
     "name": "stdout",
     "output_type": "stream",
     "text": [
      "load WAVESUSDT data succeed. 2019-01-18 11:00:00 to 2022-12-07 00:00:00; bar window=60\n"
     ]
    },
    {
     "name": "stderr",
     "output_type": "stream",
     "text": [
      "/Users/bytedance/MLTrader-deploy/research/utility.py:432: FutureWarning: pandas.Int64Index is deprecated and will be removed from pandas in a future version. Use pandas.Index with the appropriate dtype instead.\n",
      "  df: pd.DataFrame = df.reindex(pd.Int64Index(np.arange(start, end + 60, 60)))\n"
     ]
    },
    {
     "name": "stdout",
     "output_type": "stream",
     "text": [
      "load DOTUSDT data succeed. 2020-08-19 00:00:00 to 2022-12-07 00:00:00; bar window=60\n"
     ]
    },
    {
     "name": "stderr",
     "output_type": "stream",
     "text": [
      "/Users/bytedance/MLTrader-deploy/research/utility.py:432: FutureWarning: pandas.Int64Index is deprecated and will be removed from pandas in a future version. Use pandas.Index with the appropriate dtype instead.\n",
      "  df: pd.DataFrame = df.reindex(pd.Int64Index(np.arange(start, end + 60, 60)))\n"
     ]
    },
    {
     "name": "stdout",
     "output_type": "stream",
     "text": [
      "load YFIUSDT data succeed. 2020-08-10 13:00:00 to 2022-12-07 00:00:00; bar window=60\n"
     ]
    },
    {
     "name": "stderr",
     "output_type": "stream",
     "text": [
      "/Users/bytedance/MLTrader-deploy/research/utility.py:432: FutureWarning: pandas.Int64Index is deprecated and will be removed from pandas in a future version. Use pandas.Index with the appropriate dtype instead.\n",
      "  df: pd.DataFrame = df.reindex(pd.Int64Index(np.arange(start, end + 60, 60)))\n"
     ]
    },
    {
     "name": "stdout",
     "output_type": "stream",
     "text": [
      "load CRVUSDT data succeed. 2020-08-15 05:00:00 to 2022-12-07 00:00:00; bar window=60\n"
     ]
    },
    {
     "name": "stderr",
     "output_type": "stream",
     "text": [
      "/Users/bytedance/MLTrader-deploy/research/utility.py:432: FutureWarning: pandas.Int64Index is deprecated and will be removed from pandas in a future version. Use pandas.Index with the appropriate dtype instead.\n",
      "  df: pd.DataFrame = df.reindex(pd.Int64Index(np.arange(start, end + 60, 60)))\n"
     ]
    },
    {
     "name": "stdout",
     "output_type": "stream",
     "text": [
      "load SUSHIUSDT data succeed. 2020-09-01 12:00:00 to 2022-12-07 00:00:00; bar window=60\n"
     ]
    },
    {
     "name": "stderr",
     "output_type": "stream",
     "text": [
      "/Users/bytedance/MLTrader-deploy/research/utility.py:432: FutureWarning: pandas.Int64Index is deprecated and will be removed from pandas in a future version. Use pandas.Index with the appropriate dtype instead.\n",
      "  df: pd.DataFrame = df.reindex(pd.Int64Index(np.arange(start, end + 60, 60)))\n"
     ]
    },
    {
     "name": "stdout",
     "output_type": "stream",
     "text": [
      "load SOLUSDT data succeed. 2020-08-11 07:00:00 to 2023-01-23 00:00:00; bar window=60\n",
      "[Errno 2] No such file or directory: '/Users/bytedance/binance_data/csv_data/ICXUSDT-1m.csv'\n"
     ]
    },
    {
     "name": "stderr",
     "output_type": "stream",
     "text": [
      "/Users/bytedance/MLTrader-deploy/research/utility.py:432: FutureWarning: pandas.Int64Index is deprecated and will be removed from pandas in a future version. Use pandas.Index with the appropriate dtype instead.\n",
      "  df: pd.DataFrame = df.reindex(pd.Int64Index(np.arange(start, end + 60, 60)))\n"
     ]
    },
    {
     "name": "stdout",
     "output_type": "stream",
     "text": [
      "load UNIUSDT data succeed. 2020-09-17 04:00:00 to 2022-12-07 00:00:00; bar window=60\n"
     ]
    },
    {
     "name": "stderr",
     "output_type": "stream",
     "text": [
      "/Users/bytedance/MLTrader-deploy/research/utility.py:432: FutureWarning: pandas.Int64Index is deprecated and will be removed from pandas in a future version. Use pandas.Index with the appropriate dtype instead.\n",
      "  df: pd.DataFrame = df.reindex(pd.Int64Index(np.arange(start, end + 60, 60)))\n"
     ]
    },
    {
     "name": "stdout",
     "output_type": "stream",
     "text": [
      "load AVAXUSDT data succeed. 2020-09-22 07:00:00 to 2023-01-23 00:00:00; bar window=60\n"
     ]
    },
    {
     "name": "stderr",
     "output_type": "stream",
     "text": [
      "/Users/bytedance/MLTrader-deploy/research/utility.py:432: FutureWarning: pandas.Int64Index is deprecated and will be removed from pandas in a future version. Use pandas.Index with the appropriate dtype instead.\n",
      "  df: pd.DataFrame = df.reindex(pd.Int64Index(np.arange(start, end + 60, 60)))\n"
     ]
    },
    {
     "name": "stdout",
     "output_type": "stream",
     "text": [
      "load FTMUSDT data succeed. 2019-06-11 05:00:00 to 2022-12-07 00:00:00; bar window=60\n",
      "[Errno 2] No such file or directory: '/Users/bytedance/binance_data/csv_data/ENJUSDT-1m.csv'\n"
     ]
    },
    {
     "name": "stderr",
     "output_type": "stream",
     "text": [
      "/Users/bytedance/MLTrader-deploy/research/utility.py:432: FutureWarning: pandas.Int64Index is deprecated and will be removed from pandas in a future version. Use pandas.Index with the appropriate dtype instead.\n",
      "  df: pd.DataFrame = df.reindex(pd.Int64Index(np.arange(start, end + 60, 60)))\n"
     ]
    },
    {
     "name": "stdout",
     "output_type": "stream",
     "text": [
      "load NEARUSDT data succeed. 2020-10-14 06:00:00 to 2023-01-23 00:00:00; bar window=60\n"
     ]
    },
    {
     "name": "stderr",
     "output_type": "stream",
     "text": [
      "/Users/bytedance/MLTrader-deploy/research/utility.py:432: FutureWarning: pandas.Int64Index is deprecated and will be removed from pandas in a future version. Use pandas.Index with the appropriate dtype instead.\n",
      "  df: pd.DataFrame = df.reindex(pd.Int64Index(np.arange(start, end + 60, 60)))\n"
     ]
    },
    {
     "name": "stdout",
     "output_type": "stream",
     "text": [
      "load AAVEUSDT data succeed. 2020-10-15 04:00:00 to 2022-12-07 00:00:00; bar window=60\n"
     ]
    },
    {
     "name": "stderr",
     "output_type": "stream",
     "text": [
      "/Users/bytedance/MLTrader-deploy/research/utility.py:432: FutureWarning: pandas.Int64Index is deprecated and will be removed from pandas in a future version. Use pandas.Index with the appropriate dtype instead.\n",
      "  df: pd.DataFrame = df.reindex(pd.Int64Index(np.arange(start, end + 60, 60)))\n"
     ]
    },
    {
     "name": "stdout",
     "output_type": "stream",
     "text": [
      "load FILUSDT data succeed. 2020-10-15 18:00:00 to 2022-12-07 00:00:00; bar window=60\n"
     ]
    },
    {
     "name": "stderr",
     "output_type": "stream",
     "text": [
      "/Users/bytedance/MLTrader-deploy/research/utility.py:432: FutureWarning: pandas.Int64Index is deprecated and will be removed from pandas in a future version. Use pandas.Index with the appropriate dtype instead.\n",
      "  df: pd.DataFrame = df.reindex(pd.Int64Index(np.arange(start, end + 60, 60)))\n"
     ]
    },
    {
     "name": "stdout",
     "output_type": "stream",
     "text": [
      "load MATICUSDT data succeed. 2019-04-26 16:00:00 to 2022-12-07 00:00:00; bar window=60\n",
      "[Errno 2] No such file or directory: '/Users/bytedance/binance_data/csv_data/OCEANUSDT-1m.csv'\n"
     ]
    },
    {
     "name": "stderr",
     "output_type": "stream",
     "text": [
      "/Users/bytedance/MLTrader-deploy/research/utility.py:432: FutureWarning: pandas.Int64Index is deprecated and will be removed from pandas in a future version. Use pandas.Index with the appropriate dtype instead.\n",
      "  df: pd.DataFrame = df.reindex(pd.Int64Index(np.arange(start, end + 60, 60)))\n"
     ]
    },
    {
     "name": "stdout",
     "output_type": "stream",
     "text": [
      "load AXSUSDT data succeed. 2020-11-04 14:00:00 to 2022-12-07 00:00:00; bar window=60\n",
      "[Errno 2] No such file or directory: '/Users/bytedance/binance_data/csv_data/ALPHAUSDT-1m.csv'\n"
     ]
    },
    {
     "name": "stderr",
     "output_type": "stream",
     "text": [
      "/Users/bytedance/MLTrader-deploy/research/utility.py:432: FutureWarning: pandas.Int64Index is deprecated and will be removed from pandas in a future version. Use pandas.Index with the appropriate dtype instead.\n",
      "  df: pd.DataFrame = df.reindex(pd.Int64Index(np.arange(start, end + 60, 60)))\n"
     ]
    },
    {
     "name": "stdout",
     "output_type": "stream",
     "text": [
      "load GRTUSDT data succeed. 2020-12-17 21:00:00 to 2022-12-07 00:00:00; bar window=60\n",
      "[Errno 2] No such file or directory: '/Users/bytedance/binance_data/csv_data/1INCHUSDT-1m.csv'\n"
     ]
    },
    {
     "name": "stderr",
     "output_type": "stream",
     "text": [
      "/Users/bytedance/MLTrader-deploy/research/utility.py:432: FutureWarning: pandas.Int64Index is deprecated and will be removed from pandas in a future version. Use pandas.Index with the appropriate dtype instead.\n",
      "  df: pd.DataFrame = df.reindex(pd.Int64Index(np.arange(start, end + 60, 60)))\n"
     ]
    },
    {
     "name": "stdout",
     "output_type": "stream",
     "text": [
      "load BTCBUSD data succeed. 2019-09-19 11:00:00 to 2023-01-23 00:00:00; bar window=60\n"
     ]
    },
    {
     "name": "stderr",
     "output_type": "stream",
     "text": [
      "/Users/bytedance/MLTrader-deploy/research/utility.py:432: FutureWarning: pandas.Int64Index is deprecated and will be removed from pandas in a future version. Use pandas.Index with the appropriate dtype instead.\n",
      "  df: pd.DataFrame = df.reindex(pd.Int64Index(np.arange(start, end + 60, 60)))\n"
     ]
    },
    {
     "name": "stdout",
     "output_type": "stream",
     "text": [
      "load CHZUSDT data succeed. 2019-09-06 05:00:00 to 2022-12-07 00:00:00; bar window=60\n"
     ]
    },
    {
     "name": "stderr",
     "output_type": "stream",
     "text": [
      "/Users/bytedance/MLTrader-deploy/research/utility.py:432: FutureWarning: pandas.Int64Index is deprecated and will be removed from pandas in a future version. Use pandas.Index with the appropriate dtype instead.\n",
      "  df: pd.DataFrame = df.reindex(pd.Int64Index(np.arange(start, end + 60, 60)))\n"
     ]
    },
    {
     "name": "stdout",
     "output_type": "stream",
     "text": [
      "load SANDUSDT data succeed. 2020-08-14 14:00:00 to 2022-12-07 00:00:00; bar window=60\n",
      "[Errno 2] No such file or directory: '/Users/bytedance/binance_data/csv_data/ANKRUSDT-1m.csv'\n"
     ]
    },
    {
     "name": "stderr",
     "output_type": "stream",
     "text": [
      "/Users/bytedance/MLTrader-deploy/research/utility.py:432: FutureWarning: pandas.Int64Index is deprecated and will be removed from pandas in a future version. Use pandas.Index with the appropriate dtype instead.\n",
      "  df: pd.DataFrame = df.reindex(pd.Int64Index(np.arange(start, end + 60, 60)))\n"
     ]
    },
    {
     "name": "stdout",
     "output_type": "stream",
     "text": [
      "load UNFIUSDT data succeed. 2020-11-19 07:00:00 to 2022-12-07 00:00:00; bar window=60\n"
     ]
    },
    {
     "name": "stderr",
     "output_type": "stream",
     "text": [
      "/Users/bytedance/MLTrader-deploy/research/utility.py:432: FutureWarning: pandas.Int64Index is deprecated and will be removed from pandas in a future version. Use pandas.Index with the appropriate dtype instead.\n",
      "  df: pd.DataFrame = df.reindex(pd.Int64Index(np.arange(start, end + 60, 60)))\n"
     ]
    },
    {
     "name": "stdout",
     "output_type": "stream",
     "text": [
      "load MANAUSDT data succeed. 2020-08-06 11:00:00 to 2022-12-07 00:00:00; bar window=60\n",
      "[Errno 2] No such file or directory: '/Users/bytedance/binance_data/csv_data/ONEUSDT-1m.csv'\n",
      "[Errno 2] No such file or directory: '/Users/bytedance/binance_data/csv_data/CELRUSDT-1m.csv'\n",
      "[Errno 2] No such file or directory: '/Users/bytedance/binance_data/csv_data/1000SHIBUSDT-1m.csv'\n"
     ]
    },
    {
     "name": "stderr",
     "output_type": "stream",
     "text": [
      "/Users/bytedance/MLTrader-deploy/research/utility.py:432: FutureWarning: pandas.Int64Index is deprecated and will be removed from pandas in a future version. Use pandas.Index with the appropriate dtype instead.\n",
      "  df: pd.DataFrame = df.reindex(pd.Int64Index(np.arange(start, end + 60, 60)))\n"
     ]
    },
    {
     "name": "stdout",
     "output_type": "stream",
     "text": [
      "load ETHBUSD data succeed. 2019-10-21 09:00:00 to 2023-01-23 00:00:00; bar window=60\n"
     ]
    },
    {
     "name": "stderr",
     "output_type": "stream",
     "text": [
      "/Users/bytedance/MLTrader-deploy/research/utility.py:432: FutureWarning: pandas.Int64Index is deprecated and will be removed from pandas in a future version. Use pandas.Index with the appropriate dtype instead.\n",
      "  df: pd.DataFrame = df.reindex(pd.Int64Index(np.arange(start, end + 60, 60)))\n"
     ]
    },
    {
     "name": "stdout",
     "output_type": "stream",
     "text": [
      "load BNBBUSD data succeed. 2019-09-19 11:00:00 to 2023-01-23 00:00:00; bar window=60\n"
     ]
    },
    {
     "name": "stderr",
     "output_type": "stream",
     "text": [
      "/Users/bytedance/MLTrader-deploy/research/utility.py:432: FutureWarning: pandas.Int64Index is deprecated and will be removed from pandas in a future version. Use pandas.Index with the appropriate dtype instead.\n",
      "  df: pd.DataFrame = df.reindex(pd.Int64Index(np.arange(start, end + 60, 60)))\n"
     ]
    },
    {
     "name": "stdout",
     "output_type": "stream",
     "text": [
      "load XRPBUSD data succeed. 2019-10-21 09:00:00 to 2023-01-23 00:00:00; bar window=60\n"
     ]
    },
    {
     "name": "stderr",
     "output_type": "stream",
     "text": [
      "/Users/bytedance/MLTrader-deploy/research/utility.py:432: FutureWarning: pandas.Int64Index is deprecated and will be removed from pandas in a future version. Use pandas.Index with the appropriate dtype instead.\n",
      "  df: pd.DataFrame = df.reindex(pd.Int64Index(np.arange(start, end + 60, 60)))\n"
     ]
    },
    {
     "name": "stdout",
     "output_type": "stream",
     "text": [
      "load DOGEBUSD data succeed. 2020-07-30 06:00:00 to 2023-01-23 00:00:00; bar window=60\n",
      "[Errno 2] No such file or directory: '/Users/bytedance/binance_data/csv_data/AUDIOUSDT-1m.csv'\n"
     ]
    },
    {
     "name": "stderr",
     "output_type": "stream",
     "text": [
      "/Users/bytedance/MLTrader-deploy/research/utility.py:432: FutureWarning: pandas.Int64Index is deprecated and will be removed from pandas in a future version. Use pandas.Index with the appropriate dtype instead.\n",
      "  df: pd.DataFrame = df.reindex(pd.Int64Index(np.arange(start, end + 60, 60)))\n"
     ]
    },
    {
     "name": "stdout",
     "output_type": "stream",
     "text": [
      "load MASKUSDT data succeed. 2021-05-25 07:00:00 to 2022-12-07 00:00:00; bar window=60\n"
     ]
    },
    {
     "name": "stderr",
     "output_type": "stream",
     "text": [
      "/Users/bytedance/MLTrader-deploy/research/utility.py:432: FutureWarning: pandas.Int64Index is deprecated and will be removed from pandas in a future version. Use pandas.Index with the appropriate dtype instead.\n",
      "  df: pd.DataFrame = df.reindex(pd.Int64Index(np.arange(start, end + 60, 60)))\n"
     ]
    },
    {
     "name": "stdout",
     "output_type": "stream",
     "text": [
      "load SOLBUSD data succeed. 2020-04-10 05:00:00 to 2023-01-23 00:00:00; bar window=60\n"
     ]
    },
    {
     "name": "stderr",
     "output_type": "stream",
     "text": [
      "/Users/bytedance/MLTrader-deploy/research/utility.py:432: FutureWarning: pandas.Int64Index is deprecated and will be removed from pandas in a future version. Use pandas.Index with the appropriate dtype instead.\n",
      "  df: pd.DataFrame = df.reindex(pd.Int64Index(np.arange(start, end + 60, 60)))\n"
     ]
    },
    {
     "name": "stdout",
     "output_type": "stream",
     "text": [
      "load DYDXUSDT data succeed. 2021-09-09 03:00:00 to 2022-12-07 00:00:00; bar window=60\n"
     ]
    },
    {
     "name": "stderr",
     "output_type": "stream",
     "text": [
      "/Users/bytedance/MLTrader-deploy/research/utility.py:432: FutureWarning: pandas.Int64Index is deprecated and will be removed from pandas in a future version. Use pandas.Index with the appropriate dtype instead.\n",
      "  df: pd.DataFrame = df.reindex(pd.Int64Index(np.arange(start, end + 60, 60)))\n"
     ]
    },
    {
     "name": "stdout",
     "output_type": "stream",
     "text": [
      "load GALAUSDT data succeed. 2021-09-13 07:00:00 to 2023-01-23 00:00:00; bar window=60\n"
     ]
    },
    {
     "name": "stderr",
     "output_type": "stream",
     "text": [
      "/Users/bytedance/MLTrader-deploy/research/utility.py:432: FutureWarning: pandas.Int64Index is deprecated and will be removed from pandas in a future version. Use pandas.Index with the appropriate dtype instead.\n",
      "  df: pd.DataFrame = df.reindex(pd.Int64Index(np.arange(start, end + 60, 60)))\n"
     ]
    },
    {
     "name": "stdout",
     "output_type": "stream",
     "text": [
      "load CELOUSDT data succeed. 2021-01-05 09:00:00 to 2022-12-07 00:00:00; bar window=60\n"
     ]
    },
    {
     "name": "stderr",
     "output_type": "stream",
     "text": [
      "/Users/bytedance/MLTrader-deploy/research/utility.py:432: FutureWarning: pandas.Int64Index is deprecated and will be removed from pandas in a future version. Use pandas.Index with the appropriate dtype instead.\n",
      "  df: pd.DataFrame = df.reindex(pd.Int64Index(np.arange(start, end + 60, 60)))\n"
     ]
    },
    {
     "name": "stdout",
     "output_type": "stream",
     "text": [
      "load PEOPLEUSDT data succeed. 2021-12-23 07:00:00 to 2022-12-07 00:00:00; bar window=60\n"
     ]
    },
    {
     "name": "stderr",
     "output_type": "stream",
     "text": [
      "/Users/bytedance/MLTrader-deploy/research/utility.py:432: FutureWarning: pandas.Int64Index is deprecated and will be removed from pandas in a future version. Use pandas.Index with the appropriate dtype instead.\n",
      "  df: pd.DataFrame = df.reindex(pd.Int64Index(np.arange(start, end + 60, 60)))\n"
     ]
    },
    {
     "name": "stdout",
     "output_type": "stream",
     "text": [
      "load FLOWUSDT data succeed. 2021-07-30 14:00:00 to 2022-12-07 00:00:00; bar window=60\n"
     ]
    },
    {
     "name": "stderr",
     "output_type": "stream",
     "text": [
      "/Users/bytedance/MLTrader-deploy/research/utility.py:432: FutureWarning: pandas.Int64Index is deprecated and will be removed from pandas in a future version. Use pandas.Index with the appropriate dtype instead.\n",
      "  df: pd.DataFrame = df.reindex(pd.Int64Index(np.arange(start, end + 60, 60)))\n"
     ]
    },
    {
     "name": "stdout",
     "output_type": "stream",
     "text": [
      "load GMTUSDT data succeed. 2022-03-09 13:00:00 to 2022-12-07 00:00:00; bar window=60\n"
     ]
    },
    {
     "name": "stderr",
     "output_type": "stream",
     "text": [
      "/Users/bytedance/MLTrader-deploy/research/utility.py:432: FutureWarning: pandas.Int64Index is deprecated and will be removed from pandas in a future version. Use pandas.Index with the appropriate dtype instead.\n",
      "  df: pd.DataFrame = df.reindex(pd.Int64Index(np.arange(start, end + 60, 60)))\n"
     ]
    },
    {
     "name": "stdout",
     "output_type": "stream",
     "text": [
      "load APEUSDT data succeed. 2022-03-17 15:00:00 to 2022-12-07 00:00:00; bar window=60\n"
     ]
    },
    {
     "name": "stderr",
     "output_type": "stream",
     "text": [
      "/Users/bytedance/MLTrader-deploy/research/utility.py:432: FutureWarning: pandas.Int64Index is deprecated and will be removed from pandas in a future version. Use pandas.Index with the appropriate dtype instead.\n",
      "  df: pd.DataFrame = df.reindex(pd.Int64Index(np.arange(start, end + 60, 60)))\n"
     ]
    },
    {
     "name": "stdout",
     "output_type": "stream",
     "text": [
      "load JASMYUSDT data succeed. 2021-11-22 13:00:00 to 2022-12-07 00:00:00; bar window=60\n"
     ]
    },
    {
     "name": "stderr",
     "output_type": "stream",
     "text": [
      "/Users/bytedance/MLTrader-deploy/research/utility.py:432: FutureWarning: pandas.Int64Index is deprecated and will be removed from pandas in a future version. Use pandas.Index with the appropriate dtype instead.\n",
      "  df: pd.DataFrame = df.reindex(pd.Int64Index(np.arange(start, end + 60, 60)))\n"
     ]
    },
    {
     "name": "stdout",
     "output_type": "stream",
     "text": [
      "load GALUSDT data succeed. 2022-05-05 13:00:00 to 2022-12-07 00:00:00; bar window=60\n",
      "[Errno 2] No such file or directory: '/Users/bytedance/binance_data/csv_data/GMTBUSD-1m.csv'\n"
     ]
    },
    {
     "name": "stderr",
     "output_type": "stream",
     "text": [
      "/Users/bytedance/MLTrader-deploy/research/utility.py:432: FutureWarning: pandas.Int64Index is deprecated and will be removed from pandas in a future version. Use pandas.Index with the appropriate dtype instead.\n",
      "  df: pd.DataFrame = df.reindex(pd.Int64Index(np.arange(start, end + 60, 60)))\n"
     ]
    },
    {
     "name": "stdout",
     "output_type": "stream",
     "text": [
      "load GALABUSD data succeed. 2021-09-13 07:00:00 to 2023-01-23 00:00:00; bar window=60\n"
     ]
    },
    {
     "name": "stderr",
     "output_type": "stream",
     "text": [
      "/Users/bytedance/MLTrader-deploy/research/utility.py:432: FutureWarning: pandas.Int64Index is deprecated and will be removed from pandas in a future version. Use pandas.Index with the appropriate dtype instead.\n",
      "  df: pd.DataFrame = df.reindex(pd.Int64Index(np.arange(start, end + 60, 60)))\n"
     ]
    },
    {
     "name": "stdout",
     "output_type": "stream",
     "text": [
      "load OPUSDT data succeed. 2022-06-01 09:00:00 to 2022-12-07 00:00:00; bar window=60\n",
      "[Errno 2] No such file or directory: '/Users/bytedance/binance_data/csv_data/LDOBUSD-1m.csv'\n",
      "[Errno 2] No such file or directory: '/Users/bytedance/binance_data/csv_data/LUNA2USDT-1m.csv'\n"
     ]
    },
    {
     "name": "stderr",
     "output_type": "stream",
     "text": [
      "/Users/bytedance/MLTrader-deploy/research/utility.py:432: FutureWarning: pandas.Int64Index is deprecated and will be removed from pandas in a future version. Use pandas.Index with the appropriate dtype instead.\n",
      "  df: pd.DataFrame = df.reindex(pd.Int64Index(np.arange(start, end + 60, 60)))\n",
      "/Users/bytedance/MLTrader-deploy/research/utility.py:432: FutureWarning: pandas.Int64Index is deprecated and will be removed from pandas in a future version. Use pandas.Index with the appropriate dtype instead.\n",
      "  df: pd.DataFrame = df.reindex(pd.Int64Index(np.arange(start, end + 60, 60)))\n"
     ]
    },
    {
     "name": "stdout",
     "output_type": "stream",
     "text": [
      "load LDOUSDT data succeed. 2022-05-09 12:00:00 to 2022-12-07 00:00:00; bar window=60\n",
      "load APTUSDT data succeed. 2022-10-19 02:00:00 to 2022-12-07 00:00:00; bar window=60\n",
      "[Errno 2] No such file or directory: '/Users/bytedance/binance_data/csv_data/APTBUSD-1m.csv'\n"
     ]
    }
   ],
   "source": [
    "new_dfs = {}\n",
    "bar_window = 60\n",
    "DATA_ROOT = \"/Users/bytedance/binance_data/csv_data\"\n",
    "for asset_name in valid_symbols:\n",
    "    try:\n",
    "        sub_df = read_symbol(\n",
    "            asset_name,\n",
    "            bar_window,\n",
    "            root=DATA_ROOT,\n",
    "            fake=False,\n",
    "        )\n",
    "        sub_df.index = sub_df.index.tz_localize(\"UTC\")\n",
    "        if sub_df.size == 0:\n",
    "            raise ValueError()\n",
    "\n",
    "        new_dfs[asset_name] = sub_df\n",
    "    except Exception as e:\n",
    "        print(e)\n",
    "\n",
    "result_df = pd.concat(new_dfs, axis=0, names=[\"Asset_ID\"])\n",
    "global_dv = {}\n",
    "for feature in result_df.columns:\n",
    "    global_dv[feature] = result_df.pivot(\n",
    "        index=\"timestamp\", columns=\"Asset_ID\", values=feature\n",
    "    )\n",
    "    global_dv[feature] = global_dv[feature].fillna(method=\"ffill\")\n",
    "\n",
    "h5_path = os.path.join(DATA_ROOT, f\"dataview_{bar_window}m.h5\")\n",
    "for key in global_dv:\n",
    "    global_dv[key].to_hdf(h5_path, key, format=\"table\")"
   ]
  },
  {
   "cell_type": "code",
   "execution_count": 5,
   "id": "6903c338",
   "metadata": {},
   "outputs": [
    {
     "data": {
      "text/plain": [
       "dict_keys(['Close', 'High', 'Low', 'Open', 'Volume', 'Count', 'timestamp', 'Asset_ID'])"
      ]
     },
     "execution_count": 5,
     "metadata": {},
     "output_type": "execute_result"
    }
   ],
   "source": [
    "global_dv.keys()"
   ]
  },
  {
   "cell_type": "code",
   "execution_count": 155,
   "id": "8e21b2d4",
   "metadata": {},
   "outputs": [],
   "source": [
    "from jaqs_fxdayu.research import SignalDigger"
   ]
  }
 ],
 "metadata": {
  "kernelspec": {
   "display_name": "Python 3 (ipykernel)",
   "language": "python",
   "name": "python3"
  },
  "language_info": {
   "codemirror_mode": {
    "name": "ipython",
    "version": 3
   },
   "file_extension": ".py",
   "mimetype": "text/x-python",
   "name": "python",
   "nbconvert_exporter": "python",
   "pygments_lexer": "ipython3",
   "version": "3.9.0"
  }
 },
 "nbformat": 4,
 "nbformat_minor": 5
}
