{
 "cells": [
  {
   "cell_type": "code",
   "execution_count": 2,
   "id": "f7a6fa0d",
   "metadata": {},
   "outputs": [],
   "source": [
    "%load_ext autoreload\n",
    "%autoreload 2"
   ]
  },
  {
   "cell_type": "code",
   "execution_count": 35,
   "id": "3791e429",
   "metadata": {},
   "outputs": [],
   "source": [
    "\n",
    "import os\n",
    "os.chdir(\"/Users/bytedance/MLTrader-deploy\")\n",
    "from research.orderbook_strategies.utils import helper\n",
    "from research.orderbook_strategies.utils import factor_analysis\n",
    "from research.orderbook_strategies.utils.product_info import *\n",
    "import numpy as np\n",
    "import pandas as pd\n",
    "import itertools"
   ]
  },
  {
   "cell_type": "code",
   "execution_count": 4,
   "id": "839e22c2",
   "metadata": {},
   "outputs": [],
   "source": [
    "product = \"BTCUSDT\"\n",
    "signal_name = \"dbook.atr.64\"\n",
    "file_name = \"2023-06-01\"\n",
    "all_signal = helper.auto_get_alldates_signal(signal_name, product)\n",
    "tranct = product_info[product][\"tranct\"]  ## transaction cost of the product\n",
    "tranct_ratio = product_info[product][\n",
    "    \"tranct.ratio\"\n",
    "]  ## True: based on notional; False: fixed tranct\n",
    "open_list = np.quantile(\n",
    "    abs(all_signal),\n",
    "    np.append(np.linspace(0.8, 0.99, 5), np.linspace(0.991, 0.999, 5)),\n",
    ")  ## open threshold\n",
    "thre_list = []\n",
    "for cartesian in itertools.product(\n",
    "    open_list, np.array([0.2, 0.4, 0.6, 0.8, 1.0])\n",
    "):  ## close threshold\n",
    "    thre_list.append((cartesian[0], -cartesian[0] * cartesian[1]))\n",
    "thre_list = np.array(thre_list)\n",
    "thre_mat = pd.DataFrame(\n",
    "    data=OrderedDict([(\"open\", thre_list[:, 0]), (\"close\", thre_list[:, 1])])\n",
    ")  ## threshold matrix\n",
    "S = helper.get_good_signal(product, signal_name, date_str=file_name)\n",
    "pred = np.asarray(S)\n",
    "data = helper.get_data(\n",
    "    product,\n",
    "    file_name,\n",
    "    columns=[\"time\", \"good\", \"bid\", \"ask\", \"next.bid\", \"next.ask\", \"atr.4096\", \"ret\"],\n",
    ")\n",
    "atr = data[\"atr.4096\"][data[\"good\"]].reset_index(drop=True)\n",
    "data = data[data[\"good\"]].reset_index(drop=True)\n",
    "results = []\n",
    "atr_filter = 0.01\n",
    "max_spread = 0.1"
   ]
  },
  {
   "cell_type": "code",
   "execution_count": 5,
   "id": "37d08a7a",
   "metadata": {},
   "outputs": [],
   "source": [
    "# data = data.iloc[4000: 5000]\n",
    "# atr = atr.iloc[4000: 5000]\n",
    "# S = S[4000: 5000]"
   ]
  },
  {
   "cell_type": "code",
   "execution_count": 6,
   "id": "a6e37181",
   "metadata": {},
   "outputs": [
    {
     "name": "stdout",
     "output_type": "stream",
     "text": [
      "open     0.000019\n",
      "close   -0.000004\n",
      "Name: 5, dtype: float64\n"
     ]
    }
   ],
   "source": [
    "thre = thre_mat.iloc[5]\n",
    "print(thre)"
   ]
  },
  {
   "cell_type": "code",
   "execution_count": 7,
   "id": "33f0d2b9",
   "metadata": {},
   "outputs": [],
   "source": [
    "result, position_pos1 = factor_analysis.backtest(pred,\n",
    "            data,\n",
    "            thre=(thre[0], thre[1]),\n",
    "            atr=atr,\n",
    "            atr_filter=atr_filter,\n",
    "            tranct_ratio=tranct_ratio,\n",
    "            max_spread=max_spread,\n",
    "            tranct=tranct)"
   ]
  },
  {
   "cell_type": "code",
   "execution_count": 72,
   "id": "3086846f",
   "metadata": {},
   "outputs": [],
   "source": [
    "# result2 = factor_analysis.backtest_loop(pred,\n",
    "#             data,\n",
    "#             thre=(thre[0], thre[1]),\n",
    "#             atr=atr,\n",
    "#             atr_filter=atr_filter,\n",
    "#             tranct_ratio=tranct_ratio,\n",
    "#             max_spread=max_spread,\n",
    "#             tranct=tranct)"
   ]
  },
  {
   "cell_type": "code",
   "execution_count": 36,
   "id": "723cd425",
   "metadata": {},
   "outputs": [],
   "source": [
    "pred = S\n",
    "thre = (thre[0], thre[1])\n",
    "\n",
    "cur_spread = data[\"ask\"] - data[\"bid\"]\n",
    "buy = pred > thre[0]\n",
    "sell = pred < -thre[0]\n",
    "date_ = pd.to_datetime(data[\"time\"].iloc[0]).date()\n",
    "signal = pd.Series(data=0, index=data.index)\n",
    "position = signal.copy()\n",
    "signal[buy] = 1\n",
    "signal[sell] = -1\n",
    "if atr is not None and atr_filter is not None:\n",
    "    signal[atr < atr_filter] = 0\n",
    "scratch = -thre[1]\n",
    "position_pos = pd.Series(data=np.nan, index=data.index)\n",
    "position_pos.iloc[0] = 0\n",
    "position_pos[\n",
    "    (signal == 1)\n",
    "    & (data[\"next.ask\"] > 0)\n",
    "    & (data[\"next.bid\"] > 0)\n",
    "    & (cur_spread < max_spread)\n",
    "] = 1\n",
    "\n",
    "position_pos[\n",
    "    (pred < -scratch) \n",
    "    & (data[\"next.bid\"] > 0) \n",
    "    & (cur_spread < max_spread)\n",
    "] = 0\n",
    "\n",
    "position_pos.ffill(inplace=True)\n",
    "\n",
    "position_neg = pd.Series(data=np.nan, index=data.index)\n",
    "position_neg.iloc[0] = 0\n",
    "position_neg[\n",
    "    (signal == -1)\n",
    "    & (data[\"next.ask\"] > 0)\n",
    "    & (data[\"next.bid\"] > 0)\n",
    "    & (cur_spread < max_spread)\n",
    "] = -1\n",
    "position_neg[\n",
    "    (pred > scratch) & (data[\"next.ask\"] > 0) & (cur_spread < max_spread)\n",
    "] = 0\n",
    "position_neg.ffill(inplace=True)"
   ]
  },
  {
   "cell_type": "code",
   "execution_count": 37,
   "id": "ff9deed2",
   "metadata": {},
   "outputs": [
    {
     "name": "stdout",
     "output_type": "stream",
     "text": [
      "222.0\n",
      "-295.0\n"
     ]
    }
   ],
   "source": [
    "print(position_pos.sum())\n",
    "print(position_neg.sum())"
   ]
  },
  {
   "cell_type": "code",
   "execution_count": 42,
   "id": "58582784",
   "metadata": {},
   "outputs": [],
   "source": [
    "results, position_pos2 = factor_analysis.backtest_par(pred,\n",
    "            data,\n",
    "            thre=[(thre[0], thre[1]) for thre in thre_mat.values] ,\n",
    "            atr=atr,\n",
    "            atr_filter=atr_filter,\n",
    "            tranct_ratio=tranct_ratio,\n",
    "            max_spread=max_spread,\n",
    "            tranct=tranct)"
   ]
  },
  {
   "cell_type": "code",
   "execution_count": 43,
   "id": "0905f41d",
   "metadata": {},
   "outputs": [
    {
     "data": {
      "text/plain": [
       "DailyResult(date=datetime.date(2023, 6, 1), num=249, avg_pnl=-22.0503530923662, final_pnl=-5490.537919999184, avg_ret=-0.000819407671750609, ret=-0.20403251026590163)"
      ]
     },
     "execution_count": 43,
     "metadata": {},
     "output_type": "execute_result"
    }
   ],
   "source": [
    "results[5]"
   ]
  },
  {
   "cell_type": "code",
   "execution_count": 44,
   "id": "7a43cc73",
   "metadata": {},
   "outputs": [
    {
     "data": {
      "text/plain": [
       "DailyResult(date=datetime.date(2023, 6, 1), num=249, avg_pnl=-22.0503530923662, final_pnl=-5490.537919999184, avg_ret=-0.000819407671750609, ret=-0.20403251026590163)"
      ]
     },
     "execution_count": 44,
     "metadata": {},
     "output_type": "execute_result"
    }
   ],
   "source": [
    "result"
   ]
  },
  {
   "cell_type": "code",
   "execution_count": 13,
   "id": "1ee1971e",
   "metadata": {},
   "outputs": [
    {
     "name": "stdout",
     "output_type": "stream",
     "text": [
      "7984.0\n"
     ]
    }
   ],
   "source": [
    "print(position_pos2[:, 5].sum())"
   ]
  },
  {
   "cell_type": "code",
   "execution_count": 12,
   "id": "63198de3",
   "metadata": {},
   "outputs": [
    {
     "name": "stdout",
     "output_type": "stream",
     "text": [
      "8560.0\n"
     ]
    }
   ],
   "source": [
    "print(position_pos1.sum())"
   ]
  },
  {
   "cell_type": "code",
   "execution_count": 24,
   "id": "9ea97819",
   "metadata": {},
   "outputs": [
    {
     "data": {
      "text/plain": [
       "array([4702, 4703, 4704, 4705, 4754, 4755, 4756, 4757, 4758, 4759])"
      ]
     },
     "execution_count": 24,
     "metadata": {},
     "output_type": "execute_result"
    }
   ],
   "source": [
    "np.nonzero(position_pos1.values != position_pos2[:, 5])[0][:10]"
   ]
  },
  {
   "cell_type": "code",
   "execution_count": 29,
   "id": "f9f6472f",
   "metadata": {},
   "outputs": [
    {
     "data": {
      "text/plain": [
       "4700    1.0\n",
       "4701    1.0\n",
       "4702    1.0\n",
       "4703    1.0\n",
       "4704    1.0\n",
       "4705    1.0\n",
       "4706    0.0\n",
       "4707    0.0\n",
       "4708    0.0\n",
       "4709    0.0\n",
       "dtype: float64"
      ]
     },
     "execution_count": 29,
     "metadata": {},
     "output_type": "execute_result"
    }
   ],
   "source": [
    "position_pos1[4700: 4710]"
   ]
  },
  {
   "cell_type": "code",
   "execution_count": 30,
   "id": "fd08d804",
   "metadata": {},
   "outputs": [
    {
     "data": {
      "text/plain": [
       "array([1., 1., 0., 0., 0., 0., 0., 0., 0., 0.])"
      ]
     },
     "execution_count": 30,
     "metadata": {},
     "output_type": "execute_result"
    }
   ],
   "source": [
    "position_pos2[4700: 4710, 5]"
   ]
  },
  {
   "cell_type": "code",
   "execution_count": 40,
   "id": "6f7cce5a",
   "metadata": {},
   "outputs": [
    {
     "data": {
      "text/plain": [
       "array([False, False, False, False, False, False,  True,  True,  True,\n",
       "        True])"
      ]
     },
     "execution_count": 40,
     "metadata": {},
     "output_type": "execute_result"
    }
   ],
   "source": [
    "S[4700: 4710] < thre[1]"
   ]
  },
  {
   "cell_type": "code",
   "execution_count": 39,
   "id": "bee7e912",
   "metadata": {},
   "outputs": [
    {
     "data": {
      "text/plain": [
       "array([ 1.54429159e-05,  8.58921485e-06,  1.80933897e-06,  1.78984886e-06,\n",
       "        1.77056880e-06,  1.75149615e-06, -4.95472685e-06, -1.15887127e-05,\n",
       "       -4.77652107e-06, -4.72506766e-06])"
      ]
     },
     "execution_count": 39,
     "metadata": {},
     "output_type": "execute_result"
    }
   ],
   "source": [
    "S[4700: 4710]"
   ]
  },
  {
   "cell_type": "code",
   "execution_count": 41,
   "id": "e29dcfbe",
   "metadata": {},
   "outputs": [
    {
     "data": {
      "text/plain": [
       "-3.7300466912107265e-06"
      ]
     },
     "execution_count": 41,
     "metadata": {},
     "output_type": "execute_result"
    }
   ],
   "source": [
    "thre[1]"
   ]
  },
  {
   "cell_type": "code",
   "execution_count": 48,
   "id": "797a4602",
   "metadata": {},
   "outputs": [],
   "source": [
    "from pathlib import Path\n",
    "res = helper.load(Path(\"/Volumes/AdamDrive/experiment_root/orderbook_research/signal_results/signal_result_with_atr/OPUSDT.kdj.j.std.512.reverse.pkl\"))"
   ]
  },
  {
   "cell_type": "code",
   "execution_count": null,
   "id": "f4705683",
   "metadata": {},
   "outputs": [],
   "source": []
  }
 ],
 "metadata": {
  "kernelspec": {
   "display_name": "Python 3 (ipykernel)",
   "language": "python",
   "name": "python3"
  },
  "language_info": {
   "codemirror_mode": {
    "name": "ipython",
    "version": 3
   },
   "file_extension": ".py",
   "mimetype": "text/x-python",
   "name": "python",
   "nbconvert_exporter": "python",
   "pygments_lexer": "ipython3",
   "version": "3.9.0"
  }
 },
 "nbformat": 4,
 "nbformat_minor": 5
}
