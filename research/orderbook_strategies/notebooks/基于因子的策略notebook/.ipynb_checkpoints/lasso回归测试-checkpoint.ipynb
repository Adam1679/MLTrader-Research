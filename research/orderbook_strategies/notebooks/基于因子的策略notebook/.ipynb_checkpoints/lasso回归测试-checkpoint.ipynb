{
 "cells": [
  {
   "cell_type": "code",
   "execution_count": 1,
   "metadata": {},
   "outputs": [],
   "source": [
    "%load_ext autoreload\n",
    "%autoreload 2"
   ]
  },
  {
   "cell_type": "code",
   "execution_count": 2,
   "metadata": {},
   "outputs": [],
   "source": [
    "import os\n",
    "os.chdir(\"/Users/bytedance/MLTrader-deploy/\")\n",
    "import sys\n",
    "sys.path.insert(0, \".\")\n",
    "import research.orderbook_strategies.utils.helper as helper\n",
    "import research.orderbook_strategies.utils.stats as stats\n",
    "import research.orderbook_strategies.utils.factor_analysis as factor_analysis\n",
    "import research.orderbook_strategies.utils.factors as factors\n",
    "import dask\n",
    "from dask import compute, delayed\n",
    "from dask.diagnostics import ProgressBar\n",
    "from imp import reload   \n",
    "import numpy as np"
   ]
  },
  {
   "cell_type": "code",
   "execution_count": 3,
   "metadata": {},
   "outputs": [],
   "source": [
    "import warnings\n",
    "import numpy as np\n",
    "warnings.filterwarnings('ignore')\n",
    "\n",
    "product_list = [\"OPUSDT\",\"BTCUSDT\", \"ETHUSDT\", \"APTUSDT\", \"1000PEPEUSDT\"]\n",
    "period = 4096"
   ]
  },
  {
   "cell_type": "code",
   "execution_count": 10,
   "metadata": {},
   "outputs": [
    {
     "name": "stdout",
     "output_type": "stream",
     "text": [
      "[########################################] | 100% Completed | 45.07 s\n",
      "[########################################] | 100% Completed | 44.56 s\n",
      "[########################################] | 100% Completed | 45.71 s\n",
      "[########################################] | 100% Completed | 41.13 s\n",
      "[########################################] | 100% Completed | 16.67 s\n"
     ]
    }
   ],
   "source": [
    "reload(factors)\n",
    "x1 = factors.foctor_ret_period_002()\n",
    "x2 = factors.foctor_ret_period_004()\n",
    "x3 = factors.foctor_ret_period_001()\n",
    "x4 = factors.foctor_ret_period()\n",
    "\n",
    "factor_list = [x1, x2, x3, x4]\n",
    "for product in product_list:\n",
    "    file_list = helper.get_file_list(product)\n",
    "    with ProgressBar():\n",
    "        helper.parLapply(file_list, \n",
    "                         factor_analysis.build_composite_signal,\n",
    "                         signal_list=factor_list, \n",
    "                         product=product)"
   ]
  },
  {
   "cell_type": "code",
   "execution_count": 4,
   "metadata": {},
   "outputs": [],
   "source": [
    "dire_signal_list = [\"nr\", \"dbook\", \"range.pos\", \"price.osci\", \"ma.dif.10\", \"kdj.k\", \"kdj.j\"]\n",
    "range_signal_list = [\"\", \"range\", \"std\", \"trend.index\"]"
   ]
  },
  {
   "cell_type": "code",
   "execution_count": 5,
   "metadata": {},
   "outputs": [],
   "source": [
    "all_signal_list = np.array([])\n",
    "for range_signal in range_signal_list:\n",
    "    for dire_signal in dire_signal_list:\n",
    "        if len(range_signal)==0:\n",
    "            signal_name = dire_signal\n",
    "        else:\n",
    "            signal_name = dire_signal+\".\"+range_signal\n",
    "        all_signal_list = np.append(all_signal_list,signal_name)\n",
    "signal_list = [signal+\".4096\" for signal in all_signal_list]"
   ]
  },
  {
   "cell_type": "code",
   "execution_count": 13,
   "metadata": {},
   "outputs": [
    {
     "data": {
      "text/plain": [
       "array(['nr.4096', 'dbook.4096', 'range.pos.4096', 'price.osci.4096',\n",
       "       'ma.dif.10.4096', 'kdj.k.4096', 'kdj.j.4096', 'nr.range.4096',\n",
       "       'dbook.range.4096', 'range.pos.range.4096',\n",
       "       'price.osci.range.4096', 'ma.dif.10.range.4096',\n",
       "       'kdj.k.range.4096', 'kdj.j.range.4096', 'nr.std.4096',\n",
       "       'dbook.std.4096', 'range.pos.std.4096', 'price.osci.std.4096',\n",
       "       'ma.dif.10.std.4096', 'kdj.k.std.4096', 'kdj.j.std.4096',\n",
       "       'nr.trend.index.4096', 'dbook.trend.index.4096',\n",
       "       'range.pos.trend.index.4096', 'price.osci.trend.index.4096',\n",
       "       'ma.dif.10.trend.index.4096', 'kdj.k.trend.index.4096',\n",
       "       'kdj.j.trend.index.4096', 'ret.4096', 'ret.4096.001',\n",
       "       'ret.4096.002'], dtype='<U27')"
      ]
     },
     "execution_count": 13,
     "metadata": {},
     "output_type": "execute_result"
    }
   ],
   "source": [
    "np.append(signal_list, [\"ret.4096\", \"ret.4096.001\", \"ret.4096.002\"])"
   ]
  },
  {
   "cell_type": "code",
   "execution_count": 14,
   "metadata": {},
   "outputs": [
    {
     "ename": "TypeError",
     "evalue": "unsupported operand type(s) for /: 'PosixPath' and 'int'",
     "output_type": "error",
     "traceback": [
      "\u001b[0;31m---------------------------------------------------------------------------\u001b[0m",
      "\u001b[0;31mTypeError\u001b[0m                                 Traceback (most recent call last)",
      "Cell \u001b[0;32mIn[14], line 1\u001b[0m\n\u001b[0;32m----> 1\u001b[0m data \u001b[39m=\u001b[39m helper\u001b[39m.\u001b[39;49mget_signal(product_list[\u001b[39m0\u001b[39;49m], period, signal_list)\n",
      "File \u001b[0;32m~/MLTrader-deploy/research/orderbook_strategies/utils/helper.py:94\u001b[0m, in \u001b[0;36mget_signal\u001b[0;34m(product, signal_name, date_str)\u001b[0m\n\u001b[1;32m     93\u001b[0m \u001b[39mdef\u001b[39;00m \u001b[39mget_signal\u001b[39m(product, signal_name, date_str):\n\u001b[0;32m---> 94\u001b[0m     \u001b[39mfor\u001b[39;00m filename \u001b[39min\u001b[39;00m os\u001b[39m.\u001b[39mlistdir(SIGNAL_PATH \u001b[39m/\u001b[39;49m product \u001b[39m/\u001b[39;49m signal_name):\n\u001b[1;32m     95\u001b[0m         \u001b[39mif\u001b[39;00m date_str \u001b[39min\u001b[39;00m filename:\n\u001b[1;32m     96\u001b[0m             file \u001b[39m=\u001b[39m filename\n",
      "\u001b[0;31mTypeError\u001b[0m: unsupported operand type(s) for /: 'PosixPath' and 'int'"
     ]
    }
   ],
   "source": [
    "data = helper.get_signal(product_list[0], signal_list)"
   ]
  },
  {
   "cell_type": "code",
   "execution_count": null,
   "metadata": {},
   "outputs": [],
   "source": [
    "data"
   ]
  }
 ],
 "metadata": {
  "kernelspec": {
   "display_name": "Python 3 (ipykernel)",
   "language": "python",
   "name": "python3"
  },
  "language_info": {
   "codemirror_mode": {
    "name": "ipython",
    "version": 3
   },
   "file_extension": ".py",
   "mimetype": "text/x-python",
   "name": "python",
   "nbconvert_exporter": "python",
   "pygments_lexer": "ipython3",
   "version": "3.9.0"
  }
 },
 "nbformat": 4,
 "nbformat_minor": 2
}
