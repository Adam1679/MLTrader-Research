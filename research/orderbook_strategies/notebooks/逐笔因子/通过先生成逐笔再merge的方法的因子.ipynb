{
 "cells": [
  {
   "cell_type": "code",
   "execution_count": 1,
   "metadata": {},
   "outputs": [],
   "source": [
    "%load_ext autoreload\n",
    "%autoreload 2"
   ]
  },
  {
   "cell_type": "code",
   "execution_count": 2,
   "metadata": {},
   "outputs": [],
   "source": [
    "import os\n",
    "os.chdir(\"/Users/bytedance/MLTrader-deploy/\")\n",
    "import sys\n",
    "sys.path.insert(0, \".\")\n",
    "import research.orderbook_strategies.utils.helper as helper\n",
    "import research.orderbook_strategies.utils.factor_analysis as factor_analysis\n",
    "import research.orderbook_strategies.utils.factors as factors\n",
    "from research.orderbook_strategies.utils.product_info import product_info\n",
    "import itertools\n",
    "import pandas as pd\n",
    "from collections import OrderedDict\n",
    "import functools\n",
    "import warnings\n",
    "import matplotlib.pyplot as plt\n",
    "import pandas as pd\n",
    "import numpy as np\n",
    "import dask\n",
    "from dask import compute, delayed\n",
    "warnings.filterwarnings('ignore')\n",
    "import scipy\n",
    "from scipy.stats import norm\n",
    "import seaborn as sns\n",
    "product_list = [\"OPUSDT\",\"BTCUSDT\", \"ETHUSDT\", \"APTUSDT\", \"1000PEPEUSDT\"]\n",
    "ATR_FILTER = 0.02\n",
    "MAX_SPREAD_RATIO = 1.1"
   ]
  },
  {
   "cell_type": "code",
   "execution_count": 4,
   "metadata": {},
   "outputs": [
    {
     "name": "stdout",
     "output_type": "stream",
     "text": [
      "metric data is None for  BTCUSDT 2023-07-25\n",
      "tmr_metrics is None for  BTCUSDT 2023-07-25\n",
      "yst metrics is None for  BTCUSDT 2023-07-25\n"
     ]
    }
   ],
   "source": [
    "f1 = factors.factor_last_buy_value_ratio_cross_more_positions()\n",
    "f2 = factors.factor_doublebuy_value_ratio()\n",
    "f3 = factors.factor_large_trade_ratio()\n",
    "f4 = factors.factor_last_buy_count_ratio()\n",
    "f5 = factors.factor_last_buy_value_ratio()\n",
    "signals = [f1, f2, f3, f4, f5]\n",
    "\n",
    "# %%time\n",
    "# 构造因子\n",
    "\n",
    "for product in product_list:\n",
    "    date_list = helper.get_dates_list(product)\n",
    "    helper.parLapply(date_list, \n",
    "                    factor_analysis.merge_metric_trades_and_construct_indicators,\n",
    "                    product=product,\n",
    "                    signal_list=signals, \n",
    "                    overwrite=False,)"
   ]
  }
 ],
 "metadata": {
  "kernelspec": {
   "display_name": "vnpy3.9",
   "language": "python",
   "name": "python3"
  },
  "language_info": {
   "codemirror_mode": {
    "name": "ipython",
    "version": 3
   },
   "file_extension": ".py",
   "mimetype": "text/x-python",
   "name": "python",
   "nbconvert_exporter": "python",
   "pygments_lexer": "ipython3",
   "version": "3.9.0"
  },
  "orig_nbformat": 4
 },
 "nbformat": 4,
 "nbformat_minor": 2
}
